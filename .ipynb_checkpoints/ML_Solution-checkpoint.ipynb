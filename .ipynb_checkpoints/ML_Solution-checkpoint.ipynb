{
 "cells": [
  {
   "cell_type": "code",
   "execution_count": 307,
   "id": "42290b98",
   "metadata": {},
   "outputs": [],
   "source": [
    "import pandas as pd\n",
    "import numpy as np\n",
    "import seaborn as sns\n",
    "import matplotlib.pyplot as plt\n",
    "from sklearn.model_selection import GridSearchCV, cross_val_score, train_test_split\n",
    "from sklearn.linear_model import LogisticRegression\n",
    "from sklearn.tree import DecisionTreeClassifier\n",
    "from sklearn.ensemble import RandomForestClassifier\n",
    "from sklearn.preprocessing import StandardScaler\n",
    "from sklearn.pipeline import make_pipeline\n",
    "from sklearn.pipeline import Pipeline\n",
    "from sklearn.metrics import accuracy_score, precision_score, recall_score, f1_score, confusion_matrix, mean_squared_error"
   ]
  },
  {
   "cell_type": "markdown",
   "id": "81c533ac",
   "metadata": {},
   "source": [
    "# 1. Описание данных и задачи\n",
    "Предсказать получает ли человек больше суммы N или меньше.\n",
    "- age: возраст, действительное.\n",
    "- workclass: тип работодателя, категориальное. \n",
    "- final_weight: итоговый вес обьекта, действительное.\n",
    "- education: уровень образования, категориальное.\n",
    "- education-num: количество лет обучения, действительное.\n",
    "- marital-status: семейное положение, категориальное.\n",
    "- occupation: профессия, категориальное.\n",
    "- relationship: тип семейных отношений, категориальное.\n",
    "- race: раса, категориальное.\n",
    "- sex: пол, категориальное.\n",
    "- cap-gain: прирост капитала, действительное.\n",
    "- cap-loss: потери капитала, действительное.\n",
    "- hours-per-week: количество часов работы в неделю, действительное.\n",
    "- native-country: страна, категориальное.\n",
    "\n",
    "Целевая переменная: sum_N – уровень заработка, категориальный (бинарный) признак"
   ]
  },
  {
   "cell_type": "markdown",
   "id": "dff6a282",
   "metadata": {},
   "source": [
    "#### Считаем csv файлы с тренировочной и тестовой выборкой и добавляем названия колонок"
   ]
  },
  {
   "cell_type": "code",
   "execution_count": 184,
   "id": "2357b3c2",
   "metadata": {},
   "outputs": [],
   "source": [
    "names = ['age', 'workclass', 'final_weight', 'education' , 'education-num', \n",
    "         'marital-status', 'occupation', 'relationship', 'race', 'sex', 'cap-gain', \n",
    "         'cap-loss', 'hours-per-week', 'native-country']\n",
    "df_test = pd.read_csv(\"test_empty.txt\", names=names)\n",
    "names.append(\"sum_N\")\n",
    "df_train = pd.read_csv(\"data.txt\", names=names)"
   ]
  },
  {
   "cell_type": "markdown",
   "id": "dfceb610",
   "metadata": {},
   "source": [
    "#### Посмотрим наполнение датафреймов"
   ]
  },
  {
   "cell_type": "code",
   "execution_count": 185,
   "id": "f0541632",
   "metadata": {},
   "outputs": [
    {
     "data": {
      "text/html": [
       "<div>\n",
       "<style scoped>\n",
       "    .dataframe tbody tr th:only-of-type {\n",
       "        vertical-align: middle;\n",
       "    }\n",
       "\n",
       "    .dataframe tbody tr th {\n",
       "        vertical-align: top;\n",
       "    }\n",
       "\n",
       "    .dataframe thead th {\n",
       "        text-align: right;\n",
       "    }\n",
       "</style>\n",
       "<table border=\"1\" class=\"dataframe\">\n",
       "  <thead>\n",
       "    <tr style=\"text-align: right;\">\n",
       "      <th></th>\n",
       "      <th>age</th>\n",
       "      <th>workclass</th>\n",
       "      <th>final_weight</th>\n",
       "      <th>education</th>\n",
       "      <th>education-num</th>\n",
       "      <th>marital-status</th>\n",
       "      <th>occupation</th>\n",
       "      <th>relationship</th>\n",
       "      <th>race</th>\n",
       "      <th>sex</th>\n",
       "      <th>cap-gain</th>\n",
       "      <th>cap-loss</th>\n",
       "      <th>hours-per-week</th>\n",
       "      <th>native-country</th>\n",
       "      <th>sum_N</th>\n",
       "    </tr>\n",
       "  </thead>\n",
       "  <tbody>\n",
       "    <tr>\n",
       "      <th>0</th>\n",
       "      <td>39</td>\n",
       "      <td>State-gov</td>\n",
       "      <td>77516.0</td>\n",
       "      <td>Bachelors</td>\n",
       "      <td>13</td>\n",
       "      <td>Never-married</td>\n",
       "      <td>Adm-clerical</td>\n",
       "      <td>Not-in-family</td>\n",
       "      <td>White</td>\n",
       "      <td>Male</td>\n",
       "      <td>2174.0</td>\n",
       "      <td>0.0</td>\n",
       "      <td>40</td>\n",
       "      <td>United-States</td>\n",
       "      <td>&lt;=N</td>\n",
       "    </tr>\n",
       "    <tr>\n",
       "      <th>1</th>\n",
       "      <td>50</td>\n",
       "      <td>Self-emp-not-inc</td>\n",
       "      <td>83311.0</td>\n",
       "      <td>Bachelors</td>\n",
       "      <td>13</td>\n",
       "      <td>Married-civ-spouse</td>\n",
       "      <td>Exec-managerial</td>\n",
       "      <td>Husband</td>\n",
       "      <td>White</td>\n",
       "      <td>Male</td>\n",
       "      <td>0.0</td>\n",
       "      <td>0.0</td>\n",
       "      <td>13</td>\n",
       "      <td>United-States</td>\n",
       "      <td>&lt;=N</td>\n",
       "    </tr>\n",
       "    <tr>\n",
       "      <th>2</th>\n",
       "      <td>38</td>\n",
       "      <td>Private</td>\n",
       "      <td>215646.0</td>\n",
       "      <td>HS-grad</td>\n",
       "      <td>9</td>\n",
       "      <td>Divorced</td>\n",
       "      <td>Handlers-cleaners</td>\n",
       "      <td>Not-in-family</td>\n",
       "      <td>White</td>\n",
       "      <td>Male</td>\n",
       "      <td>0.0</td>\n",
       "      <td>0.0</td>\n",
       "      <td>40</td>\n",
       "      <td>United-States</td>\n",
       "      <td>&lt;=N</td>\n",
       "    </tr>\n",
       "    <tr>\n",
       "      <th>3</th>\n",
       "      <td>53</td>\n",
       "      <td>Private</td>\n",
       "      <td>234721.0</td>\n",
       "      <td>11th</td>\n",
       "      <td>7</td>\n",
       "      <td>Married-civ-spouse</td>\n",
       "      <td>Handlers-cleaners</td>\n",
       "      <td>Husband</td>\n",
       "      <td>Black</td>\n",
       "      <td>Male</td>\n",
       "      <td>0.0</td>\n",
       "      <td>0.0</td>\n",
       "      <td>40</td>\n",
       "      <td>United-States</td>\n",
       "      <td>&lt;=N</td>\n",
       "    </tr>\n",
       "    <tr>\n",
       "      <th>4</th>\n",
       "      <td>28</td>\n",
       "      <td>Private</td>\n",
       "      <td>338409.0</td>\n",
       "      <td>Bachelors</td>\n",
       "      <td>13</td>\n",
       "      <td>Married-civ-spouse</td>\n",
       "      <td>Prof-specialty</td>\n",
       "      <td>Wife</td>\n",
       "      <td>Black</td>\n",
       "      <td>Female</td>\n",
       "      <td>0.0</td>\n",
       "      <td>0.0</td>\n",
       "      <td>40</td>\n",
       "      <td>Cuba</td>\n",
       "      <td>&lt;=N</td>\n",
       "    </tr>\n",
       "  </tbody>\n",
       "</table>\n",
       "</div>"
      ],
      "text/plain": [
       "  age          workclass  final_weight   education education-num  \\\n",
       "0  39          State-gov       77516.0   Bachelors            13   \n",
       "1  50   Self-emp-not-inc       83311.0   Bachelors            13   \n",
       "2  38            Private      215646.0     HS-grad             9   \n",
       "3  53            Private      234721.0        11th             7   \n",
       "4  28            Private      338409.0   Bachelors            13   \n",
       "\n",
       "        marital-status          occupation    relationship    race      sex  \\\n",
       "0        Never-married        Adm-clerical   Not-in-family   White     Male   \n",
       "1   Married-civ-spouse     Exec-managerial         Husband   White     Male   \n",
       "2             Divorced   Handlers-cleaners   Not-in-family   White     Male   \n",
       "3   Married-civ-spouse   Handlers-cleaners         Husband   Black     Male   \n",
       "4   Married-civ-spouse      Prof-specialty            Wife   Black   Female   \n",
       "\n",
       "   cap-gain  cap-loss hours-per-week  native-country sum_N  \n",
       "0    2174.0       0.0             40   United-States   <=N  \n",
       "1       0.0       0.0             13   United-States   <=N  \n",
       "2       0.0       0.0             40   United-States   <=N  \n",
       "3       0.0       0.0             40   United-States   <=N  \n",
       "4       0.0       0.0             40            Cuba   <=N  "
      ]
     },
     "execution_count": 185,
     "metadata": {},
     "output_type": "execute_result"
    }
   ],
   "source": [
    "df_train.head(5)"
   ]
  },
  {
   "cell_type": "code",
   "execution_count": 186,
   "id": "d69d3160",
   "metadata": {},
   "outputs": [
    {
     "data": {
      "text/html": [
       "<div>\n",
       "<style scoped>\n",
       "    .dataframe tbody tr th:only-of-type {\n",
       "        vertical-align: middle;\n",
       "    }\n",
       "\n",
       "    .dataframe tbody tr th {\n",
       "        vertical-align: top;\n",
       "    }\n",
       "\n",
       "    .dataframe thead th {\n",
       "        text-align: right;\n",
       "    }\n",
       "</style>\n",
       "<table border=\"1\" class=\"dataframe\">\n",
       "  <thead>\n",
       "    <tr style=\"text-align: right;\">\n",
       "      <th></th>\n",
       "      <th>age</th>\n",
       "      <th>workclass</th>\n",
       "      <th>final_weight</th>\n",
       "      <th>education</th>\n",
       "      <th>education-num</th>\n",
       "      <th>marital-status</th>\n",
       "      <th>occupation</th>\n",
       "      <th>relationship</th>\n",
       "      <th>race</th>\n",
       "      <th>sex</th>\n",
       "      <th>cap-gain</th>\n",
       "      <th>cap-loss</th>\n",
       "      <th>hours-per-week</th>\n",
       "      <th>native-country</th>\n",
       "    </tr>\n",
       "  </thead>\n",
       "  <tbody>\n",
       "    <tr>\n",
       "      <th>0</th>\n",
       "      <td>25</td>\n",
       "      <td>Private</td>\n",
       "      <td>226802.0</td>\n",
       "      <td>11th</td>\n",
       "      <td>7.0</td>\n",
       "      <td>Never-married</td>\n",
       "      <td>Machine-op-inspct</td>\n",
       "      <td>Own-child</td>\n",
       "      <td>Black</td>\n",
       "      <td>Male</td>\n",
       "      <td>0.0</td>\n",
       "      <td>0.0</td>\n",
       "      <td>40.0</td>\n",
       "      <td>United-States</td>\n",
       "    </tr>\n",
       "    <tr>\n",
       "      <th>1</th>\n",
       "      <td>38</td>\n",
       "      <td>Private</td>\n",
       "      <td>89814.0</td>\n",
       "      <td>HS-grad</td>\n",
       "      <td>9.0</td>\n",
       "      <td>Married-civ-spouse</td>\n",
       "      <td>Farming-fishing</td>\n",
       "      <td>Husband</td>\n",
       "      <td>White</td>\n",
       "      <td>Male</td>\n",
       "      <td>0.0</td>\n",
       "      <td>0.0</td>\n",
       "      <td>50.0</td>\n",
       "      <td>United-States</td>\n",
       "    </tr>\n",
       "    <tr>\n",
       "      <th>2</th>\n",
       "      <td>28</td>\n",
       "      <td>Local-gov</td>\n",
       "      <td>336951.0</td>\n",
       "      <td>Assoc-acdm</td>\n",
       "      <td>12.0</td>\n",
       "      <td>Married-civ-spouse</td>\n",
       "      <td>Protective-serv</td>\n",
       "      <td>Husband</td>\n",
       "      <td>White</td>\n",
       "      <td>Male</td>\n",
       "      <td>0.0</td>\n",
       "      <td>0.0</td>\n",
       "      <td>40.0</td>\n",
       "      <td>United-States</td>\n",
       "    </tr>\n",
       "    <tr>\n",
       "      <th>3</th>\n",
       "      <td>44</td>\n",
       "      <td>Private</td>\n",
       "      <td>160323.0</td>\n",
       "      <td>Some-college</td>\n",
       "      <td>10.0</td>\n",
       "      <td>Married-civ-spouse</td>\n",
       "      <td>Machine-op-inspct</td>\n",
       "      <td>Husband</td>\n",
       "      <td>Black</td>\n",
       "      <td>Male</td>\n",
       "      <td>7688.0</td>\n",
       "      <td>0.0</td>\n",
       "      <td>40.0</td>\n",
       "      <td>United-States</td>\n",
       "    </tr>\n",
       "    <tr>\n",
       "      <th>4</th>\n",
       "      <td>18</td>\n",
       "      <td>?</td>\n",
       "      <td>103497.0</td>\n",
       "      <td>Some-college</td>\n",
       "      <td>10.0</td>\n",
       "      <td>Never-married</td>\n",
       "      <td>?</td>\n",
       "      <td>Own-child</td>\n",
       "      <td>White</td>\n",
       "      <td>Female</td>\n",
       "      <td>0.0</td>\n",
       "      <td>0.0</td>\n",
       "      <td>30.0</td>\n",
       "      <td>United-States</td>\n",
       "    </tr>\n",
       "  </tbody>\n",
       "</table>\n",
       "</div>"
      ],
      "text/plain": [
       "  age   workclass  final_weight      education  education-num  \\\n",
       "0  25     Private      226802.0           11th            7.0   \n",
       "1  38     Private       89814.0        HS-grad            9.0   \n",
       "2  28   Local-gov      336951.0     Assoc-acdm           12.0   \n",
       "3  44     Private      160323.0   Some-college           10.0   \n",
       "4  18           ?      103497.0   Some-college           10.0   \n",
       "\n",
       "        marital-status          occupation relationship    race      sex  \\\n",
       "0        Never-married   Machine-op-inspct    Own-child   Black     Male   \n",
       "1   Married-civ-spouse     Farming-fishing      Husband   White     Male   \n",
       "2   Married-civ-spouse     Protective-serv      Husband   White     Male   \n",
       "3   Married-civ-spouse   Machine-op-inspct      Husband   Black     Male   \n",
       "4        Never-married                   ?    Own-child   White   Female   \n",
       "\n",
       "   cap-gain  cap-loss  hours-per-week  native-country  \n",
       "0       0.0       0.0            40.0   United-States  \n",
       "1       0.0       0.0            50.0   United-States  \n",
       "2       0.0       0.0            40.0   United-States  \n",
       "3    7688.0       0.0            40.0   United-States  \n",
       "4       0.0       0.0            30.0   United-States  "
      ]
     },
     "execution_count": 186,
     "metadata": {},
     "output_type": "execute_result"
    }
   ],
   "source": [
    "df_test.head(5)"
   ]
  },
  {
   "cell_type": "markdown",
   "id": "0b0ba2c3",
   "metadata": {},
   "source": [
    "#### Заменим значения таргета на бинарные, так как решаем задачу бинарной классификации"
   ]
  },
  {
   "cell_type": "code",
   "execution_count": 187,
   "id": "9b4f1bf8",
   "metadata": {},
   "outputs": [],
   "source": [
    "df_train['sum_N'] = df_train['sum_N'].replace({' <=N': 0, ' >N': 1})"
   ]
  },
  {
   "cell_type": "code",
   "execution_count": 188,
   "id": "5960b5f5",
   "metadata": {},
   "outputs": [
    {
     "data": {
      "text/html": [
       "<div>\n",
       "<style scoped>\n",
       "    .dataframe tbody tr th:only-of-type {\n",
       "        vertical-align: middle;\n",
       "    }\n",
       "\n",
       "    .dataframe tbody tr th {\n",
       "        vertical-align: top;\n",
       "    }\n",
       "\n",
       "    .dataframe thead th {\n",
       "        text-align: right;\n",
       "    }\n",
       "</style>\n",
       "<table border=\"1\" class=\"dataframe\">\n",
       "  <thead>\n",
       "    <tr style=\"text-align: right;\">\n",
       "      <th></th>\n",
       "      <th>age</th>\n",
       "      <th>workclass</th>\n",
       "      <th>final_weight</th>\n",
       "      <th>education</th>\n",
       "      <th>education-num</th>\n",
       "      <th>marital-status</th>\n",
       "      <th>occupation</th>\n",
       "      <th>relationship</th>\n",
       "      <th>race</th>\n",
       "      <th>sex</th>\n",
       "      <th>cap-gain</th>\n",
       "      <th>cap-loss</th>\n",
       "      <th>hours-per-week</th>\n",
       "      <th>native-country</th>\n",
       "      <th>sum_N</th>\n",
       "    </tr>\n",
       "  </thead>\n",
       "  <tbody>\n",
       "    <tr>\n",
       "      <th>0</th>\n",
       "      <td>39</td>\n",
       "      <td>State-gov</td>\n",
       "      <td>77516.0</td>\n",
       "      <td>Bachelors</td>\n",
       "      <td>13</td>\n",
       "      <td>Never-married</td>\n",
       "      <td>Adm-clerical</td>\n",
       "      <td>Not-in-family</td>\n",
       "      <td>White</td>\n",
       "      <td>Male</td>\n",
       "      <td>2174.0</td>\n",
       "      <td>0.0</td>\n",
       "      <td>40</td>\n",
       "      <td>United-States</td>\n",
       "      <td>0.0</td>\n",
       "    </tr>\n",
       "    <tr>\n",
       "      <th>1</th>\n",
       "      <td>50</td>\n",
       "      <td>Self-emp-not-inc</td>\n",
       "      <td>83311.0</td>\n",
       "      <td>Bachelors</td>\n",
       "      <td>13</td>\n",
       "      <td>Married-civ-spouse</td>\n",
       "      <td>Exec-managerial</td>\n",
       "      <td>Husband</td>\n",
       "      <td>White</td>\n",
       "      <td>Male</td>\n",
       "      <td>0.0</td>\n",
       "      <td>0.0</td>\n",
       "      <td>13</td>\n",
       "      <td>United-States</td>\n",
       "      <td>0.0</td>\n",
       "    </tr>\n",
       "    <tr>\n",
       "      <th>2</th>\n",
       "      <td>38</td>\n",
       "      <td>Private</td>\n",
       "      <td>215646.0</td>\n",
       "      <td>HS-grad</td>\n",
       "      <td>9</td>\n",
       "      <td>Divorced</td>\n",
       "      <td>Handlers-cleaners</td>\n",
       "      <td>Not-in-family</td>\n",
       "      <td>White</td>\n",
       "      <td>Male</td>\n",
       "      <td>0.0</td>\n",
       "      <td>0.0</td>\n",
       "      <td>40</td>\n",
       "      <td>United-States</td>\n",
       "      <td>0.0</td>\n",
       "    </tr>\n",
       "    <tr>\n",
       "      <th>3</th>\n",
       "      <td>53</td>\n",
       "      <td>Private</td>\n",
       "      <td>234721.0</td>\n",
       "      <td>11th</td>\n",
       "      <td>7</td>\n",
       "      <td>Married-civ-spouse</td>\n",
       "      <td>Handlers-cleaners</td>\n",
       "      <td>Husband</td>\n",
       "      <td>Black</td>\n",
       "      <td>Male</td>\n",
       "      <td>0.0</td>\n",
       "      <td>0.0</td>\n",
       "      <td>40</td>\n",
       "      <td>United-States</td>\n",
       "      <td>0.0</td>\n",
       "    </tr>\n",
       "    <tr>\n",
       "      <th>4</th>\n",
       "      <td>28</td>\n",
       "      <td>Private</td>\n",
       "      <td>338409.0</td>\n",
       "      <td>Bachelors</td>\n",
       "      <td>13</td>\n",
       "      <td>Married-civ-spouse</td>\n",
       "      <td>Prof-specialty</td>\n",
       "      <td>Wife</td>\n",
       "      <td>Black</td>\n",
       "      <td>Female</td>\n",
       "      <td>0.0</td>\n",
       "      <td>0.0</td>\n",
       "      <td>40</td>\n",
       "      <td>Cuba</td>\n",
       "      <td>0.0</td>\n",
       "    </tr>\n",
       "  </tbody>\n",
       "</table>\n",
       "</div>"
      ],
      "text/plain": [
       "  age          workclass  final_weight   education education-num  \\\n",
       "0  39          State-gov       77516.0   Bachelors            13   \n",
       "1  50   Self-emp-not-inc       83311.0   Bachelors            13   \n",
       "2  38            Private      215646.0     HS-grad             9   \n",
       "3  53            Private      234721.0        11th             7   \n",
       "4  28            Private      338409.0   Bachelors            13   \n",
       "\n",
       "        marital-status          occupation    relationship    race      sex  \\\n",
       "0        Never-married        Adm-clerical   Not-in-family   White     Male   \n",
       "1   Married-civ-spouse     Exec-managerial         Husband   White     Male   \n",
       "2             Divorced   Handlers-cleaners   Not-in-family   White     Male   \n",
       "3   Married-civ-spouse   Handlers-cleaners         Husband   Black     Male   \n",
       "4   Married-civ-spouse      Prof-specialty            Wife   Black   Female   \n",
       "\n",
       "   cap-gain  cap-loss hours-per-week  native-country  sum_N  \n",
       "0    2174.0       0.0             40   United-States    0.0  \n",
       "1       0.0       0.0             13   United-States    0.0  \n",
       "2       0.0       0.0             40   United-States    0.0  \n",
       "3       0.0       0.0             40   United-States    0.0  \n",
       "4       0.0       0.0             40            Cuba    0.0  "
      ]
     },
     "execution_count": 188,
     "metadata": {},
     "output_type": "execute_result"
    }
   ],
   "source": [
    "df_train.head(5)"
   ]
  },
  {
   "cell_type": "markdown",
   "id": "7b777f1f",
   "metadata": {},
   "source": [
    "#### Проверим на наличие дупликатов в тренировочной выборке"
   ]
  },
  {
   "cell_type": "code",
   "execution_count": 189,
   "id": "6b150735",
   "metadata": {},
   "outputs": [
    {
     "data": {
      "text/html": [
       "<div>\n",
       "<style scoped>\n",
       "    .dataframe tbody tr th:only-of-type {\n",
       "        vertical-align: middle;\n",
       "    }\n",
       "\n",
       "    .dataframe tbody tr th {\n",
       "        vertical-align: top;\n",
       "    }\n",
       "\n",
       "    .dataframe thead th {\n",
       "        text-align: right;\n",
       "    }\n",
       "</style>\n",
       "<table border=\"1\" class=\"dataframe\">\n",
       "  <thead>\n",
       "    <tr style=\"text-align: right;\">\n",
       "      <th></th>\n",
       "      <th>age</th>\n",
       "      <th>workclass</th>\n",
       "      <th>final_weight</th>\n",
       "      <th>education</th>\n",
       "      <th>education-num</th>\n",
       "      <th>marital-status</th>\n",
       "      <th>occupation</th>\n",
       "      <th>relationship</th>\n",
       "      <th>race</th>\n",
       "      <th>sex</th>\n",
       "      <th>cap-gain</th>\n",
       "      <th>cap-loss</th>\n",
       "      <th>hours-per-week</th>\n",
       "      <th>native-country</th>\n",
       "      <th>sum_N</th>\n",
       "    </tr>\n",
       "  </thead>\n",
       "  <tbody>\n",
       "    <tr>\n",
       "      <th>26557</th>\n",
       "      <td>1</td>\n",
       "      <td>State-gov</td>\n",
       "      <td>-42141.0</td>\n",
       "      <td>Some-college</td>\n",
       "      <td>10</td>\n",
       "      <td>Never-married</td>\n",
       "      <td>Machine-op-inspct</td>\n",
       "      <td>Sales</td>\n",
       "      <td>Black</td>\n",
       "      <td>Other</td>\n",
       "      <td>100.0</td>\n",
       "      <td>-110.0</td>\n",
       "      <td>444424124141242</td>\n",
       "      <td>United-States</td>\n",
       "      <td>1.0</td>\n",
       "    </tr>\n",
       "    <tr>\n",
       "      <th>26558</th>\n",
       "      <td>1</td>\n",
       "      <td>State-gov</td>\n",
       "      <td>-42141.0</td>\n",
       "      <td>Some-college</td>\n",
       "      <td>10</td>\n",
       "      <td>Never-married</td>\n",
       "      <td>Machine-op-inspct</td>\n",
       "      <td>Sales</td>\n",
       "      <td>Black</td>\n",
       "      <td>Other</td>\n",
       "      <td>100.0</td>\n",
       "      <td>-110.0</td>\n",
       "      <td>444424124141242</td>\n",
       "      <td>United-States</td>\n",
       "      <td>1.0</td>\n",
       "    </tr>\n",
       "    <tr>\n",
       "      <th>26559</th>\n",
       "      <td>1</td>\n",
       "      <td>State-gov</td>\n",
       "      <td>-42141.0</td>\n",
       "      <td>Some-college</td>\n",
       "      <td>10</td>\n",
       "      <td>Never-married</td>\n",
       "      <td>Machine-op-inspct</td>\n",
       "      <td>Sales</td>\n",
       "      <td>Black</td>\n",
       "      <td>Other</td>\n",
       "      <td>100.0</td>\n",
       "      <td>-110.0</td>\n",
       "      <td>444424124141242</td>\n",
       "      <td>United-States</td>\n",
       "      <td>1.0</td>\n",
       "    </tr>\n",
       "    <tr>\n",
       "      <th>26560</th>\n",
       "      <td>1</td>\n",
       "      <td>State-gov</td>\n",
       "      <td>-42141.0</td>\n",
       "      <td>Some-college</td>\n",
       "      <td>10</td>\n",
       "      <td>Never-married</td>\n",
       "      <td>Machine-op-inspct</td>\n",
       "      <td>Sales</td>\n",
       "      <td>Black</td>\n",
       "      <td>Other</td>\n",
       "      <td>100.0</td>\n",
       "      <td>-110.0</td>\n",
       "      <td>444424124141242</td>\n",
       "      <td>United-States</td>\n",
       "      <td>1.0</td>\n",
       "    </tr>\n",
       "    <tr>\n",
       "      <th>26561</th>\n",
       "      <td>1</td>\n",
       "      <td>State-gov</td>\n",
       "      <td>-42141.0</td>\n",
       "      <td>Some-college</td>\n",
       "      <td>10</td>\n",
       "      <td>Never-married</td>\n",
       "      <td>Machine-op-inspct</td>\n",
       "      <td>Sales</td>\n",
       "      <td>Black</td>\n",
       "      <td>Other</td>\n",
       "      <td>100.0</td>\n",
       "      <td>-110.0</td>\n",
       "      <td>444424124141242</td>\n",
       "      <td>United-States</td>\n",
       "      <td>1.0</td>\n",
       "    </tr>\n",
       "    <tr>\n",
       "      <th>26562</th>\n",
       "      <td>1</td>\n",
       "      <td>State-gov</td>\n",
       "      <td>-42141.0</td>\n",
       "      <td>Some-college</td>\n",
       "      <td>10</td>\n",
       "      <td>Never-married</td>\n",
       "      <td>Machine-op-inspct</td>\n",
       "      <td>Sales</td>\n",
       "      <td>Black</td>\n",
       "      <td>Other</td>\n",
       "      <td>100.0</td>\n",
       "      <td>-110.0</td>\n",
       "      <td>444424124141242</td>\n",
       "      <td>United-States</td>\n",
       "      <td>1.0</td>\n",
       "    </tr>\n",
       "    <tr>\n",
       "      <th>26563</th>\n",
       "      <td>1</td>\n",
       "      <td>State-gov</td>\n",
       "      <td>-42141.0</td>\n",
       "      <td>Some-college</td>\n",
       "      <td>10</td>\n",
       "      <td>Never-married</td>\n",
       "      <td>Machine-op-inspct</td>\n",
       "      <td>Sales</td>\n",
       "      <td>Black</td>\n",
       "      <td>Other</td>\n",
       "      <td>100.0</td>\n",
       "      <td>-110.0</td>\n",
       "      <td>444424124141242</td>\n",
       "      <td>United-States</td>\n",
       "      <td>1.0</td>\n",
       "    </tr>\n",
       "    <tr>\n",
       "      <th>26564</th>\n",
       "      <td>1</td>\n",
       "      <td>State-gov</td>\n",
       "      <td>-42141.0</td>\n",
       "      <td>Some-college</td>\n",
       "      <td>10</td>\n",
       "      <td>Never-married</td>\n",
       "      <td>Machine-op-inspct</td>\n",
       "      <td>Sales</td>\n",
       "      <td>Black</td>\n",
       "      <td>Other</td>\n",
       "      <td>100.0</td>\n",
       "      <td>-110.0</td>\n",
       "      <td>444424124141242</td>\n",
       "      <td>United-States</td>\n",
       "      <td>1.0</td>\n",
       "    </tr>\n",
       "    <tr>\n",
       "      <th>26565</th>\n",
       "      <td>1</td>\n",
       "      <td>State-gov</td>\n",
       "      <td>-42141.0</td>\n",
       "      <td>Some-college</td>\n",
       "      <td>10</td>\n",
       "      <td>Never-married</td>\n",
       "      <td>Machine-op-inspct</td>\n",
       "      <td>Sales</td>\n",
       "      <td>Black</td>\n",
       "      <td>Other</td>\n",
       "      <td>100.0</td>\n",
       "      <td>-110.0</td>\n",
       "      <td>444424124141242</td>\n",
       "      <td>United-States</td>\n",
       "      <td>1.0</td>\n",
       "    </tr>\n",
       "    <tr>\n",
       "      <th>26566</th>\n",
       "      <td>1</td>\n",
       "      <td>State-gov</td>\n",
       "      <td>-42141.0</td>\n",
       "      <td>Some-college</td>\n",
       "      <td>10</td>\n",
       "      <td>Never-married</td>\n",
       "      <td>Machine-op-inspct</td>\n",
       "      <td>Sales</td>\n",
       "      <td>Black</td>\n",
       "      <td>Other</td>\n",
       "      <td>100.0</td>\n",
       "      <td>-110.0</td>\n",
       "      <td>444424124141242</td>\n",
       "      <td>United-States</td>\n",
       "      <td>1.0</td>\n",
       "    </tr>\n",
       "    <tr>\n",
       "      <th>17674</th>\n",
       "      <td>19</td>\n",
       "      <td>Private</td>\n",
       "      <td>97261.0</td>\n",
       "      <td>HS-grad</td>\n",
       "      <td>9</td>\n",
       "      <td>Never-married</td>\n",
       "      <td>Farming-fishing</td>\n",
       "      <td>Not-in-family</td>\n",
       "      <td>White</td>\n",
       "      <td>Male</td>\n",
       "      <td>0.0</td>\n",
       "      <td>0.0</td>\n",
       "      <td>40</td>\n",
       "      <td>United-States</td>\n",
       "      <td>0.0</td>\n",
       "    </tr>\n",
       "    <tr>\n",
       "      <th>18699</th>\n",
       "      <td>19</td>\n",
       "      <td>Private</td>\n",
       "      <td>97261.0</td>\n",
       "      <td>HS-grad</td>\n",
       "      <td>9</td>\n",
       "      <td>Never-married</td>\n",
       "      <td>Farming-fishing</td>\n",
       "      <td>Not-in-family</td>\n",
       "      <td>White</td>\n",
       "      <td>Male</td>\n",
       "      <td>0.0</td>\n",
       "      <td>0.0</td>\n",
       "      <td>40</td>\n",
       "      <td>United-States</td>\n",
       "      <td>0.0</td>\n",
       "    </tr>\n",
       "    <tr>\n",
       "      <th>6990</th>\n",
       "      <td>19</td>\n",
       "      <td>Private</td>\n",
       "      <td>138153.0</td>\n",
       "      <td>Some-college</td>\n",
       "      <td>10</td>\n",
       "      <td>Never-married</td>\n",
       "      <td>Adm-clerical</td>\n",
       "      <td>Own-child</td>\n",
       "      <td>White</td>\n",
       "      <td>Female</td>\n",
       "      <td>0.0</td>\n",
       "      <td>0.0</td>\n",
       "      <td>10</td>\n",
       "      <td>United-States</td>\n",
       "      <td>0.0</td>\n",
       "    </tr>\n",
       "    <tr>\n",
       "      <th>21319</th>\n",
       "      <td>19</td>\n",
       "      <td>Private</td>\n",
       "      <td>138153.0</td>\n",
       "      <td>Some-college</td>\n",
       "      <td>10</td>\n",
       "      <td>Never-married</td>\n",
       "      <td>Adm-clerical</td>\n",
       "      <td>Own-child</td>\n",
       "      <td>White</td>\n",
       "      <td>Female</td>\n",
       "      <td>0.0</td>\n",
       "      <td>0.0</td>\n",
       "      <td>10</td>\n",
       "      <td>United-States</td>\n",
       "      <td>0.0</td>\n",
       "    </tr>\n",
       "    <tr>\n",
       "      <th>15189</th>\n",
       "      <td>19</td>\n",
       "      <td>Private</td>\n",
       "      <td>146679.0</td>\n",
       "      <td>Some-college</td>\n",
       "      <td>10</td>\n",
       "      <td>Never-married</td>\n",
       "      <td>Exec-managerial</td>\n",
       "      <td>Own-child</td>\n",
       "      <td>Black</td>\n",
       "      <td>Male</td>\n",
       "      <td>0.0</td>\n",
       "      <td>0.0</td>\n",
       "      <td>30</td>\n",
       "      <td>United-States</td>\n",
       "      <td>0.0</td>\n",
       "    </tr>\n",
       "    <tr>\n",
       "      <th>21491</th>\n",
       "      <td>19</td>\n",
       "      <td>Private</td>\n",
       "      <td>146679.0</td>\n",
       "      <td>Some-college</td>\n",
       "      <td>10</td>\n",
       "      <td>Never-married</td>\n",
       "      <td>Exec-managerial</td>\n",
       "      <td>Own-child</td>\n",
       "      <td>Black</td>\n",
       "      <td>Male</td>\n",
       "      <td>0.0</td>\n",
       "      <td>0.0</td>\n",
       "      <td>30</td>\n",
       "      <td>United-States</td>\n",
       "      <td>0.0</td>\n",
       "    </tr>\n",
       "    <tr>\n",
       "      <th>3917</th>\n",
       "      <td>19</td>\n",
       "      <td>Private</td>\n",
       "      <td>251579.0</td>\n",
       "      <td>Some-college</td>\n",
       "      <td>10</td>\n",
       "      <td>Never-married</td>\n",
       "      <td>Other-service</td>\n",
       "      <td>Own-child</td>\n",
       "      <td>White</td>\n",
       "      <td>Male</td>\n",
       "      <td>0.0</td>\n",
       "      <td>0.0</td>\n",
       "      <td>14</td>\n",
       "      <td>United-States</td>\n",
       "      <td>0.0</td>\n",
       "    </tr>\n",
       "    <tr>\n",
       "      <th>32005</th>\n",
       "      <td>19</td>\n",
       "      <td>Private</td>\n",
       "      <td>251579.0</td>\n",
       "      <td>Some-college</td>\n",
       "      <td>10</td>\n",
       "      <td>Never-married</td>\n",
       "      <td>Other-service</td>\n",
       "      <td>Own-child</td>\n",
       "      <td>White</td>\n",
       "      <td>Male</td>\n",
       "      <td>0.0</td>\n",
       "      <td>0.0</td>\n",
       "      <td>14</td>\n",
       "      <td>United-States</td>\n",
       "      <td>0.0</td>\n",
       "    </tr>\n",
       "    <tr>\n",
       "      <th>5805</th>\n",
       "      <td>20</td>\n",
       "      <td>Private</td>\n",
       "      <td>107658.0</td>\n",
       "      <td>Some-college</td>\n",
       "      <td>10</td>\n",
       "      <td>Never-married</td>\n",
       "      <td>Tech-support</td>\n",
       "      <td>Not-in-family</td>\n",
       "      <td>White</td>\n",
       "      <td>Female</td>\n",
       "      <td>0.0</td>\n",
       "      <td>0.0</td>\n",
       "      <td>10</td>\n",
       "      <td>United-States</td>\n",
       "      <td>0.0</td>\n",
       "    </tr>\n",
       "    <tr>\n",
       "      <th>11631</th>\n",
       "      <td>20</td>\n",
       "      <td>Private</td>\n",
       "      <td>107658.0</td>\n",
       "      <td>Some-college</td>\n",
       "      <td>10</td>\n",
       "      <td>Never-married</td>\n",
       "      <td>Tech-support</td>\n",
       "      <td>Not-in-family</td>\n",
       "      <td>White</td>\n",
       "      <td>Female</td>\n",
       "      <td>0.0</td>\n",
       "      <td>0.0</td>\n",
       "      <td>10</td>\n",
       "      <td>United-States</td>\n",
       "      <td>0.0</td>\n",
       "    </tr>\n",
       "    <tr>\n",
       "      <th>8080</th>\n",
       "      <td>21</td>\n",
       "      <td>Private</td>\n",
       "      <td>243368.0</td>\n",
       "      <td>Preschool</td>\n",
       "      <td>1</td>\n",
       "      <td>Never-married</td>\n",
       "      <td>Farming-fishing</td>\n",
       "      <td>Not-in-family</td>\n",
       "      <td>White</td>\n",
       "      <td>Male</td>\n",
       "      <td>0.0</td>\n",
       "      <td>0.0</td>\n",
       "      <td>50</td>\n",
       "      <td>Mexico</td>\n",
       "      <td>0.0</td>\n",
       "    </tr>\n",
       "    <tr>\n",
       "      <th>15059</th>\n",
       "      <td>21</td>\n",
       "      <td>Private</td>\n",
       "      <td>243368.0</td>\n",
       "      <td>Preschool</td>\n",
       "      <td>1</td>\n",
       "      <td>Never-married</td>\n",
       "      <td>Farming-fishing</td>\n",
       "      <td>Not-in-family</td>\n",
       "      <td>White</td>\n",
       "      <td>Male</td>\n",
       "      <td>0.0</td>\n",
       "      <td>0.0</td>\n",
       "      <td>50</td>\n",
       "      <td>Mexico</td>\n",
       "      <td>0.0</td>\n",
       "    </tr>\n",
       "    <tr>\n",
       "      <th>4767</th>\n",
       "      <td>21</td>\n",
       "      <td>Private</td>\n",
       "      <td>250051.0</td>\n",
       "      <td>Some-college</td>\n",
       "      <td>10</td>\n",
       "      <td>Never-married</td>\n",
       "      <td>Prof-specialty</td>\n",
       "      <td>Own-child</td>\n",
       "      <td>White</td>\n",
       "      <td>Female</td>\n",
       "      <td>0.0</td>\n",
       "      <td>0.0</td>\n",
       "      <td>10</td>\n",
       "      <td>United-States</td>\n",
       "      <td>0.0</td>\n",
       "    </tr>\n",
       "    <tr>\n",
       "      <th>9171</th>\n",
       "      <td>21</td>\n",
       "      <td>Private</td>\n",
       "      <td>250051.0</td>\n",
       "      <td>Some-college</td>\n",
       "      <td>10</td>\n",
       "      <td>Never-married</td>\n",
       "      <td>Prof-specialty</td>\n",
       "      <td>Own-child</td>\n",
       "      <td>White</td>\n",
       "      <td>Female</td>\n",
       "      <td>0.0</td>\n",
       "      <td>0.0</td>\n",
       "      <td>10</td>\n",
       "      <td>United-States</td>\n",
       "      <td>0.0</td>\n",
       "    </tr>\n",
       "    <tr>\n",
       "      <th>21104</th>\n",
       "      <td>23</td>\n",
       "      <td>Private</td>\n",
       "      <td>240137.0</td>\n",
       "      <td>5th-6th</td>\n",
       "      <td>3</td>\n",
       "      <td>Never-married</td>\n",
       "      <td>Handlers-cleaners</td>\n",
       "      <td>Not-in-family</td>\n",
       "      <td>White</td>\n",
       "      <td>Male</td>\n",
       "      <td>0.0</td>\n",
       "      <td>0.0</td>\n",
       "      <td>55</td>\n",
       "      <td>Mexico</td>\n",
       "      <td>0.0</td>\n",
       "    </tr>\n",
       "    <tr>\n",
       "      <th>25873</th>\n",
       "      <td>23</td>\n",
       "      <td>Private</td>\n",
       "      <td>240137.0</td>\n",
       "      <td>5th-6th</td>\n",
       "      <td>3</td>\n",
       "      <td>Never-married</td>\n",
       "      <td>Handlers-cleaners</td>\n",
       "      <td>Not-in-family</td>\n",
       "      <td>White</td>\n",
       "      <td>Male</td>\n",
       "      <td>0.0</td>\n",
       "      <td>0.0</td>\n",
       "      <td>55</td>\n",
       "      <td>Mexico</td>\n",
       "      <td>0.0</td>\n",
       "    </tr>\n",
       "    <tr>\n",
       "      <th>5842</th>\n",
       "      <td>25</td>\n",
       "      <td>Private</td>\n",
       "      <td>195994.0</td>\n",
       "      <td>1st-4th</td>\n",
       "      <td>2</td>\n",
       "      <td>Never-married</td>\n",
       "      <td>Priv-house-serv</td>\n",
       "      <td>Not-in-family</td>\n",
       "      <td>White</td>\n",
       "      <td>Female</td>\n",
       "      <td>0.0</td>\n",
       "      <td>0.0</td>\n",
       "      <td>40</td>\n",
       "      <td>Guatemala</td>\n",
       "      <td>0.0</td>\n",
       "    </tr>\n",
       "    <tr>\n",
       "      <th>13084</th>\n",
       "      <td>25</td>\n",
       "      <td>Private</td>\n",
       "      <td>195994.0</td>\n",
       "      <td>1st-4th</td>\n",
       "      <td>2</td>\n",
       "      <td>Never-married</td>\n",
       "      <td>Priv-house-serv</td>\n",
       "      <td>Not-in-family</td>\n",
       "      <td>White</td>\n",
       "      <td>Female</td>\n",
       "      <td>0.0</td>\n",
       "      <td>0.0</td>\n",
       "      <td>40</td>\n",
       "      <td>Guatemala</td>\n",
       "      <td>0.0</td>\n",
       "    </tr>\n",
       "    <tr>\n",
       "      <th>22301</th>\n",
       "      <td>25</td>\n",
       "      <td>Private</td>\n",
       "      <td>195994.0</td>\n",
       "      <td>1st-4th</td>\n",
       "      <td>2</td>\n",
       "      <td>Never-married</td>\n",
       "      <td>Priv-house-serv</td>\n",
       "      <td>Not-in-family</td>\n",
       "      <td>White</td>\n",
       "      <td>Female</td>\n",
       "      <td>0.0</td>\n",
       "      <td>0.0</td>\n",
       "      <td>40</td>\n",
       "      <td>Guatemala</td>\n",
       "      <td>0.0</td>\n",
       "    </tr>\n",
       "    <tr>\n",
       "      <th>4325</th>\n",
       "      <td>25</td>\n",
       "      <td>Private</td>\n",
       "      <td>308144.0</td>\n",
       "      <td>Bachelors</td>\n",
       "      <td>13</td>\n",
       "      <td>Never-married</td>\n",
       "      <td>Craft-repair</td>\n",
       "      <td>Not-in-family</td>\n",
       "      <td>White</td>\n",
       "      <td>Male</td>\n",
       "      <td>0.0</td>\n",
       "      <td>0.0</td>\n",
       "      <td>40</td>\n",
       "      <td>Mexico</td>\n",
       "      <td>0.0</td>\n",
       "    </tr>\n",
       "    <tr>\n",
       "      <th>4881</th>\n",
       "      <td>25</td>\n",
       "      <td>Private</td>\n",
       "      <td>308144.0</td>\n",
       "      <td>Bachelors</td>\n",
       "      <td>13</td>\n",
       "      <td>Never-married</td>\n",
       "      <td>Craft-repair</td>\n",
       "      <td>Not-in-family</td>\n",
       "      <td>White</td>\n",
       "      <td>Male</td>\n",
       "      <td>0.0</td>\n",
       "      <td>0.0</td>\n",
       "      <td>40</td>\n",
       "      <td>Mexico</td>\n",
       "      <td>0.0</td>\n",
       "    </tr>\n",
       "    <tr>\n",
       "      <th>5579</th>\n",
       "      <td>27</td>\n",
       "      <td>Private</td>\n",
       "      <td>255582.0</td>\n",
       "      <td>HS-grad</td>\n",
       "      <td>9</td>\n",
       "      <td>Never-married</td>\n",
       "      <td>Machine-op-inspct</td>\n",
       "      <td>Not-in-family</td>\n",
       "      <td>White</td>\n",
       "      <td>Female</td>\n",
       "      <td>0.0</td>\n",
       "      <td>0.0</td>\n",
       "      <td>40</td>\n",
       "      <td>United-States</td>\n",
       "      <td>0.0</td>\n",
       "    </tr>\n",
       "    <tr>\n",
       "      <th>28242</th>\n",
       "      <td>27</td>\n",
       "      <td>Private</td>\n",
       "      <td>255582.0</td>\n",
       "      <td>HS-grad</td>\n",
       "      <td>9</td>\n",
       "      <td>Never-married</td>\n",
       "      <td>Machine-op-inspct</td>\n",
       "      <td>Not-in-family</td>\n",
       "      <td>White</td>\n",
       "      <td>Female</td>\n",
       "      <td>0.0</td>\n",
       "      <td>0.0</td>\n",
       "      <td>40</td>\n",
       "      <td>United-States</td>\n",
       "      <td>0.0</td>\n",
       "    </tr>\n",
       "    <tr>\n",
       "      <th>8679</th>\n",
       "      <td>28</td>\n",
       "      <td>Private</td>\n",
       "      <td>274679.0</td>\n",
       "      <td>Masters</td>\n",
       "      <td>14</td>\n",
       "      <td>Never-married</td>\n",
       "      <td>Prof-specialty</td>\n",
       "      <td>Not-in-family</td>\n",
       "      <td>White</td>\n",
       "      <td>Male</td>\n",
       "      <td>0.0</td>\n",
       "      <td>0.0</td>\n",
       "      <td>50</td>\n",
       "      <td>United-States</td>\n",
       "      <td>0.0</td>\n",
       "    </tr>\n",
       "    <tr>\n",
       "      <th>26314</th>\n",
       "      <td>28</td>\n",
       "      <td>Private</td>\n",
       "      <td>274679.0</td>\n",
       "      <td>Masters</td>\n",
       "      <td>14</td>\n",
       "      <td>Never-married</td>\n",
       "      <td>Prof-specialty</td>\n",
       "      <td>Not-in-family</td>\n",
       "      <td>White</td>\n",
       "      <td>Male</td>\n",
       "      <td>0.0</td>\n",
       "      <td>0.0</td>\n",
       "      <td>50</td>\n",
       "      <td>United-States</td>\n",
       "      <td>0.0</td>\n",
       "    </tr>\n",
       "    <tr>\n",
       "      <th>16976</th>\n",
       "      <td>30</td>\n",
       "      <td>Private</td>\n",
       "      <td>144593.0</td>\n",
       "      <td>HS-grad</td>\n",
       "      <td>9</td>\n",
       "      <td>Never-married</td>\n",
       "      <td>Other-service</td>\n",
       "      <td>Not-in-family</td>\n",
       "      <td>Black</td>\n",
       "      <td>Male</td>\n",
       "      <td>0.0</td>\n",
       "      <td>0.0</td>\n",
       "      <td>40</td>\n",
       "      <td>?</td>\n",
       "      <td>0.0</td>\n",
       "    </tr>\n",
       "    <tr>\n",
       "      <th>18556</th>\n",
       "      <td>30</td>\n",
       "      <td>Private</td>\n",
       "      <td>144593.0</td>\n",
       "      <td>HS-grad</td>\n",
       "      <td>9</td>\n",
       "      <td>Never-married</td>\n",
       "      <td>Other-service</td>\n",
       "      <td>Not-in-family</td>\n",
       "      <td>Black</td>\n",
       "      <td>Male</td>\n",
       "      <td>0.0</td>\n",
       "      <td>0.0</td>\n",
       "      <td>40</td>\n",
       "      <td>?</td>\n",
       "      <td>0.0</td>\n",
       "    </tr>\n",
       "    <tr>\n",
       "      <th>16847</th>\n",
       "      <td>35</td>\n",
       "      <td>Private</td>\n",
       "      <td>379959.0</td>\n",
       "      <td>HS-grad</td>\n",
       "      <td>9</td>\n",
       "      <td>Divorced</td>\n",
       "      <td>Other-service</td>\n",
       "      <td>Not-in-family</td>\n",
       "      <td>White</td>\n",
       "      <td>Female</td>\n",
       "      <td>0.0</td>\n",
       "      <td>0.0</td>\n",
       "      <td>40</td>\n",
       "      <td>United-States</td>\n",
       "      <td>0.0</td>\n",
       "    </tr>\n",
       "    <tr>\n",
       "      <th>32416</th>\n",
       "      <td>35</td>\n",
       "      <td>Private</td>\n",
       "      <td>379959.0</td>\n",
       "      <td>HS-grad</td>\n",
       "      <td>9</td>\n",
       "      <td>Divorced</td>\n",
       "      <td>Other-service</td>\n",
       "      <td>Not-in-family</td>\n",
       "      <td>White</td>\n",
       "      <td>Female</td>\n",
       "      <td>0.0</td>\n",
       "      <td>0.0</td>\n",
       "      <td>40</td>\n",
       "      <td>United-States</td>\n",
       "      <td>0.0</td>\n",
       "    </tr>\n",
       "    <tr>\n",
       "      <th>4940</th>\n",
       "      <td>38</td>\n",
       "      <td>Private</td>\n",
       "      <td>207202.0</td>\n",
       "      <td>HS-grad</td>\n",
       "      <td>9</td>\n",
       "      <td>Married-civ-spouse</td>\n",
       "      <td>Machine-op-inspct</td>\n",
       "      <td>Husband</td>\n",
       "      <td>White</td>\n",
       "      <td>Male</td>\n",
       "      <td>0.0</td>\n",
       "      <td>0.0</td>\n",
       "      <td>48</td>\n",
       "      <td>United-States</td>\n",
       "      <td>1.0</td>\n",
       "    </tr>\n",
       "    <tr>\n",
       "      <th>29169</th>\n",
       "      <td>38</td>\n",
       "      <td>Private</td>\n",
       "      <td>207202.0</td>\n",
       "      <td>HS-grad</td>\n",
       "      <td>9</td>\n",
       "      <td>Married-civ-spouse</td>\n",
       "      <td>Machine-op-inspct</td>\n",
       "      <td>Husband</td>\n",
       "      <td>White</td>\n",
       "      <td>Male</td>\n",
       "      <td>0.0</td>\n",
       "      <td>0.0</td>\n",
       "      <td>48</td>\n",
       "      <td>United-States</td>\n",
       "      <td>1.0</td>\n",
       "    </tr>\n",
       "    <tr>\n",
       "      <th>25625</th>\n",
       "      <td>39</td>\n",
       "      <td>Private</td>\n",
       "      <td>30916.0</td>\n",
       "      <td>HS-grad</td>\n",
       "      <td>9</td>\n",
       "      <td>Married-civ-spouse</td>\n",
       "      <td>Craft-repair</td>\n",
       "      <td>Husband</td>\n",
       "      <td>White</td>\n",
       "      <td>Male</td>\n",
       "      <td>0.0</td>\n",
       "      <td>0.0</td>\n",
       "      <td>40</td>\n",
       "      <td>United-States</td>\n",
       "      <td>0.0</td>\n",
       "    </tr>\n",
       "    <tr>\n",
       "      <th>28858</th>\n",
       "      <td>39</td>\n",
       "      <td>Private</td>\n",
       "      <td>30916.0</td>\n",
       "      <td>HS-grad</td>\n",
       "      <td>9</td>\n",
       "      <td>Married-civ-spouse</td>\n",
       "      <td>Craft-repair</td>\n",
       "      <td>Husband</td>\n",
       "      <td>White</td>\n",
       "      <td>Male</td>\n",
       "      <td>0.0</td>\n",
       "      <td>0.0</td>\n",
       "      <td>40</td>\n",
       "      <td>United-States</td>\n",
       "      <td>0.0</td>\n",
       "    </tr>\n",
       "    <tr>\n",
       "      <th>10367</th>\n",
       "      <td>42</td>\n",
       "      <td>Private</td>\n",
       "      <td>204235.0</td>\n",
       "      <td>Some-college</td>\n",
       "      <td>10</td>\n",
       "      <td>Married-civ-spouse</td>\n",
       "      <td>Prof-specialty</td>\n",
       "      <td>Husband</td>\n",
       "      <td>White</td>\n",
       "      <td>Male</td>\n",
       "      <td>0.0</td>\n",
       "      <td>0.0</td>\n",
       "      <td>40</td>\n",
       "      <td>United-States</td>\n",
       "      <td>1.0</td>\n",
       "    </tr>\n",
       "    <tr>\n",
       "      <th>28534</th>\n",
       "      <td>42</td>\n",
       "      <td>Private</td>\n",
       "      <td>204235.0</td>\n",
       "      <td>Some-college</td>\n",
       "      <td>10</td>\n",
       "      <td>Married-civ-spouse</td>\n",
       "      <td>Prof-specialty</td>\n",
       "      <td>Husband</td>\n",
       "      <td>White</td>\n",
       "      <td>Male</td>\n",
       "      <td>0.0</td>\n",
       "      <td>0.0</td>\n",
       "      <td>40</td>\n",
       "      <td>United-States</td>\n",
       "      <td>1.0</td>\n",
       "    </tr>\n",
       "    <tr>\n",
       "      <th>17917</th>\n",
       "      <td>44</td>\n",
       "      <td>Private</td>\n",
       "      <td>367749.0</td>\n",
       "      <td>Bachelors</td>\n",
       "      <td>13</td>\n",
       "      <td>Never-married</td>\n",
       "      <td>Prof-specialty</td>\n",
       "      <td>Not-in-family</td>\n",
       "      <td>White</td>\n",
       "      <td>Female</td>\n",
       "      <td>0.0</td>\n",
       "      <td>0.0</td>\n",
       "      <td>45</td>\n",
       "      <td>Mexico</td>\n",
       "      <td>0.0</td>\n",
       "    </tr>\n",
       "    <tr>\n",
       "      <th>22368</th>\n",
       "      <td>44</td>\n",
       "      <td>Private</td>\n",
       "      <td>367749.0</td>\n",
       "      <td>Bachelors</td>\n",
       "      <td>13</td>\n",
       "      <td>Never-married</td>\n",
       "      <td>Prof-specialty</td>\n",
       "      <td>Not-in-family</td>\n",
       "      <td>White</td>\n",
       "      <td>Female</td>\n",
       "      <td>0.0</td>\n",
       "      <td>0.0</td>\n",
       "      <td>45</td>\n",
       "      <td>Mexico</td>\n",
       "      <td>0.0</td>\n",
       "    </tr>\n",
       "    <tr>\n",
       "      <th>11965</th>\n",
       "      <td>46</td>\n",
       "      <td>Private</td>\n",
       "      <td>133616.0</td>\n",
       "      <td>Some-college</td>\n",
       "      <td>10</td>\n",
       "      <td>Divorced</td>\n",
       "      <td>Adm-clerical</td>\n",
       "      <td>Unmarried</td>\n",
       "      <td>White</td>\n",
       "      <td>Female</td>\n",
       "      <td>0.0</td>\n",
       "      <td>0.0</td>\n",
       "      <td>40</td>\n",
       "      <td>United-States</td>\n",
       "      <td>0.0</td>\n",
       "    </tr>\n",
       "    <tr>\n",
       "      <th>30857</th>\n",
       "      <td>46</td>\n",
       "      <td>Private</td>\n",
       "      <td>133616.0</td>\n",
       "      <td>Some-college</td>\n",
       "      <td>10</td>\n",
       "      <td>Divorced</td>\n",
       "      <td>Adm-clerical</td>\n",
       "      <td>Unmarried</td>\n",
       "      <td>White</td>\n",
       "      <td>Female</td>\n",
       "      <td>0.0</td>\n",
       "      <td>0.0</td>\n",
       "      <td>40</td>\n",
       "      <td>United-States</td>\n",
       "      <td>0.0</td>\n",
       "    </tr>\n",
       "    <tr>\n",
       "      <th>16297</th>\n",
       "      <td>46</td>\n",
       "      <td>Private</td>\n",
       "      <td>173243.0</td>\n",
       "      <td>HS-grad</td>\n",
       "      <td>9</td>\n",
       "      <td>Married-civ-spouse</td>\n",
       "      <td>Craft-repair</td>\n",
       "      <td>Husband</td>\n",
       "      <td>White</td>\n",
       "      <td>Male</td>\n",
       "      <td>0.0</td>\n",
       "      <td>0.0</td>\n",
       "      <td>40</td>\n",
       "      <td>United-States</td>\n",
       "      <td>0.0</td>\n",
       "    </tr>\n",
       "    <tr>\n",
       "      <th>17041</th>\n",
       "      <td>46</td>\n",
       "      <td>Private</td>\n",
       "      <td>173243.0</td>\n",
       "      <td>HS-grad</td>\n",
       "      <td>9</td>\n",
       "      <td>Married-civ-spouse</td>\n",
       "      <td>Craft-repair</td>\n",
       "      <td>Husband</td>\n",
       "      <td>White</td>\n",
       "      <td>Male</td>\n",
       "      <td>0.0</td>\n",
       "      <td>0.0</td>\n",
       "      <td>40</td>\n",
       "      <td>United-States</td>\n",
       "      <td>0.0</td>\n",
       "    </tr>\n",
       "    <tr>\n",
       "      <th>7920</th>\n",
       "      <td>49</td>\n",
       "      <td>Private</td>\n",
       "      <td>31267.0</td>\n",
       "      <td>7th-8th</td>\n",
       "      <td>4</td>\n",
       "      <td>Married-civ-spouse</td>\n",
       "      <td>Craft-repair</td>\n",
       "      <td>Husband</td>\n",
       "      <td>White</td>\n",
       "      <td>Male</td>\n",
       "      <td>0.0</td>\n",
       "      <td>0.0</td>\n",
       "      <td>40</td>\n",
       "      <td>United-States</td>\n",
       "      <td>0.0</td>\n",
       "    </tr>\n",
       "    <tr>\n",
       "      <th>21876</th>\n",
       "      <td>49</td>\n",
       "      <td>Private</td>\n",
       "      <td>31267.0</td>\n",
       "      <td>7th-8th</td>\n",
       "      <td>4</td>\n",
       "      <td>Married-civ-spouse</td>\n",
       "      <td>Craft-repair</td>\n",
       "      <td>Husband</td>\n",
       "      <td>White</td>\n",
       "      <td>Male</td>\n",
       "      <td>0.0</td>\n",
       "      <td>0.0</td>\n",
       "      <td>40</td>\n",
       "      <td>United-States</td>\n",
       "      <td>0.0</td>\n",
       "    </tr>\n",
       "    <tr>\n",
       "      <th>7053</th>\n",
       "      <td>49</td>\n",
       "      <td>Self-emp-not-inc</td>\n",
       "      <td>43479.0</td>\n",
       "      <td>Some-college</td>\n",
       "      <td>10</td>\n",
       "      <td>Married-civ-spouse</td>\n",
       "      <td>Craft-repair</td>\n",
       "      <td>Husband</td>\n",
       "      <td>White</td>\n",
       "      <td>Male</td>\n",
       "      <td>0.0</td>\n",
       "      <td>0.0</td>\n",
       "      <td>40</td>\n",
       "      <td>United-States</td>\n",
       "      <td>0.0</td>\n",
       "    </tr>\n",
       "    <tr>\n",
       "      <th>22495</th>\n",
       "      <td>49</td>\n",
       "      <td>Self-emp-not-inc</td>\n",
       "      <td>43479.0</td>\n",
       "      <td>Some-college</td>\n",
       "      <td>10</td>\n",
       "      <td>Married-civ-spouse</td>\n",
       "      <td>Craft-repair</td>\n",
       "      <td>Husband</td>\n",
       "      <td>White</td>\n",
       "      <td>Male</td>\n",
       "      <td>0.0</td>\n",
       "      <td>0.0</td>\n",
       "      <td>40</td>\n",
       "      <td>United-States</td>\n",
       "      <td>0.0</td>\n",
       "    </tr>\n",
       "    <tr>\n",
       "      <th>2303</th>\n",
       "      <td>90</td>\n",
       "      <td>Private</td>\n",
       "      <td>52386.0</td>\n",
       "      <td>Some-college</td>\n",
       "      <td>10</td>\n",
       "      <td>Never-married</td>\n",
       "      <td>Other-service</td>\n",
       "      <td>Not-in-family</td>\n",
       "      <td>Asian-Pac-Islander</td>\n",
       "      <td>Male</td>\n",
       "      <td>0.0</td>\n",
       "      <td>0.0</td>\n",
       "      <td>35</td>\n",
       "      <td>United-States</td>\n",
       "      <td>0.0</td>\n",
       "    </tr>\n",
       "    <tr>\n",
       "      <th>5104</th>\n",
       "      <td>90</td>\n",
       "      <td>Private</td>\n",
       "      <td>52386.0</td>\n",
       "      <td>Some-college</td>\n",
       "      <td>10</td>\n",
       "      <td>Never-married</td>\n",
       "      <td>Other-service</td>\n",
       "      <td>Not-in-family</td>\n",
       "      <td>Asian-Pac-Islander</td>\n",
       "      <td>Male</td>\n",
       "      <td>0.0</td>\n",
       "      <td>0.0</td>\n",
       "      <td>35</td>\n",
       "      <td>United-States</td>\n",
       "      <td>0.0</td>\n",
       "    </tr>\n",
       "  </tbody>\n",
       "</table>\n",
       "</div>"
      ],
      "text/plain": [
       "      age          workclass  final_weight      education education-num  \\\n",
       "26557   1          State-gov      -42141.0   Some-college            10   \n",
       "26558   1          State-gov      -42141.0   Some-college            10   \n",
       "26559   1          State-gov      -42141.0   Some-college            10   \n",
       "26560   1          State-gov      -42141.0   Some-college            10   \n",
       "26561   1          State-gov      -42141.0   Some-college            10   \n",
       "26562   1          State-gov      -42141.0   Some-college            10   \n",
       "26563   1          State-gov      -42141.0   Some-college            10   \n",
       "26564   1          State-gov      -42141.0   Some-college            10   \n",
       "26565   1          State-gov      -42141.0   Some-college            10   \n",
       "26566   1          State-gov      -42141.0   Some-college            10   \n",
       "17674  19            Private       97261.0        HS-grad             9   \n",
       "18699  19            Private       97261.0        HS-grad             9   \n",
       "6990   19            Private      138153.0   Some-college            10   \n",
       "21319  19            Private      138153.0   Some-college            10   \n",
       "15189  19            Private      146679.0   Some-college            10   \n",
       "21491  19            Private      146679.0   Some-college            10   \n",
       "3917   19            Private      251579.0   Some-college            10   \n",
       "32005  19            Private      251579.0   Some-college            10   \n",
       "5805   20            Private      107658.0   Some-college            10   \n",
       "11631  20            Private      107658.0   Some-college            10   \n",
       "8080   21            Private      243368.0      Preschool             1   \n",
       "15059  21            Private      243368.0      Preschool             1   \n",
       "4767   21            Private      250051.0   Some-college            10   \n",
       "9171   21            Private      250051.0   Some-college            10   \n",
       "21104  23            Private      240137.0        5th-6th             3   \n",
       "25873  23            Private      240137.0        5th-6th             3   \n",
       "5842   25            Private      195994.0        1st-4th             2   \n",
       "13084  25            Private      195994.0        1st-4th             2   \n",
       "22301  25            Private      195994.0        1st-4th             2   \n",
       "4325   25            Private      308144.0      Bachelors            13   \n",
       "4881   25            Private      308144.0      Bachelors            13   \n",
       "5579   27            Private      255582.0        HS-grad             9   \n",
       "28242  27            Private      255582.0        HS-grad             9   \n",
       "8679   28            Private      274679.0        Masters            14   \n",
       "26314  28            Private      274679.0        Masters            14   \n",
       "16976  30            Private      144593.0        HS-grad             9   \n",
       "18556  30            Private      144593.0        HS-grad             9   \n",
       "16847  35            Private      379959.0        HS-grad             9   \n",
       "32416  35            Private      379959.0        HS-grad             9   \n",
       "4940   38            Private      207202.0        HS-grad             9   \n",
       "29169  38            Private      207202.0        HS-grad             9   \n",
       "25625  39            Private       30916.0        HS-grad             9   \n",
       "28858  39            Private       30916.0        HS-grad             9   \n",
       "10367  42            Private      204235.0   Some-college            10   \n",
       "28534  42            Private      204235.0   Some-college            10   \n",
       "17917  44            Private      367749.0      Bachelors            13   \n",
       "22368  44            Private      367749.0      Bachelors            13   \n",
       "11965  46            Private      133616.0   Some-college            10   \n",
       "30857  46            Private      133616.0   Some-college            10   \n",
       "16297  46            Private      173243.0        HS-grad             9   \n",
       "17041  46            Private      173243.0        HS-grad             9   \n",
       "7920   49            Private       31267.0        7th-8th             4   \n",
       "21876  49            Private       31267.0        7th-8th             4   \n",
       "7053   49   Self-emp-not-inc       43479.0   Some-college            10   \n",
       "22495  49   Self-emp-not-inc       43479.0   Some-college            10   \n",
       "2303   90            Private       52386.0   Some-college            10   \n",
       "5104   90            Private       52386.0   Some-college            10   \n",
       "\n",
       "            marital-status          occupation    relationship  \\\n",
       "26557        Never-married   Machine-op-inspct           Sales   \n",
       "26558        Never-married   Machine-op-inspct           Sales   \n",
       "26559        Never-married   Machine-op-inspct           Sales   \n",
       "26560        Never-married   Machine-op-inspct           Sales   \n",
       "26561        Never-married   Machine-op-inspct           Sales   \n",
       "26562        Never-married   Machine-op-inspct           Sales   \n",
       "26563        Never-married   Machine-op-inspct           Sales   \n",
       "26564        Never-married   Machine-op-inspct           Sales   \n",
       "26565        Never-married   Machine-op-inspct           Sales   \n",
       "26566        Never-married   Machine-op-inspct           Sales   \n",
       "17674        Never-married     Farming-fishing   Not-in-family   \n",
       "18699        Never-married     Farming-fishing   Not-in-family   \n",
       "6990         Never-married        Adm-clerical       Own-child   \n",
       "21319        Never-married        Adm-clerical       Own-child   \n",
       "15189        Never-married     Exec-managerial       Own-child   \n",
       "21491        Never-married     Exec-managerial       Own-child   \n",
       "3917         Never-married       Other-service       Own-child   \n",
       "32005        Never-married       Other-service       Own-child   \n",
       "5805         Never-married        Tech-support   Not-in-family   \n",
       "11631        Never-married        Tech-support   Not-in-family   \n",
       "8080         Never-married     Farming-fishing   Not-in-family   \n",
       "15059        Never-married     Farming-fishing   Not-in-family   \n",
       "4767         Never-married      Prof-specialty       Own-child   \n",
       "9171         Never-married      Prof-specialty       Own-child   \n",
       "21104        Never-married   Handlers-cleaners   Not-in-family   \n",
       "25873        Never-married   Handlers-cleaners   Not-in-family   \n",
       "5842         Never-married     Priv-house-serv   Not-in-family   \n",
       "13084        Never-married     Priv-house-serv   Not-in-family   \n",
       "22301        Never-married     Priv-house-serv   Not-in-family   \n",
       "4325         Never-married        Craft-repair   Not-in-family   \n",
       "4881         Never-married        Craft-repair   Not-in-family   \n",
       "5579         Never-married   Machine-op-inspct   Not-in-family   \n",
       "28242        Never-married   Machine-op-inspct   Not-in-family   \n",
       "8679         Never-married      Prof-specialty   Not-in-family   \n",
       "26314        Never-married      Prof-specialty   Not-in-family   \n",
       "16976        Never-married       Other-service   Not-in-family   \n",
       "18556        Never-married       Other-service   Not-in-family   \n",
       "16847             Divorced       Other-service   Not-in-family   \n",
       "32416             Divorced       Other-service   Not-in-family   \n",
       "4940    Married-civ-spouse   Machine-op-inspct         Husband   \n",
       "29169   Married-civ-spouse   Machine-op-inspct         Husband   \n",
       "25625   Married-civ-spouse        Craft-repair         Husband   \n",
       "28858   Married-civ-spouse        Craft-repair         Husband   \n",
       "10367   Married-civ-spouse      Prof-specialty         Husband   \n",
       "28534   Married-civ-spouse      Prof-specialty         Husband   \n",
       "17917        Never-married      Prof-specialty   Not-in-family   \n",
       "22368        Never-married      Prof-specialty   Not-in-family   \n",
       "11965             Divorced        Adm-clerical       Unmarried   \n",
       "30857             Divorced        Adm-clerical       Unmarried   \n",
       "16297   Married-civ-spouse        Craft-repair         Husband   \n",
       "17041   Married-civ-spouse        Craft-repair         Husband   \n",
       "7920    Married-civ-spouse        Craft-repair         Husband   \n",
       "21876   Married-civ-spouse        Craft-repair         Husband   \n",
       "7053    Married-civ-spouse        Craft-repair         Husband   \n",
       "22495   Married-civ-spouse        Craft-repair         Husband   \n",
       "2303         Never-married       Other-service   Not-in-family   \n",
       "5104         Never-married       Other-service   Not-in-family   \n",
       "\n",
       "                      race      sex  cap-gain  cap-loss    hours-per-week  \\\n",
       "26557                Black    Other     100.0    -110.0   444424124141242   \n",
       "26558                Black    Other     100.0    -110.0   444424124141242   \n",
       "26559                Black    Other     100.0    -110.0   444424124141242   \n",
       "26560                Black    Other     100.0    -110.0   444424124141242   \n",
       "26561                Black    Other     100.0    -110.0   444424124141242   \n",
       "26562                Black    Other     100.0    -110.0   444424124141242   \n",
       "26563                Black    Other     100.0    -110.0   444424124141242   \n",
       "26564                Black    Other     100.0    -110.0   444424124141242   \n",
       "26565                Black    Other     100.0    -110.0   444424124141242   \n",
       "26566                Black    Other     100.0    -110.0   444424124141242   \n",
       "17674                White     Male       0.0       0.0                40   \n",
       "18699                White     Male       0.0       0.0                40   \n",
       "6990                 White   Female       0.0       0.0                10   \n",
       "21319                White   Female       0.0       0.0                10   \n",
       "15189                Black     Male       0.0       0.0                30   \n",
       "21491                Black     Male       0.0       0.0                30   \n",
       "3917                 White     Male       0.0       0.0                14   \n",
       "32005                White     Male       0.0       0.0                14   \n",
       "5805                 White   Female       0.0       0.0                10   \n",
       "11631                White   Female       0.0       0.0                10   \n",
       "8080                 White     Male       0.0       0.0                50   \n",
       "15059                White     Male       0.0       0.0                50   \n",
       "4767                 White   Female       0.0       0.0                10   \n",
       "9171                 White   Female       0.0       0.0                10   \n",
       "21104                White     Male       0.0       0.0                55   \n",
       "25873                White     Male       0.0       0.0                55   \n",
       "5842                 White   Female       0.0       0.0                40   \n",
       "13084                White   Female       0.0       0.0                40   \n",
       "22301                White   Female       0.0       0.0                40   \n",
       "4325                 White     Male       0.0       0.0                40   \n",
       "4881                 White     Male       0.0       0.0                40   \n",
       "5579                 White   Female       0.0       0.0                40   \n",
       "28242                White   Female       0.0       0.0                40   \n",
       "8679                 White     Male       0.0       0.0                50   \n",
       "26314                White     Male       0.0       0.0                50   \n",
       "16976                Black     Male       0.0       0.0                40   \n",
       "18556                Black     Male       0.0       0.0                40   \n",
       "16847                White   Female       0.0       0.0                40   \n",
       "32416                White   Female       0.0       0.0                40   \n",
       "4940                 White     Male       0.0       0.0                48   \n",
       "29169                White     Male       0.0       0.0                48   \n",
       "25625                White     Male       0.0       0.0                40   \n",
       "28858                White     Male       0.0       0.0                40   \n",
       "10367                White     Male       0.0       0.0                40   \n",
       "28534                White     Male       0.0       0.0                40   \n",
       "17917                White   Female       0.0       0.0                45   \n",
       "22368                White   Female       0.0       0.0                45   \n",
       "11965                White   Female       0.0       0.0                40   \n",
       "30857                White   Female       0.0       0.0                40   \n",
       "16297                White     Male       0.0       0.0                40   \n",
       "17041                White     Male       0.0       0.0                40   \n",
       "7920                 White     Male       0.0       0.0                40   \n",
       "21876                White     Male       0.0       0.0                40   \n",
       "7053                 White     Male       0.0       0.0                40   \n",
       "22495                White     Male       0.0       0.0                40   \n",
       "2303    Asian-Pac-Islander     Male       0.0       0.0                35   \n",
       "5104    Asian-Pac-Islander     Male       0.0       0.0                35   \n",
       "\n",
       "       native-country  sum_N  \n",
       "26557   United-States    1.0  \n",
       "26558   United-States    1.0  \n",
       "26559   United-States    1.0  \n",
       "26560   United-States    1.0  \n",
       "26561   United-States    1.0  \n",
       "26562   United-States    1.0  \n",
       "26563   United-States    1.0  \n",
       "26564   United-States    1.0  \n",
       "26565   United-States    1.0  \n",
       "26566   United-States    1.0  \n",
       "17674   United-States    0.0  \n",
       "18699   United-States    0.0  \n",
       "6990    United-States    0.0  \n",
       "21319   United-States    0.0  \n",
       "15189   United-States    0.0  \n",
       "21491   United-States    0.0  \n",
       "3917    United-States    0.0  \n",
       "32005   United-States    0.0  \n",
       "5805    United-States    0.0  \n",
       "11631   United-States    0.0  \n",
       "8080           Mexico    0.0  \n",
       "15059          Mexico    0.0  \n",
       "4767    United-States    0.0  \n",
       "9171    United-States    0.0  \n",
       "21104          Mexico    0.0  \n",
       "25873          Mexico    0.0  \n",
       "5842        Guatemala    0.0  \n",
       "13084       Guatemala    0.0  \n",
       "22301       Guatemala    0.0  \n",
       "4325           Mexico    0.0  \n",
       "4881           Mexico    0.0  \n",
       "5579    United-States    0.0  \n",
       "28242   United-States    0.0  \n",
       "8679    United-States    0.0  \n",
       "26314   United-States    0.0  \n",
       "16976               ?    0.0  \n",
       "18556               ?    0.0  \n",
       "16847   United-States    0.0  \n",
       "32416   United-States    0.0  \n",
       "4940    United-States    1.0  \n",
       "29169   United-States    1.0  \n",
       "25625   United-States    0.0  \n",
       "28858   United-States    0.0  \n",
       "10367   United-States    1.0  \n",
       "28534   United-States    1.0  \n",
       "17917          Mexico    0.0  \n",
       "22368          Mexico    0.0  \n",
       "11965   United-States    0.0  \n",
       "30857   United-States    0.0  \n",
       "16297   United-States    0.0  \n",
       "17041   United-States    0.0  \n",
       "7920    United-States    0.0  \n",
       "21876   United-States    0.0  \n",
       "7053    United-States    0.0  \n",
       "22495   United-States    0.0  \n",
       "2303    United-States    0.0  \n",
       "5104    United-States    0.0  "
      ]
     },
     "execution_count": 189,
     "metadata": {},
     "output_type": "execute_result"
    }
   ],
   "source": [
    "sorted_df = df_train.sort_values(by=list(df_train.columns))\n",
    "\n",
    "sorted_df[sorted_df.duplicated(subset=list(df_train.columns), keep=False)]"
   ]
  },
  {
   "cell_type": "markdown",
   "id": "457293e3",
   "metadata": {},
   "source": [
    "#### Удалим дупликаты"
   ]
  },
  {
   "cell_type": "code",
   "execution_count": 190,
   "id": "45895fce",
   "metadata": {},
   "outputs": [],
   "source": [
    "df_train.drop_duplicates(keep=False, inplace=True)"
   ]
  },
  {
   "cell_type": "code",
   "execution_count": 191,
   "id": "9a8a15b6",
   "metadata": {},
   "outputs": [
    {
     "data": {
      "text/html": [
       "<div>\n",
       "<style scoped>\n",
       "    .dataframe tbody tr th:only-of-type {\n",
       "        vertical-align: middle;\n",
       "    }\n",
       "\n",
       "    .dataframe tbody tr th {\n",
       "        vertical-align: top;\n",
       "    }\n",
       "\n",
       "    .dataframe thead th {\n",
       "        text-align: right;\n",
       "    }\n",
       "</style>\n",
       "<table border=\"1\" class=\"dataframe\">\n",
       "  <thead>\n",
       "    <tr style=\"text-align: right;\">\n",
       "      <th></th>\n",
       "      <th>age</th>\n",
       "      <th>workclass</th>\n",
       "      <th>final_weight</th>\n",
       "      <th>education</th>\n",
       "      <th>education-num</th>\n",
       "      <th>marital-status</th>\n",
       "      <th>occupation</th>\n",
       "      <th>relationship</th>\n",
       "      <th>race</th>\n",
       "      <th>sex</th>\n",
       "      <th>cap-gain</th>\n",
       "      <th>cap-loss</th>\n",
       "      <th>hours-per-week</th>\n",
       "      <th>native-country</th>\n",
       "      <th>sum_N</th>\n",
       "    </tr>\n",
       "  </thead>\n",
       "  <tbody>\n",
       "  </tbody>\n",
       "</table>\n",
       "</div>"
      ],
      "text/plain": [
       "Empty DataFrame\n",
       "Columns: [age, workclass, final_weight, education, education-num, marital-status, occupation, relationship, race, sex, cap-gain, cap-loss, hours-per-week, native-country, sum_N]\n",
       "Index: []"
      ]
     },
     "execution_count": 191,
     "metadata": {},
     "output_type": "execute_result"
    }
   ],
   "source": [
    "sorted_df = df_train.sort_values(by=list(df_train.columns))\n",
    "\n",
    "sorted_df[sorted_df.duplicated(subset=list(df_train.columns), keep=False)]"
   ]
  },
  {
   "cell_type": "markdown",
   "id": "d59a5936",
   "metadata": {},
   "source": [
    "# 2. Исследование данных\n",
    "## а) Узнаём базовые сведения о тренировочном датасете"
   ]
  },
  {
   "cell_type": "markdown",
   "id": "33edfb10",
   "metadata": {},
   "source": [
    "#### Сведения о размерах данных"
   ]
  },
  {
   "cell_type": "code",
   "execution_count": 192,
   "id": "e3c9ce3f",
   "metadata": {},
   "outputs": [
    {
     "data": {
      "text/plain": [
       "(32516, 15)"
      ]
     },
     "execution_count": 192,
     "metadata": {},
     "output_type": "execute_result"
    }
   ],
   "source": [
    "df_train.shape"
   ]
  },
  {
   "cell_type": "markdown",
   "id": "a17f7263",
   "metadata": {},
   "source": [
    "#### Информация о типах данных"
   ]
  },
  {
   "cell_type": "code",
   "execution_count": 193,
   "id": "973fb88d",
   "metadata": {},
   "outputs": [
    {
     "name": "stdout",
     "output_type": "stream",
     "text": [
      "<class 'pandas.core.frame.DataFrame'>\n",
      "Int64Index: 32516 entries, 0 to 32572\n",
      "Data columns (total 15 columns):\n",
      " #   Column          Non-Null Count  Dtype  \n",
      "---  ------          --------------  -----  \n",
      " 0   age             32516 non-null  object \n",
      " 1   workclass       32515 non-null  object \n",
      " 2   final_weight    32515 non-null  float64\n",
      " 3   education       32515 non-null  object \n",
      " 4   education-num   32515 non-null  object \n",
      " 5   marital-status  32515 non-null  object \n",
      " 6   occupation      32515 non-null  object \n",
      " 7   relationship    32515 non-null  object \n",
      " 8   race            32515 non-null  object \n",
      " 9   sex             32515 non-null  object \n",
      " 10  cap-gain        32515 non-null  float64\n",
      " 11  cap-loss        32515 non-null  float64\n",
      " 12  hours-per-week  32515 non-null  object \n",
      " 13  native-country  32515 non-null  object \n",
      " 14  sum_N           32514 non-null  float64\n",
      "dtypes: float64(4), object(11)\n",
      "memory usage: 4.0+ MB\n"
     ]
    }
   ],
   "source": [
    "df_train.info()"
   ]
  },
  {
   "cell_type": "markdown",
   "id": "c126920c",
   "metadata": {},
   "source": [
    "#### Также узнаем подробности о данных"
   ]
  },
  {
   "cell_type": "code",
   "execution_count": 194,
   "id": "b08513b4",
   "metadata": {},
   "outputs": [
    {
     "data": {
      "text/html": [
       "<div>\n",
       "<style scoped>\n",
       "    .dataframe tbody tr th:only-of-type {\n",
       "        vertical-align: middle;\n",
       "    }\n",
       "\n",
       "    .dataframe tbody tr th {\n",
       "        vertical-align: top;\n",
       "    }\n",
       "\n",
       "    .dataframe thead th {\n",
       "        text-align: right;\n",
       "    }\n",
       "</style>\n",
       "<table border=\"1\" class=\"dataframe\">\n",
       "  <thead>\n",
       "    <tr style=\"text-align: right;\">\n",
       "      <th></th>\n",
       "      <th>final_weight</th>\n",
       "      <th>cap-gain</th>\n",
       "      <th>cap-loss</th>\n",
       "      <th>sum_N</th>\n",
       "    </tr>\n",
       "  </thead>\n",
       "  <tbody>\n",
       "    <tr>\n",
       "      <th>count</th>\n",
       "      <td>3.251500e+04</td>\n",
       "      <td>32515.000000</td>\n",
       "      <td>32515.000000</td>\n",
       "      <td>32514.000000</td>\n",
       "    </tr>\n",
       "    <tr>\n",
       "      <th>mean</th>\n",
       "      <td>7.111553e+12</td>\n",
       "      <td>1079.173397</td>\n",
       "      <td>87.413686</td>\n",
       "      <td>0.241035</td>\n",
       "    </tr>\n",
       "    <tr>\n",
       "      <th>std</th>\n",
       "      <td>1.282349e+15</td>\n",
       "      <td>7390.403192</td>\n",
       "      <td>403.242256</td>\n",
       "      <td>0.427718</td>\n",
       "    </tr>\n",
       "    <tr>\n",
       "      <th>min</th>\n",
       "      <td>1.228500e+04</td>\n",
       "      <td>-1.000000</td>\n",
       "      <td>-444.000000</td>\n",
       "      <td>0.000000</td>\n",
       "    </tr>\n",
       "    <tr>\n",
       "      <th>25%</th>\n",
       "      <td>1.178300e+05</td>\n",
       "      <td>0.000000</td>\n",
       "      <td>0.000000</td>\n",
       "      <td>0.000000</td>\n",
       "    </tr>\n",
       "    <tr>\n",
       "      <th>50%</th>\n",
       "      <td>1.783560e+05</td>\n",
       "      <td>0.000000</td>\n",
       "      <td>0.000000</td>\n",
       "      <td>0.000000</td>\n",
       "    </tr>\n",
       "    <tr>\n",
       "      <th>75%</th>\n",
       "      <td>2.369875e+05</td>\n",
       "      <td>0.000000</td>\n",
       "      <td>0.000000</td>\n",
       "      <td>0.000000</td>\n",
       "    </tr>\n",
       "    <tr>\n",
       "      <th>max</th>\n",
       "      <td>2.312322e+17</td>\n",
       "      <td>99999.000000</td>\n",
       "      <td>4356.000000</td>\n",
       "      <td>1.000000</td>\n",
       "    </tr>\n",
       "  </tbody>\n",
       "</table>\n",
       "</div>"
      ],
      "text/plain": [
       "       final_weight      cap-gain      cap-loss         sum_N\n",
       "count  3.251500e+04  32515.000000  32515.000000  32514.000000\n",
       "mean   7.111553e+12   1079.173397     87.413686      0.241035\n",
       "std    1.282349e+15   7390.403192    403.242256      0.427718\n",
       "min    1.228500e+04     -1.000000   -444.000000      0.000000\n",
       "25%    1.178300e+05      0.000000      0.000000      0.000000\n",
       "50%    1.783560e+05      0.000000      0.000000      0.000000\n",
       "75%    2.369875e+05      0.000000      0.000000      0.000000\n",
       "max    2.312322e+17  99999.000000   4356.000000      1.000000"
      ]
     },
     "execution_count": 194,
     "metadata": {},
     "output_type": "execute_result"
    }
   ],
   "source": [
    "df_train.describe()"
   ]
  },
  {
   "cell_type": "markdown",
   "id": "1d179c28",
   "metadata": {},
   "source": [
    "#### Как видно из сведений выше, \"age\", \"education-num\" и \"hours-per-week\" отнесён к object. Это необходимо изменить. Но сперва посмотрим подробнее на данные каждой колонки"
   ]
  },
  {
   "cell_type": "code",
   "execution_count": 195,
   "id": "3a5e66b9",
   "metadata": {},
   "outputs": [
    {
     "data": {
      "text/plain": [
       "array(['39', '50', '38', '53', '28', '37', '49', '52', '31', '42', '30',\n",
       "       '23', '32', '40', '34', '25', '43', '54', '35', '59', '56', '19',\n",
       "       '20', '45', '22', '48', '21', '24', '57', '44', '41', '29', '18',\n",
       "       '47', '46', '36', '79', '27', '67', '33', '76', '17', '55', '61',\n",
       "       '70', '64', '71', '68', '66', '51', '58', '26', '60', '90', '75',\n",
       "       '65', '77', '62', '63', '80', '72', '74', '69', '73', '81', '78',\n",
       "       '88', '82', '83', '84', '85', 'totally_legit_string', '86', '-321',\n",
       "       '87'], dtype=object)"
      ]
     },
     "execution_count": 195,
     "metadata": {},
     "output_type": "execute_result"
    }
   ],
   "source": [
    "df_train['age'].unique() "
   ]
  },
  {
   "cell_type": "code",
   "execution_count": 196,
   "id": "59ce372d",
   "metadata": {},
   "outputs": [
    {
     "data": {
      "text/plain": [
       "array([' 40', ' 13', ' 16', ' 45', ' 50', ' 80', ' 30', ' 35', ' 60',\n",
       "       ' 20', ' 52', ' 44', ' 15', ' 25', ' 38', ' 43', ' 55', ' 48',\n",
       "       ' 58', ' 32', ' 70', ' 2', ' 22', ' 56', ' 41', ' 28', ' 36',\n",
       "       ' 24', ' 46', ' 42', ' 12', ' 65', ' 1', ' 10', ' 34', ' 75',\n",
       "       ' 98', ' 33', ' 54', ' 8', ' 6', ' 64', ' 19', ' 18', ' 72', ' 5',\n",
       "       ' 9', ' 47', ' 37', ' 21', ' 26', ' 14', ' 4', ' 59', ' 7', ' 99',\n",
       "       ' 53', ' 39', ' 62', ' 57', ' 78', ' 90', ' 66', ' 11', ' 49',\n",
       "       ' 84', ' 3', ' 17', ' 68', ' 27', ' 85', ' 31', ' 51', ' 77',\n",
       "       ' 63', ' 23', ' 87', ' 88', ' 73', ' 89', ' 97', ' 94', ' 29',\n",
       "       ' 96', ' 67', ' 82', ' 86', ' 91', ' 81', ' 76', nan, ' 92', ' 61',\n",
       "       ' 74', ' 95', ' United-States'], dtype=object)"
      ]
     },
     "execution_count": 196,
     "metadata": {},
     "output_type": "execute_result"
    }
   ],
   "source": [
    "df_train['hours-per-week'].unique() "
   ]
  },
  {
   "cell_type": "code",
   "execution_count": 197,
   "id": "e6b07603",
   "metadata": {},
   "outputs": [
    {
     "data": {
      "text/plain": [
       "array([7.00000000e+00, 9.00000000e+00, 1.20000000e+01, 1.00000000e+01,\n",
       "       6.00000000e+00, 1.50000000e+01, 4.00000000e+00, 1.30000000e+01,\n",
       "       1.40000000e+01, 1.60000000e+01, 3.00000000e+00, 1.10000000e+01,\n",
       "       5.00000000e+00, 8.00000000e+00, 2.00000000e+00, 1.00000000e+00,\n",
       "                  nan, 1.02302103e+11])"
      ]
     },
     "execution_count": 197,
     "metadata": {},
     "output_type": "execute_result"
    }
   ],
   "source": [
    "df_test['education-num'].unique()"
   ]
  },
  {
   "cell_type": "markdown",
   "id": "3908898c",
   "metadata": {},
   "source": [
    "#### Посмотрим строку с значением в 'age' = 'totally_legit_string'"
   ]
  },
  {
   "cell_type": "code",
   "execution_count": 198,
   "id": "e128d64a",
   "metadata": {},
   "outputs": [
    {
     "data": {
      "text/html": [
       "<div>\n",
       "<style scoped>\n",
       "    .dataframe tbody tr th:only-of-type {\n",
       "        vertical-align: middle;\n",
       "    }\n",
       "\n",
       "    .dataframe tbody tr th {\n",
       "        vertical-align: top;\n",
       "    }\n",
       "\n",
       "    .dataframe thead th {\n",
       "        text-align: right;\n",
       "    }\n",
       "</style>\n",
       "<table border=\"1\" class=\"dataframe\">\n",
       "  <thead>\n",
       "    <tr style=\"text-align: right;\">\n",
       "      <th></th>\n",
       "      <th>age</th>\n",
       "      <th>workclass</th>\n",
       "      <th>final_weight</th>\n",
       "      <th>education</th>\n",
       "      <th>education-num</th>\n",
       "      <th>marital-status</th>\n",
       "      <th>occupation</th>\n",
       "      <th>relationship</th>\n",
       "      <th>race</th>\n",
       "      <th>sex</th>\n",
       "      <th>cap-gain</th>\n",
       "      <th>cap-loss</th>\n",
       "      <th>hours-per-week</th>\n",
       "      <th>native-country</th>\n",
       "      <th>sum_N</th>\n",
       "    </tr>\n",
       "  </thead>\n",
       "  <tbody>\n",
       "    <tr>\n",
       "      <th>16324</th>\n",
       "      <td>totally_legit_string</td>\n",
       "      <td>NaN</td>\n",
       "      <td>NaN</td>\n",
       "      <td>NaN</td>\n",
       "      <td>NaN</td>\n",
       "      <td>NaN</td>\n",
       "      <td>NaN</td>\n",
       "      <td>NaN</td>\n",
       "      <td>NaN</td>\n",
       "      <td>NaN</td>\n",
       "      <td>NaN</td>\n",
       "      <td>NaN</td>\n",
       "      <td>NaN</td>\n",
       "      <td>NaN</td>\n",
       "      <td>NaN</td>\n",
       "    </tr>\n",
       "  </tbody>\n",
       "</table>\n",
       "</div>"
      ],
      "text/plain": [
       "                        age workclass  final_weight education education-num  \\\n",
       "16324  totally_legit_string       NaN           NaN       NaN           NaN   \n",
       "\n",
       "      marital-status occupation relationship race  sex  cap-gain  cap-loss  \\\n",
       "16324            NaN        NaN          NaN  NaN  NaN       NaN       NaN   \n",
       "\n",
       "      hours-per-week native-country  sum_N  \n",
       "16324            NaN            NaN    NaN  "
      ]
     },
     "execution_count": 198,
     "metadata": {},
     "output_type": "execute_result"
    }
   ],
   "source": [
    "df_train[df_train['age']=='totally_legit_string']"
   ]
  },
  {
   "cell_type": "markdown",
   "id": "051a12d2",
   "metadata": {},
   "source": [
    "#### Удалим эту строку, так как она не несёт никакой полезной информации"
   ]
  },
  {
   "cell_type": "code",
   "execution_count": 199,
   "id": "e41ae620",
   "metadata": {},
   "outputs": [],
   "source": [
    "df_train.drop(labels=[16324], axis=0, inplace=True)"
   ]
  },
  {
   "cell_type": "markdown",
   "id": "400f317c",
   "metadata": {},
   "source": [
    "#### Приведём колоноку возраста к числовому типу. Проверим нет ли отрицательных значений"
   ]
  },
  {
   "cell_type": "code",
   "execution_count": 200,
   "id": "cf6d3bc4",
   "metadata": {},
   "outputs": [
    {
     "data": {
      "text/html": [
       "<div>\n",
       "<style scoped>\n",
       "    .dataframe tbody tr th:only-of-type {\n",
       "        vertical-align: middle;\n",
       "    }\n",
       "\n",
       "    .dataframe tbody tr th {\n",
       "        vertical-align: top;\n",
       "    }\n",
       "\n",
       "    .dataframe thead th {\n",
       "        text-align: right;\n",
       "    }\n",
       "</style>\n",
       "<table border=\"1\" class=\"dataframe\">\n",
       "  <thead>\n",
       "    <tr style=\"text-align: right;\">\n",
       "      <th></th>\n",
       "      <th>age</th>\n",
       "      <th>workclass</th>\n",
       "      <th>final_weight</th>\n",
       "      <th>education</th>\n",
       "      <th>education-num</th>\n",
       "      <th>marital-status</th>\n",
       "      <th>occupation</th>\n",
       "      <th>relationship</th>\n",
       "      <th>race</th>\n",
       "      <th>sex</th>\n",
       "      <th>cap-gain</th>\n",
       "      <th>cap-loss</th>\n",
       "      <th>hours-per-week</th>\n",
       "      <th>native-country</th>\n",
       "      <th>sum_N</th>\n",
       "    </tr>\n",
       "  </thead>\n",
       "  <tbody>\n",
       "    <tr>\n",
       "      <th>26556</th>\n",
       "      <td>-321</td>\n",
       "      <td>Private</td>\n",
       "      <td>2.312322e+17</td>\n",
       "      <td>Some-college</td>\n",
       "      <td>Machine-op-inspct</td>\n",
       "      <td>Sales</td>\n",
       "      <td>Husband</td>\n",
       "      <td>White</td>\n",
       "      <td>Other</td>\n",
       "      <td>0</td>\n",
       "      <td>-1.0</td>\n",
       "      <td>-444.0</td>\n",
       "      <td>United-States</td>\n",
       "      <td>&gt;N</td>\n",
       "      <td>NaN</td>\n",
       "    </tr>\n",
       "  </tbody>\n",
       "</table>\n",
       "</div>"
      ],
      "text/plain": [
       "       age workclass  final_weight      education       education-num  \\\n",
       "26556 -321   Private  2.312322e+17   Some-college   Machine-op-inspct   \n",
       "\n",
       "      marital-status occupation relationship    race sex  cap-gain  cap-loss  \\\n",
       "26556          Sales    Husband        White   Other   0      -1.0    -444.0   \n",
       "\n",
       "       hours-per-week native-country  sum_N  \n",
       "26556   United-States             >N    NaN  "
      ]
     },
     "execution_count": 200,
     "metadata": {},
     "output_type": "execute_result"
    }
   ],
   "source": [
    "df_train['age'] = pd.to_numeric(df_train['age'], errors='coerce')\n",
    "df_train[df_train['age'] < 0]"
   ]
  },
  {
   "cell_type": "code",
   "execution_count": 201,
   "id": "cbab5676",
   "metadata": {},
   "outputs": [],
   "source": [
    "df_train.drop(labels=[26556], axis=0, inplace=True)"
   ]
  },
  {
   "cell_type": "markdown",
   "id": "4deec7f2",
   "metadata": {},
   "source": [
    "#### Узнаем сколько пустых значений в оставшихся колонках. Пустых значений нет"
   ]
  },
  {
   "cell_type": "code",
   "execution_count": 202,
   "id": "6f29255c",
   "metadata": {},
   "outputs": [
    {
     "data": {
      "text/plain": [
       "age               0\n",
       "workclass         0\n",
       "final_weight      0\n",
       "education         0\n",
       "education-num     0\n",
       "marital-status    0\n",
       "occupation        0\n",
       "relationship      0\n",
       "race              0\n",
       "sex               0\n",
       "cap-gain          0\n",
       "cap-loss          0\n",
       "hours-per-week    0\n",
       "native-country    0\n",
       "sum_N             0\n",
       "dtype: int64"
      ]
     },
     "execution_count": 202,
     "metadata": {},
     "output_type": "execute_result"
    }
   ],
   "source": [
    "df_train.isnull().sum()"
   ]
  },
  {
   "cell_type": "markdown",
   "id": "2c643d02",
   "metadata": {},
   "source": [
    "#### Посмотрим подробнее на данные. Неадекватных значений нет"
   ]
  },
  {
   "cell_type": "code",
   "execution_count": 203,
   "id": "f19bccea",
   "metadata": {},
   "outputs": [
    {
     "data": {
      "text/html": [
       "<div>\n",
       "<style scoped>\n",
       "    .dataframe tbody tr th:only-of-type {\n",
       "        vertical-align: middle;\n",
       "    }\n",
       "\n",
       "    .dataframe tbody tr th {\n",
       "        vertical-align: top;\n",
       "    }\n",
       "\n",
       "    .dataframe thead th {\n",
       "        text-align: right;\n",
       "    }\n",
       "</style>\n",
       "<table border=\"1\" class=\"dataframe\">\n",
       "  <thead>\n",
       "    <tr style=\"text-align: right;\">\n",
       "      <th></th>\n",
       "      <th>age</th>\n",
       "      <th>final_weight</th>\n",
       "      <th>cap-gain</th>\n",
       "      <th>cap-loss</th>\n",
       "      <th>sum_N</th>\n",
       "    </tr>\n",
       "  </thead>\n",
       "  <tbody>\n",
       "    <tr>\n",
       "      <th>count</th>\n",
       "      <td>32514.000000</td>\n",
       "      <td>3.251400e+04</td>\n",
       "      <td>32514.000000</td>\n",
       "      <td>32514.000000</td>\n",
       "      <td>32514.000000</td>\n",
       "    </tr>\n",
       "    <tr>\n",
       "      <th>mean</th>\n",
       "      <td>38.589039</td>\n",
       "      <td>1.897835e+05</td>\n",
       "      <td>1079.206619</td>\n",
       "      <td>87.430030</td>\n",
       "      <td>0.241035</td>\n",
       "    </tr>\n",
       "    <tr>\n",
       "      <th>std</th>\n",
       "      <td>13.635528</td>\n",
       "      <td>1.055614e+05</td>\n",
       "      <td>7390.514416</td>\n",
       "      <td>403.237687</td>\n",
       "      <td>0.427718</td>\n",
       "    </tr>\n",
       "    <tr>\n",
       "      <th>min</th>\n",
       "      <td>17.000000</td>\n",
       "      <td>1.228500e+04</td>\n",
       "      <td>0.000000</td>\n",
       "      <td>0.000000</td>\n",
       "      <td>0.000000</td>\n",
       "    </tr>\n",
       "    <tr>\n",
       "      <th>25%</th>\n",
       "      <td>28.000000</td>\n",
       "      <td>1.178285e+05</td>\n",
       "      <td>0.000000</td>\n",
       "      <td>0.000000</td>\n",
       "      <td>0.000000</td>\n",
       "    </tr>\n",
       "    <tr>\n",
       "      <th>50%</th>\n",
       "      <td>37.000000</td>\n",
       "      <td>1.783545e+05</td>\n",
       "      <td>0.000000</td>\n",
       "      <td>0.000000</td>\n",
       "      <td>0.000000</td>\n",
       "    </tr>\n",
       "    <tr>\n",
       "      <th>75%</th>\n",
       "      <td>48.000000</td>\n",
       "      <td>2.369830e+05</td>\n",
       "      <td>0.000000</td>\n",
       "      <td>0.000000</td>\n",
       "      <td>0.000000</td>\n",
       "    </tr>\n",
       "    <tr>\n",
       "      <th>max</th>\n",
       "      <td>90.000000</td>\n",
       "      <td>1.484705e+06</td>\n",
       "      <td>99999.000000</td>\n",
       "      <td>4356.000000</td>\n",
       "      <td>1.000000</td>\n",
       "    </tr>\n",
       "  </tbody>\n",
       "</table>\n",
       "</div>"
      ],
      "text/plain": [
       "                age  final_weight      cap-gain      cap-loss         sum_N\n",
       "count  32514.000000  3.251400e+04  32514.000000  32514.000000  32514.000000\n",
       "mean      38.589039  1.897835e+05   1079.206619     87.430030      0.241035\n",
       "std       13.635528  1.055614e+05   7390.514416    403.237687      0.427718\n",
       "min       17.000000  1.228500e+04      0.000000      0.000000      0.000000\n",
       "25%       28.000000  1.178285e+05      0.000000      0.000000      0.000000\n",
       "50%       37.000000  1.783545e+05      0.000000      0.000000      0.000000\n",
       "75%       48.000000  2.369830e+05      0.000000      0.000000      0.000000\n",
       "max       90.000000  1.484705e+06  99999.000000   4356.000000      1.000000"
      ]
     },
     "execution_count": 203,
     "metadata": {},
     "output_type": "execute_result"
    }
   ],
   "source": [
    "df_train.describe()"
   ]
  },
  {
   "cell_type": "markdown",
   "id": "4880b245",
   "metadata": {},
   "source": [
    "#### Приведём к числовому типу и на всякий случай пропишем замену неадекватных значения медианой"
   ]
  },
  {
   "cell_type": "code",
   "execution_count": 204,
   "id": "6380f796",
   "metadata": {},
   "outputs": [],
   "source": [
    "median_age = df_train['age'].median()\n",
    "df_train.loc[df_train['age'] < 0, 'age'] = median_age\n",
    "df_train.loc[df_train['age'] > 150, 'age'] = median_age\n",
    "df_train['age'] = df_train['age'].fillna(median_age)"
   ]
  },
  {
   "cell_type": "code",
   "execution_count": 205,
   "id": "3045ae57",
   "metadata": {},
   "outputs": [],
   "source": [
    "df_train['hours-per-week'] = pd.to_numeric(df_train['hours-per-week'], errors='coerce')\n",
    "median_hours = df_train['hours-per-week'].median()\n",
    "df_train.loc[df_train['hours-per-week'] < 0, 'hours-per-week'] = median_hours\n",
    "df_train.loc[df_train['hours-per-week'] > 150, 'hours-per-week'] = median_hours\n",
    "df_train['hours-per-week'] = df_train['hours-per-week'].fillna(median_hours)"
   ]
  },
  {
   "cell_type": "code",
   "execution_count": 206,
   "id": "e6cac12d",
   "metadata": {},
   "outputs": [],
   "source": [
    "df_train['education-num'] = pd.to_numeric(df_train['education-num'], errors='coerce')\n",
    "median_num = df_train['education-num'].median()\n",
    "df_train.loc[df_train['education-num'] < 0, 'education-num'] = median_num\n",
    "df_train.loc[df_train['education-num'] > 100, 'education-num'] = median_num\n",
    "df_train['education-num'] = df_train['education-num'].fillna(median_num)"
   ]
  },
  {
   "cell_type": "markdown",
   "id": "0372f215",
   "metadata": {},
   "source": [
    "#### Приведём к типу float\n"
   ]
  },
  {
   "cell_type": "code",
   "execution_count": 207,
   "id": "33df240f",
   "metadata": {},
   "outputs": [
    {
     "data": {
      "text/plain": [
       "32514"
      ]
     },
     "execution_count": 207,
     "metadata": {},
     "output_type": "execute_result"
    }
   ],
   "source": [
    "df_train['age'] = df_train['age'].astype(float)\n",
    "df_train['hours-per-week'] = df_train['hours-per-week'].astype(float)\n",
    "df_train['education-num'] = df_train['education-num'].astype(float)\n",
    "len(df_train)"
   ]
  },
  {
   "cell_type": "markdown",
   "id": "a8938fb1",
   "metadata": {},
   "source": [
    "#### Убедимся в адекватности значений и проверим изменился ли тип данных у колонок"
   ]
  },
  {
   "cell_type": "code",
   "execution_count": 208,
   "id": "c22088e2",
   "metadata": {},
   "outputs": [
    {
     "data": {
      "text/html": [
       "<div>\n",
       "<style scoped>\n",
       "    .dataframe tbody tr th:only-of-type {\n",
       "        vertical-align: middle;\n",
       "    }\n",
       "\n",
       "    .dataframe tbody tr th {\n",
       "        vertical-align: top;\n",
       "    }\n",
       "\n",
       "    .dataframe thead th {\n",
       "        text-align: right;\n",
       "    }\n",
       "</style>\n",
       "<table border=\"1\" class=\"dataframe\">\n",
       "  <thead>\n",
       "    <tr style=\"text-align: right;\">\n",
       "      <th></th>\n",
       "      <th>age</th>\n",
       "      <th>final_weight</th>\n",
       "      <th>education-num</th>\n",
       "      <th>cap-gain</th>\n",
       "      <th>cap-loss</th>\n",
       "      <th>hours-per-week</th>\n",
       "      <th>sum_N</th>\n",
       "    </tr>\n",
       "  </thead>\n",
       "  <tbody>\n",
       "    <tr>\n",
       "      <th>count</th>\n",
       "      <td>32514.000000</td>\n",
       "      <td>3.251400e+04</td>\n",
       "      <td>32514.000000</td>\n",
       "      <td>32514.000000</td>\n",
       "      <td>32514.000000</td>\n",
       "      <td>32514.000000</td>\n",
       "      <td>32514.000000</td>\n",
       "    </tr>\n",
       "    <tr>\n",
       "      <th>mean</th>\n",
       "      <td>38.589039</td>\n",
       "      <td>1.897835e+05</td>\n",
       "      <td>10.082703</td>\n",
       "      <td>1079.206619</td>\n",
       "      <td>87.430030</td>\n",
       "      <td>40.443194</td>\n",
       "      <td>0.241035</td>\n",
       "    </tr>\n",
       "    <tr>\n",
       "      <th>std</th>\n",
       "      <td>13.635528</td>\n",
       "      <td>1.055614e+05</td>\n",
       "      <td>2.570894</td>\n",
       "      <td>7390.514416</td>\n",
       "      <td>403.237687</td>\n",
       "      <td>12.346159</td>\n",
       "      <td>0.427718</td>\n",
       "    </tr>\n",
       "    <tr>\n",
       "      <th>min</th>\n",
       "      <td>17.000000</td>\n",
       "      <td>1.228500e+04</td>\n",
       "      <td>1.000000</td>\n",
       "      <td>0.000000</td>\n",
       "      <td>0.000000</td>\n",
       "      <td>1.000000</td>\n",
       "      <td>0.000000</td>\n",
       "    </tr>\n",
       "    <tr>\n",
       "      <th>25%</th>\n",
       "      <td>28.000000</td>\n",
       "      <td>1.178285e+05</td>\n",
       "      <td>9.000000</td>\n",
       "      <td>0.000000</td>\n",
       "      <td>0.000000</td>\n",
       "      <td>40.000000</td>\n",
       "      <td>0.000000</td>\n",
       "    </tr>\n",
       "    <tr>\n",
       "      <th>50%</th>\n",
       "      <td>37.000000</td>\n",
       "      <td>1.783545e+05</td>\n",
       "      <td>10.000000</td>\n",
       "      <td>0.000000</td>\n",
       "      <td>0.000000</td>\n",
       "      <td>40.000000</td>\n",
       "      <td>0.000000</td>\n",
       "    </tr>\n",
       "    <tr>\n",
       "      <th>75%</th>\n",
       "      <td>48.000000</td>\n",
       "      <td>2.369830e+05</td>\n",
       "      <td>12.000000</td>\n",
       "      <td>0.000000</td>\n",
       "      <td>0.000000</td>\n",
       "      <td>45.000000</td>\n",
       "      <td>0.000000</td>\n",
       "    </tr>\n",
       "    <tr>\n",
       "      <th>max</th>\n",
       "      <td>90.000000</td>\n",
       "      <td>1.484705e+06</td>\n",
       "      <td>16.000000</td>\n",
       "      <td>99999.000000</td>\n",
       "      <td>4356.000000</td>\n",
       "      <td>99.000000</td>\n",
       "      <td>1.000000</td>\n",
       "    </tr>\n",
       "  </tbody>\n",
       "</table>\n",
       "</div>"
      ],
      "text/plain": [
       "                age  final_weight  education-num      cap-gain      cap-loss  \\\n",
       "count  32514.000000  3.251400e+04   32514.000000  32514.000000  32514.000000   \n",
       "mean      38.589039  1.897835e+05      10.082703   1079.206619     87.430030   \n",
       "std       13.635528  1.055614e+05       2.570894   7390.514416    403.237687   \n",
       "min       17.000000  1.228500e+04       1.000000      0.000000      0.000000   \n",
       "25%       28.000000  1.178285e+05       9.000000      0.000000      0.000000   \n",
       "50%       37.000000  1.783545e+05      10.000000      0.000000      0.000000   \n",
       "75%       48.000000  2.369830e+05      12.000000      0.000000      0.000000   \n",
       "max       90.000000  1.484705e+06      16.000000  99999.000000   4356.000000   \n",
       "\n",
       "       hours-per-week         sum_N  \n",
       "count    32514.000000  32514.000000  \n",
       "mean        40.443194      0.241035  \n",
       "std         12.346159      0.427718  \n",
       "min          1.000000      0.000000  \n",
       "25%         40.000000      0.000000  \n",
       "50%         40.000000      0.000000  \n",
       "75%         45.000000      0.000000  \n",
       "max         99.000000      1.000000  "
      ]
     },
     "execution_count": 208,
     "metadata": {},
     "output_type": "execute_result"
    }
   ],
   "source": [
    "df_train.describe()"
   ]
  },
  {
   "cell_type": "code",
   "execution_count": 209,
   "id": "bf0a3582",
   "metadata": {},
   "outputs": [
    {
     "name": "stdout",
     "output_type": "stream",
     "text": [
      "<class 'pandas.core.frame.DataFrame'>\n",
      "Int64Index: 32514 entries, 0 to 32572\n",
      "Data columns (total 15 columns):\n",
      " #   Column          Non-Null Count  Dtype  \n",
      "---  ------          --------------  -----  \n",
      " 0   age             32514 non-null  float64\n",
      " 1   workclass       32514 non-null  object \n",
      " 2   final_weight    32514 non-null  float64\n",
      " 3   education       32514 non-null  object \n",
      " 4   education-num   32514 non-null  float64\n",
      " 5   marital-status  32514 non-null  object \n",
      " 6   occupation      32514 non-null  object \n",
      " 7   relationship    32514 non-null  object \n",
      " 8   race            32514 non-null  object \n",
      " 9   sex             32514 non-null  object \n",
      " 10  cap-gain        32514 non-null  float64\n",
      " 11  cap-loss        32514 non-null  float64\n",
      " 12  hours-per-week  32514 non-null  float64\n",
      " 13  native-country  32514 non-null  object \n",
      " 14  sum_N           32514 non-null  float64\n",
      "dtypes: float64(7), object(8)\n",
      "memory usage: 4.0+ MB\n"
     ]
    }
   ],
   "source": [
    "df_train.info()"
   ]
  },
  {
   "cell_type": "markdown",
   "id": "a6b068d4",
   "metadata": {},
   "source": [
    "#### Теперь необходимо заменить \"?\" в данных"
   ]
  },
  {
   "cell_type": "code",
   "execution_count": 210,
   "id": "dd5d7d62",
   "metadata": {},
   "outputs": [
    {
     "data": {
      "text/plain": [
       "Index(['workclass', 'education', 'marital-status', 'occupation',\n",
       "       'relationship', 'race', 'sex', 'native-country'],\n",
       "      dtype='object')"
      ]
     },
     "execution_count": 210,
     "metadata": {},
     "output_type": "execute_result"
    }
   ],
   "source": [
    "categorical_columns = df_train.select_dtypes(include=['object']).columns\n",
    "categorical_columns"
   ]
  },
  {
   "cell_type": "code",
   "execution_count": 211,
   "id": "5269eb17",
   "metadata": {},
   "outputs": [],
   "source": [
    "for col in categorical_columns:\n",
    "        most_common_value = df_train[col].mode()[0]\n",
    "        df_train.loc[df_train[col] == ' ?', col] = most_common_value\n",
    "        df_train[col].fillna(most_common_value, inplace=True)"
   ]
  },
  {
   "cell_type": "code",
   "execution_count": 212,
   "id": "323861a5",
   "metadata": {},
   "outputs": [],
   "source": [
    "not_categorical_columns = df_train.select_dtypes(include=['float']).columns\n",
    "for col in not_categorical_columns:\n",
    "        most_common_value = df_train[col].median()\n",
    "        df_train.loc[df_train[col] == ' ?', col] = most_common_value\n",
    "        df_train[col].fillna(most_common_value, inplace=True)"
   ]
  },
  {
   "cell_type": "code",
   "execution_count": 213,
   "id": "b0cbce82",
   "metadata": {},
   "outputs": [
    {
     "data": {
      "text/plain": [
       "32514"
      ]
     },
     "execution_count": 213,
     "metadata": {},
     "output_type": "execute_result"
    }
   ],
   "source": [
    "len(df_train)"
   ]
  },
  {
   "cell_type": "markdown",
   "id": "9ad6c85e",
   "metadata": {},
   "source": [
    "#### Уберём пробел перед данными в ячейках с категориальным типом данных"
   ]
  },
  {
   "cell_type": "code",
   "execution_count": 214,
   "id": "5f1cb65e",
   "metadata": {},
   "outputs": [],
   "source": [
    "df_train = df_train.applymap(lambda x: x.strip() if isinstance(x, str) else x)\n"
   ]
  },
  {
   "cell_type": "markdown",
   "id": "081eedea",
   "metadata": {},
   "source": [
    "#### После чистки данных посмотрим на распределение целевой переменной 'sum_N'"
   ]
  },
  {
   "cell_type": "code",
   "execution_count": 215,
   "id": "18c970f0",
   "metadata": {},
   "outputs": [
    {
     "data": {
      "text/plain": [
       "0.0    24677\n",
       "1.0     7837\n",
       "Name: sum_N, dtype: int64"
      ]
     },
     "execution_count": 215,
     "metadata": {},
     "output_type": "execute_result"
    }
   ],
   "source": [
    "df_train['sum_N'].value_counts()"
   ]
  },
  {
   "cell_type": "markdown",
   "id": "3f188916",
   "metadata": {},
   "source": [
    "#### Применяем one hot encoding для категориальных признаков"
   ]
  },
  {
   "cell_type": "code",
   "execution_count": 216,
   "id": "3358a9d9",
   "metadata": {},
   "outputs": [],
   "source": [
    "df_train = pd.concat([df_train, pd.get_dummies(df_train['workclass'], prefix=\"workclass\"),\n",
    "                      pd.get_dummies(df_train['education'], prefix=\"education\"),\n",
    "                      pd.get_dummies(df_train['marital-status'], prefix=\"marital-status\"),\n",
    "                      pd.get_dummies(df_train['occupation'], prefix=\"occupation\"),\n",
    "                      pd.get_dummies(df_train['relationship'], prefix=\"relationship\"),\n",
    "                      pd.get_dummies(df_train['race'], prefix=\"race\"),\n",
    "                      pd.get_dummies(df_train['sex'], prefix=\"sex\"),\n",
    "                      pd.get_dummies(df_train['native-country'], prefix=\"native-country\")],\n",
    "                     axis=1)"
   ]
  },
  {
   "cell_type": "code",
   "execution_count": 217,
   "id": "abfc553a",
   "metadata": {},
   "outputs": [],
   "source": [
    "df_train.drop(['workclass', 'education', 'marital-status', 'occupation','relationship', 'race', 'sex', 'native-country'],\n",
    "                axis=1, inplace=True)"
   ]
  },
  {
   "cell_type": "code",
   "execution_count": 218,
   "id": "cf933315",
   "metadata": {},
   "outputs": [
    {
     "data": {
      "text/html": [
       "<div>\n",
       "<style scoped>\n",
       "    .dataframe tbody tr th:only-of-type {\n",
       "        vertical-align: middle;\n",
       "    }\n",
       "\n",
       "    .dataframe tbody tr th {\n",
       "        vertical-align: top;\n",
       "    }\n",
       "\n",
       "    .dataframe thead th {\n",
       "        text-align: right;\n",
       "    }\n",
       "</style>\n",
       "<table border=\"1\" class=\"dataframe\">\n",
       "  <thead>\n",
       "    <tr style=\"text-align: right;\">\n",
       "      <th></th>\n",
       "      <th>count</th>\n",
       "      <th>mean</th>\n",
       "      <th>std</th>\n",
       "      <th>min</th>\n",
       "      <th>25%</th>\n",
       "      <th>50%</th>\n",
       "      <th>75%</th>\n",
       "      <th>max</th>\n",
       "    </tr>\n",
       "  </thead>\n",
       "  <tbody>\n",
       "    <tr>\n",
       "      <th>age</th>\n",
       "      <td>32514.0</td>\n",
       "      <td>38.589039</td>\n",
       "      <td>13.635528</td>\n",
       "      <td>17.0</td>\n",
       "      <td>28.0</td>\n",
       "      <td>37.0</td>\n",
       "      <td>48.0</td>\n",
       "      <td>90.0</td>\n",
       "    </tr>\n",
       "    <tr>\n",
       "      <th>final_weight</th>\n",
       "      <td>32514.0</td>\n",
       "      <td>189783.525189</td>\n",
       "      <td>105561.355660</td>\n",
       "      <td>12285.0</td>\n",
       "      <td>117828.5</td>\n",
       "      <td>178354.5</td>\n",
       "      <td>236983.0</td>\n",
       "      <td>1484705.0</td>\n",
       "    </tr>\n",
       "    <tr>\n",
       "      <th>education-num</th>\n",
       "      <td>32514.0</td>\n",
       "      <td>10.082703</td>\n",
       "      <td>2.570894</td>\n",
       "      <td>1.0</td>\n",
       "      <td>9.0</td>\n",
       "      <td>10.0</td>\n",
       "      <td>12.0</td>\n",
       "      <td>16.0</td>\n",
       "    </tr>\n",
       "    <tr>\n",
       "      <th>cap-gain</th>\n",
       "      <td>32514.0</td>\n",
       "      <td>1079.206619</td>\n",
       "      <td>7390.514416</td>\n",
       "      <td>0.0</td>\n",
       "      <td>0.0</td>\n",
       "      <td>0.0</td>\n",
       "      <td>0.0</td>\n",
       "      <td>99999.0</td>\n",
       "    </tr>\n",
       "    <tr>\n",
       "      <th>cap-loss</th>\n",
       "      <td>32514.0</td>\n",
       "      <td>87.430030</td>\n",
       "      <td>403.237687</td>\n",
       "      <td>0.0</td>\n",
       "      <td>0.0</td>\n",
       "      <td>0.0</td>\n",
       "      <td>0.0</td>\n",
       "      <td>4356.0</td>\n",
       "    </tr>\n",
       "    <tr>\n",
       "      <th>...</th>\n",
       "      <td>...</td>\n",
       "      <td>...</td>\n",
       "      <td>...</td>\n",
       "      <td>...</td>\n",
       "      <td>...</td>\n",
       "      <td>...</td>\n",
       "      <td>...</td>\n",
       "      <td>...</td>\n",
       "    </tr>\n",
       "    <tr>\n",
       "      <th>native-country_Thailand</th>\n",
       "      <td>32514.0</td>\n",
       "      <td>0.000554</td>\n",
       "      <td>0.023523</td>\n",
       "      <td>0.0</td>\n",
       "      <td>0.0</td>\n",
       "      <td>0.0</td>\n",
       "      <td>0.0</td>\n",
       "      <td>1.0</td>\n",
       "    </tr>\n",
       "    <tr>\n",
       "      <th>native-country_Trinadad&amp;Tobago</th>\n",
       "      <td>32514.0</td>\n",
       "      <td>0.000584</td>\n",
       "      <td>0.024167</td>\n",
       "      <td>0.0</td>\n",
       "      <td>0.0</td>\n",
       "      <td>0.0</td>\n",
       "      <td>0.0</td>\n",
       "      <td>1.0</td>\n",
       "    </tr>\n",
       "    <tr>\n",
       "      <th>native-country_United-States</th>\n",
       "      <td>32514.0</td>\n",
       "      <td>0.913976</td>\n",
       "      <td>0.280405</td>\n",
       "      <td>0.0</td>\n",
       "      <td>1.0</td>\n",
       "      <td>1.0</td>\n",
       "      <td>1.0</td>\n",
       "      <td>1.0</td>\n",
       "    </tr>\n",
       "    <tr>\n",
       "      <th>native-country_Vietnam</th>\n",
       "      <td>32514.0</td>\n",
       "      <td>0.002061</td>\n",
       "      <td>0.045348</td>\n",
       "      <td>0.0</td>\n",
       "      <td>0.0</td>\n",
       "      <td>0.0</td>\n",
       "      <td>0.0</td>\n",
       "      <td>1.0</td>\n",
       "    </tr>\n",
       "    <tr>\n",
       "      <th>native-country_Yugoslavia</th>\n",
       "      <td>32514.0</td>\n",
       "      <td>0.000492</td>\n",
       "      <td>0.022178</td>\n",
       "      <td>0.0</td>\n",
       "      <td>0.0</td>\n",
       "      <td>0.0</td>\n",
       "      <td>0.0</td>\n",
       "      <td>1.0</td>\n",
       "    </tr>\n",
       "  </tbody>\n",
       "</table>\n",
       "<p>106 rows × 8 columns</p>\n",
       "</div>"
      ],
      "text/plain": [
       "                                  count           mean            std  \\\n",
       "age                             32514.0      38.589039      13.635528   \n",
       "final_weight                    32514.0  189783.525189  105561.355660   \n",
       "education-num                   32514.0      10.082703       2.570894   \n",
       "cap-gain                        32514.0    1079.206619    7390.514416   \n",
       "cap-loss                        32514.0      87.430030     403.237687   \n",
       "...                                 ...            ...            ...   \n",
       "native-country_Thailand         32514.0       0.000554       0.023523   \n",
       "native-country_Trinadad&Tobago  32514.0       0.000584       0.024167   \n",
       "native-country_United-States    32514.0       0.913976       0.280405   \n",
       "native-country_Vietnam          32514.0       0.002061       0.045348   \n",
       "native-country_Yugoslavia       32514.0       0.000492       0.022178   \n",
       "\n",
       "                                    min       25%       50%       75%  \\\n",
       "age                                17.0      28.0      37.0      48.0   \n",
       "final_weight                    12285.0  117828.5  178354.5  236983.0   \n",
       "education-num                       1.0       9.0      10.0      12.0   \n",
       "cap-gain                            0.0       0.0       0.0       0.0   \n",
       "cap-loss                            0.0       0.0       0.0       0.0   \n",
       "...                                 ...       ...       ...       ...   \n",
       "native-country_Thailand             0.0       0.0       0.0       0.0   \n",
       "native-country_Trinadad&Tobago      0.0       0.0       0.0       0.0   \n",
       "native-country_United-States        0.0       1.0       1.0       1.0   \n",
       "native-country_Vietnam              0.0       0.0       0.0       0.0   \n",
       "native-country_Yugoslavia           0.0       0.0       0.0       0.0   \n",
       "\n",
       "                                      max  \n",
       "age                                  90.0  \n",
       "final_weight                    1484705.0  \n",
       "education-num                        16.0  \n",
       "cap-gain                          99999.0  \n",
       "cap-loss                           4356.0  \n",
       "...                                   ...  \n",
       "native-country_Thailand               1.0  \n",
       "native-country_Trinadad&Tobago        1.0  \n",
       "native-country_United-States          1.0  \n",
       "native-country_Vietnam                1.0  \n",
       "native-country_Yugoslavia             1.0  \n",
       "\n",
       "[106 rows x 8 columns]"
      ]
     },
     "execution_count": 218,
     "metadata": {},
     "output_type": "execute_result"
    }
   ],
   "source": [
    "df_train.describe(include='all').T"
   ]
  },
  {
   "cell_type": "markdown",
   "id": "f4a8c7ea",
   "metadata": {},
   "source": [
    "## б) Узнаём базовые сведения о тестовом датасете"
   ]
  },
  {
   "cell_type": "code",
   "execution_count": 219,
   "id": "8551c799",
   "metadata": {},
   "outputs": [
    {
     "data": {
      "text/plain": [
       "(16283, 14)"
      ]
     },
     "execution_count": 219,
     "metadata": {},
     "output_type": "execute_result"
    }
   ],
   "source": [
    "df_test.shape"
   ]
  },
  {
   "cell_type": "code",
   "execution_count": 220,
   "id": "078e202a",
   "metadata": {},
   "outputs": [
    {
     "name": "stdout",
     "output_type": "stream",
     "text": [
      "<class 'pandas.core.frame.DataFrame'>\n",
      "RangeIndex: 16283 entries, 0 to 16282\n",
      "Data columns (total 14 columns):\n",
      " #   Column          Non-Null Count  Dtype  \n",
      "---  ------          --------------  -----  \n",
      " 0   age             16283 non-null  object \n",
      " 1   workclass       16282 non-null  object \n",
      " 2   final_weight    16282 non-null  float64\n",
      " 3   education       16282 non-null  object \n",
      " 4   education-num   16282 non-null  float64\n",
      " 5   marital-status  16282 non-null  object \n",
      " 6   occupation      16282 non-null  object \n",
      " 7   relationship    16282 non-null  object \n",
      " 8   race            16282 non-null  object \n",
      " 9   sex             16282 non-null  object \n",
      " 10  cap-gain        16282 non-null  float64\n",
      " 11  cap-loss        16282 non-null  float64\n",
      " 12  hours-per-week  16282 non-null  float64\n",
      " 13  native-country  16282 non-null  object \n",
      "dtypes: float64(5), object(9)\n",
      "memory usage: 1.7+ MB\n"
     ]
    }
   ],
   "source": [
    "df_test.info()"
   ]
  },
  {
   "cell_type": "code",
   "execution_count": 221,
   "id": "2611e455",
   "metadata": {},
   "outputs": [
    {
     "data": {
      "text/html": [
       "<div>\n",
       "<style scoped>\n",
       "    .dataframe tbody tr th:only-of-type {\n",
       "        vertical-align: middle;\n",
       "    }\n",
       "\n",
       "    .dataframe tbody tr th {\n",
       "        vertical-align: top;\n",
       "    }\n",
       "\n",
       "    .dataframe thead th {\n",
       "        text-align: right;\n",
       "    }\n",
       "</style>\n",
       "<table border=\"1\" class=\"dataframe\">\n",
       "  <thead>\n",
       "    <tr style=\"text-align: right;\">\n",
       "      <th></th>\n",
       "      <th>final_weight</th>\n",
       "      <th>education-num</th>\n",
       "      <th>cap-gain</th>\n",
       "      <th>cap-loss</th>\n",
       "      <th>hours-per-week</th>\n",
       "    </tr>\n",
       "  </thead>\n",
       "  <tbody>\n",
       "    <tr>\n",
       "      <th>count</th>\n",
       "      <td>1.628200e+04</td>\n",
       "      <td>1.628200e+04</td>\n",
       "      <td>16282.000000</td>\n",
       "      <td>16282.000000</td>\n",
       "      <td>1.628200e+04</td>\n",
       "    </tr>\n",
       "    <tr>\n",
       "      <th>mean</th>\n",
       "      <td>1.894227e+05</td>\n",
       "      <td>6.283151e+06</td>\n",
       "      <td>1081.839393</td>\n",
       "      <td>87.895836</td>\n",
       "      <td>-1.969437e+04</td>\n",
       "    </tr>\n",
       "    <tr>\n",
       "      <th>std</th>\n",
       "      <td>1.057246e+05</td>\n",
       "      <td>8.017347e+08</td>\n",
       "      <td>7583.707692</td>\n",
       "      <td>403.093144</td>\n",
       "      <td>2.518175e+06</td>\n",
       "    </tr>\n",
       "    <tr>\n",
       "      <th>min</th>\n",
       "      <td>-2.132141e+04</td>\n",
       "      <td>1.000000e+00</td>\n",
       "      <td>0.000000</td>\n",
       "      <td>0.000000</td>\n",
       "      <td>-3.213214e+08</td>\n",
       "    </tr>\n",
       "    <tr>\n",
       "      <th>25%</th>\n",
       "      <td>1.166768e+05</td>\n",
       "      <td>9.000000e+00</td>\n",
       "      <td>0.000000</td>\n",
       "      <td>0.000000</td>\n",
       "      <td>4.000000e+01</td>\n",
       "    </tr>\n",
       "    <tr>\n",
       "      <th>50%</th>\n",
       "      <td>1.778295e+05</td>\n",
       "      <td>1.000000e+01</td>\n",
       "      <td>0.000000</td>\n",
       "      <td>0.000000</td>\n",
       "      <td>4.000000e+01</td>\n",
       "    </tr>\n",
       "    <tr>\n",
       "      <th>75%</th>\n",
       "      <td>2.383840e+05</td>\n",
       "      <td>1.200000e+01</td>\n",
       "      <td>0.000000</td>\n",
       "      <td>0.000000</td>\n",
       "      <td>4.500000e+01</td>\n",
       "    </tr>\n",
       "    <tr>\n",
       "      <th>max</th>\n",
       "      <td>1.490400e+06</td>\n",
       "      <td>1.023021e+11</td>\n",
       "      <td>99999.000000</td>\n",
       "      <td>3770.000000</td>\n",
       "      <td>9.900000e+01</td>\n",
       "    </tr>\n",
       "  </tbody>\n",
       "</table>\n",
       "</div>"
      ],
      "text/plain": [
       "       final_weight  education-num      cap-gain      cap-loss  hours-per-week\n",
       "count  1.628200e+04   1.628200e+04  16282.000000  16282.000000    1.628200e+04\n",
       "mean   1.894227e+05   6.283151e+06   1081.839393     87.895836   -1.969437e+04\n",
       "std    1.057246e+05   8.017347e+08   7583.707692    403.093144    2.518175e+06\n",
       "min   -2.132141e+04   1.000000e+00      0.000000      0.000000   -3.213214e+08\n",
       "25%    1.166768e+05   9.000000e+00      0.000000      0.000000    4.000000e+01\n",
       "50%    1.778295e+05   1.000000e+01      0.000000      0.000000    4.000000e+01\n",
       "75%    2.383840e+05   1.200000e+01      0.000000      0.000000    4.500000e+01\n",
       "max    1.490400e+06   1.023021e+11  99999.000000   3770.000000    9.900000e+01"
      ]
     },
     "execution_count": 221,
     "metadata": {},
     "output_type": "execute_result"
    }
   ],
   "source": [
    "df_test.describe()"
   ]
  },
  {
   "cell_type": "markdown",
   "id": "1af00c38",
   "metadata": {},
   "source": [
    "#### Посмотрим на наличие дупликатов"
   ]
  },
  {
   "cell_type": "code",
   "execution_count": 222,
   "id": "7bc05ae8",
   "metadata": {},
   "outputs": [
    {
     "data": {
      "text/html": [
       "<div>\n",
       "<style scoped>\n",
       "    .dataframe tbody tr th:only-of-type {\n",
       "        vertical-align: middle;\n",
       "    }\n",
       "\n",
       "    .dataframe tbody tr th {\n",
       "        vertical-align: top;\n",
       "    }\n",
       "\n",
       "    .dataframe thead th {\n",
       "        text-align: right;\n",
       "    }\n",
       "</style>\n",
       "<table border=\"1\" class=\"dataframe\">\n",
       "  <thead>\n",
       "    <tr style=\"text-align: right;\">\n",
       "      <th></th>\n",
       "      <th>age</th>\n",
       "      <th>workclass</th>\n",
       "      <th>final_weight</th>\n",
       "      <th>education</th>\n",
       "      <th>education-num</th>\n",
       "      <th>marital-status</th>\n",
       "      <th>occupation</th>\n",
       "      <th>relationship</th>\n",
       "      <th>race</th>\n",
       "      <th>sex</th>\n",
       "      <th>cap-gain</th>\n",
       "      <th>cap-loss</th>\n",
       "      <th>hours-per-week</th>\n",
       "      <th>native-country</th>\n",
       "    </tr>\n",
       "  </thead>\n",
       "  <tbody>\n",
       "    <tr>\n",
       "      <th>3900</th>\n",
       "      <td>18</td>\n",
       "      <td>Self-emp-inc</td>\n",
       "      <td>378036.0</td>\n",
       "      <td>12th</td>\n",
       "      <td>8.0</td>\n",
       "      <td>Never-married</td>\n",
       "      <td>Farming-fishing</td>\n",
       "      <td>Own-child</td>\n",
       "      <td>White</td>\n",
       "      <td>Male</td>\n",
       "      <td>0.0</td>\n",
       "      <td>0.0</td>\n",
       "      <td>10.0</td>\n",
       "      <td>United-States</td>\n",
       "    </tr>\n",
       "    <tr>\n",
       "      <th>15962</th>\n",
       "      <td>18</td>\n",
       "      <td>Self-emp-inc</td>\n",
       "      <td>378036.0</td>\n",
       "      <td>12th</td>\n",
       "      <td>8.0</td>\n",
       "      <td>Never-married</td>\n",
       "      <td>Farming-fishing</td>\n",
       "      <td>Own-child</td>\n",
       "      <td>White</td>\n",
       "      <td>Male</td>\n",
       "      <td>0.0</td>\n",
       "      <td>0.0</td>\n",
       "      <td>10.0</td>\n",
       "      <td>United-States</td>\n",
       "    </tr>\n",
       "    <tr>\n",
       "      <th>488</th>\n",
       "      <td>24</td>\n",
       "      <td>Private</td>\n",
       "      <td>194630.0</td>\n",
       "      <td>Bachelors</td>\n",
       "      <td>13.0</td>\n",
       "      <td>Never-married</td>\n",
       "      <td>Prof-specialty</td>\n",
       "      <td>Not-in-family</td>\n",
       "      <td>White</td>\n",
       "      <td>Male</td>\n",
       "      <td>0.0</td>\n",
       "      <td>0.0</td>\n",
       "      <td>35.0</td>\n",
       "      <td>United-States</td>\n",
       "    </tr>\n",
       "    <tr>\n",
       "      <th>864</th>\n",
       "      <td>24</td>\n",
       "      <td>Private</td>\n",
       "      <td>194630.0</td>\n",
       "      <td>Bachelors</td>\n",
       "      <td>13.0</td>\n",
       "      <td>Never-married</td>\n",
       "      <td>Prof-specialty</td>\n",
       "      <td>Not-in-family</td>\n",
       "      <td>White</td>\n",
       "      <td>Male</td>\n",
       "      <td>0.0</td>\n",
       "      <td>0.0</td>\n",
       "      <td>35.0</td>\n",
       "      <td>United-States</td>\n",
       "    </tr>\n",
       "    <tr>\n",
       "      <th>9249</th>\n",
       "      <td>29</td>\n",
       "      <td>Private</td>\n",
       "      <td>36440.0</td>\n",
       "      <td>Bachelors</td>\n",
       "      <td>13.0</td>\n",
       "      <td>Never-married</td>\n",
       "      <td>Adm-clerical</td>\n",
       "      <td>Not-in-family</td>\n",
       "      <td>White</td>\n",
       "      <td>Female</td>\n",
       "      <td>0.0</td>\n",
       "      <td>0.0</td>\n",
       "      <td>40.0</td>\n",
       "      <td>United-States</td>\n",
       "    </tr>\n",
       "    <tr>\n",
       "      <th>11212</th>\n",
       "      <td>29</td>\n",
       "      <td>Private</td>\n",
       "      <td>36440.0</td>\n",
       "      <td>Bachelors</td>\n",
       "      <td>13.0</td>\n",
       "      <td>Never-married</td>\n",
       "      <td>Adm-clerical</td>\n",
       "      <td>Not-in-family</td>\n",
       "      <td>White</td>\n",
       "      <td>Female</td>\n",
       "      <td>0.0</td>\n",
       "      <td>0.0</td>\n",
       "      <td>40.0</td>\n",
       "      <td>United-States</td>\n",
       "    </tr>\n",
       "    <tr>\n",
       "      <th>7021</th>\n",
       "      <td>30</td>\n",
       "      <td>Private</td>\n",
       "      <td>180317.0</td>\n",
       "      <td>Assoc-voc</td>\n",
       "      <td>11.0</td>\n",
       "      <td>Divorced</td>\n",
       "      <td>Machine-op-inspct</td>\n",
       "      <td>Not-in-family</td>\n",
       "      <td>White</td>\n",
       "      <td>Male</td>\n",
       "      <td>0.0</td>\n",
       "      <td>0.0</td>\n",
       "      <td>40.0</td>\n",
       "      <td>United-States</td>\n",
       "    </tr>\n",
       "    <tr>\n",
       "      <th>13849</th>\n",
       "      <td>30</td>\n",
       "      <td>Private</td>\n",
       "      <td>180317.0</td>\n",
       "      <td>Assoc-voc</td>\n",
       "      <td>11.0</td>\n",
       "      <td>Divorced</td>\n",
       "      <td>Machine-op-inspct</td>\n",
       "      <td>Not-in-family</td>\n",
       "      <td>White</td>\n",
       "      <td>Male</td>\n",
       "      <td>0.0</td>\n",
       "      <td>0.0</td>\n",
       "      <td>40.0</td>\n",
       "      <td>United-States</td>\n",
       "    </tr>\n",
       "    <tr>\n",
       "      <th>1319</th>\n",
       "      <td>37</td>\n",
       "      <td>Private</td>\n",
       "      <td>52870.0</td>\n",
       "      <td>Bachelors</td>\n",
       "      <td>13.0</td>\n",
       "      <td>Married-civ-spouse</td>\n",
       "      <td>Exec-managerial</td>\n",
       "      <td>Husband</td>\n",
       "      <td>White</td>\n",
       "      <td>Male</td>\n",
       "      <td>0.0</td>\n",
       "      <td>0.0</td>\n",
       "      <td>40.0</td>\n",
       "      <td>United-States</td>\n",
       "    </tr>\n",
       "    <tr>\n",
       "      <th>11189</th>\n",
       "      <td>37</td>\n",
       "      <td>Private</td>\n",
       "      <td>52870.0</td>\n",
       "      <td>Bachelors</td>\n",
       "      <td>13.0</td>\n",
       "      <td>Married-civ-spouse</td>\n",
       "      <td>Exec-managerial</td>\n",
       "      <td>Husband</td>\n",
       "      <td>White</td>\n",
       "      <td>Male</td>\n",
       "      <td>0.0</td>\n",
       "      <td>0.0</td>\n",
       "      <td>40.0</td>\n",
       "      <td>United-States</td>\n",
       "    </tr>\n",
       "    <tr>\n",
       "      <th>11692</th>\n",
       "      <td>41</td>\n",
       "      <td>Private</td>\n",
       "      <td>242804.0</td>\n",
       "      <td>HS-grad</td>\n",
       "      <td>9.0</td>\n",
       "      <td>Married-civ-spouse</td>\n",
       "      <td>Transport-moving</td>\n",
       "      <td>Husband</td>\n",
       "      <td>White</td>\n",
       "      <td>Male</td>\n",
       "      <td>0.0</td>\n",
       "      <td>0.0</td>\n",
       "      <td>40.0</td>\n",
       "      <td>United-States</td>\n",
       "    </tr>\n",
       "    <tr>\n",
       "      <th>16163</th>\n",
       "      <td>41</td>\n",
       "      <td>Private</td>\n",
       "      <td>242804.0</td>\n",
       "      <td>HS-grad</td>\n",
       "      <td>9.0</td>\n",
       "      <td>Married-civ-spouse</td>\n",
       "      <td>Transport-moving</td>\n",
       "      <td>Husband</td>\n",
       "      <td>White</td>\n",
       "      <td>Male</td>\n",
       "      <td>0.0</td>\n",
       "      <td>0.0</td>\n",
       "      <td>40.0</td>\n",
       "      <td>United-States</td>\n",
       "    </tr>\n",
       "  </tbody>\n",
       "</table>\n",
       "</div>"
      ],
      "text/plain": [
       "      age      workclass  final_weight   education  education-num  \\\n",
       "3900   18   Self-emp-inc      378036.0        12th            8.0   \n",
       "15962  18   Self-emp-inc      378036.0        12th            8.0   \n",
       "488    24        Private      194630.0   Bachelors           13.0   \n",
       "864    24        Private      194630.0   Bachelors           13.0   \n",
       "9249   29        Private       36440.0   Bachelors           13.0   \n",
       "11212  29        Private       36440.0   Bachelors           13.0   \n",
       "7021   30        Private      180317.0   Assoc-voc           11.0   \n",
       "13849  30        Private      180317.0   Assoc-voc           11.0   \n",
       "1319   37        Private       52870.0   Bachelors           13.0   \n",
       "11189  37        Private       52870.0   Bachelors           13.0   \n",
       "11692  41        Private      242804.0     HS-grad            9.0   \n",
       "16163  41        Private      242804.0     HS-grad            9.0   \n",
       "\n",
       "            marital-status          occupation    relationship    race  \\\n",
       "3900         Never-married     Farming-fishing       Own-child   White   \n",
       "15962        Never-married     Farming-fishing       Own-child   White   \n",
       "488          Never-married      Prof-specialty   Not-in-family   White   \n",
       "864          Never-married      Prof-specialty   Not-in-family   White   \n",
       "9249         Never-married        Adm-clerical   Not-in-family   White   \n",
       "11212        Never-married        Adm-clerical   Not-in-family   White   \n",
       "7021              Divorced   Machine-op-inspct   Not-in-family   White   \n",
       "13849             Divorced   Machine-op-inspct   Not-in-family   White   \n",
       "1319    Married-civ-spouse     Exec-managerial         Husband   White   \n",
       "11189   Married-civ-spouse     Exec-managerial         Husband   White   \n",
       "11692   Married-civ-spouse    Transport-moving         Husband   White   \n",
       "16163   Married-civ-spouse    Transport-moving         Husband   White   \n",
       "\n",
       "           sex  cap-gain  cap-loss  hours-per-week  native-country  \n",
       "3900      Male       0.0       0.0            10.0   United-States  \n",
       "15962     Male       0.0       0.0            10.0   United-States  \n",
       "488       Male       0.0       0.0            35.0   United-States  \n",
       "864       Male       0.0       0.0            35.0   United-States  \n",
       "9249    Female       0.0       0.0            40.0   United-States  \n",
       "11212   Female       0.0       0.0            40.0   United-States  \n",
       "7021      Male       0.0       0.0            40.0   United-States  \n",
       "13849     Male       0.0       0.0            40.0   United-States  \n",
       "1319      Male       0.0       0.0            40.0   United-States  \n",
       "11189     Male       0.0       0.0            40.0   United-States  \n",
       "11692     Male       0.0       0.0            40.0   United-States  \n",
       "16163     Male       0.0       0.0            40.0   United-States  "
      ]
     },
     "execution_count": 222,
     "metadata": {},
     "output_type": "execute_result"
    }
   ],
   "source": [
    "sorted_df = df_test.sort_values(by=list(df_test.columns))\n",
    "\n",
    "sorted_df[sorted_df.duplicated(subset=list(df_test.columns), keep=False)]"
   ]
  },
  {
   "cell_type": "markdown",
   "id": "48d1f403",
   "metadata": {},
   "source": [
    "#### Удалим дупликаты"
   ]
  },
  {
   "cell_type": "code",
   "execution_count": 223,
   "id": "e9939303",
   "metadata": {},
   "outputs": [],
   "source": [
    "df_test.drop_duplicates(keep=False, inplace=True)"
   ]
  },
  {
   "cell_type": "code",
   "execution_count": 224,
   "id": "4ef49a64",
   "metadata": {},
   "outputs": [
    {
     "data": {
      "text/html": [
       "<div>\n",
       "<style scoped>\n",
       "    .dataframe tbody tr th:only-of-type {\n",
       "        vertical-align: middle;\n",
       "    }\n",
       "\n",
       "    .dataframe tbody tr th {\n",
       "        vertical-align: top;\n",
       "    }\n",
       "\n",
       "    .dataframe thead th {\n",
       "        text-align: right;\n",
       "    }\n",
       "</style>\n",
       "<table border=\"1\" class=\"dataframe\">\n",
       "  <thead>\n",
       "    <tr style=\"text-align: right;\">\n",
       "      <th></th>\n",
       "      <th>age</th>\n",
       "      <th>workclass</th>\n",
       "      <th>final_weight</th>\n",
       "      <th>education</th>\n",
       "      <th>education-num</th>\n",
       "      <th>marital-status</th>\n",
       "      <th>occupation</th>\n",
       "      <th>relationship</th>\n",
       "      <th>race</th>\n",
       "      <th>sex</th>\n",
       "      <th>cap-gain</th>\n",
       "      <th>cap-loss</th>\n",
       "      <th>hours-per-week</th>\n",
       "      <th>native-country</th>\n",
       "    </tr>\n",
       "  </thead>\n",
       "  <tbody>\n",
       "  </tbody>\n",
       "</table>\n",
       "</div>"
      ],
      "text/plain": [
       "Empty DataFrame\n",
       "Columns: [age, workclass, final_weight, education, education-num, marital-status, occupation, relationship, race, sex, cap-gain, cap-loss, hours-per-week, native-country]\n",
       "Index: []"
      ]
     },
     "execution_count": 224,
     "metadata": {},
     "output_type": "execute_result"
    }
   ],
   "source": [
    "sorted_df = df_test.sort_values(by=list(df_test.columns))\n",
    "\n",
    "sorted_df[sorted_df.duplicated(subset=list(df_test.columns), keep=False)]"
   ]
  },
  {
   "cell_type": "markdown",
   "id": "1001db35",
   "metadata": {},
   "source": [
    "#### Посмотрим на уникальные значения в колонке 'age'"
   ]
  },
  {
   "cell_type": "code",
   "execution_count": 225,
   "id": "bd0dc403",
   "metadata": {},
   "outputs": [
    {
     "data": {
      "text/plain": [
       "array(['25', '38', '28', '44', '18', '34', '29', '63', '24', '55', '65',\n",
       "       '36', '26', '58', '48', '43', '20', '37', '40', '72', '45', '22',\n",
       "       '23', '54', '32', '46', '56', '17', '39', '52', '21', '42', '33',\n",
       "       '30', '47', '41', '19', '69', '50', '31', '59', '49', '51', '27',\n",
       "       '57', '61', '64', '79', '73', '53', '77', '80', '62', '35', '68',\n",
       "       '66', '75', '60', '67', '71', '70', '90', '81', '74', '78', '82',\n",
       "       '83', '85', '76', '84', '89', '88', '87', 'fssafsa121321ewd1231e2',\n",
       "       '-10'], dtype=object)"
      ]
     },
     "execution_count": 225,
     "metadata": {},
     "output_type": "execute_result"
    }
   ],
   "source": [
    "df_test['age'].unique() "
   ]
  },
  {
   "cell_type": "markdown",
   "id": "4ed7e7d3",
   "metadata": {},
   "source": [
    "#### Посмотрим строку с значением в 'age' = 'fssafsa121321ewd1231e2'"
   ]
  },
  {
   "cell_type": "code",
   "execution_count": 226,
   "id": "6c5cdcce",
   "metadata": {},
   "outputs": [
    {
     "data": {
      "text/html": [
       "<div>\n",
       "<style scoped>\n",
       "    .dataframe tbody tr th:only-of-type {\n",
       "        vertical-align: middle;\n",
       "    }\n",
       "\n",
       "    .dataframe tbody tr th {\n",
       "        vertical-align: top;\n",
       "    }\n",
       "\n",
       "    .dataframe thead th {\n",
       "        text-align: right;\n",
       "    }\n",
       "</style>\n",
       "<table border=\"1\" class=\"dataframe\">\n",
       "  <thead>\n",
       "    <tr style=\"text-align: right;\">\n",
       "      <th></th>\n",
       "      <th>age</th>\n",
       "      <th>workclass</th>\n",
       "      <th>final_weight</th>\n",
       "      <th>education</th>\n",
       "      <th>education-num</th>\n",
       "      <th>marital-status</th>\n",
       "      <th>occupation</th>\n",
       "      <th>relationship</th>\n",
       "      <th>race</th>\n",
       "      <th>sex</th>\n",
       "      <th>cap-gain</th>\n",
       "      <th>cap-loss</th>\n",
       "      <th>hours-per-week</th>\n",
       "      <th>native-country</th>\n",
       "    </tr>\n",
       "  </thead>\n",
       "  <tbody>\n",
       "    <tr>\n",
       "      <th>12513</th>\n",
       "      <td>fssafsa121321ewd1231e2</td>\n",
       "      <td>NaN</td>\n",
       "      <td>NaN</td>\n",
       "      <td>NaN</td>\n",
       "      <td>NaN</td>\n",
       "      <td>NaN</td>\n",
       "      <td>NaN</td>\n",
       "      <td>NaN</td>\n",
       "      <td>NaN</td>\n",
       "      <td>NaN</td>\n",
       "      <td>NaN</td>\n",
       "      <td>NaN</td>\n",
       "      <td>NaN</td>\n",
       "      <td>NaN</td>\n",
       "    </tr>\n",
       "  </tbody>\n",
       "</table>\n",
       "</div>"
      ],
      "text/plain": [
       "                          age workclass  final_weight education  \\\n",
       "12513  fssafsa121321ewd1231e2       NaN           NaN       NaN   \n",
       "\n",
       "       education-num marital-status occupation relationship race  sex  \\\n",
       "12513            NaN            NaN        NaN          NaN  NaN  NaN   \n",
       "\n",
       "       cap-gain  cap-loss  hours-per-week native-country  \n",
       "12513       NaN       NaN             NaN            NaN  "
      ]
     },
     "execution_count": 226,
     "metadata": {},
     "output_type": "execute_result"
    }
   ],
   "source": [
    "df_test[df_test['age']=='fssafsa121321ewd1231e2']"
   ]
  },
  {
   "cell_type": "markdown",
   "id": "630f7ecd",
   "metadata": {},
   "source": [
    "#### Удалим эту строку, так как она не несёт никакой полезной информации"
   ]
  },
  {
   "cell_type": "code",
   "execution_count": 227,
   "id": "a06bf5c2",
   "metadata": {},
   "outputs": [],
   "source": [
    "df_test.drop(labels=[12513], axis=0, inplace=True)"
   ]
  },
  {
   "cell_type": "markdown",
   "id": "235f14b2",
   "metadata": {},
   "source": [
    "#### Как видно из сведений выше, \"age\" отнесён к object. Это необходимо изменить. Также в процесса чистки данных найдена выпадающая запись"
   ]
  },
  {
   "cell_type": "code",
   "execution_count": 228,
   "id": "b8435298",
   "metadata": {},
   "outputs": [
    {
     "data": {
      "text/html": [
       "<div>\n",
       "<style scoped>\n",
       "    .dataframe tbody tr th:only-of-type {\n",
       "        vertical-align: middle;\n",
       "    }\n",
       "\n",
       "    .dataframe tbody tr th {\n",
       "        vertical-align: top;\n",
       "    }\n",
       "\n",
       "    .dataframe thead th {\n",
       "        text-align: right;\n",
       "    }\n",
       "</style>\n",
       "<table border=\"1\" class=\"dataframe\">\n",
       "  <thead>\n",
       "    <tr style=\"text-align: right;\">\n",
       "      <th></th>\n",
       "      <th>age</th>\n",
       "      <th>workclass</th>\n",
       "      <th>final_weight</th>\n",
       "      <th>education</th>\n",
       "      <th>education-num</th>\n",
       "      <th>marital-status</th>\n",
       "      <th>occupation</th>\n",
       "      <th>relationship</th>\n",
       "      <th>race</th>\n",
       "      <th>sex</th>\n",
       "      <th>cap-gain</th>\n",
       "      <th>cap-loss</th>\n",
       "      <th>hours-per-week</th>\n",
       "      <th>native-country</th>\n",
       "    </tr>\n",
       "  </thead>\n",
       "  <tbody>\n",
       "    <tr>\n",
       "      <th>14154</th>\n",
       "      <td>-10</td>\n",
       "      <td>PRIVATE</td>\n",
       "      <td>-21321.414</td>\n",
       "      <td>HS-grad</td>\n",
       "      <td>1.023021e+11</td>\n",
       "      <td>Divorced</td>\n",
       "      <td>Sales</td>\n",
       "      <td>Husband</td>\n",
       "      <td>White</td>\n",
       "      <td>Male</td>\n",
       "      <td>12.0</td>\n",
       "      <td>32.0</td>\n",
       "      <td>-321321421.0</td>\n",
       "      <td>United-States</td>\n",
       "    </tr>\n",
       "  </tbody>\n",
       "</table>\n",
       "</div>"
      ],
      "text/plain": [
       "       age workclass  final_weight education  education-num marital-status  \\\n",
       "14154  -10   PRIVATE    -21321.414   HS-grad   1.023021e+11       Divorced   \n",
       "\n",
       "      occupation relationship    race    sex  cap-gain  cap-loss  \\\n",
       "14154      Sales      Husband   White   Male      12.0      32.0   \n",
       "\n",
       "       hours-per-week  native-country  \n",
       "14154    -321321421.0   United-States  "
      ]
     },
     "execution_count": 228,
     "metadata": {},
     "output_type": "execute_result"
    }
   ],
   "source": [
    "df_test['age'] = pd.to_numeric(df_test['age'], errors='coerce')\n",
    "df_test[df_test['age'] < 0]"
   ]
  },
  {
   "cell_type": "code",
   "execution_count": 229,
   "id": "b7490265",
   "metadata": {},
   "outputs": [],
   "source": [
    "df_test.drop(labels=[14154], axis=0, inplace=True)"
   ]
  },
  {
   "cell_type": "markdown",
   "id": "de446b8f",
   "metadata": {},
   "source": [
    "#### Посмотрим подброности скорректированных данных"
   ]
  },
  {
   "cell_type": "code",
   "execution_count": 230,
   "id": "98ea097e",
   "metadata": {},
   "outputs": [
    {
     "data": {
      "text/plain": [
       "age               0\n",
       "workclass         0\n",
       "final_weight      0\n",
       "education         0\n",
       "education-num     0\n",
       "marital-status    0\n",
       "occupation        0\n",
       "relationship      0\n",
       "race              0\n",
       "sex               0\n",
       "cap-gain          0\n",
       "cap-loss          0\n",
       "hours-per-week    0\n",
       "native-country    0\n",
       "dtype: int64"
      ]
     },
     "execution_count": 230,
     "metadata": {},
     "output_type": "execute_result"
    }
   ],
   "source": [
    "df_test.isnull().sum()"
   ]
  },
  {
   "cell_type": "code",
   "execution_count": 231,
   "id": "e76629a1",
   "metadata": {},
   "outputs": [
    {
     "data": {
      "text/html": [
       "<div>\n",
       "<style scoped>\n",
       "    .dataframe tbody tr th:only-of-type {\n",
       "        vertical-align: middle;\n",
       "    }\n",
       "\n",
       "    .dataframe tbody tr th {\n",
       "        vertical-align: top;\n",
       "    }\n",
       "\n",
       "    .dataframe thead th {\n",
       "        text-align: right;\n",
       "    }\n",
       "</style>\n",
       "<table border=\"1\" class=\"dataframe\">\n",
       "  <thead>\n",
       "    <tr style=\"text-align: right;\">\n",
       "      <th></th>\n",
       "      <th>age</th>\n",
       "      <th>final_weight</th>\n",
       "      <th>education-num</th>\n",
       "      <th>cap-gain</th>\n",
       "      <th>cap-loss</th>\n",
       "      <th>hours-per-week</th>\n",
       "    </tr>\n",
       "  </thead>\n",
       "  <tbody>\n",
       "    <tr>\n",
       "      <th>count</th>\n",
       "      <td>16269.000000</td>\n",
       "      <td>1.626900e+04</td>\n",
       "      <td>16269.000000</td>\n",
       "      <td>16269.000000</td>\n",
       "      <td>16269.000000</td>\n",
       "      <td>16269.000000</td>\n",
       "    </tr>\n",
       "    <tr>\n",
       "      <th>mean</th>\n",
       "      <td>38.774049</td>\n",
       "      <td>1.894420e+05</td>\n",
       "      <td>10.072100</td>\n",
       "      <td>1082.703116</td>\n",
       "      <td>87.964104</td>\n",
       "      <td>40.396828</td>\n",
       "    </tr>\n",
       "    <tr>\n",
       "      <th>std</th>\n",
       "      <td>13.850610</td>\n",
       "      <td>1.057070e+05</td>\n",
       "      <td>2.567726</td>\n",
       "      <td>7586.675631</td>\n",
       "      <td>403.246861</td>\n",
       "      <td>12.479238</td>\n",
       "    </tr>\n",
       "    <tr>\n",
       "      <th>min</th>\n",
       "      <td>17.000000</td>\n",
       "      <td>1.349200e+04</td>\n",
       "      <td>1.000000</td>\n",
       "      <td>0.000000</td>\n",
       "      <td>0.000000</td>\n",
       "      <td>1.000000</td>\n",
       "    </tr>\n",
       "    <tr>\n",
       "      <th>25%</th>\n",
       "      <td>28.000000</td>\n",
       "      <td>1.167460e+05</td>\n",
       "      <td>9.000000</td>\n",
       "      <td>0.000000</td>\n",
       "      <td>0.000000</td>\n",
       "      <td>40.000000</td>\n",
       "    </tr>\n",
       "    <tr>\n",
       "      <th>50%</th>\n",
       "      <td>37.000000</td>\n",
       "      <td>1.778280e+05</td>\n",
       "      <td>10.000000</td>\n",
       "      <td>0.000000</td>\n",
       "      <td>0.000000</td>\n",
       "      <td>40.000000</td>\n",
       "    </tr>\n",
       "    <tr>\n",
       "      <th>75%</th>\n",
       "      <td>48.000000</td>\n",
       "      <td>2.383840e+05</td>\n",
       "      <td>12.000000</td>\n",
       "      <td>0.000000</td>\n",
       "      <td>0.000000</td>\n",
       "      <td>45.000000</td>\n",
       "    </tr>\n",
       "    <tr>\n",
       "      <th>max</th>\n",
       "      <td>90.000000</td>\n",
       "      <td>1.490400e+06</td>\n",
       "      <td>16.000000</td>\n",
       "      <td>99999.000000</td>\n",
       "      <td>3770.000000</td>\n",
       "      <td>99.000000</td>\n",
       "    </tr>\n",
       "  </tbody>\n",
       "</table>\n",
       "</div>"
      ],
      "text/plain": [
       "                age  final_weight  education-num      cap-gain      cap-loss  \\\n",
       "count  16269.000000  1.626900e+04   16269.000000  16269.000000  16269.000000   \n",
       "mean      38.774049  1.894420e+05      10.072100   1082.703116     87.964104   \n",
       "std       13.850610  1.057070e+05       2.567726   7586.675631    403.246861   \n",
       "min       17.000000  1.349200e+04       1.000000      0.000000      0.000000   \n",
       "25%       28.000000  1.167460e+05       9.000000      0.000000      0.000000   \n",
       "50%       37.000000  1.778280e+05      10.000000      0.000000      0.000000   \n",
       "75%       48.000000  2.383840e+05      12.000000      0.000000      0.000000   \n",
       "max       90.000000  1.490400e+06      16.000000  99999.000000   3770.000000   \n",
       "\n",
       "       hours-per-week  \n",
       "count    16269.000000  \n",
       "mean        40.396828  \n",
       "std         12.479238  \n",
       "min          1.000000  \n",
       "25%         40.000000  \n",
       "50%         40.000000  \n",
       "75%         45.000000  \n",
       "max         99.000000  "
      ]
     },
     "execution_count": 231,
     "metadata": {},
     "output_type": "execute_result"
    }
   ],
   "source": [
    "df_test.describe()"
   ]
  },
  {
   "cell_type": "markdown",
   "id": "bb334b36",
   "metadata": {},
   "source": [
    "#### Заменяем пропуски и явно выпадающие значения медианой"
   ]
  },
  {
   "cell_type": "code",
   "execution_count": 232,
   "id": "4acdcb6a",
   "metadata": {},
   "outputs": [],
   "source": [
    "median_age = df_test['age'].median()\n",
    "df_test.loc[df_test['age'] > 150, 'age'] = median_age\n",
    "df_test['age'] = df_test['age'].fillna(median_age)\n",
    "df_test['age'] = df_test['age'].astype(float)"
   ]
  },
  {
   "cell_type": "code",
   "execution_count": 233,
   "id": "6aa67d61",
   "metadata": {},
   "outputs": [],
   "source": [
    "median_hours = df_test['hours-per-week'].median()\n",
    "df_test.loc[df_test['hours-per-week'] < 0, 'hours-per-week'] = median_hours\n",
    "df_test.loc[df_test['hours-per-week'] > 100, 'hours-per-week'] = median_hours\n",
    "df_test['hours-per-week'] = df_test['hours-per-week'].fillna(median_hours)"
   ]
  },
  {
   "cell_type": "code",
   "execution_count": 234,
   "id": "70aff2d4",
   "metadata": {},
   "outputs": [],
   "source": [
    "median_num = df_test['education-num'].median()\n",
    "df_test.loc[df_test['education-num'] < 0, 'education-num'] = median_num\n",
    "df_test.loc[df_test['education-num'] > 100, 'education-num'] = median_num\n",
    "df_test['education-num'] = df_test['education-num'].fillna(median_num)"
   ]
  },
  {
   "cell_type": "code",
   "execution_count": 235,
   "id": "e6544831",
   "metadata": {},
   "outputs": [
    {
     "data": {
      "text/html": [
       "<div>\n",
       "<style scoped>\n",
       "    .dataframe tbody tr th:only-of-type {\n",
       "        vertical-align: middle;\n",
       "    }\n",
       "\n",
       "    .dataframe tbody tr th {\n",
       "        vertical-align: top;\n",
       "    }\n",
       "\n",
       "    .dataframe thead th {\n",
       "        text-align: right;\n",
       "    }\n",
       "</style>\n",
       "<table border=\"1\" class=\"dataframe\">\n",
       "  <thead>\n",
       "    <tr style=\"text-align: right;\">\n",
       "      <th></th>\n",
       "      <th>age</th>\n",
       "      <th>final_weight</th>\n",
       "      <th>education-num</th>\n",
       "      <th>cap-gain</th>\n",
       "      <th>cap-loss</th>\n",
       "      <th>hours-per-week</th>\n",
       "    </tr>\n",
       "  </thead>\n",
       "  <tbody>\n",
       "    <tr>\n",
       "      <th>count</th>\n",
       "      <td>16269.000000</td>\n",
       "      <td>1.626900e+04</td>\n",
       "      <td>16269.000000</td>\n",
       "      <td>16269.000000</td>\n",
       "      <td>16269.000000</td>\n",
       "      <td>16269.000000</td>\n",
       "    </tr>\n",
       "    <tr>\n",
       "      <th>mean</th>\n",
       "      <td>38.774049</td>\n",
       "      <td>1.894420e+05</td>\n",
       "      <td>10.072100</td>\n",
       "      <td>1082.703116</td>\n",
       "      <td>87.964104</td>\n",
       "      <td>40.396828</td>\n",
       "    </tr>\n",
       "    <tr>\n",
       "      <th>std</th>\n",
       "      <td>13.850610</td>\n",
       "      <td>1.057070e+05</td>\n",
       "      <td>2.567726</td>\n",
       "      <td>7586.675631</td>\n",
       "      <td>403.246861</td>\n",
       "      <td>12.479238</td>\n",
       "    </tr>\n",
       "    <tr>\n",
       "      <th>min</th>\n",
       "      <td>17.000000</td>\n",
       "      <td>1.349200e+04</td>\n",
       "      <td>1.000000</td>\n",
       "      <td>0.000000</td>\n",
       "      <td>0.000000</td>\n",
       "      <td>1.000000</td>\n",
       "    </tr>\n",
       "    <tr>\n",
       "      <th>25%</th>\n",
       "      <td>28.000000</td>\n",
       "      <td>1.167460e+05</td>\n",
       "      <td>9.000000</td>\n",
       "      <td>0.000000</td>\n",
       "      <td>0.000000</td>\n",
       "      <td>40.000000</td>\n",
       "    </tr>\n",
       "    <tr>\n",
       "      <th>50%</th>\n",
       "      <td>37.000000</td>\n",
       "      <td>1.778280e+05</td>\n",
       "      <td>10.000000</td>\n",
       "      <td>0.000000</td>\n",
       "      <td>0.000000</td>\n",
       "      <td>40.000000</td>\n",
       "    </tr>\n",
       "    <tr>\n",
       "      <th>75%</th>\n",
       "      <td>48.000000</td>\n",
       "      <td>2.383840e+05</td>\n",
       "      <td>12.000000</td>\n",
       "      <td>0.000000</td>\n",
       "      <td>0.000000</td>\n",
       "      <td>45.000000</td>\n",
       "    </tr>\n",
       "    <tr>\n",
       "      <th>max</th>\n",
       "      <td>90.000000</td>\n",
       "      <td>1.490400e+06</td>\n",
       "      <td>16.000000</td>\n",
       "      <td>99999.000000</td>\n",
       "      <td>3770.000000</td>\n",
       "      <td>99.000000</td>\n",
       "    </tr>\n",
       "  </tbody>\n",
       "</table>\n",
       "</div>"
      ],
      "text/plain": [
       "                age  final_weight  education-num      cap-gain      cap-loss  \\\n",
       "count  16269.000000  1.626900e+04   16269.000000  16269.000000  16269.000000   \n",
       "mean      38.774049  1.894420e+05      10.072100   1082.703116     87.964104   \n",
       "std       13.850610  1.057070e+05       2.567726   7586.675631    403.246861   \n",
       "min       17.000000  1.349200e+04       1.000000      0.000000      0.000000   \n",
       "25%       28.000000  1.167460e+05       9.000000      0.000000      0.000000   \n",
       "50%       37.000000  1.778280e+05      10.000000      0.000000      0.000000   \n",
       "75%       48.000000  2.383840e+05      12.000000      0.000000      0.000000   \n",
       "max       90.000000  1.490400e+06      16.000000  99999.000000   3770.000000   \n",
       "\n",
       "       hours-per-week  \n",
       "count    16269.000000  \n",
       "mean        40.396828  \n",
       "std         12.479238  \n",
       "min          1.000000  \n",
       "25%         40.000000  \n",
       "50%         40.000000  \n",
       "75%         45.000000  \n",
       "max         99.000000  "
      ]
     },
     "execution_count": 235,
     "metadata": {},
     "output_type": "execute_result"
    }
   ],
   "source": [
    "df_test.describe()"
   ]
  },
  {
   "cell_type": "code",
   "execution_count": 236,
   "id": "ef0862ce",
   "metadata": {},
   "outputs": [
    {
     "name": "stdout",
     "output_type": "stream",
     "text": [
      "<class 'pandas.core.frame.DataFrame'>\n",
      "Int64Index: 16269 entries, 0 to 16282\n",
      "Data columns (total 14 columns):\n",
      " #   Column          Non-Null Count  Dtype  \n",
      "---  ------          --------------  -----  \n",
      " 0   age             16269 non-null  float64\n",
      " 1   workclass       16269 non-null  object \n",
      " 2   final_weight    16269 non-null  float64\n",
      " 3   education       16269 non-null  object \n",
      " 4   education-num   16269 non-null  float64\n",
      " 5   marital-status  16269 non-null  object \n",
      " 6   occupation      16269 non-null  object \n",
      " 7   relationship    16269 non-null  object \n",
      " 8   race            16269 non-null  object \n",
      " 9   sex             16269 non-null  object \n",
      " 10  cap-gain        16269 non-null  float64\n",
      " 11  cap-loss        16269 non-null  float64\n",
      " 12  hours-per-week  16269 non-null  float64\n",
      " 13  native-country  16269 non-null  object \n",
      "dtypes: float64(6), object(8)\n",
      "memory usage: 1.9+ MB\n"
     ]
    }
   ],
   "source": [
    "df_test.info()"
   ]
  },
  {
   "cell_type": "markdown",
   "id": "2bbbe97f",
   "metadata": {},
   "source": [
    "#### Заменяем \"?\" в данных"
   ]
  },
  {
   "cell_type": "code",
   "execution_count": 237,
   "id": "afce1f4a",
   "metadata": {},
   "outputs": [],
   "source": [
    "categorical_columns = df_test.select_dtypes(include=['object']).columns\n",
    "for col in categorical_columns:\n",
    "        most_common_value = df_test[col].mode()[0]\n",
    "        df_test.loc[df_test[col] == ' ?', col] = most_common_value\n",
    "        df_test[col].fillna(most_common_value, inplace=True)\n",
    "        \n",
    "not_categorical_columns = df_test.select_dtypes(include=['float']).columns\n",
    "for col in not_categorical_columns:\n",
    "        most_common_value = df_test[col].median()\n",
    "        df_test.loc[df_test[col] == ' ?', col] = most_common_value\n",
    "        df_test[col].fillna(most_common_value, inplace=True)"
   ]
  },
  {
   "cell_type": "code",
   "execution_count": 238,
   "id": "d4b866e7",
   "metadata": {},
   "outputs": [],
   "source": [
    "df_test_copy = df_test.copy()"
   ]
  },
  {
   "cell_type": "code",
   "execution_count": 239,
   "id": "3fd06e8c",
   "metadata": {},
   "outputs": [
    {
     "data": {
      "text/plain": [
       "16269"
      ]
     },
     "execution_count": 239,
     "metadata": {},
     "output_type": "execute_result"
    }
   ],
   "source": [
    "len(df_test)"
   ]
  },
  {
   "cell_type": "markdown",
   "id": "ee311430",
   "metadata": {},
   "source": [
    "#### Уберём пробел перед данными в ячейках с категориальным типом данных"
   ]
  },
  {
   "cell_type": "code",
   "execution_count": 240,
   "id": "70575c02",
   "metadata": {},
   "outputs": [],
   "source": [
    "df_test = df_test.applymap(lambda x: x.strip() if isinstance(x, str) else x)"
   ]
  },
  {
   "cell_type": "markdown",
   "id": "eca22458",
   "metadata": {},
   "source": [
    "#### Применяем one-hot-encoding"
   ]
  },
  {
   "cell_type": "code",
   "execution_count": 242,
   "id": "cf2a82e2",
   "metadata": {},
   "outputs": [],
   "source": [
    "df_test = pd.concat([df_test, pd.get_dummies(df_test['workclass'], prefix=\"workclass\"),\n",
    "                      pd.get_dummies(df_test['education'], prefix=\"education\"),\n",
    "                      pd.get_dummies(df_test['marital-status'], prefix=\"marital-status\"),\n",
    "                      pd.get_dummies(df_test['occupation'], prefix=\"occupation\"),\n",
    "                      pd.get_dummies(df_test['relationship'], prefix=\"relationship\"),\n",
    "                      pd.get_dummies(df_test['race'], prefix=\"race\"),\n",
    "                      pd.get_dummies(df_test['sex'], prefix=\"sex\"),\n",
    "                      pd.get_dummies(df_test['native-country'], prefix=\"native-country\")],\n",
    "                     axis=1)"
   ]
  },
  {
   "cell_type": "code",
   "execution_count": 243,
   "id": "886a6363",
   "metadata": {},
   "outputs": [],
   "source": [
    "df_test.drop(['workclass', 'education', 'marital-status', 'occupation','relationship', 'race', 'sex', 'native-country'],\n",
    "                axis=1, inplace=True)"
   ]
  },
  {
   "cell_type": "code",
   "execution_count": 244,
   "id": "379cb6ce",
   "metadata": {},
   "outputs": [
    {
     "data": {
      "text/html": [
       "<div>\n",
       "<style scoped>\n",
       "    .dataframe tbody tr th:only-of-type {\n",
       "        vertical-align: middle;\n",
       "    }\n",
       "\n",
       "    .dataframe tbody tr th {\n",
       "        vertical-align: top;\n",
       "    }\n",
       "\n",
       "    .dataframe thead th {\n",
       "        text-align: right;\n",
       "    }\n",
       "</style>\n",
       "<table border=\"1\" class=\"dataframe\">\n",
       "  <thead>\n",
       "    <tr style=\"text-align: right;\">\n",
       "      <th></th>\n",
       "      <th>count</th>\n",
       "      <th>mean</th>\n",
       "      <th>std</th>\n",
       "      <th>min</th>\n",
       "      <th>25%</th>\n",
       "      <th>50%</th>\n",
       "      <th>75%</th>\n",
       "      <th>max</th>\n",
       "    </tr>\n",
       "  </thead>\n",
       "  <tbody>\n",
       "    <tr>\n",
       "      <th>age</th>\n",
       "      <td>16269.0</td>\n",
       "      <td>38.774049</td>\n",
       "      <td>13.850610</td>\n",
       "      <td>17.0</td>\n",
       "      <td>28.0</td>\n",
       "      <td>37.0</td>\n",
       "      <td>48.0</td>\n",
       "      <td>90.0</td>\n",
       "    </tr>\n",
       "    <tr>\n",
       "      <th>final_weight</th>\n",
       "      <td>16269.0</td>\n",
       "      <td>189442.010941</td>\n",
       "      <td>105707.038461</td>\n",
       "      <td>13492.0</td>\n",
       "      <td>116746.0</td>\n",
       "      <td>177828.0</td>\n",
       "      <td>238384.0</td>\n",
       "      <td>1490400.0</td>\n",
       "    </tr>\n",
       "    <tr>\n",
       "      <th>education-num</th>\n",
       "      <td>16269.0</td>\n",
       "      <td>10.072100</td>\n",
       "      <td>2.567726</td>\n",
       "      <td>1.0</td>\n",
       "      <td>9.0</td>\n",
       "      <td>10.0</td>\n",
       "      <td>12.0</td>\n",
       "      <td>16.0</td>\n",
       "    </tr>\n",
       "    <tr>\n",
       "      <th>cap-gain</th>\n",
       "      <td>16269.0</td>\n",
       "      <td>1082.703116</td>\n",
       "      <td>7586.675631</td>\n",
       "      <td>0.0</td>\n",
       "      <td>0.0</td>\n",
       "      <td>0.0</td>\n",
       "      <td>0.0</td>\n",
       "      <td>99999.0</td>\n",
       "    </tr>\n",
       "    <tr>\n",
       "      <th>cap-loss</th>\n",
       "      <td>16269.0</td>\n",
       "      <td>87.964104</td>\n",
       "      <td>403.246861</td>\n",
       "      <td>0.0</td>\n",
       "      <td>0.0</td>\n",
       "      <td>0.0</td>\n",
       "      <td>0.0</td>\n",
       "      <td>3770.0</td>\n",
       "    </tr>\n",
       "    <tr>\n",
       "      <th>...</th>\n",
       "      <td>...</td>\n",
       "      <td>...</td>\n",
       "      <td>...</td>\n",
       "      <td>...</td>\n",
       "      <td>...</td>\n",
       "      <td>...</td>\n",
       "      <td>...</td>\n",
       "      <td>...</td>\n",
       "    </tr>\n",
       "    <tr>\n",
       "      <th>native-country_Thailand</th>\n",
       "      <td>16269.0</td>\n",
       "      <td>0.000738</td>\n",
       "      <td>0.027150</td>\n",
       "      <td>0.0</td>\n",
       "      <td>0.0</td>\n",
       "      <td>0.0</td>\n",
       "      <td>0.0</td>\n",
       "      <td>1.0</td>\n",
       "    </tr>\n",
       "    <tr>\n",
       "      <th>native-country_Trinadad&amp;Tobago</th>\n",
       "      <td>16269.0</td>\n",
       "      <td>0.000492</td>\n",
       "      <td>0.022170</td>\n",
       "      <td>0.0</td>\n",
       "      <td>0.0</td>\n",
       "      <td>0.0</td>\n",
       "      <td>0.0</td>\n",
       "      <td>1.0</td>\n",
       "    </tr>\n",
       "    <tr>\n",
       "      <th>native-country_United-States</th>\n",
       "      <td>16269.0</td>\n",
       "      <td>0.917327</td>\n",
       "      <td>0.275395</td>\n",
       "      <td>0.0</td>\n",
       "      <td>1.0</td>\n",
       "      <td>1.0</td>\n",
       "      <td>1.0</td>\n",
       "      <td>1.0</td>\n",
       "    </tr>\n",
       "    <tr>\n",
       "      <th>native-country_Vietnam</th>\n",
       "      <td>16269.0</td>\n",
       "      <td>0.001168</td>\n",
       "      <td>0.034155</td>\n",
       "      <td>0.0</td>\n",
       "      <td>0.0</td>\n",
       "      <td>0.0</td>\n",
       "      <td>0.0</td>\n",
       "      <td>1.0</td>\n",
       "    </tr>\n",
       "    <tr>\n",
       "      <th>native-country_Yugoslavia</th>\n",
       "      <td>16269.0</td>\n",
       "      <td>0.000430</td>\n",
       "      <td>0.020739</td>\n",
       "      <td>0.0</td>\n",
       "      <td>0.0</td>\n",
       "      <td>0.0</td>\n",
       "      <td>0.0</td>\n",
       "      <td>1.0</td>\n",
       "    </tr>\n",
       "  </tbody>\n",
       "</table>\n",
       "<p>104 rows × 8 columns</p>\n",
       "</div>"
      ],
      "text/plain": [
       "                                  count           mean            std  \\\n",
       "age                             16269.0      38.774049      13.850610   \n",
       "final_weight                    16269.0  189442.010941  105707.038461   \n",
       "education-num                   16269.0      10.072100       2.567726   \n",
       "cap-gain                        16269.0    1082.703116    7586.675631   \n",
       "cap-loss                        16269.0      87.964104     403.246861   \n",
       "...                                 ...            ...            ...   \n",
       "native-country_Thailand         16269.0       0.000738       0.027150   \n",
       "native-country_Trinadad&Tobago  16269.0       0.000492       0.022170   \n",
       "native-country_United-States    16269.0       0.917327       0.275395   \n",
       "native-country_Vietnam          16269.0       0.001168       0.034155   \n",
       "native-country_Yugoslavia       16269.0       0.000430       0.020739   \n",
       "\n",
       "                                    min       25%       50%       75%  \\\n",
       "age                                17.0      28.0      37.0      48.0   \n",
       "final_weight                    13492.0  116746.0  177828.0  238384.0   \n",
       "education-num                       1.0       9.0      10.0      12.0   \n",
       "cap-gain                            0.0       0.0       0.0       0.0   \n",
       "cap-loss                            0.0       0.0       0.0       0.0   \n",
       "...                                 ...       ...       ...       ...   \n",
       "native-country_Thailand             0.0       0.0       0.0       0.0   \n",
       "native-country_Trinadad&Tobago      0.0       0.0       0.0       0.0   \n",
       "native-country_United-States        0.0       1.0       1.0       1.0   \n",
       "native-country_Vietnam              0.0       0.0       0.0       0.0   \n",
       "native-country_Yugoslavia           0.0       0.0       0.0       0.0   \n",
       "\n",
       "                                      max  \n",
       "age                                  90.0  \n",
       "final_weight                    1490400.0  \n",
       "education-num                        16.0  \n",
       "cap-gain                          99999.0  \n",
       "cap-loss                           3770.0  \n",
       "...                                   ...  \n",
       "native-country_Thailand               1.0  \n",
       "native-country_Trinadad&Tobago        1.0  \n",
       "native-country_United-States          1.0  \n",
       "native-country_Vietnam                1.0  \n",
       "native-country_Yugoslavia             1.0  \n",
       "\n",
       "[104 rows x 8 columns]"
      ]
     },
     "execution_count": 244,
     "metadata": {},
     "output_type": "execute_result"
    }
   ],
   "source": [
    "df_test.describe(include='all').T"
   ]
  },
  {
   "cell_type": "code",
   "execution_count": 245,
   "id": "6d6f06b0",
   "metadata": {},
   "outputs": [
    {
     "data": {
      "text/plain": [
       "{'native-country_Holand-Netherlands', 'sum_N'}"
      ]
     },
     "execution_count": 245,
     "metadata": {},
     "output_type": "execute_result"
    }
   ],
   "source": [
    "set(df_train.columns) - set(df_test.columns)"
   ]
  },
  {
   "cell_type": "code",
   "execution_count": 246,
   "id": "d0438d4a",
   "metadata": {},
   "outputs": [
    {
     "data": {
      "text/plain": [
       "((32514, 106), (16269, 104))"
      ]
     },
     "execution_count": 246,
     "metadata": {},
     "output_type": "execute_result"
    }
   ],
   "source": [
    "df_train.shape, df_test.shape"
   ]
  },
  {
   "cell_type": "markdown",
   "id": "03009b99",
   "metadata": {},
   "source": [
    "#### В тестовой выборке не оказалось приведённых выше колонок. Заведем необходимый признак из нулей."
   ]
  },
  {
   "cell_type": "code",
   "execution_count": 247,
   "id": "31049d3d",
   "metadata": {},
   "outputs": [],
   "source": [
    "df_test['native-country_Holand-Netherlands'] = np.zeros([df_test.shape[0], 1])"
   ]
  },
  {
   "cell_type": "code",
   "execution_count": 248,
   "id": "c6a05f24",
   "metadata": {},
   "outputs": [
    {
     "data": {
      "text/plain": [
       "{'sum_N'}"
      ]
     },
     "execution_count": 248,
     "metadata": {},
     "output_type": "execute_result"
    }
   ],
   "source": [
    "set(df_train.columns) - set(df_test.columns)"
   ]
  },
  {
   "cell_type": "markdown",
   "id": "01886243",
   "metadata": {},
   "source": [
    "# 3. Обучение моделей\n"
   ]
  },
  {
   "cell_type": "markdown",
   "id": "f46239ad",
   "metadata": {},
   "source": [
    "#### Подготовливаем выборки для обучения"
   ]
  },
  {
   "cell_type": "code",
   "execution_count": 249,
   "id": "451a099c",
   "metadata": {},
   "outputs": [],
   "source": [
    "X_train = df_train.drop(['sum_N'], axis=1)\n",
    "y_train = df_train['sum_N']"
   ]
  },
  {
   "cell_type": "code",
   "execution_count": 250,
   "id": "d63e8b92",
   "metadata": {},
   "outputs": [],
   "source": [
    "X_test = df_test"
   ]
  },
  {
   "cell_type": "code",
   "execution_count": 251,
   "id": "ca64f590",
   "metadata": {},
   "outputs": [],
   "source": [
    "# Отсортируем признаки по алфавиту\n",
    "sorted_features = sorted(X_train.columns)\n",
    "\n",
    "# Отсортируем признаки в тренировочной выборке\n",
    "X_train = X_train.reindex(columns=sorted_features)\n",
    "\n",
    "# Отсортируем признаки в тестовой выборке\n",
    "X_test = X_test.reindex(columns=sorted_features)\n"
   ]
  },
  {
   "cell_type": "markdown",
   "id": "cc40be2e",
   "metadata": {},
   "source": [
    "## а) Decision tree"
   ]
  },
  {
   "cell_type": "markdown",
   "id": "692a5646",
   "metadata": {},
   "source": [
    "#### Объявляем дерево решений и ограничиваем его глубину"
   ]
  },
  {
   "cell_type": "code",
   "execution_count": 252,
   "id": "6389e91c",
   "metadata": {},
   "outputs": [],
   "source": [
    "clf = DecisionTreeClassifier(criterion='entropy', max_depth=6)"
   ]
  },
  {
   "cell_type": "markdown",
   "id": "e9e00d32",
   "metadata": {},
   "source": [
    "#### Обучаем модель"
   ]
  },
  {
   "cell_type": "code",
   "execution_count": 253,
   "id": "35578b4d",
   "metadata": {},
   "outputs": [
    {
     "data": {
      "text/html": [
       "<style>#sk-container-id-11 {color: black;}#sk-container-id-11 pre{padding: 0;}#sk-container-id-11 div.sk-toggleable {background-color: white;}#sk-container-id-11 label.sk-toggleable__label {cursor: pointer;display: block;width: 100%;margin-bottom: 0;padding: 0.3em;box-sizing: border-box;text-align: center;}#sk-container-id-11 label.sk-toggleable__label-arrow:before {content: \"▸\";float: left;margin-right: 0.25em;color: #696969;}#sk-container-id-11 label.sk-toggleable__label-arrow:hover:before {color: black;}#sk-container-id-11 div.sk-estimator:hover label.sk-toggleable__label-arrow:before {color: black;}#sk-container-id-11 div.sk-toggleable__content {max-height: 0;max-width: 0;overflow: hidden;text-align: left;background-color: #f0f8ff;}#sk-container-id-11 div.sk-toggleable__content pre {margin: 0.2em;color: black;border-radius: 0.25em;background-color: #f0f8ff;}#sk-container-id-11 input.sk-toggleable__control:checked~div.sk-toggleable__content {max-height: 200px;max-width: 100%;overflow: auto;}#sk-container-id-11 input.sk-toggleable__control:checked~label.sk-toggleable__label-arrow:before {content: \"▾\";}#sk-container-id-11 div.sk-estimator input.sk-toggleable__control:checked~label.sk-toggleable__label {background-color: #d4ebff;}#sk-container-id-11 div.sk-label input.sk-toggleable__control:checked~label.sk-toggleable__label {background-color: #d4ebff;}#sk-container-id-11 input.sk-hidden--visually {border: 0;clip: rect(1px 1px 1px 1px);clip: rect(1px, 1px, 1px, 1px);height: 1px;margin: -1px;overflow: hidden;padding: 0;position: absolute;width: 1px;}#sk-container-id-11 div.sk-estimator {font-family: monospace;background-color: #f0f8ff;border: 1px dotted black;border-radius: 0.25em;box-sizing: border-box;margin-bottom: 0.5em;}#sk-container-id-11 div.sk-estimator:hover {background-color: #d4ebff;}#sk-container-id-11 div.sk-parallel-item::after {content: \"\";width: 100%;border-bottom: 1px solid gray;flex-grow: 1;}#sk-container-id-11 div.sk-label:hover label.sk-toggleable__label {background-color: #d4ebff;}#sk-container-id-11 div.sk-serial::before {content: \"\";position: absolute;border-left: 1px solid gray;box-sizing: border-box;top: 0;bottom: 0;left: 50%;z-index: 0;}#sk-container-id-11 div.sk-serial {display: flex;flex-direction: column;align-items: center;background-color: white;padding-right: 0.2em;padding-left: 0.2em;position: relative;}#sk-container-id-11 div.sk-item {position: relative;z-index: 1;}#sk-container-id-11 div.sk-parallel {display: flex;align-items: stretch;justify-content: center;background-color: white;position: relative;}#sk-container-id-11 div.sk-item::before, #sk-container-id-11 div.sk-parallel-item::before {content: \"\";position: absolute;border-left: 1px solid gray;box-sizing: border-box;top: 0;bottom: 0;left: 50%;z-index: -1;}#sk-container-id-11 div.sk-parallel-item {display: flex;flex-direction: column;z-index: 1;position: relative;background-color: white;}#sk-container-id-11 div.sk-parallel-item:first-child::after {align-self: flex-end;width: 50%;}#sk-container-id-11 div.sk-parallel-item:last-child::after {align-self: flex-start;width: 50%;}#sk-container-id-11 div.sk-parallel-item:only-child::after {width: 0;}#sk-container-id-11 div.sk-dashed-wrapped {border: 1px dashed gray;margin: 0 0.4em 0.5em 0.4em;box-sizing: border-box;padding-bottom: 0.4em;background-color: white;}#sk-container-id-11 div.sk-label label {font-family: monospace;font-weight: bold;display: inline-block;line-height: 1.2em;}#sk-container-id-11 div.sk-label-container {text-align: center;}#sk-container-id-11 div.sk-container {/* jupyter's `normalize.less` sets `[hidden] { display: none; }` but bootstrap.min.css set `[hidden] { display: none !important; }` so we also need the `!important` here to be able to override the default hidden behavior on the sphinx rendered scikit-learn.org. See: https://github.com/scikit-learn/scikit-learn/issues/21755 */display: inline-block !important;position: relative;}#sk-container-id-11 div.sk-text-repr-fallback {display: none;}</style><div id=\"sk-container-id-11\" class=\"sk-top-container\"><div class=\"sk-text-repr-fallback\"><pre>DecisionTreeClassifier(criterion=&#x27;entropy&#x27;, max_depth=6)</pre><b>In a Jupyter environment, please rerun this cell to show the HTML representation or trust the notebook. <br />On GitHub, the HTML representation is unable to render, please try loading this page with nbviewer.org.</b></div><div class=\"sk-container\" hidden><div class=\"sk-item\"><div class=\"sk-estimator sk-toggleable\"><input class=\"sk-toggleable__control sk-hidden--visually\" id=\"sk-estimator-id-17\" type=\"checkbox\" checked><label for=\"sk-estimator-id-17\" class=\"sk-toggleable__label sk-toggleable__label-arrow\">DecisionTreeClassifier</label><div class=\"sk-toggleable__content\"><pre>DecisionTreeClassifier(criterion=&#x27;entropy&#x27;, max_depth=6)</pre></div></div></div></div></div>"
      ],
      "text/plain": [
       "DecisionTreeClassifier(criterion='entropy', max_depth=6)"
      ]
     },
     "execution_count": 253,
     "metadata": {},
     "output_type": "execute_result"
    }
   ],
   "source": [
    "clf.fit(X_train, y_train)"
   ]
  },
  {
   "cell_type": "markdown",
   "id": "7dcda384",
   "metadata": {},
   "source": [
    "#### Смотрим score"
   ]
  },
  {
   "cell_type": "code",
   "execution_count": 254,
   "id": "e52daf1b",
   "metadata": {},
   "outputs": [
    {
     "data": {
      "text/plain": [
       "0.8539705972811712"
      ]
     },
     "execution_count": 254,
     "metadata": {},
     "output_type": "execute_result"
    }
   ],
   "source": [
    "clf.score(X_train, y_train)"
   ]
  },
  {
   "cell_type": "code",
   "execution_count": 255,
   "id": "82b49419",
   "metadata": {},
   "outputs": [
    {
     "data": {
      "text/plain": [
       "array([0., 0., 0., ..., 0., 0., 1.])"
      ]
     },
     "execution_count": 255,
     "metadata": {},
     "output_type": "execute_result"
    }
   ],
   "source": [
    "predictions = clf.predict(X_train)\n",
    "predictions"
   ]
  },
  {
   "cell_type": "markdown",
   "id": "667a0acd",
   "metadata": {},
   "source": [
    "#### Посмотрим основный метрики"
   ]
  },
  {
   "cell_type": "code",
   "execution_count": 256,
   "id": "d3be8ec0",
   "metadata": {},
   "outputs": [
    {
     "name": "stdout",
     "output_type": "stream",
     "text": [
      "Accuracy: 0.8539705972811712\n",
      "Precision: 0.8006618649016936\n",
      "Recall: 0.5248181702181958\n",
      "F1 Score: 0.6340373053799907\n",
      "RMSE: 0.38213793676999513\n",
      "Confusion Matrix:\n",
      "[[23653  1024]\n",
      " [ 3724  4113]]\n"
     ]
    }
   ],
   "source": [
    "accuracy = accuracy_score(y_train, predictions)\n",
    "precision = precision_score(y_train, predictions)\n",
    "recall = recall_score(y_train, predictions)\n",
    "f1 = f1_score(y_train, predictions)\n",
    "rmse = np.sqrt(mean_squared_error(y_train, predictions))\n",
    "\n",
    "conf_matrix = confusion_matrix(y_train, predictions)\n",
    "\n",
    "print(\"Accuracy:\", accuracy)\n",
    "print(\"Precision:\", precision)\n",
    "print(\"Recall:\", recall)\n",
    "print(\"F1 Score:\", f1)\n",
    "print(\"RMSE:\", rmse)\n",
    "print(\"Confusion Matrix:\")\n",
    "print(conf_matrix)"
   ]
  },
  {
   "cell_type": "markdown",
   "id": "44afc72d",
   "metadata": {},
   "source": [
    "#### Построим ROC-кривую"
   ]
  },
  {
   "cell_type": "code",
   "execution_count": 257,
   "id": "7a5bdd8b",
   "metadata": {},
   "outputs": [
    {
     "data": {
      "text/plain": [
       "<matplotlib.legend.Legend at 0x1e84277f910>"
      ]
     },
     "execution_count": 257,
     "metadata": {},
     "output_type": "execute_result"
    },
    {
     "data": {
      "image/png": "[encoded data removed]",
      "text/plain": [
       "<Figure size 640x480 with 1 Axes>"
      ]
     },
     "metadata": {},
     "output_type": "display_data"
    }
   ],
   "source": [
    "y_predicted_probe = clf.predict_proba(X_train)\n",
    "from sklearn.metrics import roc_curve, auc\n",
    "fpr, tpr, thresholds = roc_curve(y_train, y_predicted_probe[:,1])\n",
    "roc_auc= auc(fpr, tpr)\n",
    "plt.figure()\n",
    "plt.plot(fpr, tpr, label='ROC curve (area = %0.2f)' % (roc_auc))\n",
    "plt.plot([0, 1], [0, 1] , 'k--')\n",
    "plt.xlim([0.0, 1.0])\n",
    "plt.ylim([0.0, 1.05])\n",
    "plt.xlabel('False Positive Rate')\n",
    "plt.ylabel('True Positive Rate')\n",
    "plt.title('Receiver operating characteristic')\n",
    "plt.legend(loc=\"lower right\")"
   ]
  },
  {
   "cell_type": "markdown",
   "id": "ff21da04",
   "metadata": {},
   "source": [
    "#### Предсказание на тестовой выборке"
   ]
  },
  {
   "cell_type": "code",
   "execution_count": 258,
   "id": "0267e3f8",
   "metadata": {},
   "outputs": [
    {
     "data": {
      "text/plain": [
       "array([0., 0., 0., ..., 1., 0., 1.])"
      ]
     },
     "execution_count": 258,
     "metadata": {},
     "output_type": "execute_result"
    }
   ],
   "source": [
    "predictions = clf.predict(X_test)\n",
    "predictions"
   ]
  },
  {
   "cell_type": "markdown",
   "id": "5a74ca89",
   "metadata": {},
   "source": [
    "#### Узнаем какие фичи имели наибольший вклад"
   ]
  },
  {
   "cell_type": "code",
   "execution_count": 259,
   "id": "2f3e047c",
   "metadata": {},
   "outputs": [],
   "source": [
    "feature_importances = clf.feature_importances_"
   ]
  },
  {
   "cell_type": "code",
   "execution_count": 260,
   "id": "4f2aaa2b",
   "metadata": {},
   "outputs": [],
   "source": [
    "feature_importances_df = pd.DataFrame({'features':list(X_train), \n",
    "                                       'feature_importances': feature_importances})"
   ]
  },
  {
   "cell_type": "code",
   "execution_count": 261,
   "id": "40c677d6",
   "metadata": {},
   "outputs": [
    {
     "data": {
      "text/html": [
       "<div>\n",
       "<style scoped>\n",
       "    .dataframe tbody tr th:only-of-type {\n",
       "        vertical-align: middle;\n",
       "    }\n",
       "\n",
       "    .dataframe tbody tr th {\n",
       "        vertical-align: top;\n",
       "    }\n",
       "\n",
       "    .dataframe thead th {\n",
       "        text-align: right;\n",
       "    }\n",
       "</style>\n",
       "<table border=\"1\" class=\"dataframe\">\n",
       "  <thead>\n",
       "    <tr style=\"text-align: right;\">\n",
       "      <th></th>\n",
       "      <th>features</th>\n",
       "      <th>feature_importances</th>\n",
       "    </tr>\n",
       "  </thead>\n",
       "  <tbody>\n",
       "    <tr>\n",
       "      <th>24</th>\n",
       "      <td>marital-status_Married-civ-spouse</td>\n",
       "      <td>0.445304</td>\n",
       "    </tr>\n",
       "    <tr>\n",
       "      <th>1</th>\n",
       "      <td>cap-gain</td>\n",
       "      <td>0.211230</td>\n",
       "    </tr>\n",
       "    <tr>\n",
       "      <th>3</th>\n",
       "      <td>education-num</td>\n",
       "      <td>0.204003</td>\n",
       "    </tr>\n",
       "    <tr>\n",
       "      <th>0</th>\n",
       "      <td>age</td>\n",
       "      <td>0.068194</td>\n",
       "    </tr>\n",
       "    <tr>\n",
       "      <th>2</th>\n",
       "      <td>cap-loss</td>\n",
       "      <td>0.042268</td>\n",
       "    </tr>\n",
       "    <tr>\n",
       "      <th>...</th>\n",
       "      <td>...</td>\n",
       "      <td>...</td>\n",
       "    </tr>\n",
       "    <tr>\n",
       "      <th>35</th>\n",
       "      <td>native-country_Ecuador</td>\n",
       "      <td>0.000000</td>\n",
       "    </tr>\n",
       "    <tr>\n",
       "      <th>34</th>\n",
       "      <td>native-country_Dominican-Republic</td>\n",
       "      <td>0.000000</td>\n",
       "    </tr>\n",
       "    <tr>\n",
       "      <th>33</th>\n",
       "      <td>native-country_Cuba</td>\n",
       "      <td>0.000000</td>\n",
       "    </tr>\n",
       "    <tr>\n",
       "      <th>32</th>\n",
       "      <td>native-country_Columbia</td>\n",
       "      <td>0.000000</td>\n",
       "    </tr>\n",
       "    <tr>\n",
       "      <th>104</th>\n",
       "      <td>workclass_Without-pay</td>\n",
       "      <td>0.000000</td>\n",
       "    </tr>\n",
       "  </tbody>\n",
       "</table>\n",
       "<p>105 rows × 2 columns</p>\n",
       "</div>"
      ],
      "text/plain": [
       "                              features  feature_importances\n",
       "24   marital-status_Married-civ-spouse             0.445304\n",
       "1                             cap-gain             0.211230\n",
       "3                        education-num             0.204003\n",
       "0                                  age             0.068194\n",
       "2                             cap-loss             0.042268\n",
       "..                                 ...                  ...\n",
       "35              native-country_Ecuador             0.000000\n",
       "34   native-country_Dominican-Republic             0.000000\n",
       "33                 native-country_Cuba             0.000000\n",
       "32             native-country_Columbia             0.000000\n",
       "104              workclass_Without-pay             0.000000\n",
       "\n",
       "[105 rows x 2 columns]"
      ]
     },
     "execution_count": 261,
     "metadata": {},
     "output_type": "execute_result"
    }
   ],
   "source": [
    "feature_importances_df.sort_values(by=['feature_importances'], ascending=False)"
   ]
  },
  {
   "cell_type": "markdown",
   "id": "2ad5b65f",
   "metadata": {},
   "source": [
    "#### Сделаем результирующий датафрейм содержащий нецелевые признаки и предсказанный целевой признак"
   ]
  },
  {
   "cell_type": "code",
   "execution_count": 262,
   "id": "5077c1e7",
   "metadata": {},
   "outputs": [],
   "source": [
    "resultDT = df_test_copy.copy()"
   ]
  },
  {
   "cell_type": "code",
   "execution_count": 263,
   "id": "32be97f1",
   "metadata": {},
   "outputs": [
    {
     "data": {
      "text/plain": [
       "<=N    13768\n",
       ">N      2501\n",
       "Name: sum_N, dtype: int64"
      ]
     },
     "execution_count": 263,
     "metadata": {},
     "output_type": "execute_result"
    }
   ],
   "source": [
    "resultDT['sum_N'] = predictions\n",
    "resultDT['sum_N'] = resultDT['sum_N'].replace({0 :'<=N', 1 :'>N'})\n",
    "resultDT.to_csv('resultDT.csv')\n",
    "resultDT['sum_N'].value_counts()"
   ]
  },
  {
   "cell_type": "markdown",
   "id": "2c839eb3",
   "metadata": {},
   "source": [
    "## б) Decision tree с автоматическим подбором параметров"
   ]
  },
  {
   "cell_type": "markdown",
   "id": "97f4fbdb",
   "metadata": {},
   "source": [
    "#### Объявляем дерево решений и словарь с параметрами"
   ]
  },
  {
   "cell_type": "code",
   "execution_count": 264,
   "id": "53a0ce3a",
   "metadata": {},
   "outputs": [
    {
     "data": {
      "text/html": [
       "<style>#sk-container-id-12 {color: black;}#sk-container-id-12 pre{padding: 0;}#sk-container-id-12 div.sk-toggleable {background-color: white;}#sk-container-id-12 label.sk-toggleable__label {cursor: pointer;display: block;width: 100%;margin-bottom: 0;padding: 0.3em;box-sizing: border-box;text-align: center;}#sk-container-id-12 label.sk-toggleable__label-arrow:before {content: \"▸\";float: left;margin-right: 0.25em;color: #696969;}#sk-container-id-12 label.sk-toggleable__label-arrow:hover:before {color: black;}#sk-container-id-12 div.sk-estimator:hover label.sk-toggleable__label-arrow:before {color: black;}#sk-container-id-12 div.sk-toggleable__content {max-height: 0;max-width: 0;overflow: hidden;text-align: left;background-color: #f0f8ff;}#sk-container-id-12 div.sk-toggleable__content pre {margin: 0.2em;color: black;border-radius: 0.25em;background-color: #f0f8ff;}#sk-container-id-12 input.sk-toggleable__control:checked~div.sk-toggleable__content {max-height: 200px;max-width: 100%;overflow: auto;}#sk-container-id-12 input.sk-toggleable__control:checked~label.sk-toggleable__label-arrow:before {content: \"▾\";}#sk-container-id-12 div.sk-estimator input.sk-toggleable__control:checked~label.sk-toggleable__label {background-color: #d4ebff;}#sk-container-id-12 div.sk-label input.sk-toggleable__control:checked~label.sk-toggleable__label {background-color: #d4ebff;}#sk-container-id-12 input.sk-hidden--visually {border: 0;clip: rect(1px 1px 1px 1px);clip: rect(1px, 1px, 1px, 1px);height: 1px;margin: -1px;overflow: hidden;padding: 0;position: absolute;width: 1px;}#sk-container-id-12 div.sk-estimator {font-family: monospace;background-color: #f0f8ff;border: 1px dotted black;border-radius: 0.25em;box-sizing: border-box;margin-bottom: 0.5em;}#sk-container-id-12 div.sk-estimator:hover {background-color: #d4ebff;}#sk-container-id-12 div.sk-parallel-item::after {content: \"\";width: 100%;border-bottom: 1px solid gray;flex-grow: 1;}#sk-container-id-12 div.sk-label:hover label.sk-toggleable__label {background-color: #d4ebff;}#sk-container-id-12 div.sk-serial::before {content: \"\";position: absolute;border-left: 1px solid gray;box-sizing: border-box;top: 0;bottom: 0;left: 50%;z-index: 0;}#sk-container-id-12 div.sk-serial {display: flex;flex-direction: column;align-items: center;background-color: white;padding-right: 0.2em;padding-left: 0.2em;position: relative;}#sk-container-id-12 div.sk-item {position: relative;z-index: 1;}#sk-container-id-12 div.sk-parallel {display: flex;align-items: stretch;justify-content: center;background-color: white;position: relative;}#sk-container-id-12 div.sk-item::before, #sk-container-id-12 div.sk-parallel-item::before {content: \"\";position: absolute;border-left: 1px solid gray;box-sizing: border-box;top: 0;bottom: 0;left: 50%;z-index: -1;}#sk-container-id-12 div.sk-parallel-item {display: flex;flex-direction: column;z-index: 1;position: relative;background-color: white;}#sk-container-id-12 div.sk-parallel-item:first-child::after {align-self: flex-end;width: 50%;}#sk-container-id-12 div.sk-parallel-item:last-child::after {align-self: flex-start;width: 50%;}#sk-container-id-12 div.sk-parallel-item:only-child::after {width: 0;}#sk-container-id-12 div.sk-dashed-wrapped {border: 1px dashed gray;margin: 0 0.4em 0.5em 0.4em;box-sizing: border-box;padding-bottom: 0.4em;background-color: white;}#sk-container-id-12 div.sk-label label {font-family: monospace;font-weight: bold;display: inline-block;line-height: 1.2em;}#sk-container-id-12 div.sk-label-container {text-align: center;}#sk-container-id-12 div.sk-container {/* jupyter's `normalize.less` sets `[hidden] { display: none; }` but bootstrap.min.css set `[hidden] { display: none !important; }` so we also need the `!important` here to be able to override the default hidden behavior on the sphinx rendered scikit-learn.org. See: https://github.com/scikit-learn/scikit-learn/issues/21755 */display: inline-block !important;position: relative;}#sk-container-id-12 div.sk-text-repr-fallback {display: none;}</style><div id=\"sk-container-id-12\" class=\"sk-top-container\"><div class=\"sk-text-repr-fallback\"><pre>DecisionTreeClassifier()</pre><b>In a Jupyter environment, please rerun this cell to show the HTML representation or trust the notebook. <br />On GitHub, the HTML representation is unable to render, please try loading this page with nbviewer.org.</b></div><div class=\"sk-container\" hidden><div class=\"sk-item\"><div class=\"sk-estimator sk-toggleable\"><input class=\"sk-toggleable__control sk-hidden--visually\" id=\"sk-estimator-id-18\" type=\"checkbox\" checked><label for=\"sk-estimator-id-18\" class=\"sk-toggleable__label sk-toggleable__label-arrow\">DecisionTreeClassifier</label><div class=\"sk-toggleable__content\"><pre>DecisionTreeClassifier()</pre></div></div></div></div></div>"
      ],
      "text/plain": [
       "DecisionTreeClassifier()"
      ]
     },
     "execution_count": 264,
     "metadata": {},
     "output_type": "execute_result"
    }
   ],
   "source": [
    "clf = DecisionTreeClassifier()\n",
    "clf"
   ]
  },
  {
   "cell_type": "code",
   "execution_count": 265,
   "id": "ccd565b3",
   "metadata": {},
   "outputs": [],
   "source": [
    "parametrs = {'criterion':['gini', 'entropy'], 'max_depth':range(1, 15)}"
   ]
  },
  {
   "cell_type": "markdown",
   "id": "253e5cab",
   "metadata": {},
   "source": [
    "#### Применяем GridSearchCV для поиска оптимальных параметров модели"
   ]
  },
  {
   "cell_type": "code",
   "execution_count": 266,
   "id": "4be5bc2b",
   "metadata": {},
   "outputs": [],
   "source": [
    "grid_search_cv_clf = GridSearchCV(clf, parametrs, cv=5)"
   ]
  },
  {
   "cell_type": "markdown",
   "id": "8c2a759d",
   "metadata": {},
   "source": [
    "#### Обучаем модель с найденными параметрами"
   ]
  },
  {
   "cell_type": "code",
   "execution_count": 267,
   "id": "12b69e76",
   "metadata": {},
   "outputs": [
    {
     "data": {
      "text/html": [
       "<style>#sk-container-id-13 {color: black;}#sk-container-id-13 pre{padding: 0;}#sk-container-id-13 div.sk-toggleable {background-color: white;}#sk-container-id-13 label.sk-toggleable__label {cursor: pointer;display: block;width: 100%;margin-bottom: 0;padding: 0.3em;box-sizing: border-box;text-align: center;}#sk-container-id-13 label.sk-toggleable__label-arrow:before {content: \"▸\";float: left;margin-right: 0.25em;color: #696969;}#sk-container-id-13 label.sk-toggleable__label-arrow:hover:before {color: black;}#sk-container-id-13 div.sk-estimator:hover label.sk-toggleable__label-arrow:before {color: black;}#sk-container-id-13 div.sk-toggleable__content {max-height: 0;max-width: 0;overflow: hidden;text-align: left;background-color: #f0f8ff;}#sk-container-id-13 div.sk-toggleable__content pre {margin: 0.2em;color: black;border-radius: 0.25em;background-color: #f0f8ff;}#sk-container-id-13 input.sk-toggleable__control:checked~div.sk-toggleable__content {max-height: 200px;max-width: 100%;overflow: auto;}#sk-container-id-13 input.sk-toggleable__control:checked~label.sk-toggleable__label-arrow:before {content: \"▾\";}#sk-container-id-13 div.sk-estimator input.sk-toggleable__control:checked~label.sk-toggleable__label {background-color: #d4ebff;}#sk-container-id-13 div.sk-label input.sk-toggleable__control:checked~label.sk-toggleable__label {background-color: #d4ebff;}#sk-container-id-13 input.sk-hidden--visually {border: 0;clip: rect(1px 1px 1px 1px);clip: rect(1px, 1px, 1px, 1px);height: 1px;margin: -1px;overflow: hidden;padding: 0;position: absolute;width: 1px;}#sk-container-id-13 div.sk-estimator {font-family: monospace;background-color: #f0f8ff;border: 1px dotted black;border-radius: 0.25em;box-sizing: border-box;margin-bottom: 0.5em;}#sk-container-id-13 div.sk-estimator:hover {background-color: #d4ebff;}#sk-container-id-13 div.sk-parallel-item::after {content: \"\";width: 100%;border-bottom: 1px solid gray;flex-grow: 1;}#sk-container-id-13 div.sk-label:hover label.sk-toggleable__label {background-color: #d4ebff;}#sk-container-id-13 div.sk-serial::before {content: \"\";position: absolute;border-left: 1px solid gray;box-sizing: border-box;top: 0;bottom: 0;left: 50%;z-index: 0;}#sk-container-id-13 div.sk-serial {display: flex;flex-direction: column;align-items: center;background-color: white;padding-right: 0.2em;padding-left: 0.2em;position: relative;}#sk-container-id-13 div.sk-item {position: relative;z-index: 1;}#sk-container-id-13 div.sk-parallel {display: flex;align-items: stretch;justify-content: center;background-color: white;position: relative;}#sk-container-id-13 div.sk-item::before, #sk-container-id-13 div.sk-parallel-item::before {content: \"\";position: absolute;border-left: 1px solid gray;box-sizing: border-box;top: 0;bottom: 0;left: 50%;z-index: -1;}#sk-container-id-13 div.sk-parallel-item {display: flex;flex-direction: column;z-index: 1;position: relative;background-color: white;}#sk-container-id-13 div.sk-parallel-item:first-child::after {align-self: flex-end;width: 50%;}#sk-container-id-13 div.sk-parallel-item:last-child::after {align-self: flex-start;width: 50%;}#sk-container-id-13 div.sk-parallel-item:only-child::after {width: 0;}#sk-container-id-13 div.sk-dashed-wrapped {border: 1px dashed gray;margin: 0 0.4em 0.5em 0.4em;box-sizing: border-box;padding-bottom: 0.4em;background-color: white;}#sk-container-id-13 div.sk-label label {font-family: monospace;font-weight: bold;display: inline-block;line-height: 1.2em;}#sk-container-id-13 div.sk-label-container {text-align: center;}#sk-container-id-13 div.sk-container {/* jupyter's `normalize.less` sets `[hidden] { display: none; }` but bootstrap.min.css set `[hidden] { display: none !important; }` so we also need the `!important` here to be able to override the default hidden behavior on the sphinx rendered scikit-learn.org. See: https://github.com/scikit-learn/scikit-learn/issues/21755 */display: inline-block !important;position: relative;}#sk-container-id-13 div.sk-text-repr-fallback {display: none;}</style><div id=\"sk-container-id-13\" class=\"sk-top-container\"><div class=\"sk-text-repr-fallback\"><pre>GridSearchCV(cv=5, estimator=DecisionTreeClassifier(),\n",
       "             param_grid={&#x27;criterion&#x27;: [&#x27;gini&#x27;, &#x27;entropy&#x27;],\n",
       "                         &#x27;max_depth&#x27;: range(1, 15)})</pre><b>In a Jupyter environment, please rerun this cell to show the HTML representation or trust the notebook. <br />On GitHub, the HTML representation is unable to render, please try loading this page with nbviewer.org.</b></div><div class=\"sk-container\" hidden><div class=\"sk-item sk-dashed-wrapped\"><div class=\"sk-label-container\"><div class=\"sk-label sk-toggleable\"><input class=\"sk-toggleable__control sk-hidden--visually\" id=\"sk-estimator-id-19\" type=\"checkbox\" ><label for=\"sk-estimator-id-19\" class=\"sk-toggleable__label sk-toggleable__label-arrow\">GridSearchCV</label><div class=\"sk-toggleable__content\"><pre>GridSearchCV(cv=5, estimator=DecisionTreeClassifier(),\n",
       "             param_grid={&#x27;criterion&#x27;: [&#x27;gini&#x27;, &#x27;entropy&#x27;],\n",
       "                         &#x27;max_depth&#x27;: range(1, 15)})</pre></div></div></div><div class=\"sk-parallel\"><div class=\"sk-parallel-item\"><div class=\"sk-item\"><div class=\"sk-label-container\"><div class=\"sk-label sk-toggleable\"><input class=\"sk-toggleable__control sk-hidden--visually\" id=\"sk-estimator-id-20\" type=\"checkbox\" ><label for=\"sk-estimator-id-20\" class=\"sk-toggleable__label sk-toggleable__label-arrow\">estimator: DecisionTreeClassifier</label><div class=\"sk-toggleable__content\"><pre>DecisionTreeClassifier()</pre></div></div></div><div class=\"sk-serial\"><div class=\"sk-item\"><div class=\"sk-estimator sk-toggleable\"><input class=\"sk-toggleable__control sk-hidden--visually\" id=\"sk-estimator-id-21\" type=\"checkbox\" ><label for=\"sk-estimator-id-21\" class=\"sk-toggleable__label sk-toggleable__label-arrow\">DecisionTreeClassifier</label><div class=\"sk-toggleable__content\"><pre>DecisionTreeClassifier()</pre></div></div></div></div></div></div></div></div></div></div>"
      ],
      "text/plain": [
       "GridSearchCV(cv=5, estimator=DecisionTreeClassifier(),\n",
       "             param_grid={'criterion': ['gini', 'entropy'],\n",
       "                         'max_depth': range(1, 15)})"
      ]
     },
     "execution_count": 267,
     "metadata": {},
     "output_type": "execute_result"
    }
   ],
   "source": [
    "grid_search_cv_clf.fit(X_train, y_train)"
   ]
  },
  {
   "cell_type": "markdown",
   "id": "793a50d8",
   "metadata": {},
   "source": [
    "#### Посмотрим какие параметры были подобраны"
   ]
  },
  {
   "cell_type": "code",
   "execution_count": 268,
   "id": "de2aff59",
   "metadata": {},
   "outputs": [
    {
     "data": {
      "text/plain": [
       "{'criterion': 'gini', 'max_depth': 9}"
      ]
     },
     "execution_count": 268,
     "metadata": {},
     "output_type": "execute_result"
    }
   ],
   "source": [
    "grid_search_cv_clf.best_params_"
   ]
  },
  {
   "cell_type": "code",
   "execution_count": 269,
   "id": "6ae5dc2f",
   "metadata": {},
   "outputs": [
    {
     "data": {
      "text/plain": [
       "0.8556314093587547"
      ]
     },
     "execution_count": 269,
     "metadata": {},
     "output_type": "execute_result"
    }
   ],
   "source": [
    "grid_search_cv_clf.best_score_"
   ]
  },
  {
   "cell_type": "markdown",
   "id": "a0d95c7f",
   "metadata": {},
   "source": [
    "#### Выберем лучший вариант модели"
   ]
  },
  {
   "cell_type": "code",
   "execution_count": 270,
   "id": "88808259",
   "metadata": {},
   "outputs": [],
   "source": [
    "best_clf = grid_search_cv_clf.best_estimator_"
   ]
  },
  {
   "cell_type": "code",
   "execution_count": 271,
   "id": "f5106400",
   "metadata": {},
   "outputs": [
    {
     "data": {
      "text/plain": [
       "0.8638740234975703"
      ]
     },
     "execution_count": 271,
     "metadata": {},
     "output_type": "execute_result"
    }
   ],
   "source": [
    "best_clf.score(X_train, y_train)"
   ]
  },
  {
   "cell_type": "markdown",
   "id": "068b5398",
   "metadata": {},
   "source": [
    "#### Сделаем предсказание"
   ]
  },
  {
   "cell_type": "code",
   "execution_count": 272,
   "id": "2aa989ad",
   "metadata": {},
   "outputs": [
    {
     "data": {
      "text/plain": [
       "array([0., 0., 0., ..., 0., 0., 1.])"
      ]
     },
     "execution_count": 272,
     "metadata": {},
     "output_type": "execute_result"
    }
   ],
   "source": [
    "predictions = best_clf.predict(X_train)\n",
    "predictions"
   ]
  },
  {
   "cell_type": "markdown",
   "id": "e6544e67",
   "metadata": {},
   "source": [
    "#### Узнаем основные метрики"
   ]
  },
  {
   "cell_type": "code",
   "execution_count": 273,
   "id": "a4935823",
   "metadata": {},
   "outputs": [
    {
     "name": "stdout",
     "output_type": "stream",
     "text": [
      "Accuracy: 0.8638740234975703\n",
      "Precision: 0.814725964200037\n",
      "Recall: 0.5633533239760112\n",
      "F1 Score: 0.6661134580567291\n",
      "RMSE: 0.36895253963406965\n",
      "Confusion Matrix:\n",
      "[[23673  1004]\n",
      " [ 3422  4415]]\n"
     ]
    }
   ],
   "source": [
    "accuracy = accuracy_score(y_train, predictions)\n",
    "precision = precision_score(y_train, predictions)\n",
    "recall = recall_score(y_train, predictions)\n",
    "f1 = f1_score(y_train, predictions)\n",
    "rmse = np.sqrt(mean_squared_error(y_train, predictions))\n",
    "conf_matrix = confusion_matrix(y_train, predictions)\n",
    "\n",
    "print(\"Accuracy:\", accuracy)\n",
    "print(\"Precision:\", precision)\n",
    "print(\"Recall:\", recall)\n",
    "print(\"F1 Score:\", f1)\n",
    "print(\"RMSE:\", rmse)\n",
    "print(\"Confusion Matrix:\")\n",
    "\n",
    "print(conf_matrix)"
   ]
  },
  {
   "cell_type": "markdown",
   "id": "c88320bf",
   "metadata": {},
   "source": [
    "#### Построим ROC-кривую"
   ]
  },
  {
   "cell_type": "code",
   "execution_count": 274,
   "id": "33aaf5e6",
   "metadata": {},
   "outputs": [
    {
     "data": {
      "text/plain": [
       "<matplotlib.legend.Legend at 0x1e8427716f0>"
      ]
     },
     "execution_count": 274,
     "metadata": {},
     "output_type": "execute_result"
    },
    {
     "data": {
      "image/png": "[encoded data removed]",
      "text/plain": [
       "<Figure size 640x480 with 1 Axes>"
      ]
     },
     "metadata": {},
     "output_type": "display_data"
    }
   ],
   "source": [
    "y_predicted_probe = best_clf.predict_proba(X_train)\n",
    "from sklearn.metrics import roc_curve, auc\n",
    "fpr, tpr, thresholds = roc_curve(y_train, y_predicted_probe[:,1])\n",
    "roc_auc= auc(fpr, tpr)\n",
    "plt.figure()\n",
    "plt.plot(fpr, tpr, label='ROC curve (area = %0.2f)' % (roc_auc))\n",
    "plt.plot([0, 1], [0, 1] , 'k--')\n",
    "plt.xlim([0.0, 1.0])\n",
    "plt.ylim([0.0, 1.05])\n",
    "plt.xlabel('False Positive Rate')\n",
    "plt.ylabel('True Positive Rate')\n",
    "plt.title('Receiver operating characteristic')\n",
    "plt.legend(loc=\"lower right\")"
   ]
  },
  {
   "cell_type": "code",
   "execution_count": 275,
   "id": "76194e50",
   "metadata": {},
   "outputs": [
    {
     "data": {
      "text/plain": [
       "array([0., 0., 0., ..., 1., 0., 1.])"
      ]
     },
     "execution_count": 275,
     "metadata": {},
     "output_type": "execute_result"
    }
   ],
   "source": [
    "predictions = best_clf.predict(X_test)\n",
    "predictions"
   ]
  },
  {
   "cell_type": "markdown",
   "id": "037b5894",
   "metadata": {},
   "source": [
    "#### Посмотрим на наиболее важные фичи"
   ]
  },
  {
   "cell_type": "code",
   "execution_count": 276,
   "id": "fbd1bc64",
   "metadata": {},
   "outputs": [],
   "source": [
    "feature_importances = best_clf.feature_importances_"
   ]
  },
  {
   "cell_type": "code",
   "execution_count": 277,
   "id": "db303927",
   "metadata": {},
   "outputs": [],
   "source": [
    "feature_importances_df = pd.DataFrame({'features':list(X_train), \n",
    "                                       'feature_importances': feature_importances})"
   ]
  },
  {
   "cell_type": "code",
   "execution_count": 278,
   "id": "0cf138f1",
   "metadata": {},
   "outputs": [
    {
     "data": {
      "text/html": [
       "<div>\n",
       "<style scoped>\n",
       "    .dataframe tbody tr th:only-of-type {\n",
       "        vertical-align: middle;\n",
       "    }\n",
       "\n",
       "    .dataframe tbody tr th {\n",
       "        vertical-align: top;\n",
       "    }\n",
       "\n",
       "    .dataframe thead th {\n",
       "        text-align: right;\n",
       "    }\n",
       "</style>\n",
       "<table border=\"1\" class=\"dataframe\">\n",
       "  <thead>\n",
       "    <tr style=\"text-align: right;\">\n",
       "      <th></th>\n",
       "      <th>features</th>\n",
       "      <th>feature_importances</th>\n",
       "    </tr>\n",
       "  </thead>\n",
       "  <tbody>\n",
       "    <tr>\n",
       "      <th>24</th>\n",
       "      <td>marital-status_Married-civ-spouse</td>\n",
       "      <td>0.396409</td>\n",
       "    </tr>\n",
       "    <tr>\n",
       "      <th>3</th>\n",
       "      <td>education-num</td>\n",
       "      <td>0.206600</td>\n",
       "    </tr>\n",
       "    <tr>\n",
       "      <th>1</th>\n",
       "      <td>cap-gain</td>\n",
       "      <td>0.199319</td>\n",
       "    </tr>\n",
       "    <tr>\n",
       "      <th>2</th>\n",
       "      <td>cap-loss</td>\n",
       "      <td>0.068704</td>\n",
       "    </tr>\n",
       "    <tr>\n",
       "      <th>0</th>\n",
       "      <td>age</td>\n",
       "      <td>0.048004</td>\n",
       "    </tr>\n",
       "    <tr>\n",
       "      <th>...</th>\n",
       "      <td>...</td>\n",
       "      <td>...</td>\n",
       "    </tr>\n",
       "    <tr>\n",
       "      <th>54</th>\n",
       "      <td>native-country_Mexico</td>\n",
       "      <td>0.000000</td>\n",
       "    </tr>\n",
       "    <tr>\n",
       "      <th>53</th>\n",
       "      <td>native-country_Laos</td>\n",
       "      <td>0.000000</td>\n",
       "    </tr>\n",
       "    <tr>\n",
       "      <th>51</th>\n",
       "      <td>native-country_Jamaica</td>\n",
       "      <td>0.000000</td>\n",
       "    </tr>\n",
       "    <tr>\n",
       "      <th>50</th>\n",
       "      <td>native-country_Italy</td>\n",
       "      <td>0.000000</td>\n",
       "    </tr>\n",
       "    <tr>\n",
       "      <th>104</th>\n",
       "      <td>workclass_Without-pay</td>\n",
       "      <td>0.000000</td>\n",
       "    </tr>\n",
       "  </tbody>\n",
       "</table>\n",
       "<p>105 rows × 2 columns</p>\n",
       "</div>"
      ],
      "text/plain": [
       "                              features  feature_importances\n",
       "24   marital-status_Married-civ-spouse             0.396409\n",
       "3                        education-num             0.206600\n",
       "1                             cap-gain             0.199319\n",
       "2                             cap-loss             0.068704\n",
       "0                                  age             0.048004\n",
       "..                                 ...                  ...\n",
       "54               native-country_Mexico             0.000000\n",
       "53                 native-country_Laos             0.000000\n",
       "51              native-country_Jamaica             0.000000\n",
       "50                native-country_Italy             0.000000\n",
       "104              workclass_Without-pay             0.000000\n",
       "\n",
       "[105 rows x 2 columns]"
      ]
     },
     "execution_count": 278,
     "metadata": {},
     "output_type": "execute_result"
    }
   ],
   "source": [
    "feature_importances_df.sort_values(by=['feature_importances'], ascending=False)"
   ]
  },
  {
   "cell_type": "markdown",
   "id": "3673fa3b",
   "metadata": {},
   "source": [
    "#### Сделаем результирующий датафрейм содержащий нецелевые признаки и предсказанный целевой признак"
   ]
  },
  {
   "cell_type": "code",
   "execution_count": 279,
   "id": "3d79bf6c",
   "metadata": {},
   "outputs": [],
   "source": [
    "resultDTA = df_test_copy.copy()"
   ]
  },
  {
   "cell_type": "code",
   "execution_count": 280,
   "id": "d2356b3f",
   "metadata": {},
   "outputs": [
    {
     "data": {
      "text/plain": [
       "<=N    13629\n",
       ">N      2640\n",
       "Name: sum_N, dtype: int64"
      ]
     },
     "execution_count": 280,
     "metadata": {},
     "output_type": "execute_result"
    }
   ],
   "source": [
    "resultDTA['sum_N'] = predictions\n",
    "resultDTA['sum_N'] = resultDTA['sum_N'].replace({0 :'<=N', 1 :'>N'})\n",
    "resultDTA.to_csv('resultDTA.csv')\n",
    "resultDTA['sum_N'].value_counts()"
   ]
  },
  {
   "cell_type": "markdown",
   "id": "aa45ccc6",
   "metadata": {},
   "source": [
    "## В) Logistic Regression с автоматическим подбором параметров"
   ]
  },
  {
   "cell_type": "markdown",
   "id": "7f3258a6",
   "metadata": {},
   "source": [
    "#### Объявляем модель"
   ]
  },
  {
   "cell_type": "code",
   "execution_count": 327,
   "id": "f234c141",
   "metadata": {},
   "outputs": [],
   "source": [
    "lr = LogisticRegression(max_iter=1000)"
   ]
  },
  {
   "cell_type": "markdown",
   "id": "27d896d3",
   "metadata": {},
   "source": [
    "#### Задаём конвейер и сетку параметров для их подбора"
   ]
  },
  {
   "cell_type": "code",
   "execution_count": 328,
   "id": "0f591206",
   "metadata": {},
   "outputs": [],
   "source": [
    "# Определение шагов для конвейера\n",
    "steps = [('scaler', StandardScaler()), ('model', lr)]\n",
    "\n",
    "# Создание конвейера\n",
    "pipeline = Pipeline(steps)\n",
    "\n",
    "# Задание сетки параметров для подбора\n",
    "param_grid = {'model__C': [0.001, 0.01, 0.1, 1, 10, 100], 'model__penalty': ['l2']}"
   ]
  },
  {
   "cell_type": "markdown",
   "id": "ad14138e",
   "metadata": {},
   "source": [
    "#### Обучаем модель"
   ]
  },
  {
   "cell_type": "code",
   "execution_count": 329,
   "id": "937ef3ed",
   "metadata": {},
   "outputs": [
    {
     "data": {
      "text/html": [
       "<style>#sk-container-id-21 {color: black;}#sk-container-id-21 pre{padding: 0;}#sk-container-id-21 div.sk-toggleable {background-color: white;}#sk-container-id-21 label.sk-toggleable__label {cursor: pointer;display: block;width: 100%;margin-bottom: 0;padding: 0.3em;box-sizing: border-box;text-align: center;}#sk-container-id-21 label.sk-toggleable__label-arrow:before {content: \"▸\";float: left;margin-right: 0.25em;color: #696969;}#sk-container-id-21 label.sk-toggleable__label-arrow:hover:before {color: black;}#sk-container-id-21 div.sk-estimator:hover label.sk-toggleable__label-arrow:before {color: black;}#sk-container-id-21 div.sk-toggleable__content {max-height: 0;max-width: 0;overflow: hidden;text-align: left;background-color: #f0f8ff;}#sk-container-id-21 div.sk-toggleable__content pre {margin: 0.2em;color: black;border-radius: 0.25em;background-color: #f0f8ff;}#sk-container-id-21 input.sk-toggleable__control:checked~div.sk-toggleable__content {max-height: 200px;max-width: 100%;overflow: auto;}#sk-container-id-21 input.sk-toggleable__control:checked~label.sk-toggleable__label-arrow:before {content: \"▾\";}#sk-container-id-21 div.sk-estimator input.sk-toggleable__control:checked~label.sk-toggleable__label {background-color: #d4ebff;}#sk-container-id-21 div.sk-label input.sk-toggleable__control:checked~label.sk-toggleable__label {background-color: #d4ebff;}#sk-container-id-21 input.sk-hidden--visually {border: 0;clip: rect(1px 1px 1px 1px);clip: rect(1px, 1px, 1px, 1px);height: 1px;margin: -1px;overflow: hidden;padding: 0;position: absolute;width: 1px;}#sk-container-id-21 div.sk-estimator {font-family: monospace;background-color: #f0f8ff;border: 1px dotted black;border-radius: 0.25em;box-sizing: border-box;margin-bottom: 0.5em;}#sk-container-id-21 div.sk-estimator:hover {background-color: #d4ebff;}#sk-container-id-21 div.sk-parallel-item::after {content: \"\";width: 100%;border-bottom: 1px solid gray;flex-grow: 1;}#sk-container-id-21 div.sk-label:hover label.sk-toggleable__label {background-color: #d4ebff;}#sk-container-id-21 div.sk-serial::before {content: \"\";position: absolute;border-left: 1px solid gray;box-sizing: border-box;top: 0;bottom: 0;left: 50%;z-index: 0;}#sk-container-id-21 div.sk-serial {display: flex;flex-direction: column;align-items: center;background-color: white;padding-right: 0.2em;padding-left: 0.2em;position: relative;}#sk-container-id-21 div.sk-item {position: relative;z-index: 1;}#sk-container-id-21 div.sk-parallel {display: flex;align-items: stretch;justify-content: center;background-color: white;position: relative;}#sk-container-id-21 div.sk-item::before, #sk-container-id-21 div.sk-parallel-item::before {content: \"\";position: absolute;border-left: 1px solid gray;box-sizing: border-box;top: 0;bottom: 0;left: 50%;z-index: -1;}#sk-container-id-21 div.sk-parallel-item {display: flex;flex-direction: column;z-index: 1;position: relative;background-color: white;}#sk-container-id-21 div.sk-parallel-item:first-child::after {align-self: flex-end;width: 50%;}#sk-container-id-21 div.sk-parallel-item:last-child::after {align-self: flex-start;width: 50%;}#sk-container-id-21 div.sk-parallel-item:only-child::after {width: 0;}#sk-container-id-21 div.sk-dashed-wrapped {border: 1px dashed gray;margin: 0 0.4em 0.5em 0.4em;box-sizing: border-box;padding-bottom: 0.4em;background-color: white;}#sk-container-id-21 div.sk-label label {font-family: monospace;font-weight: bold;display: inline-block;line-height: 1.2em;}#sk-container-id-21 div.sk-label-container {text-align: center;}#sk-container-id-21 div.sk-container {/* jupyter's `normalize.less` sets `[hidden] { display: none; }` but bootstrap.min.css set `[hidden] { display: none !important; }` so we also need the `!important` here to be able to override the default hidden behavior on the sphinx rendered scikit-learn.org. See: https://github.com/scikit-learn/scikit-learn/issues/21755 */display: inline-block !important;position: relative;}#sk-container-id-21 div.sk-text-repr-fallback {display: none;}</style><div id=\"sk-container-id-21\" class=\"sk-top-container\"><div class=\"sk-text-repr-fallback\"><pre>GridSearchCV(cv=5,\n",
       "             estimator=Pipeline(steps=[(&#x27;scaler&#x27;, StandardScaler()),\n",
       "                                       (&#x27;model&#x27;,\n",
       "                                        LogisticRegression(max_iter=1000))]),\n",
       "             param_grid={&#x27;model__C&#x27;: [0.001, 0.01, 0.1, 1, 10, 100],\n",
       "                         &#x27;model__penalty&#x27;: [&#x27;l2&#x27;]})</pre><b>In a Jupyter environment, please rerun this cell to show the HTML representation or trust the notebook. <br />On GitHub, the HTML representation is unable to render, please try loading this page with nbviewer.org.</b></div><div class=\"sk-container\" hidden><div class=\"sk-item sk-dashed-wrapped\"><div class=\"sk-label-container\"><div class=\"sk-label sk-toggleable\"><input class=\"sk-toggleable__control sk-hidden--visually\" id=\"sk-estimator-id-51\" type=\"checkbox\" ><label for=\"sk-estimator-id-51\" class=\"sk-toggleable__label sk-toggleable__label-arrow\">GridSearchCV</label><div class=\"sk-toggleable__content\"><pre>GridSearchCV(cv=5,\n",
       "             estimator=Pipeline(steps=[(&#x27;scaler&#x27;, StandardScaler()),\n",
       "                                       (&#x27;model&#x27;,\n",
       "                                        LogisticRegression(max_iter=1000))]),\n",
       "             param_grid={&#x27;model__C&#x27;: [0.001, 0.01, 0.1, 1, 10, 100],\n",
       "                         &#x27;model__penalty&#x27;: [&#x27;l2&#x27;]})</pre></div></div></div><div class=\"sk-parallel\"><div class=\"sk-parallel-item\"><div class=\"sk-item\"><div class=\"sk-label-container\"><div class=\"sk-label sk-toggleable\"><input class=\"sk-toggleable__control sk-hidden--visually\" id=\"sk-estimator-id-52\" type=\"checkbox\" ><label for=\"sk-estimator-id-52\" class=\"sk-toggleable__label sk-toggleable__label-arrow\">estimator: Pipeline</label><div class=\"sk-toggleable__content\"><pre>Pipeline(steps=[(&#x27;scaler&#x27;, StandardScaler()),\n",
       "                (&#x27;model&#x27;, LogisticRegression(max_iter=1000))])</pre></div></div></div><div class=\"sk-serial\"><div class=\"sk-item\"><div class=\"sk-serial\"><div class=\"sk-item\"><div class=\"sk-estimator sk-toggleable\"><input class=\"sk-toggleable__control sk-hidden--visually\" id=\"sk-estimator-id-53\" type=\"checkbox\" ><label for=\"sk-estimator-id-53\" class=\"sk-toggleable__label sk-toggleable__label-arrow\">StandardScaler</label><div class=\"sk-toggleable__content\"><pre>StandardScaler()</pre></div></div></div><div class=\"sk-item\"><div class=\"sk-estimator sk-toggleable\"><input class=\"sk-toggleable__control sk-hidden--visually\" id=\"sk-estimator-id-54\" type=\"checkbox\" ><label for=\"sk-estimator-id-54\" class=\"sk-toggleable__label sk-toggleable__label-arrow\">LogisticRegression</label><div class=\"sk-toggleable__content\"><pre>LogisticRegression(max_iter=1000)</pre></div></div></div></div></div></div></div></div></div></div></div></div>"
      ],
      "text/plain": [
       "GridSearchCV(cv=5,\n",
       "             estimator=Pipeline(steps=[('scaler', StandardScaler()),\n",
       "                                       ('model',\n",
       "                                        LogisticRegression(max_iter=1000))]),\n",
       "             param_grid={'model__C': [0.001, 0.01, 0.1, 1, 10, 100],\n",
       "                         'model__penalty': ['l2']})"
      ]
     },
     "execution_count": 329,
     "metadata": {},
     "output_type": "execute_result"
    }
   ],
   "source": [
    "# Подбор оптимальных параметров с помощью кросс-валидации\n",
    "grid_search = GridSearchCV(pipeline, param_grid, cv=5)\n",
    "grid_search.fit(X_train, y_train)"
   ]
  },
  {
   "cell_type": "code",
   "execution_count": 330,
   "id": "08449289",
   "metadata": {},
   "outputs": [
    {
     "data": {
      "text/plain": [
       "{'model__C': 100, 'model__penalty': 'l2'}"
      ]
     },
     "execution_count": 330,
     "metadata": {},
     "output_type": "execute_result"
    }
   ],
   "source": [
    "grid_search.best_params_"
   ]
  },
  {
   "cell_type": "code",
   "execution_count": 331,
   "id": "6b865a47",
   "metadata": {},
   "outputs": [],
   "source": [
    "best_clf = grid_search.best_estimator_"
   ]
  },
  {
   "cell_type": "code",
   "execution_count": 332,
   "id": "740a2111",
   "metadata": {},
   "outputs": [
    {
     "data": {
      "text/plain": [
       "0.8518176785384758"
      ]
     },
     "execution_count": 332,
     "metadata": {},
     "output_type": "execute_result"
    }
   ],
   "source": [
    "best_clf.score(X_train, y_train)"
   ]
  },
  {
   "cell_type": "code",
   "execution_count": 335,
   "id": "6333f0ad",
   "metadata": {},
   "outputs": [
    {
     "data": {
      "text/plain": [
       "array([0., 0., 0., ..., 0., 0., 1.])"
      ]
     },
     "execution_count": 335,
     "metadata": {},
     "output_type": "execute_result"
    }
   ],
   "source": [
    "predictions = best_clf.predict(X_train)\n",
    "predictions"
   ]
  },
  {
   "cell_type": "code",
   "execution_count": 336,
   "id": "6fc1dbf1",
   "metadata": {},
   "outputs": [
    {
     "name": "stdout",
     "output_type": "stream",
     "text": [
      "Accuracy: 0.8518176785384758\n",
      "Precision: 0.7367843137254902\n",
      "Recall: 0.599336480796223\n",
      "F1 Score: 0.6609907120743034\n",
      "RMSE: 0.3849445693363192\n",
      "Confusion Matrix:\n",
      "[[22999  1678]\n",
      " [ 3140  4697]]\n"
     ]
    }
   ],
   "source": [
    "accuracy = accuracy_score(y_train, predictions)\n",
    "precision = precision_score(y_train, predictions)\n",
    "recall = recall_score(y_train, predictions)\n",
    "f1 = f1_score(y_train, predictions)\n",
    "rmse = np.sqrt(mean_squared_error(y_train, predictions))\n",
    "conf_matrix = confusion_matrix(y_train, predictions)\n",
    "\n",
    "print(\"Accuracy:\", accuracy)\n",
    "print(\"Precision:\", precision)\n",
    "print(\"Recall:\", recall)\n",
    "print(\"F1 Score:\", f1)\n",
    "print(\"RMSE:\", rmse)\n",
    "print(\"Confusion Matrix:\")\n",
    "print(conf_matrix)"
   ]
  },
  {
   "cell_type": "code",
   "execution_count": 337,
   "id": "53aca889",
   "metadata": {},
   "outputs": [
    {
     "data": {
      "text/plain": [
       "<matplotlib.legend.Legend at 0x1e84657b940>"
      ]
     },
     "execution_count": 337,
     "metadata": {},
     "output_type": "execute_result"
    },
    {
     "data": {
      "image/png": "[encoded data removed]",
      "text/plain": [
       "<Figure size 640x480 with 1 Axes>"
      ]
     },
     "metadata": {},
     "output_type": "display_data"
    }
   ],
   "source": [
    "y_predicted_probe = best_clf.predict_proba(X_train)\n",
    "from sklearn.metrics import roc_curve, auc\n",
    "fpr, tpr, thresholds = roc_curve(y_train, y_predicted_probe[:,1])\n",
    "roc_auc= auc(fpr, tpr)\n",
    "plt.figure()\n",
    "plt.plot(fpr, tpr, label='ROC curve (area = %0.2f)' % (roc_auc))\n",
    "plt.plot([0, 1], [0, 1] , 'k--')\n",
    "plt.xlim([0.0, 1.0])\n",
    "plt.ylim([0.0, 1.05])\n",
    "plt.xlabel('False Positive Rate')\n",
    "plt.ylabel('True Positive Rate')\n",
    "plt.title('Receiver operating characteristic')\n",
    "plt.legend(loc=\"lower right\")"
   ]
  },
  {
   "cell_type": "code",
   "execution_count": 338,
   "id": "f5c6b13e",
   "metadata": {},
   "outputs": [
    {
     "data": {
      "text/plain": [
       "array([0., 0., 0., ..., 1., 0., 1.])"
      ]
     },
     "execution_count": 338,
     "metadata": {},
     "output_type": "execute_result"
    }
   ],
   "source": [
    "predictions = best_clf.predict(X_test)\n",
    "predictions"
   ]
  },
  {
   "cell_type": "markdown",
   "id": "738a8b79",
   "metadata": {},
   "source": [
    "#### Сделаем результирующий датафрейм содержащий нецелевые признаки и предсказанный целевой признак"
   ]
  },
  {
   "cell_type": "code",
   "execution_count": 339,
   "id": "bd5083d7",
   "metadata": {},
   "outputs": [],
   "source": [
    "resultLRA = df_test_copy.copy()"
   ]
  },
  {
   "cell_type": "code",
   "execution_count": 341,
   "id": "f26102ef",
   "metadata": {},
   "outputs": [
    {
     "data": {
      "text/plain": [
       "<=N    13175\n",
       ">N      3094\n",
       "Name: sum_N, dtype: int64"
      ]
     },
     "execution_count": 341,
     "metadata": {},
     "output_type": "execute_result"
    }
   ],
   "source": [
    "resultLRA['sum_N'] = predictions\n",
    "resultLRA['sum_N'] = resultLRA['sum_N'].replace({0 :'<=N', 1 :'>N'})\n",
    "resultLRA.to_csv('resultLRA.csv')\n",
    "resultLRA['sum_N'].value_counts()"
   ]
  },
  {
   "cell_type": "markdown",
   "id": "a783ca0c",
   "metadata": {},
   "source": [
    "## Г) Random forest"
   ]
  },
  {
   "cell_type": "markdown",
   "id": "69db9e27",
   "metadata": {},
   "source": [
    "#### Объявляем решающий лес"
   ]
  },
  {
   "cell_type": "code",
   "execution_count": 356,
   "id": "2a4b7bc6",
   "metadata": {},
   "outputs": [],
   "source": [
    "rf = RandomForestClassifier(n_estimators=100, random_state = 17)"
   ]
  },
  {
   "cell_type": "markdown",
   "id": "eddca92e",
   "metadata": {},
   "source": [
    "#### Обучаем модель"
   ]
  },
  {
   "cell_type": "code",
   "execution_count": 357,
   "id": "02d74bf5",
   "metadata": {},
   "outputs": [
    {
     "data": {
      "text/html": [
       "<style>#sk-container-id-25 {color: black;}#sk-container-id-25 pre{padding: 0;}#sk-container-id-25 div.sk-toggleable {background-color: white;}#sk-container-id-25 label.sk-toggleable__label {cursor: pointer;display: block;width: 100%;margin-bottom: 0;padding: 0.3em;box-sizing: border-box;text-align: center;}#sk-container-id-25 label.sk-toggleable__label-arrow:before {content: \"▸\";float: left;margin-right: 0.25em;color: #696969;}#sk-container-id-25 label.sk-toggleable__label-arrow:hover:before {color: black;}#sk-container-id-25 div.sk-estimator:hover label.sk-toggleable__label-arrow:before {color: black;}#sk-container-id-25 div.sk-toggleable__content {max-height: 0;max-width: 0;overflow: hidden;text-align: left;background-color: #f0f8ff;}#sk-container-id-25 div.sk-toggleable__content pre {margin: 0.2em;color: black;border-radius: 0.25em;background-color: #f0f8ff;}#sk-container-id-25 input.sk-toggleable__control:checked~div.sk-toggleable__content {max-height: 200px;max-width: 100%;overflow: auto;}#sk-container-id-25 input.sk-toggleable__control:checked~label.sk-toggleable__label-arrow:before {content: \"▾\";}#sk-container-id-25 div.sk-estimator input.sk-toggleable__control:checked~label.sk-toggleable__label {background-color: #d4ebff;}#sk-container-id-25 div.sk-label input.sk-toggleable__control:checked~label.sk-toggleable__label {background-color: #d4ebff;}#sk-container-id-25 input.sk-hidden--visually {border: 0;clip: rect(1px 1px 1px 1px);clip: rect(1px, 1px, 1px, 1px);height: 1px;margin: -1px;overflow: hidden;padding: 0;position: absolute;width: 1px;}#sk-container-id-25 div.sk-estimator {font-family: monospace;background-color: #f0f8ff;border: 1px dotted black;border-radius: 0.25em;box-sizing: border-box;margin-bottom: 0.5em;}#sk-container-id-25 div.sk-estimator:hover {background-color: #d4ebff;}#sk-container-id-25 div.sk-parallel-item::after {content: \"\";width: 100%;border-bottom: 1px solid gray;flex-grow: 1;}#sk-container-id-25 div.sk-label:hover label.sk-toggleable__label {background-color: #d4ebff;}#sk-container-id-25 div.sk-serial::before {content: \"\";position: absolute;border-left: 1px solid gray;box-sizing: border-box;top: 0;bottom: 0;left: 50%;z-index: 0;}#sk-container-id-25 div.sk-serial {display: flex;flex-direction: column;align-items: center;background-color: white;padding-right: 0.2em;padding-left: 0.2em;position: relative;}#sk-container-id-25 div.sk-item {position: relative;z-index: 1;}#sk-container-id-25 div.sk-parallel {display: flex;align-items: stretch;justify-content: center;background-color: white;position: relative;}#sk-container-id-25 div.sk-item::before, #sk-container-id-25 div.sk-parallel-item::before {content: \"\";position: absolute;border-left: 1px solid gray;box-sizing: border-box;top: 0;bottom: 0;left: 50%;z-index: -1;}#sk-container-id-25 div.sk-parallel-item {display: flex;flex-direction: column;z-index: 1;position: relative;background-color: white;}#sk-container-id-25 div.sk-parallel-item:first-child::after {align-self: flex-end;width: 50%;}#sk-container-id-25 div.sk-parallel-item:last-child::after {align-self: flex-start;width: 50%;}#sk-container-id-25 div.sk-parallel-item:only-child::after {width: 0;}#sk-container-id-25 div.sk-dashed-wrapped {border: 1px dashed gray;margin: 0 0.4em 0.5em 0.4em;box-sizing: border-box;padding-bottom: 0.4em;background-color: white;}#sk-container-id-25 div.sk-label label {font-family: monospace;font-weight: bold;display: inline-block;line-height: 1.2em;}#sk-container-id-25 div.sk-label-container {text-align: center;}#sk-container-id-25 div.sk-container {/* jupyter's `normalize.less` sets `[hidden] { display: none; }` but bootstrap.min.css set `[hidden] { display: none !important; }` so we also need the `!important` here to be able to override the default hidden behavior on the sphinx rendered scikit-learn.org. See: https://github.com/scikit-learn/scikit-learn/issues/21755 */display: inline-block !important;position: relative;}#sk-container-id-25 div.sk-text-repr-fallback {display: none;}</style><div id=\"sk-container-id-25\" class=\"sk-top-container\"><div class=\"sk-text-repr-fallback\"><pre>RandomForestClassifier(random_state=17)</pre><b>In a Jupyter environment, please rerun this cell to show the HTML representation or trust the notebook. <br />On GitHub, the HTML representation is unable to render, please try loading this page with nbviewer.org.</b></div><div class=\"sk-container\" hidden><div class=\"sk-item\"><div class=\"sk-estimator sk-toggleable\"><input class=\"sk-toggleable__control sk-hidden--visually\" id=\"sk-estimator-id-58\" type=\"checkbox\" checked><label for=\"sk-estimator-id-58\" class=\"sk-toggleable__label sk-toggleable__label-arrow\">RandomForestClassifier</label><div class=\"sk-toggleable__content\"><pre>RandomForestClassifier(random_state=17)</pre></div></div></div></div></div>"
      ],
      "text/plain": [
       "RandomForestClassifier(random_state=17)"
      ]
     },
     "execution_count": 357,
     "metadata": {},
     "output_type": "execute_result"
    }
   ],
   "source": [
    "rf.fit(X_train, y_train)"
   ]
  },
  {
   "cell_type": "markdown",
   "id": "2be1a6aa",
   "metadata": {},
   "source": [
    "#### Смотрим score"
   ]
  },
  {
   "cell_type": "code",
   "execution_count": 358,
   "id": "b215c0c8",
   "metadata": {},
   "outputs": [
    {
     "data": {
      "text/plain": [
       "0.9999077320538845"
      ]
     },
     "execution_count": 358,
     "metadata": {},
     "output_type": "execute_result"
    }
   ],
   "source": [
    "rf.score(X_train, y_train)"
   ]
  },
  {
   "cell_type": "markdown",
   "id": "c96349d6",
   "metadata": {},
   "source": [
    "#### Сделаем предсказание"
   ]
  },
  {
   "cell_type": "code",
   "execution_count": 359,
   "id": "09c900cc",
   "metadata": {},
   "outputs": [
    {
     "data": {
      "text/plain": [
       "array([0., 0., 0., ..., 0., 0., 1.])"
      ]
     },
     "execution_count": 359,
     "metadata": {},
     "output_type": "execute_result"
    }
   ],
   "source": [
    "predictions = rf.predict(X_train)\n",
    "predictions"
   ]
  },
  {
   "cell_type": "markdown",
   "id": "57ecd00e",
   "metadata": {},
   "source": [
    "#### Посмотрим метрики. Как видно метрики на тренировочной выборке очень высокие. На тестовой выборки метрики должны быть адекватнее"
   ]
  },
  {
   "cell_type": "code",
   "execution_count": 360,
   "id": "7e02bbd6",
   "metadata": {},
   "outputs": [
    {
     "name": "stdout",
     "output_type": "stream",
     "text": [
      "Accuracy: 0.9999077320538845\n",
      "Precision: 1.0\n",
      "Recall: 0.9996172004593594\n",
      "F1 Score: 0.9998085635887946\n",
      "RMSE: 0.00960562054817488\n",
      "Confusion Matrix:\n",
      "[[24677     0]\n",
      " [    3  7834]]\n"
     ]
    }
   ],
   "source": [
    "accuracy = accuracy_score(y_train, predictions)\n",
    "precision = precision_score(y_train, predictions)\n",
    "recall = recall_score(y_train, predictions)\n",
    "f1 = f1_score(y_train, predictions)\n",
    "rmse = np.sqrt(mean_squared_error(y_train, predictions))\n",
    "\n",
    "conf_matrix = confusion_matrix(y_train, predictions)\n",
    "\n",
    "print(\"Accuracy:\", accuracy)\n",
    "print(\"Precision:\", precision)\n",
    "print(\"Recall:\", recall)\n",
    "print(\"F1 Score:\", f1)\n",
    "print(\"RMSE:\", rmse)\n",
    "print(\"Confusion Matrix:\")\n",
    "print(conf_matrix)"
   ]
  },
  {
   "cell_type": "code",
   "execution_count": 361,
   "id": "6b8b5bc8",
   "metadata": {},
   "outputs": [
    {
     "data": {
      "text/plain": [
       "<matplotlib.legend.Legend at 0x1e854bfe4d0>"
      ]
     },
     "execution_count": 361,
     "metadata": {},
     "output_type": "execute_result"
    },
    {
     "data": {
      "image/png": "[encoded data removed]",
      "text/plain": [
       "<Figure size 640x480 with 1 Axes>"
      ]
     },
     "metadata": {},
     "output_type": "display_data"
    }
   ],
   "source": [
    "y_predicted_probe = rf.predict_proba(X_train)\n",
    "from sklearn.metrics import roc_curve, auc\n",
    "fpr, tpr, thresholds = roc_curve(y_train, y_predicted_probe[:,1])\n",
    "roc_auc= auc(fpr, tpr)\n",
    "plt.figure()\n",
    "plt.plot(fpr, tpr, label='ROC curve (area = %0.2f)' % (roc_auc))\n",
    "plt.plot([0, 1], [0, 1] , 'k--')\n",
    "plt.xlim([0.0, 1.0])\n",
    "plt.ylim([0.0, 1.05])\n",
    "plt.xlabel('False Positive Rate')\n",
    "plt.ylabel('True Positive Rate')\n",
    "plt.title('Receiver operating characteristic')\n",
    "plt.legend(loc=\"lower right\")"
   ]
  },
  {
   "cell_type": "markdown",
   "id": "64d8ae1e",
   "metadata": {},
   "source": [
    "#### Сделаем предсказание"
   ]
  },
  {
   "cell_type": "code",
   "execution_count": 365,
   "id": "ab2a641b",
   "metadata": {},
   "outputs": [
    {
     "data": {
      "text/plain": [
       "array([0., 0., 1., ..., 1., 0., 1.])"
      ]
     },
     "execution_count": 365,
     "metadata": {},
     "output_type": "execute_result"
    }
   ],
   "source": [
    "predictions = rf.predict(X_test)\n",
    "predictions"
   ]
  },
  {
   "cell_type": "markdown",
   "id": "c6a57e69",
   "metadata": {},
   "source": [
    "#### Сделаем результирующий датафрейм содержащий нецелевые признаки и предсказанный целевой признак"
   ]
  },
  {
   "cell_type": "code",
   "execution_count": 366,
   "id": "2ebf37d0",
   "metadata": {},
   "outputs": [],
   "source": [
    "resultRF = df_test_copy.copy()"
   ]
  },
  {
   "cell_type": "code",
   "execution_count": 367,
   "id": "caaa426d",
   "metadata": {},
   "outputs": [
    {
     "data": {
      "text/plain": [
       "<=N    13000\n",
       ">N      3269\n",
       "Name: sum_N, dtype: int64"
      ]
     },
     "execution_count": 367,
     "metadata": {},
     "output_type": "execute_result"
    }
   ],
   "source": [
    "resultRF['sum_N'] = predictions\n",
    "resultRF['sum_N'] = resultRF['sum_N'].replace({0 :'<=N', 1 :'>N'})\n",
    "resultRF.to_csv('resultRF.csv')\n",
    "resultRF['sum_N'].value_counts()"
   ]
  },
  {
   "cell_type": "code",
   "execution_count": null,
   "id": "0f33e5fa",
   "metadata": {},
   "outputs": [],
   "source": []
  }
 ],
 "metadata": {
  "kernelspec": {
   "display_name": "Python 3 (ipykernel)",
   "language": "python",
   "name": "python3"
  },
  "language_info": {
   "codemirror_mode": {
    "name": "ipython",
    "version": 3
   },
   "file_extension": ".py",
   "mimetype": "text/x-python",
   "name": "python",
   "nbconvert_exporter": "python",
   "pygments_lexer": "ipython3",
   "version": "3.10.10"
  }
 },
 "nbformat": 4,
 "nbformat_minor": 5
}
