{
 "cells": [
  {
   "cell_type": "code",
   "execution_count": 233,
   "id": "42290b98",
   "metadata": {},
   "outputs": [],
   "source": [
    "import pandas as pd\n",
    "import numpy as np\n",
    "import matplotlib.pyplot as plt\n",
    "from sklearn.model_selection import GridSearchCV, cross_val_score\n",
    "from sklearn.tree import DecisionTreeClassifier, export_graphviz\n",
    "from sklearn.ensemble import RandomForestClassifier\n",
    "from sklearn.metrics import accuracy_score, precision_score, recall_score, f1_score, confusion_matrix"
   ]
  },
  {
   "cell_type": "markdown",
   "id": "81c533ac",
   "metadata": {},
   "source": [
    "# 1. Описание данных и задачи\n",
    "Предсказать получает ли человек больше суммы N или меньше.\n",
    "- age: возраст, действительное.\n",
    "- workclass: тип работодателя, категориальное. \n",
    "- final_weight: итоговый вес обьекта, действительное.\n",
    "- education: уровень образования, категориальное.\n",
    "- education-num: количество лет обучения, действительное.\n",
    "- marital-status: семейное положение, категориальное.\n",
    "- occupation: профессия, категориальное.\n",
    "- relationship: тип семейных отношений, категориальное.\n",
    "- race: раса, категориальное.\n",
    "- sex: пол, категориальное.\n",
    "- cap-gain: прирост капитала, действительное.\n",
    "- cap-loss: потери капитала, действительное.\n",
    "- hours-per-week: количество часов работы в неделю, действительное.\n",
    "- native-country: страна, категориальное.\n",
    "\n",
    "Целевая переменная: sum_N – уровень заработка, категориальный (бинарный) признак"
   ]
  },
  {
   "cell_type": "markdown",
   "id": "dff6a282",
   "metadata": {},
   "source": [
    "#### Считаем csv файлы с тренировочной и тестовой выборкой и добавляем названия колонок"
   ]
  },
  {
   "cell_type": "code",
   "execution_count": 136,
   "id": "2357b3c2",
   "metadata": {},
   "outputs": [],
   "source": [
    "names = ['age', 'workclass', 'final_weight', 'education' , 'education-num', \n",
    "         'marital-status', 'occupation', 'relationship', 'race', 'sex', 'cap-gain', \n",
    "         'cap-loss', 'hours-per-week', 'native-country']\n",
    "df_test = pd.read_csv(\"test_empty.txt\", names=names)\n",
    "names.append(\"sum_N\")\n",
    "df_train = pd.read_csv(\"data.txt\", names=names)"
   ]
  },
  {
   "cell_type": "markdown",
   "id": "dfceb610",
   "metadata": {},
   "source": [
    "#### Посмотрим наполнение датафреймов"
   ]
  },
  {
   "cell_type": "code",
   "execution_count": 137,
   "id": "f0541632",
   "metadata": {},
   "outputs": [
    {
     "data": {
      "text/html": [
       "<div>\n",
       "<style scoped>\n",
       "    .dataframe tbody tr th:only-of-type {\n",
       "        vertical-align: middle;\n",
       "    }\n",
       "\n",
       "    .dataframe tbody tr th {\n",
       "        vertical-align: top;\n",
       "    }\n",
       "\n",
       "    .dataframe thead th {\n",
       "        text-align: right;\n",
       "    }\n",
       "</style>\n",
       "<table border=\"1\" class=\"dataframe\">\n",
       "  <thead>\n",
       "    <tr style=\"text-align: right;\">\n",
       "      <th></th>\n",
       "      <th>age</th>\n",
       "      <th>workclass</th>\n",
       "      <th>final_weight</th>\n",
       "      <th>education</th>\n",
       "      <th>education-num</th>\n",
       "      <th>marital-status</th>\n",
       "      <th>occupation</th>\n",
       "      <th>relationship</th>\n",
       "      <th>race</th>\n",
       "      <th>sex</th>\n",
       "      <th>cap-gain</th>\n",
       "      <th>cap-loss</th>\n",
       "      <th>hours-per-week</th>\n",
       "      <th>native-country</th>\n",
       "      <th>sum_N</th>\n",
       "    </tr>\n",
       "  </thead>\n",
       "  <tbody>\n",
       "    <tr>\n",
       "      <th>0</th>\n",
       "      <td>39</td>\n",
       "      <td>State-gov</td>\n",
       "      <td>77516.0</td>\n",
       "      <td>Bachelors</td>\n",
       "      <td>13</td>\n",
       "      <td>Never-married</td>\n",
       "      <td>Adm-clerical</td>\n",
       "      <td>Not-in-family</td>\n",
       "      <td>White</td>\n",
       "      <td>Male</td>\n",
       "      <td>2174.0</td>\n",
       "      <td>0.0</td>\n",
       "      <td>40</td>\n",
       "      <td>United-States</td>\n",
       "      <td>&lt;=N</td>\n",
       "    </tr>\n",
       "    <tr>\n",
       "      <th>1</th>\n",
       "      <td>50</td>\n",
       "      <td>Self-emp-not-inc</td>\n",
       "      <td>83311.0</td>\n",
       "      <td>Bachelors</td>\n",
       "      <td>13</td>\n",
       "      <td>Married-civ-spouse</td>\n",
       "      <td>Exec-managerial</td>\n",
       "      <td>Husband</td>\n",
       "      <td>White</td>\n",
       "      <td>Male</td>\n",
       "      <td>0.0</td>\n",
       "      <td>0.0</td>\n",
       "      <td>13</td>\n",
       "      <td>United-States</td>\n",
       "      <td>&lt;=N</td>\n",
       "    </tr>\n",
       "    <tr>\n",
       "      <th>2</th>\n",
       "      <td>38</td>\n",
       "      <td>Private</td>\n",
       "      <td>215646.0</td>\n",
       "      <td>HS-grad</td>\n",
       "      <td>9</td>\n",
       "      <td>Divorced</td>\n",
       "      <td>Handlers-cleaners</td>\n",
       "      <td>Not-in-family</td>\n",
       "      <td>White</td>\n",
       "      <td>Male</td>\n",
       "      <td>0.0</td>\n",
       "      <td>0.0</td>\n",
       "      <td>40</td>\n",
       "      <td>United-States</td>\n",
       "      <td>&lt;=N</td>\n",
       "    </tr>\n",
       "    <tr>\n",
       "      <th>3</th>\n",
       "      <td>53</td>\n",
       "      <td>Private</td>\n",
       "      <td>234721.0</td>\n",
       "      <td>11th</td>\n",
       "      <td>7</td>\n",
       "      <td>Married-civ-spouse</td>\n",
       "      <td>Handlers-cleaners</td>\n",
       "      <td>Husband</td>\n",
       "      <td>Black</td>\n",
       "      <td>Male</td>\n",
       "      <td>0.0</td>\n",
       "      <td>0.0</td>\n",
       "      <td>40</td>\n",
       "      <td>United-States</td>\n",
       "      <td>&lt;=N</td>\n",
       "    </tr>\n",
       "    <tr>\n",
       "      <th>4</th>\n",
       "      <td>28</td>\n",
       "      <td>Private</td>\n",
       "      <td>338409.0</td>\n",
       "      <td>Bachelors</td>\n",
       "      <td>13</td>\n",
       "      <td>Married-civ-spouse</td>\n",
       "      <td>Prof-specialty</td>\n",
       "      <td>Wife</td>\n",
       "      <td>Black</td>\n",
       "      <td>Female</td>\n",
       "      <td>0.0</td>\n",
       "      <td>0.0</td>\n",
       "      <td>40</td>\n",
       "      <td>Cuba</td>\n",
       "      <td>&lt;=N</td>\n",
       "    </tr>\n",
       "  </tbody>\n",
       "</table>\n",
       "</div>"
      ],
      "text/plain": [
       "  age          workclass  final_weight   education education-num  \\\n",
       "0  39          State-gov       77516.0   Bachelors            13   \n",
       "1  50   Self-emp-not-inc       83311.0   Bachelors            13   \n",
       "2  38            Private      215646.0     HS-grad             9   \n",
       "3  53            Private      234721.0        11th             7   \n",
       "4  28            Private      338409.0   Bachelors            13   \n",
       "\n",
       "        marital-status          occupation    relationship    race      sex  \\\n",
       "0        Never-married        Adm-clerical   Not-in-family   White     Male   \n",
       "1   Married-civ-spouse     Exec-managerial         Husband   White     Male   \n",
       "2             Divorced   Handlers-cleaners   Not-in-family   White     Male   \n",
       "3   Married-civ-spouse   Handlers-cleaners         Husband   Black     Male   \n",
       "4   Married-civ-spouse      Prof-specialty            Wife   Black   Female   \n",
       "\n",
       "   cap-gain  cap-loss hours-per-week  native-country sum_N  \n",
       "0    2174.0       0.0             40   United-States   <=N  \n",
       "1       0.0       0.0             13   United-States   <=N  \n",
       "2       0.0       0.0             40   United-States   <=N  \n",
       "3       0.0       0.0             40   United-States   <=N  \n",
       "4       0.0       0.0             40            Cuba   <=N  "
      ]
     },
     "execution_count": 137,
     "metadata": {},
     "output_type": "execute_result"
    }
   ],
   "source": [
    "df_train.head(5)"
   ]
  },
  {
   "cell_type": "code",
   "execution_count": 138,
   "id": "d69d3160",
   "metadata": {},
   "outputs": [
    {
     "data": {
      "text/html": [
       "<div>\n",
       "<style scoped>\n",
       "    .dataframe tbody tr th:only-of-type {\n",
       "        vertical-align: middle;\n",
       "    }\n",
       "\n",
       "    .dataframe tbody tr th {\n",
       "        vertical-align: top;\n",
       "    }\n",
       "\n",
       "    .dataframe thead th {\n",
       "        text-align: right;\n",
       "    }\n",
       "</style>\n",
       "<table border=\"1\" class=\"dataframe\">\n",
       "  <thead>\n",
       "    <tr style=\"text-align: right;\">\n",
       "      <th></th>\n",
       "      <th>age</th>\n",
       "      <th>workclass</th>\n",
       "      <th>final_weight</th>\n",
       "      <th>education</th>\n",
       "      <th>education-num</th>\n",
       "      <th>marital-status</th>\n",
       "      <th>occupation</th>\n",
       "      <th>relationship</th>\n",
       "      <th>race</th>\n",
       "      <th>sex</th>\n",
       "      <th>cap-gain</th>\n",
       "      <th>cap-loss</th>\n",
       "      <th>hours-per-week</th>\n",
       "      <th>native-country</th>\n",
       "    </tr>\n",
       "  </thead>\n",
       "  <tbody>\n",
       "    <tr>\n",
       "      <th>0</th>\n",
       "      <td>25</td>\n",
       "      <td>Private</td>\n",
       "      <td>226802.0</td>\n",
       "      <td>11th</td>\n",
       "      <td>7.0</td>\n",
       "      <td>Never-married</td>\n",
       "      <td>Machine-op-inspct</td>\n",
       "      <td>Own-child</td>\n",
       "      <td>Black</td>\n",
       "      <td>Male</td>\n",
       "      <td>0.0</td>\n",
       "      <td>0.0</td>\n",
       "      <td>40.0</td>\n",
       "      <td>United-States</td>\n",
       "    </tr>\n",
       "    <tr>\n",
       "      <th>1</th>\n",
       "      <td>38</td>\n",
       "      <td>Private</td>\n",
       "      <td>89814.0</td>\n",
       "      <td>HS-grad</td>\n",
       "      <td>9.0</td>\n",
       "      <td>Married-civ-spouse</td>\n",
       "      <td>Farming-fishing</td>\n",
       "      <td>Husband</td>\n",
       "      <td>White</td>\n",
       "      <td>Male</td>\n",
       "      <td>0.0</td>\n",
       "      <td>0.0</td>\n",
       "      <td>50.0</td>\n",
       "      <td>United-States</td>\n",
       "    </tr>\n",
       "    <tr>\n",
       "      <th>2</th>\n",
       "      <td>28</td>\n",
       "      <td>Local-gov</td>\n",
       "      <td>336951.0</td>\n",
       "      <td>Assoc-acdm</td>\n",
       "      <td>12.0</td>\n",
       "      <td>Married-civ-spouse</td>\n",
       "      <td>Protective-serv</td>\n",
       "      <td>Husband</td>\n",
       "      <td>White</td>\n",
       "      <td>Male</td>\n",
       "      <td>0.0</td>\n",
       "      <td>0.0</td>\n",
       "      <td>40.0</td>\n",
       "      <td>United-States</td>\n",
       "    </tr>\n",
       "    <tr>\n",
       "      <th>3</th>\n",
       "      <td>44</td>\n",
       "      <td>Private</td>\n",
       "      <td>160323.0</td>\n",
       "      <td>Some-college</td>\n",
       "      <td>10.0</td>\n",
       "      <td>Married-civ-spouse</td>\n",
       "      <td>Machine-op-inspct</td>\n",
       "      <td>Husband</td>\n",
       "      <td>Black</td>\n",
       "      <td>Male</td>\n",
       "      <td>7688.0</td>\n",
       "      <td>0.0</td>\n",
       "      <td>40.0</td>\n",
       "      <td>United-States</td>\n",
       "    </tr>\n",
       "    <tr>\n",
       "      <th>4</th>\n",
       "      <td>18</td>\n",
       "      <td>?</td>\n",
       "      <td>103497.0</td>\n",
       "      <td>Some-college</td>\n",
       "      <td>10.0</td>\n",
       "      <td>Never-married</td>\n",
       "      <td>?</td>\n",
       "      <td>Own-child</td>\n",
       "      <td>White</td>\n",
       "      <td>Female</td>\n",
       "      <td>0.0</td>\n",
       "      <td>0.0</td>\n",
       "      <td>30.0</td>\n",
       "      <td>United-States</td>\n",
       "    </tr>\n",
       "  </tbody>\n",
       "</table>\n",
       "</div>"
      ],
      "text/plain": [
       "  age   workclass  final_weight      education  education-num  \\\n",
       "0  25     Private      226802.0           11th            7.0   \n",
       "1  38     Private       89814.0        HS-grad            9.0   \n",
       "2  28   Local-gov      336951.0     Assoc-acdm           12.0   \n",
       "3  44     Private      160323.0   Some-college           10.0   \n",
       "4  18           ?      103497.0   Some-college           10.0   \n",
       "\n",
       "        marital-status          occupation relationship    race      sex  \\\n",
       "0        Never-married   Machine-op-inspct    Own-child   Black     Male   \n",
       "1   Married-civ-spouse     Farming-fishing      Husband   White     Male   \n",
       "2   Married-civ-spouse     Protective-serv      Husband   White     Male   \n",
       "3   Married-civ-spouse   Machine-op-inspct      Husband   Black     Male   \n",
       "4        Never-married                   ?    Own-child   White   Female   \n",
       "\n",
       "   cap-gain  cap-loss  hours-per-week  native-country  \n",
       "0       0.0       0.0            40.0   United-States  \n",
       "1       0.0       0.0            50.0   United-States  \n",
       "2       0.0       0.0            40.0   United-States  \n",
       "3    7688.0       0.0            40.0   United-States  \n",
       "4       0.0       0.0            30.0   United-States  "
      ]
     },
     "execution_count": 138,
     "metadata": {},
     "output_type": "execute_result"
    }
   ],
   "source": [
    "df_test.head(5)"
   ]
  },
  {
   "cell_type": "markdown",
   "id": "0b0ba2c3",
   "metadata": {},
   "source": [
    "#### Заменим значения таргета на бинарные, так как решаем задачу бинарной классификации"
   ]
  },
  {
   "cell_type": "code",
   "execution_count": 139,
   "id": "9b4f1bf8",
   "metadata": {},
   "outputs": [],
   "source": [
    "df_train['sum_N'] = df_train['sum_N'].replace({' <=N': 0, ' >N': 1})"
   ]
  },
  {
   "cell_type": "code",
   "execution_count": 140,
   "id": "5960b5f5",
   "metadata": {},
   "outputs": [
    {
     "data": {
      "text/html": [
       "<div>\n",
       "<style scoped>\n",
       "    .dataframe tbody tr th:only-of-type {\n",
       "        vertical-align: middle;\n",
       "    }\n",
       "\n",
       "    .dataframe tbody tr th {\n",
       "        vertical-align: top;\n",
       "    }\n",
       "\n",
       "    .dataframe thead th {\n",
       "        text-align: right;\n",
       "    }\n",
       "</style>\n",
       "<table border=\"1\" class=\"dataframe\">\n",
       "  <thead>\n",
       "    <tr style=\"text-align: right;\">\n",
       "      <th></th>\n",
       "      <th>age</th>\n",
       "      <th>workclass</th>\n",
       "      <th>final_weight</th>\n",
       "      <th>education</th>\n",
       "      <th>education-num</th>\n",
       "      <th>marital-status</th>\n",
       "      <th>occupation</th>\n",
       "      <th>relationship</th>\n",
       "      <th>race</th>\n",
       "      <th>sex</th>\n",
       "      <th>cap-gain</th>\n",
       "      <th>cap-loss</th>\n",
       "      <th>hours-per-week</th>\n",
       "      <th>native-country</th>\n",
       "      <th>sum_N</th>\n",
       "    </tr>\n",
       "  </thead>\n",
       "  <tbody>\n",
       "    <tr>\n",
       "      <th>0</th>\n",
       "      <td>39</td>\n",
       "      <td>State-gov</td>\n",
       "      <td>77516.0</td>\n",
       "      <td>Bachelors</td>\n",
       "      <td>13</td>\n",
       "      <td>Never-married</td>\n",
       "      <td>Adm-clerical</td>\n",
       "      <td>Not-in-family</td>\n",
       "      <td>White</td>\n",
       "      <td>Male</td>\n",
       "      <td>2174.0</td>\n",
       "      <td>0.0</td>\n",
       "      <td>40</td>\n",
       "      <td>United-States</td>\n",
       "      <td>0.0</td>\n",
       "    </tr>\n",
       "    <tr>\n",
       "      <th>1</th>\n",
       "      <td>50</td>\n",
       "      <td>Self-emp-not-inc</td>\n",
       "      <td>83311.0</td>\n",
       "      <td>Bachelors</td>\n",
       "      <td>13</td>\n",
       "      <td>Married-civ-spouse</td>\n",
       "      <td>Exec-managerial</td>\n",
       "      <td>Husband</td>\n",
       "      <td>White</td>\n",
       "      <td>Male</td>\n",
       "      <td>0.0</td>\n",
       "      <td>0.0</td>\n",
       "      <td>13</td>\n",
       "      <td>United-States</td>\n",
       "      <td>0.0</td>\n",
       "    </tr>\n",
       "    <tr>\n",
       "      <th>2</th>\n",
       "      <td>38</td>\n",
       "      <td>Private</td>\n",
       "      <td>215646.0</td>\n",
       "      <td>HS-grad</td>\n",
       "      <td>9</td>\n",
       "      <td>Divorced</td>\n",
       "      <td>Handlers-cleaners</td>\n",
       "      <td>Not-in-family</td>\n",
       "      <td>White</td>\n",
       "      <td>Male</td>\n",
       "      <td>0.0</td>\n",
       "      <td>0.0</td>\n",
       "      <td>40</td>\n",
       "      <td>United-States</td>\n",
       "      <td>0.0</td>\n",
       "    </tr>\n",
       "    <tr>\n",
       "      <th>3</th>\n",
       "      <td>53</td>\n",
       "      <td>Private</td>\n",
       "      <td>234721.0</td>\n",
       "      <td>11th</td>\n",
       "      <td>7</td>\n",
       "      <td>Married-civ-spouse</td>\n",
       "      <td>Handlers-cleaners</td>\n",
       "      <td>Husband</td>\n",
       "      <td>Black</td>\n",
       "      <td>Male</td>\n",
       "      <td>0.0</td>\n",
       "      <td>0.0</td>\n",
       "      <td>40</td>\n",
       "      <td>United-States</td>\n",
       "      <td>0.0</td>\n",
       "    </tr>\n",
       "    <tr>\n",
       "      <th>4</th>\n",
       "      <td>28</td>\n",
       "      <td>Private</td>\n",
       "      <td>338409.0</td>\n",
       "      <td>Bachelors</td>\n",
       "      <td>13</td>\n",
       "      <td>Married-civ-spouse</td>\n",
       "      <td>Prof-specialty</td>\n",
       "      <td>Wife</td>\n",
       "      <td>Black</td>\n",
       "      <td>Female</td>\n",
       "      <td>0.0</td>\n",
       "      <td>0.0</td>\n",
       "      <td>40</td>\n",
       "      <td>Cuba</td>\n",
       "      <td>0.0</td>\n",
       "    </tr>\n",
       "  </tbody>\n",
       "</table>\n",
       "</div>"
      ],
      "text/plain": [
       "  age          workclass  final_weight   education education-num  \\\n",
       "0  39          State-gov       77516.0   Bachelors            13   \n",
       "1  50   Self-emp-not-inc       83311.0   Bachelors            13   \n",
       "2  38            Private      215646.0     HS-grad             9   \n",
       "3  53            Private      234721.0        11th             7   \n",
       "4  28            Private      338409.0   Bachelors            13   \n",
       "\n",
       "        marital-status          occupation    relationship    race      sex  \\\n",
       "0        Never-married        Adm-clerical   Not-in-family   White     Male   \n",
       "1   Married-civ-spouse     Exec-managerial         Husband   White     Male   \n",
       "2             Divorced   Handlers-cleaners   Not-in-family   White     Male   \n",
       "3   Married-civ-spouse   Handlers-cleaners         Husband   Black     Male   \n",
       "4   Married-civ-spouse      Prof-specialty            Wife   Black   Female   \n",
       "\n",
       "   cap-gain  cap-loss hours-per-week  native-country  sum_N  \n",
       "0    2174.0       0.0             40   United-States    0.0  \n",
       "1       0.0       0.0             13   United-States    0.0  \n",
       "2       0.0       0.0             40   United-States    0.0  \n",
       "3       0.0       0.0             40   United-States    0.0  \n",
       "4       0.0       0.0             40            Cuba    0.0  "
      ]
     },
     "execution_count": 140,
     "metadata": {},
     "output_type": "execute_result"
    }
   ],
   "source": [
    "df_train.head(5)"
   ]
  },
  {
   "cell_type": "markdown",
   "id": "d59a5936",
   "metadata": {},
   "source": [
    "# 2. Исследование данных\n",
    "## а) Узнаём базовые сведения о тренировочном датасете"
   ]
  },
  {
   "cell_type": "markdown",
   "id": "33edfb10",
   "metadata": {},
   "source": [
    "#### Сведения о размерах данных"
   ]
  },
  {
   "cell_type": "code",
   "execution_count": 141,
   "id": "e3c9ce3f",
   "metadata": {},
   "outputs": [
    {
     "data": {
      "text/plain": [
       "(32573, 15)"
      ]
     },
     "execution_count": 141,
     "metadata": {},
     "output_type": "execute_result"
    }
   ],
   "source": [
    "df_train.shape"
   ]
  },
  {
   "cell_type": "markdown",
   "id": "a17f7263",
   "metadata": {},
   "source": [
    "#### Информация о типах данных"
   ]
  },
  {
   "cell_type": "code",
   "execution_count": 142,
   "id": "973fb88d",
   "metadata": {},
   "outputs": [
    {
     "name": "stdout",
     "output_type": "stream",
     "text": [
      "<class 'pandas.core.frame.DataFrame'>\n",
      "RangeIndex: 32573 entries, 0 to 32572\n",
      "Data columns (total 15 columns):\n",
      " #   Column          Non-Null Count  Dtype  \n",
      "---  ------          --------------  -----  \n",
      " 0   age             32573 non-null  object \n",
      " 1   workclass       32572 non-null  object \n",
      " 2   final_weight    32572 non-null  float64\n",
      " 3   education       32572 non-null  object \n",
      " 4   education-num   32572 non-null  object \n",
      " 5   marital-status  32572 non-null  object \n",
      " 6   occupation      32572 non-null  object \n",
      " 7   relationship    32572 non-null  object \n",
      " 8   race            32572 non-null  object \n",
      " 9   sex             32572 non-null  object \n",
      " 10  cap-gain        32572 non-null  float64\n",
      " 11  cap-loss        32572 non-null  float64\n",
      " 12  hours-per-week  32572 non-null  object \n",
      " 13  native-country  32572 non-null  object \n",
      " 14  sum_N           32571 non-null  float64\n",
      "dtypes: float64(4), object(11)\n",
      "memory usage: 3.7+ MB\n"
     ]
    }
   ],
   "source": [
    "df_train.info()"
   ]
  },
  {
   "cell_type": "markdown",
   "id": "c126920c",
   "metadata": {},
   "source": [
    "#### Также узнаем подробности о данных"
   ]
  },
  {
   "cell_type": "code",
   "execution_count": 143,
   "id": "b08513b4",
   "metadata": {},
   "outputs": [
    {
     "data": {
      "text/html": [
       "<div>\n",
       "<style scoped>\n",
       "    .dataframe tbody tr th:only-of-type {\n",
       "        vertical-align: middle;\n",
       "    }\n",
       "\n",
       "    .dataframe tbody tr th {\n",
       "        vertical-align: top;\n",
       "    }\n",
       "\n",
       "    .dataframe thead th {\n",
       "        text-align: right;\n",
       "    }\n",
       "</style>\n",
       "<table border=\"1\" class=\"dataframe\">\n",
       "  <thead>\n",
       "    <tr style=\"text-align: right;\">\n",
       "      <th></th>\n",
       "      <th>final_weight</th>\n",
       "      <th>cap-gain</th>\n",
       "      <th>cap-loss</th>\n",
       "      <th>sum_N</th>\n",
       "    </tr>\n",
       "  </thead>\n",
       "  <tbody>\n",
       "    <tr>\n",
       "      <th>count</th>\n",
       "      <td>3.257200e+04</td>\n",
       "      <td>32572.000000</td>\n",
       "      <td>32572.000000</td>\n",
       "      <td>32571.000000</td>\n",
       "    </tr>\n",
       "    <tr>\n",
       "      <th>mean</th>\n",
       "      <td>7.099108e+12</td>\n",
       "      <td>1077.315578</td>\n",
       "      <td>87.226943</td>\n",
       "      <td>0.241043</td>\n",
       "    </tr>\n",
       "    <tr>\n",
       "      <th>std</th>\n",
       "      <td>1.281227e+15</td>\n",
       "      <td>7384.067167</td>\n",
       "      <td>402.917749</td>\n",
       "      <td>0.427723</td>\n",
       "    </tr>\n",
       "    <tr>\n",
       "      <th>min</th>\n",
       "      <td>-4.214100e+04</td>\n",
       "      <td>-1.000000</td>\n",
       "      <td>-444.000000</td>\n",
       "      <td>0.000000</td>\n",
       "    </tr>\n",
       "    <tr>\n",
       "      <th>25%</th>\n",
       "      <td>1.177890e+05</td>\n",
       "      <td>0.000000</td>\n",
       "      <td>0.000000</td>\n",
       "      <td>0.000000</td>\n",
       "    </tr>\n",
       "    <tr>\n",
       "      <th>50%</th>\n",
       "      <td>1.783485e+05</td>\n",
       "      <td>0.000000</td>\n",
       "      <td>0.000000</td>\n",
       "      <td>0.000000</td>\n",
       "    </tr>\n",
       "    <tr>\n",
       "      <th>75%</th>\n",
       "      <td>2.370065e+05</td>\n",
       "      <td>0.000000</td>\n",
       "      <td>0.000000</td>\n",
       "      <td>0.000000</td>\n",
       "    </tr>\n",
       "    <tr>\n",
       "      <th>max</th>\n",
       "      <td>2.312322e+17</td>\n",
       "      <td>99999.000000</td>\n",
       "      <td>4356.000000</td>\n",
       "      <td>1.000000</td>\n",
       "    </tr>\n",
       "  </tbody>\n",
       "</table>\n",
       "</div>"
      ],
      "text/plain": [
       "       final_weight      cap-gain      cap-loss         sum_N\n",
       "count  3.257200e+04  32572.000000  32572.000000  32571.000000\n",
       "mean   7.099108e+12   1077.315578     87.226943      0.241043\n",
       "std    1.281227e+15   7384.067167    402.917749      0.427723\n",
       "min   -4.214100e+04     -1.000000   -444.000000      0.000000\n",
       "25%    1.177890e+05      0.000000      0.000000      0.000000\n",
       "50%    1.783485e+05      0.000000      0.000000      0.000000\n",
       "75%    2.370065e+05      0.000000      0.000000      0.000000\n",
       "max    2.312322e+17  99999.000000   4356.000000      1.000000"
      ]
     },
     "execution_count": 143,
     "metadata": {},
     "output_type": "execute_result"
    }
   ],
   "source": [
    "df_train.describe()"
   ]
  },
  {
   "cell_type": "markdown",
   "id": "1d179c28",
   "metadata": {},
   "source": [
    "#### Как видно из сведений выше, \"age\", \"education-num\" и \"hours-per-week\" отнесён к object. Это необходимо изменить. Но сперва посмотрим подробнее на данные каждой колонки"
   ]
  },
  {
   "cell_type": "code",
   "execution_count": 144,
   "id": "3a5e66b9",
   "metadata": {},
   "outputs": [
    {
     "data": {
      "text/plain": [
       "array(['39', '50', '38', '53', '28', '37', '49', '52', '31', '42', '30',\n",
       "       '23', '32', '40', '34', '25', '43', '54', '35', '59', '56', '19',\n",
       "       '20', '45', '22', '48', '21', '24', '57', '44', '41', '29', '18',\n",
       "       '47', '46', '36', '79', '27', '67', '33', '76', '17', '55', '61',\n",
       "       '70', '64', '71', '68', '66', '51', '58', '26', '60', '90', '75',\n",
       "       '65', '77', '62', '63', '80', '72', '74', '69', '73', '81', '78',\n",
       "       '88', '82', '83', '84', '85', 'totally_legit_string', '86', '-321',\n",
       "       '1', '87'], dtype=object)"
      ]
     },
     "execution_count": 144,
     "metadata": {},
     "output_type": "execute_result"
    }
   ],
   "source": [
    "df_train['age'].unique() "
   ]
  },
  {
   "cell_type": "code",
   "execution_count": 145,
   "id": "59ce372d",
   "metadata": {},
   "outputs": [
    {
     "data": {
      "text/plain": [
       "array([' 40', ' 13', ' 16', ' 45', ' 50', ' 80', ' 30', ' 35', ' 60',\n",
       "       ' 20', ' 52', ' 44', ' 15', ' 25', ' 38', ' 43', ' 55', ' 48',\n",
       "       ' 58', ' 32', ' 70', ' 2', ' 22', ' 56', ' 41', ' 28', ' 36',\n",
       "       ' 24', ' 46', ' 42', ' 12', ' 65', ' 1', ' 10', ' 34', ' 75',\n",
       "       ' 98', ' 33', ' 54', ' 8', ' 6', ' 64', ' 19', ' 18', ' 72', ' 5',\n",
       "       ' 9', ' 47', ' 37', ' 21', ' 26', ' 14', ' 4', ' 59', ' 7', ' 99',\n",
       "       ' 53', ' 39', ' 62', ' 57', ' 78', ' 90', ' 66', ' 11', ' 49',\n",
       "       ' 84', ' 3', ' 17', ' 68', ' 27', ' 85', ' 31', ' 51', ' 77',\n",
       "       ' 63', ' 23', ' 87', ' 88', ' 73', ' 89', ' 97', ' 94', ' 29',\n",
       "       ' 96', ' 67', ' 82', ' 86', ' 91', ' 81', ' 76', nan, ' 92', ' 61',\n",
       "       ' 74', ' 95', ' United-States', ' 444424124141242'], dtype=object)"
      ]
     },
     "execution_count": 145,
     "metadata": {},
     "output_type": "execute_result"
    }
   ],
   "source": [
    "df_train['hours-per-week'].unique() "
   ]
  },
  {
   "cell_type": "code",
   "execution_count": 146,
   "id": "e6b07603",
   "metadata": {},
   "outputs": [
    {
     "data": {
      "text/plain": [
       "array([7.00000000e+00, 9.00000000e+00, 1.20000000e+01, 1.00000000e+01,\n",
       "       6.00000000e+00, 1.50000000e+01, 4.00000000e+00, 1.30000000e+01,\n",
       "       1.40000000e+01, 1.60000000e+01, 3.00000000e+00, 1.10000000e+01,\n",
       "       5.00000000e+00, 8.00000000e+00, 2.00000000e+00, 1.00000000e+00,\n",
       "                  nan, 1.02302103e+11])"
      ]
     },
     "execution_count": 146,
     "metadata": {},
     "output_type": "execute_result"
    }
   ],
   "source": [
    "df_test['education-num'].unique()"
   ]
  },
  {
   "cell_type": "markdown",
   "id": "3908898c",
   "metadata": {},
   "source": [
    "#### Посмотрим строку с значением в 'age' = 'totally_legit_string'"
   ]
  },
  {
   "cell_type": "code",
   "execution_count": 147,
   "id": "e128d64a",
   "metadata": {},
   "outputs": [
    {
     "data": {
      "text/html": [
       "<div>\n",
       "<style scoped>\n",
       "    .dataframe tbody tr th:only-of-type {\n",
       "        vertical-align: middle;\n",
       "    }\n",
       "\n",
       "    .dataframe tbody tr th {\n",
       "        vertical-align: top;\n",
       "    }\n",
       "\n",
       "    .dataframe thead th {\n",
       "        text-align: right;\n",
       "    }\n",
       "</style>\n",
       "<table border=\"1\" class=\"dataframe\">\n",
       "  <thead>\n",
       "    <tr style=\"text-align: right;\">\n",
       "      <th></th>\n",
       "      <th>age</th>\n",
       "      <th>workclass</th>\n",
       "      <th>final_weight</th>\n",
       "      <th>education</th>\n",
       "      <th>education-num</th>\n",
       "      <th>marital-status</th>\n",
       "      <th>occupation</th>\n",
       "      <th>relationship</th>\n",
       "      <th>race</th>\n",
       "      <th>sex</th>\n",
       "      <th>cap-gain</th>\n",
       "      <th>cap-loss</th>\n",
       "      <th>hours-per-week</th>\n",
       "      <th>native-country</th>\n",
       "      <th>sum_N</th>\n",
       "    </tr>\n",
       "  </thead>\n",
       "  <tbody>\n",
       "    <tr>\n",
       "      <th>16324</th>\n",
       "      <td>totally_legit_string</td>\n",
       "      <td>NaN</td>\n",
       "      <td>NaN</td>\n",
       "      <td>NaN</td>\n",
       "      <td>NaN</td>\n",
       "      <td>NaN</td>\n",
       "      <td>NaN</td>\n",
       "      <td>NaN</td>\n",
       "      <td>NaN</td>\n",
       "      <td>NaN</td>\n",
       "      <td>NaN</td>\n",
       "      <td>NaN</td>\n",
       "      <td>NaN</td>\n",
       "      <td>NaN</td>\n",
       "      <td>NaN</td>\n",
       "    </tr>\n",
       "  </tbody>\n",
       "</table>\n",
       "</div>"
      ],
      "text/plain": [
       "                        age workclass  final_weight education education-num  \\\n",
       "16324  totally_legit_string       NaN           NaN       NaN           NaN   \n",
       "\n",
       "      marital-status occupation relationship race  sex  cap-gain  cap-loss  \\\n",
       "16324            NaN        NaN          NaN  NaN  NaN       NaN       NaN   \n",
       "\n",
       "      hours-per-week native-country  sum_N  \n",
       "16324            NaN            NaN    NaN  "
      ]
     },
     "execution_count": 147,
     "metadata": {},
     "output_type": "execute_result"
    }
   ],
   "source": [
    "df_train[df_train['age']=='totally_legit_string']"
   ]
  },
  {
   "cell_type": "markdown",
   "id": "051a12d2",
   "metadata": {},
   "source": [
    "#### Удалим эту строку, так как она не несёт никакой полезной информации"
   ]
  },
  {
   "cell_type": "code",
   "execution_count": 148,
   "id": "e41ae620",
   "metadata": {},
   "outputs": [],
   "source": [
    "df_train.drop(labels=[16324], axis=0, inplace=True)"
   ]
  },
  {
   "cell_type": "code",
   "execution_count": 127,
   "id": "cf6d3bc4",
   "metadata": {},
   "outputs": [
    {
     "data": {
      "text/html": [
       "<div>\n",
       "<style scoped>\n",
       "    .dataframe tbody tr th:only-of-type {\n",
       "        vertical-align: middle;\n",
       "    }\n",
       "\n",
       "    .dataframe tbody tr th {\n",
       "        vertical-align: top;\n",
       "    }\n",
       "\n",
       "    .dataframe thead th {\n",
       "        text-align: right;\n",
       "    }\n",
       "</style>\n",
       "<table border=\"1\" class=\"dataframe\">\n",
       "  <thead>\n",
       "    <tr style=\"text-align: right;\">\n",
       "      <th></th>\n",
       "      <th>age</th>\n",
       "      <th>workclass</th>\n",
       "      <th>final_weight</th>\n",
       "      <th>education</th>\n",
       "      <th>education-num</th>\n",
       "      <th>marital-status</th>\n",
       "      <th>occupation</th>\n",
       "      <th>relationship</th>\n",
       "      <th>race</th>\n",
       "      <th>sex</th>\n",
       "      <th>cap-gain</th>\n",
       "      <th>cap-loss</th>\n",
       "      <th>hours-per-week</th>\n",
       "      <th>native-country</th>\n",
       "      <th>sum_N</th>\n",
       "    </tr>\n",
       "  </thead>\n",
       "  <tbody>\n",
       "    <tr>\n",
       "      <th>26556</th>\n",
       "      <td>-321</td>\n",
       "      <td>Private</td>\n",
       "      <td>2.312322e+17</td>\n",
       "      <td>Some-college</td>\n",
       "      <td>Machine-op-inspct</td>\n",
       "      <td>Sales</td>\n",
       "      <td>Husband</td>\n",
       "      <td>White</td>\n",
       "      <td>Other</td>\n",
       "      <td>0</td>\n",
       "      <td>-1.0</td>\n",
       "      <td>-444.0</td>\n",
       "      <td>United-States</td>\n",
       "      <td>&gt;N</td>\n",
       "      <td>NaN</td>\n",
       "    </tr>\n",
       "  </tbody>\n",
       "</table>\n",
       "</div>"
      ],
      "text/plain": [
       "       age workclass  final_weight      education       education-num  \\\n",
       "26556 -321   Private  2.312322e+17   Some-college   Machine-op-inspct   \n",
       "\n",
       "      marital-status occupation relationship    race sex  cap-gain  cap-loss  \\\n",
       "26556          Sales    Husband        White   Other   0      -1.0    -444.0   \n",
       "\n",
       "       hours-per-week native-country  sum_N  \n",
       "26556   United-States             >N    NaN  "
      ]
     },
     "execution_count": 127,
     "metadata": {},
     "output_type": "execute_result"
    }
   ],
   "source": [
    "df_train['age'] = pd.to_numeric(df_train['age'], errors='coerce')\n",
    "df_train[df_train['age'] < 0]"
   ]
  },
  {
   "cell_type": "code",
   "execution_count": 129,
   "id": "cbab5676",
   "metadata": {},
   "outputs": [],
   "source": [
    "df_train.drop(labels=[26556], axis=0, inplace=True)"
   ]
  },
  {
   "cell_type": "markdown",
   "id": "4880b245",
   "metadata": {},
   "source": [
    "#### Заменяем пропуски и явно выпадающие значения медианой"
   ]
  },
  {
   "cell_type": "code",
   "execution_count": 151,
   "id": "6380f796",
   "metadata": {},
   "outputs": [],
   "source": [
    "df_train['age'] = pd.to_numeric(df_train['age'], errors='coerce')\n",
    "median_age = df_train['age'].median()\n",
    "df_train.loc[df_train['age'] < 0, 'age'] = median_age\n",
    "df_train.loc[df_train['age'] > 150, 'age'] = median_age\n",
    "df_train['age'] = df_train['age'].fillna(median_age)"
   ]
  },
  {
   "cell_type": "code",
   "execution_count": 152,
   "id": "3045ae57",
   "metadata": {},
   "outputs": [],
   "source": [
    "df_train['hours-per-week'] = pd.to_numeric(df_train['hours-per-week'], errors='coerce')\n",
    "median_hours = df_train['hours-per-week'].median()\n",
    "df_train.loc[df_train['hours-per-week'] < 0, 'hours-per-week'] = median_hours\n",
    "df_train.loc[df_train['hours-per-week'] > 150, 'hours-per-week'] = median_hours\n",
    "df_train['hours-per-week'] = df_train['hours-per-week'].fillna(median_hours)"
   ]
  },
  {
   "cell_type": "code",
   "execution_count": 153,
   "id": "e6cac12d",
   "metadata": {},
   "outputs": [],
   "source": [
    "df_train['education-num'] = pd.to_numeric(df_train['education-num'], errors='coerce')\n",
    "median_num = df_train['education-num'].median()\n",
    "df_train.loc[df_train['education-num'] < 0, 'education-num'] = median_num\n",
    "df_train.loc[df_train['education-num'] > 100, 'education-num'] = median_num\n",
    "df_train['education-num'] = df_train['education-num'].fillna(median_num)"
   ]
  },
  {
   "cell_type": "markdown",
   "id": "e81dd2d6",
   "metadata": {},
   "source": [
    "#### В процессе анализа найдена выпадющая запись. Значения некотрых ячеек логически не соответсвуют их описанию. Удалим эту запись."
   ]
  },
  {
   "cell_type": "code",
   "execution_count": 154,
   "id": "ebe6630b",
   "metadata": {},
   "outputs": [
    {
     "data": {
      "text/html": [
       "<div>\n",
       "<style scoped>\n",
       "    .dataframe tbody tr th:only-of-type {\n",
       "        vertical-align: middle;\n",
       "    }\n",
       "\n",
       "    .dataframe tbody tr th {\n",
       "        vertical-align: top;\n",
       "    }\n",
       "\n",
       "    .dataframe thead th {\n",
       "        text-align: right;\n",
       "    }\n",
       "</style>\n",
       "<table border=\"1\" class=\"dataframe\">\n",
       "  <thead>\n",
       "    <tr style=\"text-align: right;\">\n",
       "      <th></th>\n",
       "      <th>age</th>\n",
       "      <th>workclass</th>\n",
       "      <th>final_weight</th>\n",
       "      <th>education</th>\n",
       "      <th>education-num</th>\n",
       "      <th>marital-status</th>\n",
       "      <th>occupation</th>\n",
       "      <th>relationship</th>\n",
       "      <th>race</th>\n",
       "      <th>sex</th>\n",
       "      <th>cap-gain</th>\n",
       "      <th>cap-loss</th>\n",
       "      <th>hours-per-week</th>\n",
       "      <th>native-country</th>\n",
       "      <th>sum_N</th>\n",
       "    </tr>\n",
       "  </thead>\n",
       "  <tbody>\n",
       "    <tr>\n",
       "      <th>26556</th>\n",
       "      <td>37</td>\n",
       "      <td>Private</td>\n",
       "      <td>2.312322e+17</td>\n",
       "      <td>Some-college</td>\n",
       "      <td>10.0</td>\n",
       "      <td>Sales</td>\n",
       "      <td>Husband</td>\n",
       "      <td>White</td>\n",
       "      <td>Other</td>\n",
       "      <td>0</td>\n",
       "      <td>-1.0</td>\n",
       "      <td>-444.0</td>\n",
       "      <td>40.0</td>\n",
       "      <td>&gt;N</td>\n",
       "      <td>NaN</td>\n",
       "    </tr>\n",
       "  </tbody>\n",
       "</table>\n",
       "</div>"
      ],
      "text/plain": [
       "       age workclass  final_weight      education  education-num  \\\n",
       "26556   37   Private  2.312322e+17   Some-college           10.0   \n",
       "\n",
       "      marital-status occupation relationship    race sex  cap-gain  cap-loss  \\\n",
       "26556          Sales    Husband        White   Other   0      -1.0    -444.0   \n",
       "\n",
       "       hours-per-week native-country  sum_N  \n",
       "26556            40.0             >N    NaN  "
      ]
     },
     "execution_count": 154,
     "metadata": {},
     "output_type": "execute_result"
    }
   ],
   "source": [
    "df_train[df_train['relationship'] == \" White\"]"
   ]
  },
  {
   "cell_type": "code",
   "execution_count": 155,
   "id": "c7a76dc9",
   "metadata": {},
   "outputs": [],
   "source": [
    "df_train.drop(labels=[26556], axis=0, inplace=True)"
   ]
  },
  {
   "cell_type": "markdown",
   "id": "93c5962b",
   "metadata": {},
   "source": [
    "#### Посмотрим на подробности о данных. Найдено ещё одно выпадающее значение - age=1"
   ]
  },
  {
   "cell_type": "code",
   "execution_count": 156,
   "id": "22273396",
   "metadata": {},
   "outputs": [
    {
     "data": {
      "text/html": [
       "<div>\n",
       "<style scoped>\n",
       "    .dataframe tbody tr th:only-of-type {\n",
       "        vertical-align: middle;\n",
       "    }\n",
       "\n",
       "    .dataframe tbody tr th {\n",
       "        vertical-align: top;\n",
       "    }\n",
       "\n",
       "    .dataframe thead th {\n",
       "        text-align: right;\n",
       "    }\n",
       "</style>\n",
       "<table border=\"1\" class=\"dataframe\">\n",
       "  <thead>\n",
       "    <tr style=\"text-align: right;\">\n",
       "      <th></th>\n",
       "      <th>age</th>\n",
       "      <th>final_weight</th>\n",
       "      <th>education-num</th>\n",
       "      <th>cap-gain</th>\n",
       "      <th>cap-loss</th>\n",
       "      <th>hours-per-week</th>\n",
       "      <th>sum_N</th>\n",
       "    </tr>\n",
       "  </thead>\n",
       "  <tbody>\n",
       "    <tr>\n",
       "      <th>count</th>\n",
       "      <td>32571.000000</td>\n",
       "      <td>3.257100e+04</td>\n",
       "      <td>32571.000000</td>\n",
       "      <td>32571.000000</td>\n",
       "      <td>32571.000000</td>\n",
       "      <td>32571.000000</td>\n",
       "      <td>32571.000000</td>\n",
       "    </tr>\n",
       "    <tr>\n",
       "      <th>mean</th>\n",
       "      <td>38.570108</td>\n",
       "      <td>1.897072e+05</td>\n",
       "      <td>10.080655</td>\n",
       "      <td>1077.348684</td>\n",
       "      <td>87.243253</td>\n",
       "      <td>40.437322</td>\n",
       "      <td>0.241043</td>\n",
       "    </tr>\n",
       "    <tr>\n",
       "      <th>std</th>\n",
       "      <td>13.654222</td>\n",
       "      <td>1.056120e+05</td>\n",
       "      <td>2.572326</td>\n",
       "      <td>7384.178106</td>\n",
       "      <td>402.913181</td>\n",
       "      <td>12.345535</td>\n",
       "      <td>0.427723</td>\n",
       "    </tr>\n",
       "    <tr>\n",
       "      <th>min</th>\n",
       "      <td>1.000000</td>\n",
       "      <td>-4.214100e+04</td>\n",
       "      <td>1.000000</td>\n",
       "      <td>0.000000</td>\n",
       "      <td>-110.000000</td>\n",
       "      <td>1.000000</td>\n",
       "      <td>0.000000</td>\n",
       "    </tr>\n",
       "    <tr>\n",
       "      <th>25%</th>\n",
       "      <td>28.000000</td>\n",
       "      <td>1.177890e+05</td>\n",
       "      <td>9.000000</td>\n",
       "      <td>0.000000</td>\n",
       "      <td>0.000000</td>\n",
       "      <td>40.000000</td>\n",
       "      <td>0.000000</td>\n",
       "    </tr>\n",
       "    <tr>\n",
       "      <th>50%</th>\n",
       "      <td>37.000000</td>\n",
       "      <td>1.783440e+05</td>\n",
       "      <td>10.000000</td>\n",
       "      <td>0.000000</td>\n",
       "      <td>0.000000</td>\n",
       "      <td>40.000000</td>\n",
       "      <td>0.000000</td>\n",
       "    </tr>\n",
       "    <tr>\n",
       "      <th>75%</th>\n",
       "      <td>48.000000</td>\n",
       "      <td>2.369935e+05</td>\n",
       "      <td>12.000000</td>\n",
       "      <td>0.000000</td>\n",
       "      <td>0.000000</td>\n",
       "      <td>45.000000</td>\n",
       "      <td>0.000000</td>\n",
       "    </tr>\n",
       "    <tr>\n",
       "      <th>max</th>\n",
       "      <td>90.000000</td>\n",
       "      <td>1.484705e+06</td>\n",
       "      <td>16.000000</td>\n",
       "      <td>99999.000000</td>\n",
       "      <td>4356.000000</td>\n",
       "      <td>99.000000</td>\n",
       "      <td>1.000000</td>\n",
       "    </tr>\n",
       "  </tbody>\n",
       "</table>\n",
       "</div>"
      ],
      "text/plain": [
       "                age  final_weight  education-num      cap-gain      cap-loss  \\\n",
       "count  32571.000000  3.257100e+04   32571.000000  32571.000000  32571.000000   \n",
       "mean      38.570108  1.897072e+05      10.080655   1077.348684     87.243253   \n",
       "std       13.654222  1.056120e+05       2.572326   7384.178106    402.913181   \n",
       "min        1.000000 -4.214100e+04       1.000000      0.000000   -110.000000   \n",
       "25%       28.000000  1.177890e+05       9.000000      0.000000      0.000000   \n",
       "50%       37.000000  1.783440e+05      10.000000      0.000000      0.000000   \n",
       "75%       48.000000  2.369935e+05      12.000000      0.000000      0.000000   \n",
       "max       90.000000  1.484705e+06      16.000000  99999.000000   4356.000000   \n",
       "\n",
       "       hours-per-week         sum_N  \n",
       "count    32571.000000  32571.000000  \n",
       "mean        40.437322      0.241043  \n",
       "std         12.345535      0.427723  \n",
       "min          1.000000      0.000000  \n",
       "25%         40.000000      0.000000  \n",
       "50%         40.000000      0.000000  \n",
       "75%         45.000000      0.000000  \n",
       "max         99.000000      1.000000  "
      ]
     },
     "execution_count": 156,
     "metadata": {},
     "output_type": "execute_result"
    }
   ],
   "source": [
    "df_train.describe()"
   ]
  },
  {
   "cell_type": "markdown",
   "id": "0372f215",
   "metadata": {},
   "source": [
    "#### Удалим строки с возрастом равным 1\n"
   ]
  },
  {
   "cell_type": "code",
   "execution_count": 157,
   "id": "33df240f",
   "metadata": {},
   "outputs": [
    {
     "data": {
      "text/plain": [
       "32561"
      ]
     },
     "execution_count": 157,
     "metadata": {},
     "output_type": "execute_result"
    }
   ],
   "source": [
    "df_train = df_train[df_train['age'] != 1]\n",
    "df_train['age'] = df_train['age'].astype(float)\n",
    "len(df_train) # удалено 11 записей"
   ]
  },
  {
   "cell_type": "markdown",
   "id": "a8938fb1",
   "metadata": {},
   "source": [
    "#### Убедимся в адекватности значений и проверим изменился ли тип данных у колонок"
   ]
  },
  {
   "cell_type": "code",
   "execution_count": 158,
   "id": "c22088e2",
   "metadata": {},
   "outputs": [
    {
     "data": {
      "text/html": [
       "<div>\n",
       "<style scoped>\n",
       "    .dataframe tbody tr th:only-of-type {\n",
       "        vertical-align: middle;\n",
       "    }\n",
       "\n",
       "    .dataframe tbody tr th {\n",
       "        vertical-align: top;\n",
       "    }\n",
       "\n",
       "    .dataframe thead th {\n",
       "        text-align: right;\n",
       "    }\n",
       "</style>\n",
       "<table border=\"1\" class=\"dataframe\">\n",
       "  <thead>\n",
       "    <tr style=\"text-align: right;\">\n",
       "      <th></th>\n",
       "      <th>age</th>\n",
       "      <th>final_weight</th>\n",
       "      <th>education-num</th>\n",
       "      <th>cap-gain</th>\n",
       "      <th>cap-loss</th>\n",
       "      <th>hours-per-week</th>\n",
       "      <th>sum_N</th>\n",
       "    </tr>\n",
       "  </thead>\n",
       "  <tbody>\n",
       "    <tr>\n",
       "      <th>count</th>\n",
       "      <td>32561.000000</td>\n",
       "      <td>3.256100e+04</td>\n",
       "      <td>32561.000000</td>\n",
       "      <td>32561.000000</td>\n",
       "      <td>32561.000000</td>\n",
       "      <td>32561.000000</td>\n",
       "      <td>32561.000000</td>\n",
       "    </tr>\n",
       "    <tr>\n",
       "      <th>mean</th>\n",
       "      <td>38.581647</td>\n",
       "      <td>1.897784e+05</td>\n",
       "      <td>10.080679</td>\n",
       "      <td>1077.648844</td>\n",
       "      <td>87.303830</td>\n",
       "      <td>40.437456</td>\n",
       "      <td>0.240810</td>\n",
       "    </tr>\n",
       "    <tr>\n",
       "      <th>std</th>\n",
       "      <td>13.640433</td>\n",
       "      <td>1.055500e+05</td>\n",
       "      <td>2.572720</td>\n",
       "      <td>7385.292085</td>\n",
       "      <td>402.960219</td>\n",
       "      <td>12.347429</td>\n",
       "      <td>0.427581</td>\n",
       "    </tr>\n",
       "    <tr>\n",
       "      <th>min</th>\n",
       "      <td>17.000000</td>\n",
       "      <td>1.228500e+04</td>\n",
       "      <td>1.000000</td>\n",
       "      <td>0.000000</td>\n",
       "      <td>0.000000</td>\n",
       "      <td>1.000000</td>\n",
       "      <td>0.000000</td>\n",
       "    </tr>\n",
       "    <tr>\n",
       "      <th>25%</th>\n",
       "      <td>28.000000</td>\n",
       "      <td>1.178270e+05</td>\n",
       "      <td>9.000000</td>\n",
       "      <td>0.000000</td>\n",
       "      <td>0.000000</td>\n",
       "      <td>40.000000</td>\n",
       "      <td>0.000000</td>\n",
       "    </tr>\n",
       "    <tr>\n",
       "      <th>50%</th>\n",
       "      <td>37.000000</td>\n",
       "      <td>1.783560e+05</td>\n",
       "      <td>10.000000</td>\n",
       "      <td>0.000000</td>\n",
       "      <td>0.000000</td>\n",
       "      <td>40.000000</td>\n",
       "      <td>0.000000</td>\n",
       "    </tr>\n",
       "    <tr>\n",
       "      <th>75%</th>\n",
       "      <td>48.000000</td>\n",
       "      <td>2.370510e+05</td>\n",
       "      <td>12.000000</td>\n",
       "      <td>0.000000</td>\n",
       "      <td>0.000000</td>\n",
       "      <td>45.000000</td>\n",
       "      <td>0.000000</td>\n",
       "    </tr>\n",
       "    <tr>\n",
       "      <th>max</th>\n",
       "      <td>90.000000</td>\n",
       "      <td>1.484705e+06</td>\n",
       "      <td>16.000000</td>\n",
       "      <td>99999.000000</td>\n",
       "      <td>4356.000000</td>\n",
       "      <td>99.000000</td>\n",
       "      <td>1.000000</td>\n",
       "    </tr>\n",
       "  </tbody>\n",
       "</table>\n",
       "</div>"
      ],
      "text/plain": [
       "                age  final_weight  education-num      cap-gain      cap-loss  \\\n",
       "count  32561.000000  3.256100e+04   32561.000000  32561.000000  32561.000000   \n",
       "mean      38.581647  1.897784e+05      10.080679   1077.648844     87.303830   \n",
       "std       13.640433  1.055500e+05       2.572720   7385.292085    402.960219   \n",
       "min       17.000000  1.228500e+04       1.000000      0.000000      0.000000   \n",
       "25%       28.000000  1.178270e+05       9.000000      0.000000      0.000000   \n",
       "50%       37.000000  1.783560e+05      10.000000      0.000000      0.000000   \n",
       "75%       48.000000  2.370510e+05      12.000000      0.000000      0.000000   \n",
       "max       90.000000  1.484705e+06      16.000000  99999.000000   4356.000000   \n",
       "\n",
       "       hours-per-week         sum_N  \n",
       "count    32561.000000  32561.000000  \n",
       "mean        40.437456      0.240810  \n",
       "std         12.347429      0.427581  \n",
       "min          1.000000      0.000000  \n",
       "25%         40.000000      0.000000  \n",
       "50%         40.000000      0.000000  \n",
       "75%         45.000000      0.000000  \n",
       "max         99.000000      1.000000  "
      ]
     },
     "execution_count": 158,
     "metadata": {},
     "output_type": "execute_result"
    }
   ],
   "source": [
    "df_train.describe()"
   ]
  },
  {
   "cell_type": "code",
   "execution_count": 159,
   "id": "bf0a3582",
   "metadata": {},
   "outputs": [
    {
     "name": "stdout",
     "output_type": "stream",
     "text": [
      "<class 'pandas.core.frame.DataFrame'>\n",
      "Int64Index: 32561 entries, 0 to 32572\n",
      "Data columns (total 15 columns):\n",
      " #   Column          Non-Null Count  Dtype  \n",
      "---  ------          --------------  -----  \n",
      " 0   age             32561 non-null  float64\n",
      " 1   workclass       32561 non-null  object \n",
      " 2   final_weight    32561 non-null  float64\n",
      " 3   education       32561 non-null  object \n",
      " 4   education-num   32561 non-null  float64\n",
      " 5   marital-status  32561 non-null  object \n",
      " 6   occupation      32561 non-null  object \n",
      " 7   relationship    32561 non-null  object \n",
      " 8   race            32561 non-null  object \n",
      " 9   sex             32561 non-null  object \n",
      " 10  cap-gain        32561 non-null  float64\n",
      " 11  cap-loss        32561 non-null  float64\n",
      " 12  hours-per-week  32561 non-null  float64\n",
      " 13  native-country  32561 non-null  object \n",
      " 14  sum_N           32561 non-null  float64\n",
      "dtypes: float64(7), object(8)\n",
      "memory usage: 4.0+ MB\n"
     ]
    }
   ],
   "source": [
    "df_train.info()"
   ]
  },
  {
   "cell_type": "markdown",
   "id": "4deec7f2",
   "metadata": {},
   "source": [
    "#### Узнаем сколько пустых значений в оставшихся колонках"
   ]
  },
  {
   "cell_type": "code",
   "execution_count": 160,
   "id": "6f29255c",
   "metadata": {},
   "outputs": [
    {
     "data": {
      "text/plain": [
       "age               0\n",
       "workclass         0\n",
       "final_weight      0\n",
       "education         0\n",
       "education-num     0\n",
       "marital-status    0\n",
       "occupation        0\n",
       "relationship      0\n",
       "race              0\n",
       "sex               0\n",
       "cap-gain          0\n",
       "cap-loss          0\n",
       "hours-per-week    0\n",
       "native-country    0\n",
       "sum_N             0\n",
       "dtype: int64"
      ]
     },
     "execution_count": 160,
     "metadata": {},
     "output_type": "execute_result"
    }
   ],
   "source": [
    "df_train.isnull().sum()"
   ]
  },
  {
   "cell_type": "markdown",
   "id": "928bbfeb",
   "metadata": {},
   "source": [
    "#### Заменяем пропуски данных медианой в колонках с числовым типом данных "
   ]
  },
  {
   "cell_type": "code",
   "execution_count": 161,
   "id": "a82df9fe",
   "metadata": {},
   "outputs": [],
   "source": [
    "df_train['sum_N'] = df_train['sum_N'].fillna(df_train['sum_N'].median())"
   ]
  },
  {
   "cell_type": "code",
   "execution_count": 162,
   "id": "8df4af53",
   "metadata": {},
   "outputs": [
    {
     "data": {
      "text/plain": [
       "age               0\n",
       "workclass         0\n",
       "final_weight      0\n",
       "education         0\n",
       "education-num     0\n",
       "marital-status    0\n",
       "occupation        0\n",
       "relationship      0\n",
       "race              0\n",
       "sex               0\n",
       "cap-gain          0\n",
       "cap-loss          0\n",
       "hours-per-week    0\n",
       "native-country    0\n",
       "sum_N             0\n",
       "dtype: int64"
      ]
     },
     "execution_count": 162,
     "metadata": {},
     "output_type": "execute_result"
    }
   ],
   "source": [
    "df_train.isnull().sum()"
   ]
  },
  {
   "cell_type": "markdown",
   "id": "a6b068d4",
   "metadata": {},
   "source": [
    "#### Теперь необходимо заменить \"?\" в данных"
   ]
  },
  {
   "cell_type": "code",
   "execution_count": 163,
   "id": "dd5d7d62",
   "metadata": {},
   "outputs": [
    {
     "data": {
      "text/plain": [
       "Index(['workclass', 'education', 'marital-status', 'occupation',\n",
       "       'relationship', 'race', 'sex', 'native-country'],\n",
       "      dtype='object')"
      ]
     },
     "execution_count": 163,
     "metadata": {},
     "output_type": "execute_result"
    }
   ],
   "source": [
    "#Выделяем колонки с категориальным типом данных и заполняем пропуски модой\n",
    "categorical_columns = df_train.select_dtypes(include=['object']).columns\n",
    "categorical_columns"
   ]
  },
  {
   "cell_type": "code",
   "execution_count": 164,
   "id": "5269eb17",
   "metadata": {},
   "outputs": [],
   "source": [
    "for col in categorical_columns:\n",
    "        most_common_value = df_train[col].mode()[0]\n",
    "        df_train.loc[df_train[col] == ' ?', col] = most_common_value\n",
    "        df_train[col].fillna(most_common_value, inplace=True)"
   ]
  },
  {
   "cell_type": "code",
   "execution_count": 165,
   "id": "323861a5",
   "metadata": {},
   "outputs": [],
   "source": [
    "not_categorical_columns = df_train.select_dtypes(include=['float']).columns\n",
    "for col in not_categorical_columns:\n",
    "        most_common_value = df_train[col].median()\n",
    "        df_train.loc[df_train[col] == ' ?', col] = most_common_value\n",
    "        df_train[col].fillna(most_common_value, inplace=True)"
   ]
  },
  {
   "cell_type": "code",
   "execution_count": 166,
   "id": "b0cbce82",
   "metadata": {},
   "outputs": [
    {
     "data": {
      "text/plain": [
       "32561"
      ]
     },
     "execution_count": 166,
     "metadata": {},
     "output_type": "execute_result"
    }
   ],
   "source": [
    "len(df_train)"
   ]
  },
  {
   "cell_type": "markdown",
   "id": "3f188916",
   "metadata": {},
   "source": [
    "#### Применяем one hot encoding для категориальных признаков"
   ]
  },
  {
   "cell_type": "code",
   "execution_count": 167,
   "id": "3358a9d9",
   "metadata": {},
   "outputs": [],
   "source": [
    "df_train = pd.concat([df_train, pd.get_dummies(df_train['workclass'], prefix=\"workclass\"),\n",
    "                      pd.get_dummies(df_train['education'], prefix=\"education\"),\n",
    "                      pd.get_dummies(df_train['marital-status'], prefix=\"marital-status\"),\n",
    "                      pd.get_dummies(df_train['occupation'], prefix=\"occupation\"),\n",
    "                      pd.get_dummies(df_train['relationship'], prefix=\"relationship\"),\n",
    "                      pd.get_dummies(df_train['race'], prefix=\"race\"),\n",
    "                      pd.get_dummies(df_train['sex'], prefix=\"sex\"),\n",
    "                      pd.get_dummies(df_train['native-country'], prefix=\"native-country\")],\n",
    "                     axis=1)"
   ]
  },
  {
   "cell_type": "code",
   "execution_count": 168,
   "id": "abfc553a",
   "metadata": {},
   "outputs": [],
   "source": [
    "df_train.drop(['workclass', 'education', 'marital-status', 'occupation','relationship', 'race', 'sex', 'native-country'],\n",
    "                axis=1, inplace=True)"
   ]
  },
  {
   "cell_type": "code",
   "execution_count": 169,
   "id": "cf933315",
   "metadata": {},
   "outputs": [
    {
     "data": {
      "text/html": [
       "<div>\n",
       "<style scoped>\n",
       "    .dataframe tbody tr th:only-of-type {\n",
       "        vertical-align: middle;\n",
       "    }\n",
       "\n",
       "    .dataframe tbody tr th {\n",
       "        vertical-align: top;\n",
       "    }\n",
       "\n",
       "    .dataframe thead th {\n",
       "        text-align: right;\n",
       "    }\n",
       "</style>\n",
       "<table border=\"1\" class=\"dataframe\">\n",
       "  <thead>\n",
       "    <tr style=\"text-align: right;\">\n",
       "      <th></th>\n",
       "      <th>count</th>\n",
       "      <th>mean</th>\n",
       "      <th>std</th>\n",
       "      <th>min</th>\n",
       "      <th>25%</th>\n",
       "      <th>50%</th>\n",
       "      <th>75%</th>\n",
       "      <th>max</th>\n",
       "    </tr>\n",
       "  </thead>\n",
       "  <tbody>\n",
       "    <tr>\n",
       "      <th>age</th>\n",
       "      <td>32561.0</td>\n",
       "      <td>38.581647</td>\n",
       "      <td>13.640433</td>\n",
       "      <td>17.0</td>\n",
       "      <td>28.0</td>\n",
       "      <td>37.0</td>\n",
       "      <td>48.0</td>\n",
       "      <td>90.0</td>\n",
       "    </tr>\n",
       "    <tr>\n",
       "      <th>final_weight</th>\n",
       "      <td>32561.0</td>\n",
       "      <td>189778.366512</td>\n",
       "      <td>105549.977697</td>\n",
       "      <td>12285.0</td>\n",
       "      <td>117827.0</td>\n",
       "      <td>178356.0</td>\n",
       "      <td>237051.0</td>\n",
       "      <td>1484705.0</td>\n",
       "    </tr>\n",
       "    <tr>\n",
       "      <th>education-num</th>\n",
       "      <td>32561.0</td>\n",
       "      <td>10.080679</td>\n",
       "      <td>2.572720</td>\n",
       "      <td>1.0</td>\n",
       "      <td>9.0</td>\n",
       "      <td>10.0</td>\n",
       "      <td>12.0</td>\n",
       "      <td>16.0</td>\n",
       "    </tr>\n",
       "    <tr>\n",
       "      <th>cap-gain</th>\n",
       "      <td>32561.0</td>\n",
       "      <td>1077.648844</td>\n",
       "      <td>7385.292085</td>\n",
       "      <td>0.0</td>\n",
       "      <td>0.0</td>\n",
       "      <td>0.0</td>\n",
       "      <td>0.0</td>\n",
       "      <td>99999.0</td>\n",
       "    </tr>\n",
       "    <tr>\n",
       "      <th>cap-loss</th>\n",
       "      <td>32561.0</td>\n",
       "      <td>87.303830</td>\n",
       "      <td>402.960219</td>\n",
       "      <td>0.0</td>\n",
       "      <td>0.0</td>\n",
       "      <td>0.0</td>\n",
       "      <td>0.0</td>\n",
       "      <td>4356.0</td>\n",
       "    </tr>\n",
       "    <tr>\n",
       "      <th>...</th>\n",
       "      <td>...</td>\n",
       "      <td>...</td>\n",
       "      <td>...</td>\n",
       "      <td>...</td>\n",
       "      <td>...</td>\n",
       "      <td>...</td>\n",
       "      <td>...</td>\n",
       "      <td>...</td>\n",
       "    </tr>\n",
       "    <tr>\n",
       "      <th>native-country_ Thailand</th>\n",
       "      <td>32561.0</td>\n",
       "      <td>0.000553</td>\n",
       "      <td>0.023506</td>\n",
       "      <td>0.0</td>\n",
       "      <td>0.0</td>\n",
       "      <td>0.0</td>\n",
       "      <td>0.0</td>\n",
       "      <td>1.0</td>\n",
       "    </tr>\n",
       "    <tr>\n",
       "      <th>native-country_ Trinadad&amp;Tobago</th>\n",
       "      <td>32561.0</td>\n",
       "      <td>0.000584</td>\n",
       "      <td>0.024149</td>\n",
       "      <td>0.0</td>\n",
       "      <td>0.0</td>\n",
       "      <td>0.0</td>\n",
       "      <td>0.0</td>\n",
       "      <td>1.0</td>\n",
       "    </tr>\n",
       "    <tr>\n",
       "      <th>native-country_ United-States</th>\n",
       "      <td>32561.0</td>\n",
       "      <td>0.913762</td>\n",
       "      <td>0.280720</td>\n",
       "      <td>0.0</td>\n",
       "      <td>1.0</td>\n",
       "      <td>1.0</td>\n",
       "      <td>1.0</td>\n",
       "      <td>1.0</td>\n",
       "    </tr>\n",
       "    <tr>\n",
       "      <th>native-country_ Vietnam</th>\n",
       "      <td>32561.0</td>\n",
       "      <td>0.002058</td>\n",
       "      <td>0.045316</td>\n",
       "      <td>0.0</td>\n",
       "      <td>0.0</td>\n",
       "      <td>0.0</td>\n",
       "      <td>0.0</td>\n",
       "      <td>1.0</td>\n",
       "    </tr>\n",
       "    <tr>\n",
       "      <th>native-country_ Yugoslavia</th>\n",
       "      <td>32561.0</td>\n",
       "      <td>0.000491</td>\n",
       "      <td>0.022162</td>\n",
       "      <td>0.0</td>\n",
       "      <td>0.0</td>\n",
       "      <td>0.0</td>\n",
       "      <td>0.0</td>\n",
       "      <td>1.0</td>\n",
       "    </tr>\n",
       "  </tbody>\n",
       "</table>\n",
       "<p>106 rows × 8 columns</p>\n",
       "</div>"
      ],
      "text/plain": [
       "                                   count           mean            std  \\\n",
       "age                              32561.0      38.581647      13.640433   \n",
       "final_weight                     32561.0  189778.366512  105549.977697   \n",
       "education-num                    32561.0      10.080679       2.572720   \n",
       "cap-gain                         32561.0    1077.648844    7385.292085   \n",
       "cap-loss                         32561.0      87.303830     402.960219   \n",
       "...                                  ...            ...            ...   \n",
       "native-country_ Thailand         32561.0       0.000553       0.023506   \n",
       "native-country_ Trinadad&Tobago  32561.0       0.000584       0.024149   \n",
       "native-country_ United-States    32561.0       0.913762       0.280720   \n",
       "native-country_ Vietnam          32561.0       0.002058       0.045316   \n",
       "native-country_ Yugoslavia       32561.0       0.000491       0.022162   \n",
       "\n",
       "                                     min       25%       50%       75%  \\\n",
       "age                                 17.0      28.0      37.0      48.0   \n",
       "final_weight                     12285.0  117827.0  178356.0  237051.0   \n",
       "education-num                        1.0       9.0      10.0      12.0   \n",
       "cap-gain                             0.0       0.0       0.0       0.0   \n",
       "cap-loss                             0.0       0.0       0.0       0.0   \n",
       "...                                  ...       ...       ...       ...   \n",
       "native-country_ Thailand             0.0       0.0       0.0       0.0   \n",
       "native-country_ Trinadad&Tobago      0.0       0.0       0.0       0.0   \n",
       "native-country_ United-States        0.0       1.0       1.0       1.0   \n",
       "native-country_ Vietnam              0.0       0.0       0.0       0.0   \n",
       "native-country_ Yugoslavia           0.0       0.0       0.0       0.0   \n",
       "\n",
       "                                       max  \n",
       "age                                   90.0  \n",
       "final_weight                     1484705.0  \n",
       "education-num                         16.0  \n",
       "cap-gain                           99999.0  \n",
       "cap-loss                            4356.0  \n",
       "...                                    ...  \n",
       "native-country_ Thailand               1.0  \n",
       "native-country_ Trinadad&Tobago        1.0  \n",
       "native-country_ United-States          1.0  \n",
       "native-country_ Vietnam                1.0  \n",
       "native-country_ Yugoslavia             1.0  \n",
       "\n",
       "[106 rows x 8 columns]"
      ]
     },
     "execution_count": 169,
     "metadata": {},
     "output_type": "execute_result"
    }
   ],
   "source": [
    "df_train.describe(include='all').T"
   ]
  },
  {
   "cell_type": "markdown",
   "id": "f4a8c7ea",
   "metadata": {},
   "source": [
    "## б) Узнаём базовые сведения о тестовом датасете"
   ]
  },
  {
   "cell_type": "code",
   "execution_count": 170,
   "id": "8551c799",
   "metadata": {},
   "outputs": [
    {
     "data": {
      "text/plain": [
       "(16283, 14)"
      ]
     },
     "execution_count": 170,
     "metadata": {},
     "output_type": "execute_result"
    }
   ],
   "source": [
    "df_test.shape"
   ]
  },
  {
   "cell_type": "code",
   "execution_count": 171,
   "id": "078e202a",
   "metadata": {},
   "outputs": [
    {
     "name": "stdout",
     "output_type": "stream",
     "text": [
      "<class 'pandas.core.frame.DataFrame'>\n",
      "RangeIndex: 16283 entries, 0 to 16282\n",
      "Data columns (total 14 columns):\n",
      " #   Column          Non-Null Count  Dtype  \n",
      "---  ------          --------------  -----  \n",
      " 0   age             16283 non-null  object \n",
      " 1   workclass       16282 non-null  object \n",
      " 2   final_weight    16282 non-null  float64\n",
      " 3   education       16282 non-null  object \n",
      " 4   education-num   16282 non-null  float64\n",
      " 5   marital-status  16282 non-null  object \n",
      " 6   occupation      16282 non-null  object \n",
      " 7   relationship    16282 non-null  object \n",
      " 8   race            16282 non-null  object \n",
      " 9   sex             16282 non-null  object \n",
      " 10  cap-gain        16282 non-null  float64\n",
      " 11  cap-loss        16282 non-null  float64\n",
      " 12  hours-per-week  16282 non-null  float64\n",
      " 13  native-country  16282 non-null  object \n",
      "dtypes: float64(5), object(9)\n",
      "memory usage: 1.7+ MB\n"
     ]
    }
   ],
   "source": [
    "df_test.info()"
   ]
  },
  {
   "cell_type": "code",
   "execution_count": 172,
   "id": "2611e455",
   "metadata": {},
   "outputs": [
    {
     "data": {
      "text/html": [
       "<div>\n",
       "<style scoped>\n",
       "    .dataframe tbody tr th:only-of-type {\n",
       "        vertical-align: middle;\n",
       "    }\n",
       "\n",
       "    .dataframe tbody tr th {\n",
       "        vertical-align: top;\n",
       "    }\n",
       "\n",
       "    .dataframe thead th {\n",
       "        text-align: right;\n",
       "    }\n",
       "</style>\n",
       "<table border=\"1\" class=\"dataframe\">\n",
       "  <thead>\n",
       "    <tr style=\"text-align: right;\">\n",
       "      <th></th>\n",
       "      <th>final_weight</th>\n",
       "      <th>education-num</th>\n",
       "      <th>cap-gain</th>\n",
       "      <th>cap-loss</th>\n",
       "      <th>hours-per-week</th>\n",
       "    </tr>\n",
       "  </thead>\n",
       "  <tbody>\n",
       "    <tr>\n",
       "      <th>count</th>\n",
       "      <td>1.628200e+04</td>\n",
       "      <td>1.628200e+04</td>\n",
       "      <td>16282.000000</td>\n",
       "      <td>16282.000000</td>\n",
       "      <td>1.628200e+04</td>\n",
       "    </tr>\n",
       "    <tr>\n",
       "      <th>mean</th>\n",
       "      <td>1.894227e+05</td>\n",
       "      <td>6.283151e+06</td>\n",
       "      <td>1081.839393</td>\n",
       "      <td>87.895836</td>\n",
       "      <td>-1.969437e+04</td>\n",
       "    </tr>\n",
       "    <tr>\n",
       "      <th>std</th>\n",
       "      <td>1.057246e+05</td>\n",
       "      <td>8.017347e+08</td>\n",
       "      <td>7583.707692</td>\n",
       "      <td>403.093144</td>\n",
       "      <td>2.518175e+06</td>\n",
       "    </tr>\n",
       "    <tr>\n",
       "      <th>min</th>\n",
       "      <td>-2.132141e+04</td>\n",
       "      <td>1.000000e+00</td>\n",
       "      <td>0.000000</td>\n",
       "      <td>0.000000</td>\n",
       "      <td>-3.213214e+08</td>\n",
       "    </tr>\n",
       "    <tr>\n",
       "      <th>25%</th>\n",
       "      <td>1.166768e+05</td>\n",
       "      <td>9.000000e+00</td>\n",
       "      <td>0.000000</td>\n",
       "      <td>0.000000</td>\n",
       "      <td>4.000000e+01</td>\n",
       "    </tr>\n",
       "    <tr>\n",
       "      <th>50%</th>\n",
       "      <td>1.778295e+05</td>\n",
       "      <td>1.000000e+01</td>\n",
       "      <td>0.000000</td>\n",
       "      <td>0.000000</td>\n",
       "      <td>4.000000e+01</td>\n",
       "    </tr>\n",
       "    <tr>\n",
       "      <th>75%</th>\n",
       "      <td>2.383840e+05</td>\n",
       "      <td>1.200000e+01</td>\n",
       "      <td>0.000000</td>\n",
       "      <td>0.000000</td>\n",
       "      <td>4.500000e+01</td>\n",
       "    </tr>\n",
       "    <tr>\n",
       "      <th>max</th>\n",
       "      <td>1.490400e+06</td>\n",
       "      <td>1.023021e+11</td>\n",
       "      <td>99999.000000</td>\n",
       "      <td>3770.000000</td>\n",
       "      <td>9.900000e+01</td>\n",
       "    </tr>\n",
       "  </tbody>\n",
       "</table>\n",
       "</div>"
      ],
      "text/plain": [
       "       final_weight  education-num      cap-gain      cap-loss  hours-per-week\n",
       "count  1.628200e+04   1.628200e+04  16282.000000  16282.000000    1.628200e+04\n",
       "mean   1.894227e+05   6.283151e+06   1081.839393     87.895836   -1.969437e+04\n",
       "std    1.057246e+05   8.017347e+08   7583.707692    403.093144    2.518175e+06\n",
       "min   -2.132141e+04   1.000000e+00      0.000000      0.000000   -3.213214e+08\n",
       "25%    1.166768e+05   9.000000e+00      0.000000      0.000000    4.000000e+01\n",
       "50%    1.778295e+05   1.000000e+01      0.000000      0.000000    4.000000e+01\n",
       "75%    2.383840e+05   1.200000e+01      0.000000      0.000000    4.500000e+01\n",
       "max    1.490400e+06   1.023021e+11  99999.000000   3770.000000    9.900000e+01"
      ]
     },
     "execution_count": 172,
     "metadata": {},
     "output_type": "execute_result"
    }
   ],
   "source": [
    "df_test.describe()"
   ]
  },
  {
   "cell_type": "markdown",
   "id": "1001db35",
   "metadata": {},
   "source": [
    "#### Как видно из сведений выше, \"age\"отнесён к object. Это необходимо изменить."
   ]
  },
  {
   "cell_type": "code",
   "execution_count": 173,
   "id": "bd0dc403",
   "metadata": {},
   "outputs": [
    {
     "data": {
      "text/plain": [
       "array(['25', '38', '28', '44', '18', '34', '29', '63', '24', '55', '65',\n",
       "       '36', '26', '58', '48', '43', '20', '37', '40', '72', '45', '22',\n",
       "       '23', '54', '32', '46', '56', '17', '39', '52', '21', '42', '33',\n",
       "       '30', '47', '41', '19', '69', '50', '31', '59', '49', '51', '27',\n",
       "       '57', '61', '64', '79', '73', '53', '77', '80', '62', '35', '68',\n",
       "       '66', '75', '60', '67', '71', '70', '90', '81', '74', '78', '82',\n",
       "       '83', '85', '76', '84', '89', '88', '87', 'fssafsa121321ewd1231e2',\n",
       "       '-10'], dtype=object)"
      ]
     },
     "execution_count": 173,
     "metadata": {},
     "output_type": "execute_result"
    }
   ],
   "source": [
    "df_test['age'].unique() "
   ]
  },
  {
   "cell_type": "markdown",
   "id": "4ed7e7d3",
   "metadata": {},
   "source": [
    "#### Посмотрим строку с значением в 'age' = 'fssafsa121321ewd1231e2'"
   ]
  },
  {
   "cell_type": "code",
   "execution_count": 174,
   "id": "6c5cdcce",
   "metadata": {},
   "outputs": [
    {
     "data": {
      "text/html": [
       "<div>\n",
       "<style scoped>\n",
       "    .dataframe tbody tr th:only-of-type {\n",
       "        vertical-align: middle;\n",
       "    }\n",
       "\n",
       "    .dataframe tbody tr th {\n",
       "        vertical-align: top;\n",
       "    }\n",
       "\n",
       "    .dataframe thead th {\n",
       "        text-align: right;\n",
       "    }\n",
       "</style>\n",
       "<table border=\"1\" class=\"dataframe\">\n",
       "  <thead>\n",
       "    <tr style=\"text-align: right;\">\n",
       "      <th></th>\n",
       "      <th>age</th>\n",
       "      <th>workclass</th>\n",
       "      <th>final_weight</th>\n",
       "      <th>education</th>\n",
       "      <th>education-num</th>\n",
       "      <th>marital-status</th>\n",
       "      <th>occupation</th>\n",
       "      <th>relationship</th>\n",
       "      <th>race</th>\n",
       "      <th>sex</th>\n",
       "      <th>cap-gain</th>\n",
       "      <th>cap-loss</th>\n",
       "      <th>hours-per-week</th>\n",
       "      <th>native-country</th>\n",
       "    </tr>\n",
       "  </thead>\n",
       "  <tbody>\n",
       "    <tr>\n",
       "      <th>12513</th>\n",
       "      <td>fssafsa121321ewd1231e2</td>\n",
       "      <td>NaN</td>\n",
       "      <td>NaN</td>\n",
       "      <td>NaN</td>\n",
       "      <td>NaN</td>\n",
       "      <td>NaN</td>\n",
       "      <td>NaN</td>\n",
       "      <td>NaN</td>\n",
       "      <td>NaN</td>\n",
       "      <td>NaN</td>\n",
       "      <td>NaN</td>\n",
       "      <td>NaN</td>\n",
       "      <td>NaN</td>\n",
       "      <td>NaN</td>\n",
       "    </tr>\n",
       "  </tbody>\n",
       "</table>\n",
       "</div>"
      ],
      "text/plain": [
       "                          age workclass  final_weight education  \\\n",
       "12513  fssafsa121321ewd1231e2       NaN           NaN       NaN   \n",
       "\n",
       "       education-num marital-status occupation relationship race  sex  \\\n",
       "12513            NaN            NaN        NaN          NaN  NaN  NaN   \n",
       "\n",
       "       cap-gain  cap-loss  hours-per-week native-country  \n",
       "12513       NaN       NaN             NaN            NaN  "
      ]
     },
     "execution_count": 174,
     "metadata": {},
     "output_type": "execute_result"
    }
   ],
   "source": [
    "df_test[df_test['age']=='fssafsa121321ewd1231e2']"
   ]
  },
  {
   "cell_type": "markdown",
   "id": "630f7ecd",
   "metadata": {},
   "source": [
    "#### Удалим эту строку, так как она не несёт никакой полезной информации"
   ]
  },
  {
   "cell_type": "code",
   "execution_count": 175,
   "id": "a06bf5c2",
   "metadata": {},
   "outputs": [],
   "source": [
    "df_test.drop(labels=[12513], axis=0, inplace=True)"
   ]
  },
  {
   "cell_type": "markdown",
   "id": "235f14b2",
   "metadata": {},
   "source": [
    "#### Также в процесса чистки данных найдена выпадающая запись"
   ]
  },
  {
   "cell_type": "code",
   "execution_count": 176,
   "id": "b8435298",
   "metadata": {},
   "outputs": [
    {
     "data": {
      "text/html": [
       "<div>\n",
       "<style scoped>\n",
       "    .dataframe tbody tr th:only-of-type {\n",
       "        vertical-align: middle;\n",
       "    }\n",
       "\n",
       "    .dataframe tbody tr th {\n",
       "        vertical-align: top;\n",
       "    }\n",
       "\n",
       "    .dataframe thead th {\n",
       "        text-align: right;\n",
       "    }\n",
       "</style>\n",
       "<table border=\"1\" class=\"dataframe\">\n",
       "  <thead>\n",
       "    <tr style=\"text-align: right;\">\n",
       "      <th></th>\n",
       "      <th>age</th>\n",
       "      <th>workclass</th>\n",
       "      <th>final_weight</th>\n",
       "      <th>education</th>\n",
       "      <th>education-num</th>\n",
       "      <th>marital-status</th>\n",
       "      <th>occupation</th>\n",
       "      <th>relationship</th>\n",
       "      <th>race</th>\n",
       "      <th>sex</th>\n",
       "      <th>cap-gain</th>\n",
       "      <th>cap-loss</th>\n",
       "      <th>hours-per-week</th>\n",
       "      <th>native-country</th>\n",
       "    </tr>\n",
       "  </thead>\n",
       "  <tbody>\n",
       "    <tr>\n",
       "      <th>14154</th>\n",
       "      <td>-10</td>\n",
       "      <td>PRIVATE</td>\n",
       "      <td>-21321.414</td>\n",
       "      <td>HS-grad</td>\n",
       "      <td>1.023021e+11</td>\n",
       "      <td>Divorced</td>\n",
       "      <td>Sales</td>\n",
       "      <td>Husband</td>\n",
       "      <td>White</td>\n",
       "      <td>Male</td>\n",
       "      <td>12.0</td>\n",
       "      <td>32.0</td>\n",
       "      <td>-321321421.0</td>\n",
       "      <td>United-States</td>\n",
       "    </tr>\n",
       "  </tbody>\n",
       "</table>\n",
       "</div>"
      ],
      "text/plain": [
       "       age workclass  final_weight education  education-num marital-status  \\\n",
       "14154  -10   PRIVATE    -21321.414   HS-grad   1.023021e+11       Divorced   \n",
       "\n",
       "      occupation relationship    race    sex  cap-gain  cap-loss  \\\n",
       "14154      Sales      Husband   White   Male      12.0      32.0   \n",
       "\n",
       "       hours-per-week  native-country  \n",
       "14154    -321321421.0   United-States  "
      ]
     },
     "execution_count": 176,
     "metadata": {},
     "output_type": "execute_result"
    }
   ],
   "source": [
    "df_test['age'] = pd.to_numeric(df_test['age'], errors='coerce')\n",
    "df_test[df_test['age'] < 0]"
   ]
  },
  {
   "cell_type": "code",
   "execution_count": 177,
   "id": "b7490265",
   "metadata": {},
   "outputs": [],
   "source": [
    "df_test.drop(labels=[14154], axis=0, inplace=True)"
   ]
  },
  {
   "cell_type": "markdown",
   "id": "bb334b36",
   "metadata": {},
   "source": [
    "#### Заменяем пропуски и явно выпадающие значения медианой"
   ]
  },
  {
   "cell_type": "code",
   "execution_count": 178,
   "id": "4acdcb6a",
   "metadata": {},
   "outputs": [],
   "source": [
    "median_age = df_test['age'].median()\n",
    "df_test.loc[df_test['age'] > 150, 'age'] = median_age\n",
    "df_test['age'] = df_test['age'].fillna(median_age)\n",
    "df_test['age'] = df_test['age'].astype(float)"
   ]
  },
  {
   "cell_type": "code",
   "execution_count": 179,
   "id": "6aa67d61",
   "metadata": {},
   "outputs": [],
   "source": [
    "median_hours = df_test['hours-per-week'].median()\n",
    "df_test.loc[df_test['hours-per-week'] < 0, 'hours-per-week'] = median_hours\n",
    "df_test.loc[df_test['hours-per-week'] > 100, 'hours-per-week'] = median_hours\n",
    "df_test['hours-per-week'] = df_test['hours-per-week'].fillna(median_hours)"
   ]
  },
  {
   "cell_type": "code",
   "execution_count": 180,
   "id": "70aff2d4",
   "metadata": {},
   "outputs": [],
   "source": [
    "median_num = df_test['education-num'].median()\n",
    "df_test.loc[df_test['education-num'] < 0, 'education-num'] = median_num\n",
    "df_test.loc[df_test['education-num'] > 100, 'education-num'] = median_num\n",
    "df_test['education-num'] = df_test['education-num'].fillna(median_num)"
   ]
  },
  {
   "cell_type": "markdown",
   "id": "de446b8f",
   "metadata": {},
   "source": [
    "#### Посмотрим подброности скорректированных данных"
   ]
  },
  {
   "cell_type": "code",
   "execution_count": 181,
   "id": "e6544831",
   "metadata": {},
   "outputs": [
    {
     "data": {
      "text/html": [
       "<div>\n",
       "<style scoped>\n",
       "    .dataframe tbody tr th:only-of-type {\n",
       "        vertical-align: middle;\n",
       "    }\n",
       "\n",
       "    .dataframe tbody tr th {\n",
       "        vertical-align: top;\n",
       "    }\n",
       "\n",
       "    .dataframe thead th {\n",
       "        text-align: right;\n",
       "    }\n",
       "</style>\n",
       "<table border=\"1\" class=\"dataframe\">\n",
       "  <thead>\n",
       "    <tr style=\"text-align: right;\">\n",
       "      <th></th>\n",
       "      <th>age</th>\n",
       "      <th>final_weight</th>\n",
       "      <th>education-num</th>\n",
       "      <th>cap-gain</th>\n",
       "      <th>cap-loss</th>\n",
       "      <th>hours-per-week</th>\n",
       "    </tr>\n",
       "  </thead>\n",
       "  <tbody>\n",
       "    <tr>\n",
       "      <th>count</th>\n",
       "      <td>16281.000000</td>\n",
       "      <td>1.628100e+04</td>\n",
       "      <td>16281.000000</td>\n",
       "      <td>16281.000000</td>\n",
       "      <td>16281.000000</td>\n",
       "      <td>16281.000000</td>\n",
       "    </tr>\n",
       "    <tr>\n",
       "      <th>mean</th>\n",
       "      <td>38.767459</td>\n",
       "      <td>1.894357e+05</td>\n",
       "      <td>10.072907</td>\n",
       "      <td>1081.905104</td>\n",
       "      <td>87.899269</td>\n",
       "      <td>40.392236</td>\n",
       "    </tr>\n",
       "    <tr>\n",
       "      <th>std</th>\n",
       "      <td>13.849187</td>\n",
       "      <td>1.057149e+05</td>\n",
       "      <td>2.567545</td>\n",
       "      <td>7583.935968</td>\n",
       "      <td>403.105286</td>\n",
       "      <td>12.479332</td>\n",
       "    </tr>\n",
       "    <tr>\n",
       "      <th>min</th>\n",
       "      <td>17.000000</td>\n",
       "      <td>1.349200e+04</td>\n",
       "      <td>1.000000</td>\n",
       "      <td>0.000000</td>\n",
       "      <td>0.000000</td>\n",
       "      <td>1.000000</td>\n",
       "    </tr>\n",
       "    <tr>\n",
       "      <th>25%</th>\n",
       "      <td>28.000000</td>\n",
       "      <td>1.167360e+05</td>\n",
       "      <td>9.000000</td>\n",
       "      <td>0.000000</td>\n",
       "      <td>0.000000</td>\n",
       "      <td>40.000000</td>\n",
       "    </tr>\n",
       "    <tr>\n",
       "      <th>50%</th>\n",
       "      <td>37.000000</td>\n",
       "      <td>1.778310e+05</td>\n",
       "      <td>10.000000</td>\n",
       "      <td>0.000000</td>\n",
       "      <td>0.000000</td>\n",
       "      <td>40.000000</td>\n",
       "    </tr>\n",
       "    <tr>\n",
       "      <th>75%</th>\n",
       "      <td>48.000000</td>\n",
       "      <td>2.383840e+05</td>\n",
       "      <td>12.000000</td>\n",
       "      <td>0.000000</td>\n",
       "      <td>0.000000</td>\n",
       "      <td>45.000000</td>\n",
       "    </tr>\n",
       "    <tr>\n",
       "      <th>max</th>\n",
       "      <td>90.000000</td>\n",
       "      <td>1.490400e+06</td>\n",
       "      <td>16.000000</td>\n",
       "      <td>99999.000000</td>\n",
       "      <td>3770.000000</td>\n",
       "      <td>99.000000</td>\n",
       "    </tr>\n",
       "  </tbody>\n",
       "</table>\n",
       "</div>"
      ],
      "text/plain": [
       "                age  final_weight  education-num      cap-gain      cap-loss  \\\n",
       "count  16281.000000  1.628100e+04   16281.000000  16281.000000  16281.000000   \n",
       "mean      38.767459  1.894357e+05      10.072907   1081.905104     87.899269   \n",
       "std       13.849187  1.057149e+05       2.567545   7583.935968    403.105286   \n",
       "min       17.000000  1.349200e+04       1.000000      0.000000      0.000000   \n",
       "25%       28.000000  1.167360e+05       9.000000      0.000000      0.000000   \n",
       "50%       37.000000  1.778310e+05      10.000000      0.000000      0.000000   \n",
       "75%       48.000000  2.383840e+05      12.000000      0.000000      0.000000   \n",
       "max       90.000000  1.490400e+06      16.000000  99999.000000   3770.000000   \n",
       "\n",
       "       hours-per-week  \n",
       "count    16281.000000  \n",
       "mean        40.392236  \n",
       "std         12.479332  \n",
       "min          1.000000  \n",
       "25%         40.000000  \n",
       "50%         40.000000  \n",
       "75%         45.000000  \n",
       "max         99.000000  "
      ]
     },
     "execution_count": 181,
     "metadata": {},
     "output_type": "execute_result"
    }
   ],
   "source": [
    "df_test.describe()"
   ]
  },
  {
   "cell_type": "code",
   "execution_count": 182,
   "id": "ef0862ce",
   "metadata": {},
   "outputs": [
    {
     "name": "stdout",
     "output_type": "stream",
     "text": [
      "<class 'pandas.core.frame.DataFrame'>\n",
      "Int64Index: 16281 entries, 0 to 16282\n",
      "Data columns (total 14 columns):\n",
      " #   Column          Non-Null Count  Dtype  \n",
      "---  ------          --------------  -----  \n",
      " 0   age             16281 non-null  float64\n",
      " 1   workclass       16281 non-null  object \n",
      " 2   final_weight    16281 non-null  float64\n",
      " 3   education       16281 non-null  object \n",
      " 4   education-num   16281 non-null  float64\n",
      " 5   marital-status  16281 non-null  object \n",
      " 6   occupation      16281 non-null  object \n",
      " 7   relationship    16281 non-null  object \n",
      " 8   race            16281 non-null  object \n",
      " 9   sex             16281 non-null  object \n",
      " 10  cap-gain        16281 non-null  float64\n",
      " 11  cap-loss        16281 non-null  float64\n",
      " 12  hours-per-week  16281 non-null  float64\n",
      " 13  native-country  16281 non-null  object \n",
      "dtypes: float64(6), object(8)\n",
      "memory usage: 1.9+ MB\n"
     ]
    }
   ],
   "source": [
    "df_test.info()"
   ]
  },
  {
   "cell_type": "code",
   "execution_count": 183,
   "id": "98ea097e",
   "metadata": {},
   "outputs": [
    {
     "data": {
      "text/plain": [
       "age               0\n",
       "workclass         0\n",
       "final_weight      0\n",
       "education         0\n",
       "education-num     0\n",
       "marital-status    0\n",
       "occupation        0\n",
       "relationship      0\n",
       "race              0\n",
       "sex               0\n",
       "cap-gain          0\n",
       "cap-loss          0\n",
       "hours-per-week    0\n",
       "native-country    0\n",
       "dtype: int64"
      ]
     },
     "execution_count": 183,
     "metadata": {},
     "output_type": "execute_result"
    }
   ],
   "source": [
    "df_test.isnull().sum()"
   ]
  },
  {
   "cell_type": "markdown",
   "id": "2bbbe97f",
   "metadata": {},
   "source": [
    "#### Заменяем \"?\" в данных"
   ]
  },
  {
   "cell_type": "code",
   "execution_count": 184,
   "id": "afce1f4a",
   "metadata": {},
   "outputs": [],
   "source": [
    "categorical_columns = df_test.select_dtypes(include=['object']).columns\n",
    "for col in categorical_columns:\n",
    "        most_common_value = df_test[col].mode()[0]\n",
    "        df_test.loc[df_test[col] == ' ?', col] = most_common_value\n",
    "        df_test[col].fillna(most_common_value, inplace=True)\n",
    "        \n",
    "not_categorical_columns = df_test.select_dtypes(include=['float']).columns\n",
    "for col in not_categorical_columns:\n",
    "        most_common_value = df_test[col].median()\n",
    "        df_test.loc[df_test[col] == ' ?', col] = most_common_value\n",
    "        df_test[col].fillna(most_common_value, inplace=True)"
   ]
  },
  {
   "cell_type": "code",
   "execution_count": 185,
   "id": "3fd06e8c",
   "metadata": {},
   "outputs": [
    {
     "data": {
      "text/plain": [
       "16281"
      ]
     },
     "execution_count": 185,
     "metadata": {},
     "output_type": "execute_result"
    }
   ],
   "source": [
    "len(df_test)\n",
    "# удалена одна строка"
   ]
  },
  {
   "cell_type": "markdown",
   "id": "eca22458",
   "metadata": {},
   "source": [
    "#### Применяем one-hot-encoding"
   ]
  },
  {
   "cell_type": "code",
   "execution_count": 186,
   "id": "cf2a82e2",
   "metadata": {},
   "outputs": [],
   "source": [
    "df_test = pd.concat([df_test, pd.get_dummies(df_test['workclass'], prefix=\"workclass\"),\n",
    "                      pd.get_dummies(df_test['education'], prefix=\"education\"),\n",
    "                      pd.get_dummies(df_test['marital-status'], prefix=\"marital-status\"),\n",
    "                      pd.get_dummies(df_test['occupation'], prefix=\"occupation\"),\n",
    "                      pd.get_dummies(df_test['relationship'], prefix=\"relationship\"),\n",
    "                      pd.get_dummies(df_test['race'], prefix=\"race\"),\n",
    "                      pd.get_dummies(df_test['sex'], prefix=\"sex\"),\n",
    "                      pd.get_dummies(df_test['native-country'], prefix=\"native-country\")],\n",
    "                     axis=1)"
   ]
  },
  {
   "cell_type": "code",
   "execution_count": 187,
   "id": "886a6363",
   "metadata": {},
   "outputs": [],
   "source": [
    "df_test.drop(['workclass', 'education', 'marital-status', 'occupation','relationship', 'race', 'sex', 'native-country'],\n",
    "                axis=1, inplace=True)"
   ]
  },
  {
   "cell_type": "code",
   "execution_count": 188,
   "id": "379cb6ce",
   "metadata": {},
   "outputs": [
    {
     "data": {
      "text/html": [
       "<div>\n",
       "<style scoped>\n",
       "    .dataframe tbody tr th:only-of-type {\n",
       "        vertical-align: middle;\n",
       "    }\n",
       "\n",
       "    .dataframe tbody tr th {\n",
       "        vertical-align: top;\n",
       "    }\n",
       "\n",
       "    .dataframe thead th {\n",
       "        text-align: right;\n",
       "    }\n",
       "</style>\n",
       "<table border=\"1\" class=\"dataframe\">\n",
       "  <thead>\n",
       "    <tr style=\"text-align: right;\">\n",
       "      <th></th>\n",
       "      <th>count</th>\n",
       "      <th>mean</th>\n",
       "      <th>std</th>\n",
       "      <th>min</th>\n",
       "      <th>25%</th>\n",
       "      <th>50%</th>\n",
       "      <th>75%</th>\n",
       "      <th>max</th>\n",
       "    </tr>\n",
       "  </thead>\n",
       "  <tbody>\n",
       "    <tr>\n",
       "      <th>age</th>\n",
       "      <td>16281.0</td>\n",
       "      <td>38.767459</td>\n",
       "      <td>13.849187</td>\n",
       "      <td>17.0</td>\n",
       "      <td>28.0</td>\n",
       "      <td>37.0</td>\n",
       "      <td>48.0</td>\n",
       "      <td>90.0</td>\n",
       "    </tr>\n",
       "    <tr>\n",
       "      <th>final_weight</th>\n",
       "      <td>16281.0</td>\n",
       "      <td>189435.677784</td>\n",
       "      <td>105714.907671</td>\n",
       "      <td>13492.0</td>\n",
       "      <td>116736.0</td>\n",
       "      <td>177831.0</td>\n",
       "      <td>238384.0</td>\n",
       "      <td>1490400.0</td>\n",
       "    </tr>\n",
       "    <tr>\n",
       "      <th>education-num</th>\n",
       "      <td>16281.0</td>\n",
       "      <td>10.072907</td>\n",
       "      <td>2.567545</td>\n",
       "      <td>1.0</td>\n",
       "      <td>9.0</td>\n",
       "      <td>10.0</td>\n",
       "      <td>12.0</td>\n",
       "      <td>16.0</td>\n",
       "    </tr>\n",
       "    <tr>\n",
       "      <th>cap-gain</th>\n",
       "      <td>16281.0</td>\n",
       "      <td>1081.905104</td>\n",
       "      <td>7583.935968</td>\n",
       "      <td>0.0</td>\n",
       "      <td>0.0</td>\n",
       "      <td>0.0</td>\n",
       "      <td>0.0</td>\n",
       "      <td>99999.0</td>\n",
       "    </tr>\n",
       "    <tr>\n",
       "      <th>cap-loss</th>\n",
       "      <td>16281.0</td>\n",
       "      <td>87.899269</td>\n",
       "      <td>403.105286</td>\n",
       "      <td>0.0</td>\n",
       "      <td>0.0</td>\n",
       "      <td>0.0</td>\n",
       "      <td>0.0</td>\n",
       "      <td>3770.0</td>\n",
       "    </tr>\n",
       "    <tr>\n",
       "      <th>...</th>\n",
       "      <td>...</td>\n",
       "      <td>...</td>\n",
       "      <td>...</td>\n",
       "      <td>...</td>\n",
       "      <td>...</td>\n",
       "      <td>...</td>\n",
       "      <td>...</td>\n",
       "      <td>...</td>\n",
       "    </tr>\n",
       "    <tr>\n",
       "      <th>native-country_ Thailand</th>\n",
       "      <td>16281.0</td>\n",
       "      <td>0.000737</td>\n",
       "      <td>0.027140</td>\n",
       "      <td>0.0</td>\n",
       "      <td>0.0</td>\n",
       "      <td>0.0</td>\n",
       "      <td>0.0</td>\n",
       "      <td>1.0</td>\n",
       "    </tr>\n",
       "    <tr>\n",
       "      <th>native-country_ Trinadad&amp;Tobago</th>\n",
       "      <td>16281.0</td>\n",
       "      <td>0.000491</td>\n",
       "      <td>0.022162</td>\n",
       "      <td>0.0</td>\n",
       "      <td>0.0</td>\n",
       "      <td>0.0</td>\n",
       "      <td>0.0</td>\n",
       "      <td>1.0</td>\n",
       "    </tr>\n",
       "    <tr>\n",
       "      <th>native-country_ United-States</th>\n",
       "      <td>16281.0</td>\n",
       "      <td>0.917388</td>\n",
       "      <td>0.275303</td>\n",
       "      <td>0.0</td>\n",
       "      <td>1.0</td>\n",
       "      <td>1.0</td>\n",
       "      <td>1.0</td>\n",
       "      <td>1.0</td>\n",
       "    </tr>\n",
       "    <tr>\n",
       "      <th>native-country_ Vietnam</th>\n",
       "      <td>16281.0</td>\n",
       "      <td>0.001167</td>\n",
       "      <td>0.034143</td>\n",
       "      <td>0.0</td>\n",
       "      <td>0.0</td>\n",
       "      <td>0.0</td>\n",
       "      <td>0.0</td>\n",
       "      <td>1.0</td>\n",
       "    </tr>\n",
       "    <tr>\n",
       "      <th>native-country_ Yugoslavia</th>\n",
       "      <td>16281.0</td>\n",
       "      <td>0.000430</td>\n",
       "      <td>0.020731</td>\n",
       "      <td>0.0</td>\n",
       "      <td>0.0</td>\n",
       "      <td>0.0</td>\n",
       "      <td>0.0</td>\n",
       "      <td>1.0</td>\n",
       "    </tr>\n",
       "  </tbody>\n",
       "</table>\n",
       "<p>104 rows × 8 columns</p>\n",
       "</div>"
      ],
      "text/plain": [
       "                                   count           mean            std  \\\n",
       "age                              16281.0      38.767459      13.849187   \n",
       "final_weight                     16281.0  189435.677784  105714.907671   \n",
       "education-num                    16281.0      10.072907       2.567545   \n",
       "cap-gain                         16281.0    1081.905104    7583.935968   \n",
       "cap-loss                         16281.0      87.899269     403.105286   \n",
       "...                                  ...            ...            ...   \n",
       "native-country_ Thailand         16281.0       0.000737       0.027140   \n",
       "native-country_ Trinadad&Tobago  16281.0       0.000491       0.022162   \n",
       "native-country_ United-States    16281.0       0.917388       0.275303   \n",
       "native-country_ Vietnam          16281.0       0.001167       0.034143   \n",
       "native-country_ Yugoslavia       16281.0       0.000430       0.020731   \n",
       "\n",
       "                                     min       25%       50%       75%  \\\n",
       "age                                 17.0      28.0      37.0      48.0   \n",
       "final_weight                     13492.0  116736.0  177831.0  238384.0   \n",
       "education-num                        1.0       9.0      10.0      12.0   \n",
       "cap-gain                             0.0       0.0       0.0       0.0   \n",
       "cap-loss                             0.0       0.0       0.0       0.0   \n",
       "...                                  ...       ...       ...       ...   \n",
       "native-country_ Thailand             0.0       0.0       0.0       0.0   \n",
       "native-country_ Trinadad&Tobago      0.0       0.0       0.0       0.0   \n",
       "native-country_ United-States        0.0       1.0       1.0       1.0   \n",
       "native-country_ Vietnam              0.0       0.0       0.0       0.0   \n",
       "native-country_ Yugoslavia           0.0       0.0       0.0       0.0   \n",
       "\n",
       "                                       max  \n",
       "age                                   90.0  \n",
       "final_weight                     1490400.0  \n",
       "education-num                         16.0  \n",
       "cap-gain                           99999.0  \n",
       "cap-loss                            3770.0  \n",
       "...                                    ...  \n",
       "native-country_ Thailand               1.0  \n",
       "native-country_ Trinadad&Tobago        1.0  \n",
       "native-country_ United-States          1.0  \n",
       "native-country_ Vietnam                1.0  \n",
       "native-country_ Yugoslavia             1.0  \n",
       "\n",
       "[104 rows x 8 columns]"
      ]
     },
     "execution_count": 188,
     "metadata": {},
     "output_type": "execute_result"
    }
   ],
   "source": [
    "df_test.describe(include='all').T"
   ]
  },
  {
   "cell_type": "code",
   "execution_count": 189,
   "id": "6d6f06b0",
   "metadata": {},
   "outputs": [
    {
     "data": {
      "text/plain": [
       "{'native-country_ Holand-Netherlands', 'sum_N'}"
      ]
     },
     "execution_count": 189,
     "metadata": {},
     "output_type": "execute_result"
    }
   ],
   "source": [
    "set(df_train.columns) - set(df_test.columns)"
   ]
  },
  {
   "cell_type": "code",
   "execution_count": 190,
   "id": "d0438d4a",
   "metadata": {},
   "outputs": [
    {
     "data": {
      "text/plain": [
       "((32561, 106), (16281, 104))"
      ]
     },
     "execution_count": 190,
     "metadata": {},
     "output_type": "execute_result"
    }
   ],
   "source": [
    "df_train.shape, df_test.shape"
   ]
  },
  {
   "cell_type": "markdown",
   "id": "03009b99",
   "metadata": {},
   "source": [
    "#### В тестовой выборке не оказалось приведённых выше колонок. Заведем необходимый признак из нулей."
   ]
  },
  {
   "cell_type": "code",
   "execution_count": 191,
   "id": "31049d3d",
   "metadata": {},
   "outputs": [],
   "source": [
    "df_test['native-country_ Holand-Netherlands'] = np.zeros([df_test.shape[0], 1])"
   ]
  },
  {
   "cell_type": "code",
   "execution_count": 192,
   "id": "c6a05f24",
   "metadata": {},
   "outputs": [
    {
     "data": {
      "text/plain": [
       "{'sum_N'}"
      ]
     },
     "execution_count": 192,
     "metadata": {},
     "output_type": "execute_result"
    }
   ],
   "source": [
    "set(df_train.columns) - set(df_test.columns)"
   ]
  },
  {
   "cell_type": "markdown",
   "id": "01886243",
   "metadata": {},
   "source": [
    "# 3. Обучение моделей\n"
   ]
  },
  {
   "cell_type": "markdown",
   "id": "f46239ad",
   "metadata": {},
   "source": [
    "#### Подготовливаем выборки для обучения"
   ]
  },
  {
   "cell_type": "code",
   "execution_count": 256,
   "id": "451a099c",
   "metadata": {},
   "outputs": [],
   "source": [
    "X_train = df_train.drop(['sum_N'], axis=1)\n",
    "y_train = df_train['sum_N']"
   ]
  },
  {
   "cell_type": "code",
   "execution_count": 257,
   "id": "d63e8b92",
   "metadata": {},
   "outputs": [],
   "source": [
    "X_test = df_test"
   ]
  },
  {
   "cell_type": "code",
   "execution_count": 258,
   "id": "ca64f590",
   "metadata": {},
   "outputs": [],
   "source": [
    "# Отсортируем признаки по алфавиту\n",
    "sorted_features = sorted(X_train.columns)\n",
    "\n",
    "# Отсортируем признаки в тренировочной выборке\n",
    "X_train = X_train.reindex(columns=sorted_features)\n",
    "\n",
    "# Отсортируем признаки в тестовой выборке\n",
    "X_test = X_test.reindex(columns=sorted_features)"
   ]
  },
  {
   "cell_type": "markdown",
   "id": "cc40be2e",
   "metadata": {},
   "source": [
    "## а) Decision tree"
   ]
  },
  {
   "cell_type": "markdown",
   "id": "692a5646",
   "metadata": {},
   "source": [
    "#### Объявляем дерево решений и ограничиваем его глубину"
   ]
  },
  {
   "cell_type": "code",
   "execution_count": 259,
   "id": "6389e91c",
   "metadata": {},
   "outputs": [],
   "source": [
    "clf = DecisionTreeClassifier(criterion='entropy', max_depth=6)"
   ]
  },
  {
   "cell_type": "markdown",
   "id": "e9e00d32",
   "metadata": {},
   "source": [
    "#### Обучаем модель"
   ]
  },
  {
   "cell_type": "code",
   "execution_count": 260,
   "id": "35578b4d",
   "metadata": {},
   "outputs": [
    {
     "data": {
      "text/html": [
       "<style>#sk-container-id-12 {color: black;}#sk-container-id-12 pre{padding: 0;}#sk-container-id-12 div.sk-toggleable {background-color: white;}#sk-container-id-12 label.sk-toggleable__label {cursor: pointer;display: block;width: 100%;margin-bottom: 0;padding: 0.3em;box-sizing: border-box;text-align: center;}#sk-container-id-12 label.sk-toggleable__label-arrow:before {content: \"▸\";float: left;margin-right: 0.25em;color: #696969;}#sk-container-id-12 label.sk-toggleable__label-arrow:hover:before {color: black;}#sk-container-id-12 div.sk-estimator:hover label.sk-toggleable__label-arrow:before {color: black;}#sk-container-id-12 div.sk-toggleable__content {max-height: 0;max-width: 0;overflow: hidden;text-align: left;background-color: #f0f8ff;}#sk-container-id-12 div.sk-toggleable__content pre {margin: 0.2em;color: black;border-radius: 0.25em;background-color: #f0f8ff;}#sk-container-id-12 input.sk-toggleable__control:checked~div.sk-toggleable__content {max-height: 200px;max-width: 100%;overflow: auto;}#sk-container-id-12 input.sk-toggleable__control:checked~label.sk-toggleable__label-arrow:before {content: \"▾\";}#sk-container-id-12 div.sk-estimator input.sk-toggleable__control:checked~label.sk-toggleable__label {background-color: #d4ebff;}#sk-container-id-12 div.sk-label input.sk-toggleable__control:checked~label.sk-toggleable__label {background-color: #d4ebff;}#sk-container-id-12 input.sk-hidden--visually {border: 0;clip: rect(1px 1px 1px 1px);clip: rect(1px, 1px, 1px, 1px);height: 1px;margin: -1px;overflow: hidden;padding: 0;position: absolute;width: 1px;}#sk-container-id-12 div.sk-estimator {font-family: monospace;background-color: #f0f8ff;border: 1px dotted black;border-radius: 0.25em;box-sizing: border-box;margin-bottom: 0.5em;}#sk-container-id-12 div.sk-estimator:hover {background-color: #d4ebff;}#sk-container-id-12 div.sk-parallel-item::after {content: \"\";width: 100%;border-bottom: 1px solid gray;flex-grow: 1;}#sk-container-id-12 div.sk-label:hover label.sk-toggleable__label {background-color: #d4ebff;}#sk-container-id-12 div.sk-serial::before {content: \"\";position: absolute;border-left: 1px solid gray;box-sizing: border-box;top: 0;bottom: 0;left: 50%;z-index: 0;}#sk-container-id-12 div.sk-serial {display: flex;flex-direction: column;align-items: center;background-color: white;padding-right: 0.2em;padding-left: 0.2em;position: relative;}#sk-container-id-12 div.sk-item {position: relative;z-index: 1;}#sk-container-id-12 div.sk-parallel {display: flex;align-items: stretch;justify-content: center;background-color: white;position: relative;}#sk-container-id-12 div.sk-item::before, #sk-container-id-12 div.sk-parallel-item::before {content: \"\";position: absolute;border-left: 1px solid gray;box-sizing: border-box;top: 0;bottom: 0;left: 50%;z-index: -1;}#sk-container-id-12 div.sk-parallel-item {display: flex;flex-direction: column;z-index: 1;position: relative;background-color: white;}#sk-container-id-12 div.sk-parallel-item:first-child::after {align-self: flex-end;width: 50%;}#sk-container-id-12 div.sk-parallel-item:last-child::after {align-self: flex-start;width: 50%;}#sk-container-id-12 div.sk-parallel-item:only-child::after {width: 0;}#sk-container-id-12 div.sk-dashed-wrapped {border: 1px dashed gray;margin: 0 0.4em 0.5em 0.4em;box-sizing: border-box;padding-bottom: 0.4em;background-color: white;}#sk-container-id-12 div.sk-label label {font-family: monospace;font-weight: bold;display: inline-block;line-height: 1.2em;}#sk-container-id-12 div.sk-label-container {text-align: center;}#sk-container-id-12 div.sk-container {/* jupyter's `normalize.less` sets `[hidden] { display: none; }` but bootstrap.min.css set `[hidden] { display: none !important; }` so we also need the `!important` here to be able to override the default hidden behavior on the sphinx rendered scikit-learn.org. See: https://github.com/scikit-learn/scikit-learn/issues/21755 */display: inline-block !important;position: relative;}#sk-container-id-12 div.sk-text-repr-fallback {display: none;}</style><div id=\"sk-container-id-12\" class=\"sk-top-container\"><div class=\"sk-text-repr-fallback\"><pre>DecisionTreeClassifier(criterion=&#x27;entropy&#x27;, max_depth=6)</pre><b>In a Jupyter environment, please rerun this cell to show the HTML representation or trust the notebook. <br />On GitHub, the HTML representation is unable to render, please try loading this page with nbviewer.org.</b></div><div class=\"sk-container\" hidden><div class=\"sk-item\"><div class=\"sk-estimator sk-toggleable\"><input class=\"sk-toggleable__control sk-hidden--visually\" id=\"sk-estimator-id-16\" type=\"checkbox\" checked><label for=\"sk-estimator-id-16\" class=\"sk-toggleable__label sk-toggleable__label-arrow\">DecisionTreeClassifier</label><div class=\"sk-toggleable__content\"><pre>DecisionTreeClassifier(criterion=&#x27;entropy&#x27;, max_depth=6)</pre></div></div></div></div></div>"
      ],
      "text/plain": [
       "DecisionTreeClassifier(criterion='entropy', max_depth=6)"
      ]
     },
     "execution_count": 260,
     "metadata": {},
     "output_type": "execute_result"
    }
   ],
   "source": [
    "clf.fit(X_train, y_train)"
   ]
  },
  {
   "cell_type": "markdown",
   "id": "7dcda384",
   "metadata": {},
   "source": [
    "#### Смотрим score"
   ]
  },
  {
   "cell_type": "code",
   "execution_count": 261,
   "id": "e52daf1b",
   "metadata": {},
   "outputs": [
    {
     "data": {
      "text/plain": [
       "0.8540585362857406"
      ]
     },
     "execution_count": 261,
     "metadata": {},
     "output_type": "execute_result"
    }
   ],
   "source": [
    "clf.score(X_train, y_train)"
   ]
  },
  {
   "cell_type": "code",
   "execution_count": 262,
   "id": "82b49419",
   "metadata": {},
   "outputs": [
    {
     "data": {
      "text/plain": [
       "array([0., 0., 0., ..., 0., 0., 1.])"
      ]
     },
     "execution_count": 262,
     "metadata": {},
     "output_type": "execute_result"
    }
   ],
   "source": [
    "predictions = clf.predict(X_train)\n",
    "predictions"
   ]
  },
  {
   "cell_type": "code",
   "execution_count": 263,
   "id": "d3be8ec0",
   "metadata": {},
   "outputs": [
    {
     "name": "stdout",
     "output_type": "stream",
     "text": [
      "Accuracy: 0.8540585362857406\n",
      "Precision: 0.8006618649016936\n",
      "Recall: 0.5245504399948986\n",
      "F1 Score: 0.6338418862690708\n",
      "Confusion Matrix:\n",
      "[[23696  1024]\n",
      " [ 3728  4113]]\n"
     ]
    }
   ],
   "source": [
    "# Метрики качества модели\n",
    "accuracy = accuracy_score(y_train, predictions)\n",
    "precision = precision_score(y_train, predictions)\n",
    "recall = recall_score(y_train, predictions)\n",
    "f1 = f1_score(y_train, predictions)\n",
    "\n",
    "# Матрица ошибок\n",
    "conf_matrix = confusion_matrix(y_train, predictions)\n",
    "\n",
    "print(\"Accuracy:\", accuracy)\n",
    "print(\"Precision:\", precision)\n",
    "print(\"Recall:\", recall)\n",
    "print(\"F1 Score:\", f1)\n",
    "print(\"Confusion Matrix:\")\n",
    "print(conf_matrix)"
   ]
  },
  {
   "cell_type": "code",
   "execution_count": 264,
   "id": "7a5bdd8b",
   "metadata": {},
   "outputs": [
    {
     "data": {
      "text/plain": [
       "<matplotlib.legend.Legend at 0x19548092da0>"
      ]
     },
     "execution_count": 264,
     "metadata": {},
     "output_type": "execute_result"
    },
    {
     "data": {
      "image/png": "[encoded data removed]",
      "text/plain": [
       "<Figure size 640x480 with 1 Axes>"
      ]
     },
     "metadata": {},
     "output_type": "display_data"
    }
   ],
   "source": [
    "y_predicted_probe = clf.predict_proba(X_train)\n",
    "from sklearn.metrics import roc_curve, auc\n",
    "fpr, tpr, thresholds = roc_curve(y_train, y_predicted_probe[:,1])\n",
    "roc_auc= auc(fpr, tpr)\n",
    "plt.figure()\n",
    "plt.plot(fpr, tpr, label='ROC curve (area = %0.2f)' % (roc_auc))\n",
    "plt.plot([0, 1], [0, 1] , 'k--')\n",
    "plt.xlim([0.0, 1.0])\n",
    "plt.ylim([0.0, 1.05])\n",
    "plt.xlabel('False Positive Rate')\n",
    "plt.ylabel('True Positive Rate')\n",
    "plt.title('Receiver operating characteristic')\n",
    "plt.legend(loc=\"lower right\")"
   ]
  },
  {
   "cell_type": "markdown",
   "id": "ff21da04",
   "metadata": {},
   "source": [
    "#### Предсказание на тестовой выборке"
   ]
  },
  {
   "cell_type": "code",
   "execution_count": 265,
   "id": "0267e3f8",
   "metadata": {},
   "outputs": [
    {
     "data": {
      "text/plain": [
       "array([0., 0., 0., ..., 1., 0., 1.])"
      ]
     },
     "execution_count": 265,
     "metadata": {},
     "output_type": "execute_result"
    }
   ],
   "source": [
    "predictions = clf.predict(X_test)\n",
    "predictions"
   ]
  },
  {
   "cell_type": "markdown",
   "id": "2c839eb3",
   "metadata": {},
   "source": [
    "## б) Decision tree с автоматическим подбором параметров"
   ]
  },
  {
   "cell_type": "code",
   "execution_count": 242,
   "id": "53a0ce3a",
   "metadata": {},
   "outputs": [
    {
     "data": {
      "text/html": [
       "<style>#sk-container-id-10 {color: black;}#sk-container-id-10 pre{padding: 0;}#sk-container-id-10 div.sk-toggleable {background-color: white;}#sk-container-id-10 label.sk-toggleable__label {cursor: pointer;display: block;width: 100%;margin-bottom: 0;padding: 0.3em;box-sizing: border-box;text-align: center;}#sk-container-id-10 label.sk-toggleable__label-arrow:before {content: \"▸\";float: left;margin-right: 0.25em;color: #696969;}#sk-container-id-10 label.sk-toggleable__label-arrow:hover:before {color: black;}#sk-container-id-10 div.sk-estimator:hover label.sk-toggleable__label-arrow:before {color: black;}#sk-container-id-10 div.sk-toggleable__content {max-height: 0;max-width: 0;overflow: hidden;text-align: left;background-color: #f0f8ff;}#sk-container-id-10 div.sk-toggleable__content pre {margin: 0.2em;color: black;border-radius: 0.25em;background-color: #f0f8ff;}#sk-container-id-10 input.sk-toggleable__control:checked~div.sk-toggleable__content {max-height: 200px;max-width: 100%;overflow: auto;}#sk-container-id-10 input.sk-toggleable__control:checked~label.sk-toggleable__label-arrow:before {content: \"▾\";}#sk-container-id-10 div.sk-estimator input.sk-toggleable__control:checked~label.sk-toggleable__label {background-color: #d4ebff;}#sk-container-id-10 div.sk-label input.sk-toggleable__control:checked~label.sk-toggleable__label {background-color: #d4ebff;}#sk-container-id-10 input.sk-hidden--visually {border: 0;clip: rect(1px 1px 1px 1px);clip: rect(1px, 1px, 1px, 1px);height: 1px;margin: -1px;overflow: hidden;padding: 0;position: absolute;width: 1px;}#sk-container-id-10 div.sk-estimator {font-family: monospace;background-color: #f0f8ff;border: 1px dotted black;border-radius: 0.25em;box-sizing: border-box;margin-bottom: 0.5em;}#sk-container-id-10 div.sk-estimator:hover {background-color: #d4ebff;}#sk-container-id-10 div.sk-parallel-item::after {content: \"\";width: 100%;border-bottom: 1px solid gray;flex-grow: 1;}#sk-container-id-10 div.sk-label:hover label.sk-toggleable__label {background-color: #d4ebff;}#sk-container-id-10 div.sk-serial::before {content: \"\";position: absolute;border-left: 1px solid gray;box-sizing: border-box;top: 0;bottom: 0;left: 50%;z-index: 0;}#sk-container-id-10 div.sk-serial {display: flex;flex-direction: column;align-items: center;background-color: white;padding-right: 0.2em;padding-left: 0.2em;position: relative;}#sk-container-id-10 div.sk-item {position: relative;z-index: 1;}#sk-container-id-10 div.sk-parallel {display: flex;align-items: stretch;justify-content: center;background-color: white;position: relative;}#sk-container-id-10 div.sk-item::before, #sk-container-id-10 div.sk-parallel-item::before {content: \"\";position: absolute;border-left: 1px solid gray;box-sizing: border-box;top: 0;bottom: 0;left: 50%;z-index: -1;}#sk-container-id-10 div.sk-parallel-item {display: flex;flex-direction: column;z-index: 1;position: relative;background-color: white;}#sk-container-id-10 div.sk-parallel-item:first-child::after {align-self: flex-end;width: 50%;}#sk-container-id-10 div.sk-parallel-item:last-child::after {align-self: flex-start;width: 50%;}#sk-container-id-10 div.sk-parallel-item:only-child::after {width: 0;}#sk-container-id-10 div.sk-dashed-wrapped {border: 1px dashed gray;margin: 0 0.4em 0.5em 0.4em;box-sizing: border-box;padding-bottom: 0.4em;background-color: white;}#sk-container-id-10 div.sk-label label {font-family: monospace;font-weight: bold;display: inline-block;line-height: 1.2em;}#sk-container-id-10 div.sk-label-container {text-align: center;}#sk-container-id-10 div.sk-container {/* jupyter's `normalize.less` sets `[hidden] { display: none; }` but bootstrap.min.css set `[hidden] { display: none !important; }` so we also need the `!important` here to be able to override the default hidden behavior on the sphinx rendered scikit-learn.org. See: https://github.com/scikit-learn/scikit-learn/issues/21755 */display: inline-block !important;position: relative;}#sk-container-id-10 div.sk-text-repr-fallback {display: none;}</style><div id=\"sk-container-id-10\" class=\"sk-top-container\"><div class=\"sk-text-repr-fallback\"><pre>DecisionTreeClassifier()</pre><b>In a Jupyter environment, please rerun this cell to show the HTML representation or trust the notebook. <br />On GitHub, the HTML representation is unable to render, please try loading this page with nbviewer.org.</b></div><div class=\"sk-container\" hidden><div class=\"sk-item\"><div class=\"sk-estimator sk-toggleable\"><input class=\"sk-toggleable__control sk-hidden--visually\" id=\"sk-estimator-id-12\" type=\"checkbox\" checked><label for=\"sk-estimator-id-12\" class=\"sk-toggleable__label sk-toggleable__label-arrow\">DecisionTreeClassifier</label><div class=\"sk-toggleable__content\"><pre>DecisionTreeClassifier()</pre></div></div></div></div></div>"
      ],
      "text/plain": [
       "DecisionTreeClassifier()"
      ]
     },
     "execution_count": 242,
     "metadata": {},
     "output_type": "execute_result"
    }
   ],
   "source": [
    "clf = DecisionTreeClassifier()\n",
    "clf"
   ]
  },
  {
   "cell_type": "code",
   "execution_count": 243,
   "id": "ccd565b3",
   "metadata": {},
   "outputs": [],
   "source": [
    "parametrs = {'criterion':['gini', 'entropy'], 'max_depth':range(1, 30)}"
   ]
  },
  {
   "cell_type": "code",
   "execution_count": 244,
   "id": "4be5bc2b",
   "metadata": {},
   "outputs": [],
   "source": [
    "grid_search_cv_clf = GridSearchCV(clf, parametrs, cv=5)"
   ]
  },
  {
   "cell_type": "code",
   "execution_count": 245,
   "id": "12b69e76",
   "metadata": {},
   "outputs": [
    {
     "data": {
      "text/html": [
       "<style>#sk-container-id-11 {color: black;}#sk-container-id-11 pre{padding: 0;}#sk-container-id-11 div.sk-toggleable {background-color: white;}#sk-container-id-11 label.sk-toggleable__label {cursor: pointer;display: block;width: 100%;margin-bottom: 0;padding: 0.3em;box-sizing: border-box;text-align: center;}#sk-container-id-11 label.sk-toggleable__label-arrow:before {content: \"▸\";float: left;margin-right: 0.25em;color: #696969;}#sk-container-id-11 label.sk-toggleable__label-arrow:hover:before {color: black;}#sk-container-id-11 div.sk-estimator:hover label.sk-toggleable__label-arrow:before {color: black;}#sk-container-id-11 div.sk-toggleable__content {max-height: 0;max-width: 0;overflow: hidden;text-align: left;background-color: #f0f8ff;}#sk-container-id-11 div.sk-toggleable__content pre {margin: 0.2em;color: black;border-radius: 0.25em;background-color: #f0f8ff;}#sk-container-id-11 input.sk-toggleable__control:checked~div.sk-toggleable__content {max-height: 200px;max-width: 100%;overflow: auto;}#sk-container-id-11 input.sk-toggleable__control:checked~label.sk-toggleable__label-arrow:before {content: \"▾\";}#sk-container-id-11 div.sk-estimator input.sk-toggleable__control:checked~label.sk-toggleable__label {background-color: #d4ebff;}#sk-container-id-11 div.sk-label input.sk-toggleable__control:checked~label.sk-toggleable__label {background-color: #d4ebff;}#sk-container-id-11 input.sk-hidden--visually {border: 0;clip: rect(1px 1px 1px 1px);clip: rect(1px, 1px, 1px, 1px);height: 1px;margin: -1px;overflow: hidden;padding: 0;position: absolute;width: 1px;}#sk-container-id-11 div.sk-estimator {font-family: monospace;background-color: #f0f8ff;border: 1px dotted black;border-radius: 0.25em;box-sizing: border-box;margin-bottom: 0.5em;}#sk-container-id-11 div.sk-estimator:hover {background-color: #d4ebff;}#sk-container-id-11 div.sk-parallel-item::after {content: \"\";width: 100%;border-bottom: 1px solid gray;flex-grow: 1;}#sk-container-id-11 div.sk-label:hover label.sk-toggleable__label {background-color: #d4ebff;}#sk-container-id-11 div.sk-serial::before {content: \"\";position: absolute;border-left: 1px solid gray;box-sizing: border-box;top: 0;bottom: 0;left: 50%;z-index: 0;}#sk-container-id-11 div.sk-serial {display: flex;flex-direction: column;align-items: center;background-color: white;padding-right: 0.2em;padding-left: 0.2em;position: relative;}#sk-container-id-11 div.sk-item {position: relative;z-index: 1;}#sk-container-id-11 div.sk-parallel {display: flex;align-items: stretch;justify-content: center;background-color: white;position: relative;}#sk-container-id-11 div.sk-item::before, #sk-container-id-11 div.sk-parallel-item::before {content: \"\";position: absolute;border-left: 1px solid gray;box-sizing: border-box;top: 0;bottom: 0;left: 50%;z-index: -1;}#sk-container-id-11 div.sk-parallel-item {display: flex;flex-direction: column;z-index: 1;position: relative;background-color: white;}#sk-container-id-11 div.sk-parallel-item:first-child::after {align-self: flex-end;width: 50%;}#sk-container-id-11 div.sk-parallel-item:last-child::after {align-self: flex-start;width: 50%;}#sk-container-id-11 div.sk-parallel-item:only-child::after {width: 0;}#sk-container-id-11 div.sk-dashed-wrapped {border: 1px dashed gray;margin: 0 0.4em 0.5em 0.4em;box-sizing: border-box;padding-bottom: 0.4em;background-color: white;}#sk-container-id-11 div.sk-label label {font-family: monospace;font-weight: bold;display: inline-block;line-height: 1.2em;}#sk-container-id-11 div.sk-label-container {text-align: center;}#sk-container-id-11 div.sk-container {/* jupyter's `normalize.less` sets `[hidden] { display: none; }` but bootstrap.min.css set `[hidden] { display: none !important; }` so we also need the `!important` here to be able to override the default hidden behavior on the sphinx rendered scikit-learn.org. See: https://github.com/scikit-learn/scikit-learn/issues/21755 */display: inline-block !important;position: relative;}#sk-container-id-11 div.sk-text-repr-fallback {display: none;}</style><div id=\"sk-container-id-11\" class=\"sk-top-container\"><div class=\"sk-text-repr-fallback\"><pre>GridSearchCV(cv=5, estimator=DecisionTreeClassifier(),\n",
       "             param_grid={&#x27;criterion&#x27;: [&#x27;gini&#x27;, &#x27;entropy&#x27;],\n",
       "                         &#x27;max_depth&#x27;: range(1, 30)})</pre><b>In a Jupyter environment, please rerun this cell to show the HTML representation or trust the notebook. <br />On GitHub, the HTML representation is unable to render, please try loading this page with nbviewer.org.</b></div><div class=\"sk-container\" hidden><div class=\"sk-item sk-dashed-wrapped\"><div class=\"sk-label-container\"><div class=\"sk-label sk-toggleable\"><input class=\"sk-toggleable__control sk-hidden--visually\" id=\"sk-estimator-id-13\" type=\"checkbox\" ><label for=\"sk-estimator-id-13\" class=\"sk-toggleable__label sk-toggleable__label-arrow\">GridSearchCV</label><div class=\"sk-toggleable__content\"><pre>GridSearchCV(cv=5, estimator=DecisionTreeClassifier(),\n",
       "             param_grid={&#x27;criterion&#x27;: [&#x27;gini&#x27;, &#x27;entropy&#x27;],\n",
       "                         &#x27;max_depth&#x27;: range(1, 30)})</pre></div></div></div><div class=\"sk-parallel\"><div class=\"sk-parallel-item\"><div class=\"sk-item\"><div class=\"sk-label-container\"><div class=\"sk-label sk-toggleable\"><input class=\"sk-toggleable__control sk-hidden--visually\" id=\"sk-estimator-id-14\" type=\"checkbox\" ><label for=\"sk-estimator-id-14\" class=\"sk-toggleable__label sk-toggleable__label-arrow\">estimator: DecisionTreeClassifier</label><div class=\"sk-toggleable__content\"><pre>DecisionTreeClassifier()</pre></div></div></div><div class=\"sk-serial\"><div class=\"sk-item\"><div class=\"sk-estimator sk-toggleable\"><input class=\"sk-toggleable__control sk-hidden--visually\" id=\"sk-estimator-id-15\" type=\"checkbox\" ><label for=\"sk-estimator-id-15\" class=\"sk-toggleable__label sk-toggleable__label-arrow\">DecisionTreeClassifier</label><div class=\"sk-toggleable__content\"><pre>DecisionTreeClassifier()</pre></div></div></div></div></div></div></div></div></div></div>"
      ],
      "text/plain": [
       "GridSearchCV(cv=5, estimator=DecisionTreeClassifier(),\n",
       "             param_grid={'criterion': ['gini', 'entropy'],\n",
       "                         'max_depth': range(1, 30)})"
      ]
     },
     "execution_count": 245,
     "metadata": {},
     "output_type": "execute_result"
    }
   ],
   "source": [
    "grid_search_cv_clf.fit(X_train, y_train)"
   ]
  },
  {
   "cell_type": "code",
   "execution_count": 246,
   "id": "de2aff59",
   "metadata": {},
   "outputs": [
    {
     "data": {
      "text/plain": [
       "{'criterion': 'gini', 'max_depth': 9}"
      ]
     },
     "execution_count": 246,
     "metadata": {},
     "output_type": "execute_result"
    }
   ],
   "source": [
    "grid_search_cv_clf.best_params_"
   ]
  },
  {
   "cell_type": "code",
   "execution_count": 266,
   "id": "6ae5dc2f",
   "metadata": {},
   "outputs": [
    {
     "data": {
      "text/plain": [
       "0.856269916225006"
      ]
     },
     "execution_count": 266,
     "metadata": {},
     "output_type": "execute_result"
    }
   ],
   "source": [
    "grid_search_cv_clf.best_score_"
   ]
  },
  {
   "cell_type": "code",
   "execution_count": 268,
   "id": "88808259",
   "metadata": {},
   "outputs": [],
   "source": [
    "best_clf = grid_search_cv_clf.best_estimator_"
   ]
  },
  {
   "cell_type": "code",
   "execution_count": 251,
   "id": "f5106400",
   "metadata": {},
   "outputs": [
    {
     "data": {
      "text/plain": [
       "0.8639476674549308"
      ]
     },
     "execution_count": 251,
     "metadata": {},
     "output_type": "execute_result"
    }
   ],
   "source": [
    "best_clf.score(X_train, y_train)"
   ]
  },
  {
   "cell_type": "code",
   "execution_count": 253,
   "id": "2aa989ad",
   "metadata": {},
   "outputs": [
    {
     "data": {
      "text/plain": [
       "array([0., 0., 0., ..., 0., 0., 1.])"
      ]
     },
     "execution_count": 253,
     "metadata": {},
     "output_type": "execute_result"
    }
   ],
   "source": [
    "predictions = best_clf.predict(X_train)\n",
    "predictions"
   ]
  },
  {
   "cell_type": "code",
   "execution_count": 254,
   "id": "a4935823",
   "metadata": {},
   "outputs": [
    {
     "name": "stdout",
     "output_type": "stream",
     "text": [
      "Accuracy: 0.8639476674549308\n",
      "Precision: 0.814725964200037\n",
      "Recall: 0.5630659354674149\n",
      "F1 Score: 0.6659125188536954\n",
      "Confusion Matrix:\n",
      "[[23716  1004]\n",
      " [ 3426  4415]]\n"
     ]
    }
   ],
   "source": [
    "# Метрики качества модели\n",
    "accuracy = accuracy_score(y_train, predictions)\n",
    "precision = precision_score(y_train, predictions)\n",
    "recall = recall_score(y_train, predictions)\n",
    "f1 = f1_score(y_train, predictions)\n",
    "\n",
    "# Матрица ошибок\n",
    "conf_matrix = confusion_matrix(y_train, predictions)\n",
    "\n",
    "print(\"Accuracy:\", accuracy)\n",
    "print(\"Precision:\", precision)\n",
    "print(\"Recall:\", recall)\n",
    "print(\"F1 Score:\", f1)\n",
    "print(\"Confusion Matrix:\")\n",
    "print(conf_matrix)"
   ]
  },
  {
   "cell_type": "code",
   "execution_count": 255,
   "id": "33aaf5e6",
   "metadata": {},
   "outputs": [
    {
     "data": {
      "text/plain": [
       "<matplotlib.legend.Legend at 0x1954b45e470>"
      ]
     },
     "execution_count": 255,
     "metadata": {},
     "output_type": "execute_result"
    },
    {
     "data": {
      "image/png": "[encoded data removed]",
      "text/plain": [
       "<Figure size 640x480 with 1 Axes>"
      ]
     },
     "metadata": {},
     "output_type": "display_data"
    }
   ],
   "source": [
    "y_predicted_probe = best_clf.predict_proba(X_train)\n",
    "from sklearn.metrics import roc_curve, auc\n",
    "fpr, tpr, thresholds = roc_curve(y_train, y_predicted_probe[:,1])\n",
    "roc_auc= auc(fpr, tpr)\n",
    "plt.figure()\n",
    "plt.plot(fpr, tpr, label='ROC curve (area = %0.2f)' % (roc_auc))\n",
    "plt.plot([0, 1], [0, 1] , 'k--')\n",
    "plt.xlim([0.0, 1.0])\n",
    "plt.ylim([0.0, 1.05])\n",
    "plt.xlabel('False Positive Rate')\n",
    "plt.ylabel('True Positive Rate')\n",
    "plt.title('Receiver operating characteristic')\n",
    "plt.legend(loc=\"lower right\")"
   ]
  },
  {
   "cell_type": "markdown",
   "id": "e34b8057",
   "metadata": {},
   "source": [
    "## В) Random forest с автоматическим подбором параметров"
   ]
  },
  {
   "cell_type": "code",
   "execution_count": null,
   "id": "e85a2ead",
   "metadata": {},
   "outputs": [],
   "source": []
  }
 ],
 "metadata": {
  "kernelspec": {
   "display_name": "Python 3 (ipykernel)",
   "language": "python",
   "name": "python3"
  },
  "language_info": {
   "codemirror_mode": {
    "name": "ipython",
    "version": 3
   },
   "file_extension": ".py",
   "mimetype": "text/x-python",
   "name": "python",
   "nbconvert_exporter": "python",
   "pygments_lexer": "ipython3",
   "version": "3.10.10"
  }
 },
 "nbformat": 4,
 "nbformat_minor": 5
}
