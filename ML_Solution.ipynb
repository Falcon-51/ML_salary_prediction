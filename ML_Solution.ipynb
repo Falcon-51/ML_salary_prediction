{
 "cells": [
  {
   "cell_type": "code",
   "execution_count": 345,
   "id": "42290b98",
   "metadata": {},
   "outputs": [],
   "source": [
    "import pandas as pd\n",
    "import numpy as np\n",
    "import matplotlib.pyplot as plt"
   ]
  },
  {
   "cell_type": "markdown",
   "id": "81c533ac",
   "metadata": {},
   "source": [
    "# 1. Описание данных и задачи\n",
    "Предсказать получает ли человек больше суммы N или меньше.\n",
    "- age: возраст, действительное.\n",
    "- workclass: тип работодателя, категориальное. \n",
    "- final_weight: итоговый вес обьекта, действительное.\n",
    "- education: уровень образования, категориальное.\n",
    "- education-num: количество лет обучения, действительное.\n",
    "- marital-status: семейное положение, категориальное.\n",
    "- occupation: профессия, категориальное.\n",
    "- relationship: тип семейных отношений, категориальное.\n",
    "- race: раса, категориальное.\n",
    "- sex: пол, категориальное.\n",
    "- cap-gain: прирост капитала, действительное.\n",
    "- cap-loss: потери капитала, действительное.\n",
    "- hours-per-week: количество часов работы в неделю, действительное.\n",
    "- native-country: страна, категориальное.\n",
    "\n",
    "Целевая переменная: sum_N – уровень заработка, категориальный (бинарный) признак"
   ]
  },
  {
   "cell_type": "markdown",
   "id": "dff6a282",
   "metadata": {},
   "source": [
    "#### Считаем csv файлы с тренировочной и тестовой выборкой и добавляем названия колонок"
   ]
  },
  {
   "cell_type": "code",
   "execution_count": 346,
   "id": "2357b3c2",
   "metadata": {},
   "outputs": [],
   "source": [
    "names = ['age', 'workclass', 'final_weight', 'education' , 'education-num', \n",
    "         'marital-status', 'occupation', 'relationship', 'race', 'sex', 'cap-gain', \n",
    "         'cap-loss', 'hours-per-week', 'native-country']\n",
    "df_test = pd.read_csv(\"test_empty.txt\", names=names)\n",
    "names.append(\"sum_N\")\n",
    "df_train = pd.read_csv(\"data.txt\", names=names)"
   ]
  },
  {
   "cell_type": "markdown",
   "id": "dfceb610",
   "metadata": {},
   "source": [
    "#### Посмотрим наполнение датафреймов"
   ]
  },
  {
   "cell_type": "code",
   "execution_count": 347,
   "id": "f0541632",
   "metadata": {},
   "outputs": [
    {
     "data": {
      "text/html": [
       "<div>\n",
       "<style scoped>\n",
       "    .dataframe tbody tr th:only-of-type {\n",
       "        vertical-align: middle;\n",
       "    }\n",
       "\n",
       "    .dataframe tbody tr th {\n",
       "        vertical-align: top;\n",
       "    }\n",
       "\n",
       "    .dataframe thead th {\n",
       "        text-align: right;\n",
       "    }\n",
       "</style>\n",
       "<table border=\"1\" class=\"dataframe\">\n",
       "  <thead>\n",
       "    <tr style=\"text-align: right;\">\n",
       "      <th></th>\n",
       "      <th>age</th>\n",
       "      <th>workclass</th>\n",
       "      <th>final_weight</th>\n",
       "      <th>education</th>\n",
       "      <th>education-num</th>\n",
       "      <th>marital-status</th>\n",
       "      <th>occupation</th>\n",
       "      <th>relationship</th>\n",
       "      <th>race</th>\n",
       "      <th>sex</th>\n",
       "      <th>cap-gain</th>\n",
       "      <th>cap-loss</th>\n",
       "      <th>hours-per-week</th>\n",
       "      <th>native-country</th>\n",
       "      <th>sum_N</th>\n",
       "    </tr>\n",
       "  </thead>\n",
       "  <tbody>\n",
       "    <tr>\n",
       "      <th>0</th>\n",
       "      <td>39</td>\n",
       "      <td>State-gov</td>\n",
       "      <td>77516.0</td>\n",
       "      <td>Bachelors</td>\n",
       "      <td>13</td>\n",
       "      <td>Never-married</td>\n",
       "      <td>Adm-clerical</td>\n",
       "      <td>Not-in-family</td>\n",
       "      <td>White</td>\n",
       "      <td>Male</td>\n",
       "      <td>2174.0</td>\n",
       "      <td>0.0</td>\n",
       "      <td>40</td>\n",
       "      <td>United-States</td>\n",
       "      <td>&lt;=N</td>\n",
       "    </tr>\n",
       "    <tr>\n",
       "      <th>1</th>\n",
       "      <td>50</td>\n",
       "      <td>Self-emp-not-inc</td>\n",
       "      <td>83311.0</td>\n",
       "      <td>Bachelors</td>\n",
       "      <td>13</td>\n",
       "      <td>Married-civ-spouse</td>\n",
       "      <td>Exec-managerial</td>\n",
       "      <td>Husband</td>\n",
       "      <td>White</td>\n",
       "      <td>Male</td>\n",
       "      <td>0.0</td>\n",
       "      <td>0.0</td>\n",
       "      <td>13</td>\n",
       "      <td>United-States</td>\n",
       "      <td>&lt;=N</td>\n",
       "    </tr>\n",
       "    <tr>\n",
       "      <th>2</th>\n",
       "      <td>38</td>\n",
       "      <td>Private</td>\n",
       "      <td>215646.0</td>\n",
       "      <td>HS-grad</td>\n",
       "      <td>9</td>\n",
       "      <td>Divorced</td>\n",
       "      <td>Handlers-cleaners</td>\n",
       "      <td>Not-in-family</td>\n",
       "      <td>White</td>\n",
       "      <td>Male</td>\n",
       "      <td>0.0</td>\n",
       "      <td>0.0</td>\n",
       "      <td>40</td>\n",
       "      <td>United-States</td>\n",
       "      <td>&lt;=N</td>\n",
       "    </tr>\n",
       "    <tr>\n",
       "      <th>3</th>\n",
       "      <td>53</td>\n",
       "      <td>Private</td>\n",
       "      <td>234721.0</td>\n",
       "      <td>11th</td>\n",
       "      <td>7</td>\n",
       "      <td>Married-civ-spouse</td>\n",
       "      <td>Handlers-cleaners</td>\n",
       "      <td>Husband</td>\n",
       "      <td>Black</td>\n",
       "      <td>Male</td>\n",
       "      <td>0.0</td>\n",
       "      <td>0.0</td>\n",
       "      <td>40</td>\n",
       "      <td>United-States</td>\n",
       "      <td>&lt;=N</td>\n",
       "    </tr>\n",
       "    <tr>\n",
       "      <th>4</th>\n",
       "      <td>28</td>\n",
       "      <td>Private</td>\n",
       "      <td>338409.0</td>\n",
       "      <td>Bachelors</td>\n",
       "      <td>13</td>\n",
       "      <td>Married-civ-spouse</td>\n",
       "      <td>Prof-specialty</td>\n",
       "      <td>Wife</td>\n",
       "      <td>Black</td>\n",
       "      <td>Female</td>\n",
       "      <td>0.0</td>\n",
       "      <td>0.0</td>\n",
       "      <td>40</td>\n",
       "      <td>Cuba</td>\n",
       "      <td>&lt;=N</td>\n",
       "    </tr>\n",
       "  </tbody>\n",
       "</table>\n",
       "</div>"
      ],
      "text/plain": [
       "  age          workclass  final_weight   education education-num  \\\n",
       "0  39          State-gov       77516.0   Bachelors            13   \n",
       "1  50   Self-emp-not-inc       83311.0   Bachelors            13   \n",
       "2  38            Private      215646.0     HS-grad             9   \n",
       "3  53            Private      234721.0        11th             7   \n",
       "4  28            Private      338409.0   Bachelors            13   \n",
       "\n",
       "        marital-status          occupation    relationship    race      sex  \\\n",
       "0        Never-married        Adm-clerical   Not-in-family   White     Male   \n",
       "1   Married-civ-spouse     Exec-managerial         Husband   White     Male   \n",
       "2             Divorced   Handlers-cleaners   Not-in-family   White     Male   \n",
       "3   Married-civ-spouse   Handlers-cleaners         Husband   Black     Male   \n",
       "4   Married-civ-spouse      Prof-specialty            Wife   Black   Female   \n",
       "\n",
       "   cap-gain  cap-loss hours-per-week  native-country sum_N  \n",
       "0    2174.0       0.0             40   United-States   <=N  \n",
       "1       0.0       0.0             13   United-States   <=N  \n",
       "2       0.0       0.0             40   United-States   <=N  \n",
       "3       0.0       0.0             40   United-States   <=N  \n",
       "4       0.0       0.0             40            Cuba   <=N  "
      ]
     },
     "execution_count": 347,
     "metadata": {},
     "output_type": "execute_result"
    }
   ],
   "source": [
    "df_train.head(5)"
   ]
  },
  {
   "cell_type": "code",
   "execution_count": 348,
   "id": "d69d3160",
   "metadata": {},
   "outputs": [
    {
     "data": {
      "text/html": [
       "<div>\n",
       "<style scoped>\n",
       "    .dataframe tbody tr th:only-of-type {\n",
       "        vertical-align: middle;\n",
       "    }\n",
       "\n",
       "    .dataframe tbody tr th {\n",
       "        vertical-align: top;\n",
       "    }\n",
       "\n",
       "    .dataframe thead th {\n",
       "        text-align: right;\n",
       "    }\n",
       "</style>\n",
       "<table border=\"1\" class=\"dataframe\">\n",
       "  <thead>\n",
       "    <tr style=\"text-align: right;\">\n",
       "      <th></th>\n",
       "      <th>age</th>\n",
       "      <th>workclass</th>\n",
       "      <th>final_weight</th>\n",
       "      <th>education</th>\n",
       "      <th>education-num</th>\n",
       "      <th>marital-status</th>\n",
       "      <th>occupation</th>\n",
       "      <th>relationship</th>\n",
       "      <th>race</th>\n",
       "      <th>sex</th>\n",
       "      <th>cap-gain</th>\n",
       "      <th>cap-loss</th>\n",
       "      <th>hours-per-week</th>\n",
       "      <th>native-country</th>\n",
       "    </tr>\n",
       "  </thead>\n",
       "  <tbody>\n",
       "    <tr>\n",
       "      <th>0</th>\n",
       "      <td>25</td>\n",
       "      <td>Private</td>\n",
       "      <td>226802.0</td>\n",
       "      <td>11th</td>\n",
       "      <td>7.0</td>\n",
       "      <td>Never-married</td>\n",
       "      <td>Machine-op-inspct</td>\n",
       "      <td>Own-child</td>\n",
       "      <td>Black</td>\n",
       "      <td>Male</td>\n",
       "      <td>0.0</td>\n",
       "      <td>0.0</td>\n",
       "      <td>40.0</td>\n",
       "      <td>United-States</td>\n",
       "    </tr>\n",
       "    <tr>\n",
       "      <th>1</th>\n",
       "      <td>38</td>\n",
       "      <td>Private</td>\n",
       "      <td>89814.0</td>\n",
       "      <td>HS-grad</td>\n",
       "      <td>9.0</td>\n",
       "      <td>Married-civ-spouse</td>\n",
       "      <td>Farming-fishing</td>\n",
       "      <td>Husband</td>\n",
       "      <td>White</td>\n",
       "      <td>Male</td>\n",
       "      <td>0.0</td>\n",
       "      <td>0.0</td>\n",
       "      <td>50.0</td>\n",
       "      <td>United-States</td>\n",
       "    </tr>\n",
       "    <tr>\n",
       "      <th>2</th>\n",
       "      <td>28</td>\n",
       "      <td>Local-gov</td>\n",
       "      <td>336951.0</td>\n",
       "      <td>Assoc-acdm</td>\n",
       "      <td>12.0</td>\n",
       "      <td>Married-civ-spouse</td>\n",
       "      <td>Protective-serv</td>\n",
       "      <td>Husband</td>\n",
       "      <td>White</td>\n",
       "      <td>Male</td>\n",
       "      <td>0.0</td>\n",
       "      <td>0.0</td>\n",
       "      <td>40.0</td>\n",
       "      <td>United-States</td>\n",
       "    </tr>\n",
       "    <tr>\n",
       "      <th>3</th>\n",
       "      <td>44</td>\n",
       "      <td>Private</td>\n",
       "      <td>160323.0</td>\n",
       "      <td>Some-college</td>\n",
       "      <td>10.0</td>\n",
       "      <td>Married-civ-spouse</td>\n",
       "      <td>Machine-op-inspct</td>\n",
       "      <td>Husband</td>\n",
       "      <td>Black</td>\n",
       "      <td>Male</td>\n",
       "      <td>7688.0</td>\n",
       "      <td>0.0</td>\n",
       "      <td>40.0</td>\n",
       "      <td>United-States</td>\n",
       "    </tr>\n",
       "    <tr>\n",
       "      <th>4</th>\n",
       "      <td>18</td>\n",
       "      <td>?</td>\n",
       "      <td>103497.0</td>\n",
       "      <td>Some-college</td>\n",
       "      <td>10.0</td>\n",
       "      <td>Never-married</td>\n",
       "      <td>?</td>\n",
       "      <td>Own-child</td>\n",
       "      <td>White</td>\n",
       "      <td>Female</td>\n",
       "      <td>0.0</td>\n",
       "      <td>0.0</td>\n",
       "      <td>30.0</td>\n",
       "      <td>United-States</td>\n",
       "    </tr>\n",
       "  </tbody>\n",
       "</table>\n",
       "</div>"
      ],
      "text/plain": [
       "  age   workclass  final_weight      education  education-num  \\\n",
       "0  25     Private      226802.0           11th            7.0   \n",
       "1  38     Private       89814.0        HS-grad            9.0   \n",
       "2  28   Local-gov      336951.0     Assoc-acdm           12.0   \n",
       "3  44     Private      160323.0   Some-college           10.0   \n",
       "4  18           ?      103497.0   Some-college           10.0   \n",
       "\n",
       "        marital-status          occupation relationship    race      sex  \\\n",
       "0        Never-married   Machine-op-inspct    Own-child   Black     Male   \n",
       "1   Married-civ-spouse     Farming-fishing      Husband   White     Male   \n",
       "2   Married-civ-spouse     Protective-serv      Husband   White     Male   \n",
       "3   Married-civ-spouse   Machine-op-inspct      Husband   Black     Male   \n",
       "4        Never-married                   ?    Own-child   White   Female   \n",
       "\n",
       "   cap-gain  cap-loss  hours-per-week  native-country  \n",
       "0       0.0       0.0            40.0   United-States  \n",
       "1       0.0       0.0            50.0   United-States  \n",
       "2       0.0       0.0            40.0   United-States  \n",
       "3    7688.0       0.0            40.0   United-States  \n",
       "4       0.0       0.0            30.0   United-States  "
      ]
     },
     "execution_count": 348,
     "metadata": {},
     "output_type": "execute_result"
    }
   ],
   "source": [
    "df_test.head(5)"
   ]
  },
  {
   "cell_type": "markdown",
   "id": "0b0ba2c3",
   "metadata": {},
   "source": [
    "#### Заменим значения таргета на бинарные, так как решаем задачу бинарной классификации"
   ]
  },
  {
   "cell_type": "code",
   "execution_count": 349,
   "id": "9b4f1bf8",
   "metadata": {},
   "outputs": [],
   "source": [
    "df_train['sum_N'] = df_train['sum_N'].replace({' <=N': 0, ' >N': 1})"
   ]
  },
  {
   "cell_type": "code",
   "execution_count": 350,
   "id": "5960b5f5",
   "metadata": {},
   "outputs": [
    {
     "data": {
      "text/html": [
       "<div>\n",
       "<style scoped>\n",
       "    .dataframe tbody tr th:only-of-type {\n",
       "        vertical-align: middle;\n",
       "    }\n",
       "\n",
       "    .dataframe tbody tr th {\n",
       "        vertical-align: top;\n",
       "    }\n",
       "\n",
       "    .dataframe thead th {\n",
       "        text-align: right;\n",
       "    }\n",
       "</style>\n",
       "<table border=\"1\" class=\"dataframe\">\n",
       "  <thead>\n",
       "    <tr style=\"text-align: right;\">\n",
       "      <th></th>\n",
       "      <th>age</th>\n",
       "      <th>workclass</th>\n",
       "      <th>final_weight</th>\n",
       "      <th>education</th>\n",
       "      <th>education-num</th>\n",
       "      <th>marital-status</th>\n",
       "      <th>occupation</th>\n",
       "      <th>relationship</th>\n",
       "      <th>race</th>\n",
       "      <th>sex</th>\n",
       "      <th>cap-gain</th>\n",
       "      <th>cap-loss</th>\n",
       "      <th>hours-per-week</th>\n",
       "      <th>native-country</th>\n",
       "      <th>sum_N</th>\n",
       "    </tr>\n",
       "  </thead>\n",
       "  <tbody>\n",
       "    <tr>\n",
       "      <th>0</th>\n",
       "      <td>39</td>\n",
       "      <td>State-gov</td>\n",
       "      <td>77516.0</td>\n",
       "      <td>Bachelors</td>\n",
       "      <td>13</td>\n",
       "      <td>Never-married</td>\n",
       "      <td>Adm-clerical</td>\n",
       "      <td>Not-in-family</td>\n",
       "      <td>White</td>\n",
       "      <td>Male</td>\n",
       "      <td>2174.0</td>\n",
       "      <td>0.0</td>\n",
       "      <td>40</td>\n",
       "      <td>United-States</td>\n",
       "      <td>0.0</td>\n",
       "    </tr>\n",
       "    <tr>\n",
       "      <th>1</th>\n",
       "      <td>50</td>\n",
       "      <td>Self-emp-not-inc</td>\n",
       "      <td>83311.0</td>\n",
       "      <td>Bachelors</td>\n",
       "      <td>13</td>\n",
       "      <td>Married-civ-spouse</td>\n",
       "      <td>Exec-managerial</td>\n",
       "      <td>Husband</td>\n",
       "      <td>White</td>\n",
       "      <td>Male</td>\n",
       "      <td>0.0</td>\n",
       "      <td>0.0</td>\n",
       "      <td>13</td>\n",
       "      <td>United-States</td>\n",
       "      <td>0.0</td>\n",
       "    </tr>\n",
       "    <tr>\n",
       "      <th>2</th>\n",
       "      <td>38</td>\n",
       "      <td>Private</td>\n",
       "      <td>215646.0</td>\n",
       "      <td>HS-grad</td>\n",
       "      <td>9</td>\n",
       "      <td>Divorced</td>\n",
       "      <td>Handlers-cleaners</td>\n",
       "      <td>Not-in-family</td>\n",
       "      <td>White</td>\n",
       "      <td>Male</td>\n",
       "      <td>0.0</td>\n",
       "      <td>0.0</td>\n",
       "      <td>40</td>\n",
       "      <td>United-States</td>\n",
       "      <td>0.0</td>\n",
       "    </tr>\n",
       "    <tr>\n",
       "      <th>3</th>\n",
       "      <td>53</td>\n",
       "      <td>Private</td>\n",
       "      <td>234721.0</td>\n",
       "      <td>11th</td>\n",
       "      <td>7</td>\n",
       "      <td>Married-civ-spouse</td>\n",
       "      <td>Handlers-cleaners</td>\n",
       "      <td>Husband</td>\n",
       "      <td>Black</td>\n",
       "      <td>Male</td>\n",
       "      <td>0.0</td>\n",
       "      <td>0.0</td>\n",
       "      <td>40</td>\n",
       "      <td>United-States</td>\n",
       "      <td>0.0</td>\n",
       "    </tr>\n",
       "    <tr>\n",
       "      <th>4</th>\n",
       "      <td>28</td>\n",
       "      <td>Private</td>\n",
       "      <td>338409.0</td>\n",
       "      <td>Bachelors</td>\n",
       "      <td>13</td>\n",
       "      <td>Married-civ-spouse</td>\n",
       "      <td>Prof-specialty</td>\n",
       "      <td>Wife</td>\n",
       "      <td>Black</td>\n",
       "      <td>Female</td>\n",
       "      <td>0.0</td>\n",
       "      <td>0.0</td>\n",
       "      <td>40</td>\n",
       "      <td>Cuba</td>\n",
       "      <td>0.0</td>\n",
       "    </tr>\n",
       "  </tbody>\n",
       "</table>\n",
       "</div>"
      ],
      "text/plain": [
       "  age          workclass  final_weight   education education-num  \\\n",
       "0  39          State-gov       77516.0   Bachelors            13   \n",
       "1  50   Self-emp-not-inc       83311.0   Bachelors            13   \n",
       "2  38            Private      215646.0     HS-grad             9   \n",
       "3  53            Private      234721.0        11th             7   \n",
       "4  28            Private      338409.0   Bachelors            13   \n",
       "\n",
       "        marital-status          occupation    relationship    race      sex  \\\n",
       "0        Never-married        Adm-clerical   Not-in-family   White     Male   \n",
       "1   Married-civ-spouse     Exec-managerial         Husband   White     Male   \n",
       "2             Divorced   Handlers-cleaners   Not-in-family   White     Male   \n",
       "3   Married-civ-spouse   Handlers-cleaners         Husband   Black     Male   \n",
       "4   Married-civ-spouse      Prof-specialty            Wife   Black   Female   \n",
       "\n",
       "   cap-gain  cap-loss hours-per-week  native-country  sum_N  \n",
       "0    2174.0       0.0             40   United-States    0.0  \n",
       "1       0.0       0.0             13   United-States    0.0  \n",
       "2       0.0       0.0             40   United-States    0.0  \n",
       "3       0.0       0.0             40   United-States    0.0  \n",
       "4       0.0       0.0             40            Cuba    0.0  "
      ]
     },
     "execution_count": 350,
     "metadata": {},
     "output_type": "execute_result"
    }
   ],
   "source": [
    "df_train.head(5)"
   ]
  },
  {
   "cell_type": "markdown",
   "id": "d59a5936",
   "metadata": {},
   "source": [
    "# 2. Исследование данных\n",
    "## а) Узнаём базовые сведения о тренировочном датасете"
   ]
  },
  {
   "cell_type": "markdown",
   "id": "33edfb10",
   "metadata": {},
   "source": [
    "#### Сведения о размерах данных"
   ]
  },
  {
   "cell_type": "code",
   "execution_count": 351,
   "id": "e3c9ce3f",
   "metadata": {},
   "outputs": [
    {
     "data": {
      "text/plain": [
       "(32573, 15)"
      ]
     },
     "execution_count": 351,
     "metadata": {},
     "output_type": "execute_result"
    }
   ],
   "source": [
    "df_train.shape"
   ]
  },
  {
   "cell_type": "markdown",
   "id": "a17f7263",
   "metadata": {},
   "source": [
    "#### Информация о типах данных"
   ]
  },
  {
   "cell_type": "code",
   "execution_count": 352,
   "id": "973fb88d",
   "metadata": {},
   "outputs": [
    {
     "name": "stdout",
     "output_type": "stream",
     "text": [
      "<class 'pandas.core.frame.DataFrame'>\n",
      "RangeIndex: 32573 entries, 0 to 32572\n",
      "Data columns (total 15 columns):\n",
      " #   Column          Non-Null Count  Dtype  \n",
      "---  ------          --------------  -----  \n",
      " 0   age             32573 non-null  object \n",
      " 1   workclass       32572 non-null  object \n",
      " 2   final_weight    32572 non-null  float64\n",
      " 3   education       32572 non-null  object \n",
      " 4   education-num   32572 non-null  object \n",
      " 5   marital-status  32572 non-null  object \n",
      " 6   occupation      32572 non-null  object \n",
      " 7   relationship    32572 non-null  object \n",
      " 8   race            32572 non-null  object \n",
      " 9   sex             32572 non-null  object \n",
      " 10  cap-gain        32572 non-null  float64\n",
      " 11  cap-loss        32572 non-null  float64\n",
      " 12  hours-per-week  32572 non-null  object \n",
      " 13  native-country  32572 non-null  object \n",
      " 14  sum_N           32571 non-null  float64\n",
      "dtypes: float64(4), object(11)\n",
      "memory usage: 3.7+ MB\n"
     ]
    }
   ],
   "source": [
    "df_train.info()"
   ]
  },
  {
   "cell_type": "markdown",
   "id": "c126920c",
   "metadata": {},
   "source": [
    "#### Также узнаем подробности о данных"
   ]
  },
  {
   "cell_type": "code",
   "execution_count": 353,
   "id": "b08513b4",
   "metadata": {},
   "outputs": [
    {
     "data": {
      "text/html": [
       "<div>\n",
       "<style scoped>\n",
       "    .dataframe tbody tr th:only-of-type {\n",
       "        vertical-align: middle;\n",
       "    }\n",
       "\n",
       "    .dataframe tbody tr th {\n",
       "        vertical-align: top;\n",
       "    }\n",
       "\n",
       "    .dataframe thead th {\n",
       "        text-align: right;\n",
       "    }\n",
       "</style>\n",
       "<table border=\"1\" class=\"dataframe\">\n",
       "  <thead>\n",
       "    <tr style=\"text-align: right;\">\n",
       "      <th></th>\n",
       "      <th>final_weight</th>\n",
       "      <th>cap-gain</th>\n",
       "      <th>cap-loss</th>\n",
       "      <th>sum_N</th>\n",
       "    </tr>\n",
       "  </thead>\n",
       "  <tbody>\n",
       "    <tr>\n",
       "      <th>count</th>\n",
       "      <td>3.257200e+04</td>\n",
       "      <td>32572.000000</td>\n",
       "      <td>32572.000000</td>\n",
       "      <td>32571.000000</td>\n",
       "    </tr>\n",
       "    <tr>\n",
       "      <th>mean</th>\n",
       "      <td>7.099108e+12</td>\n",
       "      <td>1077.315578</td>\n",
       "      <td>87.226943</td>\n",
       "      <td>0.241043</td>\n",
       "    </tr>\n",
       "    <tr>\n",
       "      <th>std</th>\n",
       "      <td>1.281227e+15</td>\n",
       "      <td>7384.067167</td>\n",
       "      <td>402.917749</td>\n",
       "      <td>0.427723</td>\n",
       "    </tr>\n",
       "    <tr>\n",
       "      <th>min</th>\n",
       "      <td>-4.214100e+04</td>\n",
       "      <td>-1.000000</td>\n",
       "      <td>-444.000000</td>\n",
       "      <td>0.000000</td>\n",
       "    </tr>\n",
       "    <tr>\n",
       "      <th>25%</th>\n",
       "      <td>1.177890e+05</td>\n",
       "      <td>0.000000</td>\n",
       "      <td>0.000000</td>\n",
       "      <td>0.000000</td>\n",
       "    </tr>\n",
       "    <tr>\n",
       "      <th>50%</th>\n",
       "      <td>1.783485e+05</td>\n",
       "      <td>0.000000</td>\n",
       "      <td>0.000000</td>\n",
       "      <td>0.000000</td>\n",
       "    </tr>\n",
       "    <tr>\n",
       "      <th>75%</th>\n",
       "      <td>2.370065e+05</td>\n",
       "      <td>0.000000</td>\n",
       "      <td>0.000000</td>\n",
       "      <td>0.000000</td>\n",
       "    </tr>\n",
       "    <tr>\n",
       "      <th>max</th>\n",
       "      <td>2.312322e+17</td>\n",
       "      <td>99999.000000</td>\n",
       "      <td>4356.000000</td>\n",
       "      <td>1.000000</td>\n",
       "    </tr>\n",
       "  </tbody>\n",
       "</table>\n",
       "</div>"
      ],
      "text/plain": [
       "       final_weight      cap-gain      cap-loss         sum_N\n",
       "count  3.257200e+04  32572.000000  32572.000000  32571.000000\n",
       "mean   7.099108e+12   1077.315578     87.226943      0.241043\n",
       "std    1.281227e+15   7384.067167    402.917749      0.427723\n",
       "min   -4.214100e+04     -1.000000   -444.000000      0.000000\n",
       "25%    1.177890e+05      0.000000      0.000000      0.000000\n",
       "50%    1.783485e+05      0.000000      0.000000      0.000000\n",
       "75%    2.370065e+05      0.000000      0.000000      0.000000\n",
       "max    2.312322e+17  99999.000000   4356.000000      1.000000"
      ]
     },
     "execution_count": 353,
     "metadata": {},
     "output_type": "execute_result"
    }
   ],
   "source": [
    "df_train.describe()"
   ]
  },
  {
   "cell_type": "markdown",
   "id": "1d179c28",
   "metadata": {},
   "source": [
    "#### Как видно из сведений выше, \"age\", \"education-num\" и \"hours-per-week\" отнесён к object. Это необходимо изменить. Но сперва посмотрим подробнее на данные каждой колонки"
   ]
  },
  {
   "cell_type": "code",
   "execution_count": 354,
   "id": "3a5e66b9",
   "metadata": {},
   "outputs": [
    {
     "data": {
      "text/plain": [
       "array(['39', '50', '38', '53', '28', '37', '49', '52', '31', '42', '30',\n",
       "       '23', '32', '40', '34', '25', '43', '54', '35', '59', '56', '19',\n",
       "       '20', '45', '22', '48', '21', '24', '57', '44', '41', '29', '18',\n",
       "       '47', '46', '36', '79', '27', '67', '33', '76', '17', '55', '61',\n",
       "       '70', '64', '71', '68', '66', '51', '58', '26', '60', '90', '75',\n",
       "       '65', '77', '62', '63', '80', '72', '74', '69', '73', '81', '78',\n",
       "       '88', '82', '83', '84', '85', 'totally_legit_string', '86', '-321',\n",
       "       '1', '87'], dtype=object)"
      ]
     },
     "execution_count": 354,
     "metadata": {},
     "output_type": "execute_result"
    }
   ],
   "source": [
    "df_train['age'].unique() "
   ]
  },
  {
   "cell_type": "code",
   "execution_count": 355,
   "id": "59ce372d",
   "metadata": {},
   "outputs": [
    {
     "data": {
      "text/plain": [
       "array([' 40', ' 13', ' 16', ' 45', ' 50', ' 80', ' 30', ' 35', ' 60',\n",
       "       ' 20', ' 52', ' 44', ' 15', ' 25', ' 38', ' 43', ' 55', ' 48',\n",
       "       ' 58', ' 32', ' 70', ' 2', ' 22', ' 56', ' 41', ' 28', ' 36',\n",
       "       ' 24', ' 46', ' 42', ' 12', ' 65', ' 1', ' 10', ' 34', ' 75',\n",
       "       ' 98', ' 33', ' 54', ' 8', ' 6', ' 64', ' 19', ' 18', ' 72', ' 5',\n",
       "       ' 9', ' 47', ' 37', ' 21', ' 26', ' 14', ' 4', ' 59', ' 7', ' 99',\n",
       "       ' 53', ' 39', ' 62', ' 57', ' 78', ' 90', ' 66', ' 11', ' 49',\n",
       "       ' 84', ' 3', ' 17', ' 68', ' 27', ' 85', ' 31', ' 51', ' 77',\n",
       "       ' 63', ' 23', ' 87', ' 88', ' 73', ' 89', ' 97', ' 94', ' 29',\n",
       "       ' 96', ' 67', ' 82', ' 86', ' 91', ' 81', ' 76', nan, ' 92', ' 61',\n",
       "       ' 74', ' 95', ' United-States', ' 444424124141242'], dtype=object)"
      ]
     },
     "execution_count": 355,
     "metadata": {},
     "output_type": "execute_result"
    }
   ],
   "source": [
    "df_train['hours-per-week'].unique() "
   ]
  },
  {
   "cell_type": "code",
   "execution_count": 356,
   "id": "e6b07603",
   "metadata": {},
   "outputs": [
    {
     "data": {
      "text/plain": [
       "array([7.00000000e+00, 9.00000000e+00, 1.20000000e+01, 1.00000000e+01,\n",
       "       6.00000000e+00, 1.50000000e+01, 4.00000000e+00, 1.30000000e+01,\n",
       "       1.40000000e+01, 1.60000000e+01, 3.00000000e+00, 1.10000000e+01,\n",
       "       5.00000000e+00, 8.00000000e+00, 2.00000000e+00, 1.00000000e+00,\n",
       "                  nan, 1.02302103e+11])"
      ]
     },
     "execution_count": 356,
     "metadata": {},
     "output_type": "execute_result"
    }
   ],
   "source": [
    "df_test['education-num'].unique()"
   ]
  },
  {
   "cell_type": "markdown",
   "id": "3908898c",
   "metadata": {},
   "source": [
    "#### Заменяем явно выпадающие значения медианой"
   ]
  },
  {
   "cell_type": "code",
   "execution_count": 357,
   "id": "6380f796",
   "metadata": {},
   "outputs": [],
   "source": [
    "df_train['age'] = pd.to_numeric(df_train['age'], errors='coerce')\n",
    "median_age = df_train['age'].median()\n",
    "df_train.loc[df_train['age'] < 0, 'age'] = median_age\n",
    "df_train.loc[df_train['age'] > 150, 'age'] = median_age\n",
    "df_train['age'] = df_train['age'].fillna(median_age)"
   ]
  },
  {
   "cell_type": "code",
   "execution_count": 358,
   "id": "3045ae57",
   "metadata": {},
   "outputs": [],
   "source": [
    "df_train['hours-per-week'] = pd.to_numeric(df_train['hours-per-week'], errors='coerce')\n",
    "median_hours = df_train['hours-per-week'].median()\n",
    "df_train.loc[df_train['hours-per-week'] < 0, 'hours-per-week'] = median_hours\n",
    "df_train.loc[df_train['hours-per-week'] > 150, 'hours-per-week'] = median_hours\n",
    "df_train['hours-per-week'] = df_train['hours-per-week'].fillna(median_hours)"
   ]
  },
  {
   "cell_type": "code",
   "execution_count": 359,
   "id": "e6cac12d",
   "metadata": {},
   "outputs": [],
   "source": [
    "df_train['education-num'] = pd.to_numeric(df_train['education-num'], errors='coerce')\n",
    "median_num = df_train['education-num'].median()\n",
    "df_train.loc[df_train['education-num'] < 0, 'education-num'] = median_num\n",
    "df_train.loc[df_train['education-num'] > 100, 'education-num'] = median_num\n",
    "df_train['education-num'] = df_train['education-num'].fillna(median_num)"
   ]
  },
  {
   "cell_type": "markdown",
   "id": "93c5962b",
   "metadata": {},
   "source": [
    "#### Посмотрим на подробности о данных. Найдено ещё одно выпадающее значение - age=1"
   ]
  },
  {
   "cell_type": "code",
   "execution_count": 360,
   "id": "22273396",
   "metadata": {},
   "outputs": [
    {
     "data": {
      "text/html": [
       "<div>\n",
       "<style scoped>\n",
       "    .dataframe tbody tr th:only-of-type {\n",
       "        vertical-align: middle;\n",
       "    }\n",
       "\n",
       "    .dataframe tbody tr th {\n",
       "        vertical-align: top;\n",
       "    }\n",
       "\n",
       "    .dataframe thead th {\n",
       "        text-align: right;\n",
       "    }\n",
       "</style>\n",
       "<table border=\"1\" class=\"dataframe\">\n",
       "  <thead>\n",
       "    <tr style=\"text-align: right;\">\n",
       "      <th></th>\n",
       "      <th>age</th>\n",
       "      <th>final_weight</th>\n",
       "      <th>education-num</th>\n",
       "      <th>cap-gain</th>\n",
       "      <th>cap-loss</th>\n",
       "      <th>hours-per-week</th>\n",
       "      <th>sum_N</th>\n",
       "    </tr>\n",
       "  </thead>\n",
       "  <tbody>\n",
       "    <tr>\n",
       "      <th>count</th>\n",
       "      <td>32573.000000</td>\n",
       "      <td>3.257200e+04</td>\n",
       "      <td>32573.000000</td>\n",
       "      <td>32572.000000</td>\n",
       "      <td>32572.000000</td>\n",
       "      <td>32573.000000</td>\n",
       "      <td>32571.000000</td>\n",
       "    </tr>\n",
       "    <tr>\n",
       "      <th>mean</th>\n",
       "      <td>38.570104</td>\n",
       "      <td>7.099108e+12</td>\n",
       "      <td>10.080650</td>\n",
       "      <td>1077.315578</td>\n",
       "      <td>87.226943</td>\n",
       "      <td>40.437295</td>\n",
       "      <td>0.241043</td>\n",
       "    </tr>\n",
       "    <tr>\n",
       "      <th>std</th>\n",
       "      <td>13.653808</td>\n",
       "      <td>1.281227e+15</td>\n",
       "      <td>2.572247</td>\n",
       "      <td>7384.067167</td>\n",
       "      <td>402.917749</td>\n",
       "      <td>12.345157</td>\n",
       "      <td>0.427723</td>\n",
       "    </tr>\n",
       "    <tr>\n",
       "      <th>min</th>\n",
       "      <td>1.000000</td>\n",
       "      <td>-4.214100e+04</td>\n",
       "      <td>1.000000</td>\n",
       "      <td>-1.000000</td>\n",
       "      <td>-444.000000</td>\n",
       "      <td>1.000000</td>\n",
       "      <td>0.000000</td>\n",
       "    </tr>\n",
       "    <tr>\n",
       "      <th>25%</th>\n",
       "      <td>28.000000</td>\n",
       "      <td>1.177890e+05</td>\n",
       "      <td>9.000000</td>\n",
       "      <td>0.000000</td>\n",
       "      <td>0.000000</td>\n",
       "      <td>40.000000</td>\n",
       "      <td>0.000000</td>\n",
       "    </tr>\n",
       "    <tr>\n",
       "      <th>50%</th>\n",
       "      <td>37.000000</td>\n",
       "      <td>1.783485e+05</td>\n",
       "      <td>10.000000</td>\n",
       "      <td>0.000000</td>\n",
       "      <td>0.000000</td>\n",
       "      <td>40.000000</td>\n",
       "      <td>0.000000</td>\n",
       "    </tr>\n",
       "    <tr>\n",
       "      <th>75%</th>\n",
       "      <td>48.000000</td>\n",
       "      <td>2.370065e+05</td>\n",
       "      <td>12.000000</td>\n",
       "      <td>0.000000</td>\n",
       "      <td>0.000000</td>\n",
       "      <td>45.000000</td>\n",
       "      <td>0.000000</td>\n",
       "    </tr>\n",
       "    <tr>\n",
       "      <th>max</th>\n",
       "      <td>90.000000</td>\n",
       "      <td>2.312322e+17</td>\n",
       "      <td>16.000000</td>\n",
       "      <td>99999.000000</td>\n",
       "      <td>4356.000000</td>\n",
       "      <td>99.000000</td>\n",
       "      <td>1.000000</td>\n",
       "    </tr>\n",
       "  </tbody>\n",
       "</table>\n",
       "</div>"
      ],
      "text/plain": [
       "                age  final_weight  education-num      cap-gain      cap-loss  \\\n",
       "count  32573.000000  3.257200e+04   32573.000000  32572.000000  32572.000000   \n",
       "mean      38.570104  7.099108e+12      10.080650   1077.315578     87.226943   \n",
       "std       13.653808  1.281227e+15       2.572247   7384.067167    402.917749   \n",
       "min        1.000000 -4.214100e+04       1.000000     -1.000000   -444.000000   \n",
       "25%       28.000000  1.177890e+05       9.000000      0.000000      0.000000   \n",
       "50%       37.000000  1.783485e+05      10.000000      0.000000      0.000000   \n",
       "75%       48.000000  2.370065e+05      12.000000      0.000000      0.000000   \n",
       "max       90.000000  2.312322e+17      16.000000  99999.000000   4356.000000   \n",
       "\n",
       "       hours-per-week         sum_N  \n",
       "count    32573.000000  32571.000000  \n",
       "mean        40.437295      0.241043  \n",
       "std         12.345157      0.427723  \n",
       "min          1.000000      0.000000  \n",
       "25%         40.000000      0.000000  \n",
       "50%         40.000000      0.000000  \n",
       "75%         45.000000      0.000000  \n",
       "max         99.000000      1.000000  "
      ]
     },
     "execution_count": 360,
     "metadata": {},
     "output_type": "execute_result"
    }
   ],
   "source": [
    "df_train.describe()"
   ]
  },
  {
   "cell_type": "markdown",
   "id": "0372f215",
   "metadata": {},
   "source": [
    "#### Удалим строки где возраст меньше 17\n"
   ]
  },
  {
   "cell_type": "code",
   "execution_count": 361,
   "id": "33df240f",
   "metadata": {},
   "outputs": [
    {
     "data": {
      "text/plain": [
       "32563"
      ]
     },
     "execution_count": 361,
     "metadata": {},
     "output_type": "execute_result"
    }
   ],
   "source": [
    "df_train = df_train[df_train['age'] != 1]\n",
    "len(df_train) # удалено 10 записей"
   ]
  },
  {
   "cell_type": "markdown",
   "id": "a8938fb1",
   "metadata": {},
   "source": [
    "#### Убедимся в адекватности значений и проверим изменился ли тип данных у колонок"
   ]
  },
  {
   "cell_type": "code",
   "execution_count": 362,
   "id": "c22088e2",
   "metadata": {},
   "outputs": [
    {
     "data": {
      "text/html": [
       "<div>\n",
       "<style scoped>\n",
       "    .dataframe tbody tr th:only-of-type {\n",
       "        vertical-align: middle;\n",
       "    }\n",
       "\n",
       "    .dataframe tbody tr th {\n",
       "        vertical-align: top;\n",
       "    }\n",
       "\n",
       "    .dataframe thead th {\n",
       "        text-align: right;\n",
       "    }\n",
       "</style>\n",
       "<table border=\"1\" class=\"dataframe\">\n",
       "  <thead>\n",
       "    <tr style=\"text-align: right;\">\n",
       "      <th></th>\n",
       "      <th>age</th>\n",
       "      <th>final_weight</th>\n",
       "      <th>education-num</th>\n",
       "      <th>cap-gain</th>\n",
       "      <th>cap-loss</th>\n",
       "      <th>hours-per-week</th>\n",
       "      <th>sum_N</th>\n",
       "    </tr>\n",
       "  </thead>\n",
       "  <tbody>\n",
       "    <tr>\n",
       "      <th>count</th>\n",
       "      <td>32563.000000</td>\n",
       "      <td>3.256200e+04</td>\n",
       "      <td>32563.000000</td>\n",
       "      <td>32562.000000</td>\n",
       "      <td>32562.000000</td>\n",
       "      <td>32563.000000</td>\n",
       "      <td>32561.000000</td>\n",
       "    </tr>\n",
       "    <tr>\n",
       "      <th>mean</th>\n",
       "      <td>38.581642</td>\n",
       "      <td>7.101289e+12</td>\n",
       "      <td>10.080674</td>\n",
       "      <td>1077.615718</td>\n",
       "      <td>87.287513</td>\n",
       "      <td>40.437429</td>\n",
       "      <td>0.240810</td>\n",
       "    </tr>\n",
       "    <tr>\n",
       "      <th>std</th>\n",
       "      <td>13.640019</td>\n",
       "      <td>1.281424e+15</td>\n",
       "      <td>2.572641</td>\n",
       "      <td>7385.181096</td>\n",
       "      <td>402.964788</td>\n",
       "      <td>12.347050</td>\n",
       "      <td>0.427581</td>\n",
       "    </tr>\n",
       "    <tr>\n",
       "      <th>min</th>\n",
       "      <td>17.000000</td>\n",
       "      <td>1.228500e+04</td>\n",
       "      <td>1.000000</td>\n",
       "      <td>-1.000000</td>\n",
       "      <td>-444.000000</td>\n",
       "      <td>1.000000</td>\n",
       "      <td>0.000000</td>\n",
       "    </tr>\n",
       "    <tr>\n",
       "      <th>25%</th>\n",
       "      <td>28.000000</td>\n",
       "      <td>1.178285e+05</td>\n",
       "      <td>9.000000</td>\n",
       "      <td>0.000000</td>\n",
       "      <td>0.000000</td>\n",
       "      <td>40.000000</td>\n",
       "      <td>0.000000</td>\n",
       "    </tr>\n",
       "    <tr>\n",
       "      <th>50%</th>\n",
       "      <td>37.000000</td>\n",
       "      <td>1.783630e+05</td>\n",
       "      <td>10.000000</td>\n",
       "      <td>0.000000</td>\n",
       "      <td>0.000000</td>\n",
       "      <td>40.000000</td>\n",
       "      <td>0.000000</td>\n",
       "    </tr>\n",
       "    <tr>\n",
       "      <th>75%</th>\n",
       "      <td>48.000000</td>\n",
       "      <td>2.370615e+05</td>\n",
       "      <td>12.000000</td>\n",
       "      <td>0.000000</td>\n",
       "      <td>0.000000</td>\n",
       "      <td>45.000000</td>\n",
       "      <td>0.000000</td>\n",
       "    </tr>\n",
       "    <tr>\n",
       "      <th>max</th>\n",
       "      <td>90.000000</td>\n",
       "      <td>2.312322e+17</td>\n",
       "      <td>16.000000</td>\n",
       "      <td>99999.000000</td>\n",
       "      <td>4356.000000</td>\n",
       "      <td>99.000000</td>\n",
       "      <td>1.000000</td>\n",
       "    </tr>\n",
       "  </tbody>\n",
       "</table>\n",
       "</div>"
      ],
      "text/plain": [
       "                age  final_weight  education-num      cap-gain      cap-loss  \\\n",
       "count  32563.000000  3.256200e+04   32563.000000  32562.000000  32562.000000   \n",
       "mean      38.581642  7.101289e+12      10.080674   1077.615718     87.287513   \n",
       "std       13.640019  1.281424e+15       2.572641   7385.181096    402.964788   \n",
       "min       17.000000  1.228500e+04       1.000000     -1.000000   -444.000000   \n",
       "25%       28.000000  1.178285e+05       9.000000      0.000000      0.000000   \n",
       "50%       37.000000  1.783630e+05      10.000000      0.000000      0.000000   \n",
       "75%       48.000000  2.370615e+05      12.000000      0.000000      0.000000   \n",
       "max       90.000000  2.312322e+17      16.000000  99999.000000   4356.000000   \n",
       "\n",
       "       hours-per-week         sum_N  \n",
       "count    32563.000000  32561.000000  \n",
       "mean        40.437429      0.240810  \n",
       "std         12.347050      0.427581  \n",
       "min          1.000000      0.000000  \n",
       "25%         40.000000      0.000000  \n",
       "50%         40.000000      0.000000  \n",
       "75%         45.000000      0.000000  \n",
       "max         99.000000      1.000000  "
      ]
     },
     "execution_count": 362,
     "metadata": {},
     "output_type": "execute_result"
    }
   ],
   "source": [
    "df_train.describe()"
   ]
  },
  {
   "cell_type": "code",
   "execution_count": 363,
   "id": "bf0a3582",
   "metadata": {},
   "outputs": [
    {
     "name": "stdout",
     "output_type": "stream",
     "text": [
      "<class 'pandas.core.frame.DataFrame'>\n",
      "Int64Index: 32563 entries, 0 to 32572\n",
      "Data columns (total 15 columns):\n",
      " #   Column          Non-Null Count  Dtype  \n",
      "---  ------          --------------  -----  \n",
      " 0   age             32563 non-null  float64\n",
      " 1   workclass       32562 non-null  object \n",
      " 2   final_weight    32562 non-null  float64\n",
      " 3   education       32562 non-null  object \n",
      " 4   education-num   32563 non-null  float64\n",
      " 5   marital-status  32562 non-null  object \n",
      " 6   occupation      32562 non-null  object \n",
      " 7   relationship    32562 non-null  object \n",
      " 8   race            32562 non-null  object \n",
      " 9   sex             32562 non-null  object \n",
      " 10  cap-gain        32562 non-null  float64\n",
      " 11  cap-loss        32562 non-null  float64\n",
      " 12  hours-per-week  32563 non-null  float64\n",
      " 13  native-country  32562 non-null  object \n",
      " 14  sum_N           32561 non-null  float64\n",
      "dtypes: float64(7), object(8)\n",
      "memory usage: 4.0+ MB\n"
     ]
    }
   ],
   "source": [
    "df_train.info()"
   ]
  },
  {
   "cell_type": "markdown",
   "id": "4deec7f2",
   "metadata": {},
   "source": [
    "#### Узнаем сколько пустых значений в оставшихся колонках"
   ]
  },
  {
   "cell_type": "code",
   "execution_count": 364,
   "id": "6f29255c",
   "metadata": {},
   "outputs": [
    {
     "data": {
      "text/plain": [
       "age               0\n",
       "workclass         1\n",
       "final_weight      1\n",
       "education         1\n",
       "education-num     0\n",
       "marital-status    1\n",
       "occupation        1\n",
       "relationship      1\n",
       "race              1\n",
       "sex               1\n",
       "cap-gain          1\n",
       "cap-loss          1\n",
       "hours-per-week    0\n",
       "native-country    1\n",
       "sum_N             2\n",
       "dtype: int64"
      ]
     },
     "execution_count": 364,
     "metadata": {},
     "output_type": "execute_result"
    }
   ],
   "source": [
    "df_train.isnull().sum()"
   ]
  },
  {
   "cell_type": "markdown",
   "id": "928bbfeb",
   "metadata": {},
   "source": [
    "#### Заменяем пропуски данных медианой в колонках с числовым типом данных "
   ]
  },
  {
   "cell_type": "code",
   "execution_count": 365,
   "id": "a82df9fe",
   "metadata": {},
   "outputs": [],
   "source": [
    "df_train['sum_N'] = df_train['sum_N'].fillna(df_train['sum_N'].median())\n",
    "df_train['cap-gain'] = df_train['cap-gain'].fillna(df_train['cap-gain'].median())\n",
    "df_train['cap-loss'] = df_train['cap-loss'].fillna(df_train['cap-loss'].median())\n",
    "df_train['final_weight'] = df_train['final_weight'].fillna(df_train['final_weight'].median())"
   ]
  },
  {
   "cell_type": "code",
   "execution_count": 366,
   "id": "8df4af53",
   "metadata": {},
   "outputs": [
    {
     "data": {
      "text/plain": [
       "age               0\n",
       "workclass         1\n",
       "final_weight      0\n",
       "education         1\n",
       "education-num     0\n",
       "marital-status    1\n",
       "occupation        1\n",
       "relationship      1\n",
       "race              1\n",
       "sex               1\n",
       "cap-gain          0\n",
       "cap-loss          0\n",
       "hours-per-week    0\n",
       "native-country    1\n",
       "sum_N             0\n",
       "dtype: int64"
      ]
     },
     "execution_count": 366,
     "metadata": {},
     "output_type": "execute_result"
    }
   ],
   "source": [
    "df_train.isnull().sum()"
   ]
  },
  {
   "cell_type": "markdown",
   "id": "bed8a253",
   "metadata": {},
   "source": [
    "#### Выделяем колонки с категориальным типом данных и заполняем пропуски модой"
   ]
  },
  {
   "cell_type": "code",
   "execution_count": 367,
   "id": "f5375501",
   "metadata": {},
   "outputs": [
    {
     "data": {
      "text/plain": [
       "Index(['workclass', 'education', 'marital-status', 'occupation',\n",
       "       'relationship', 'race', 'sex', 'native-country'],\n",
       "      dtype='object')"
      ]
     },
     "execution_count": 367,
     "metadata": {},
     "output_type": "execute_result"
    }
   ],
   "source": [
    "categorical_columns = df_train.select_dtypes(include=['object']).columns\n",
    "categorical_columns"
   ]
  },
  {
   "cell_type": "code",
   "execution_count": 368,
   "id": "a7d6bb75",
   "metadata": {},
   "outputs": [],
   "source": [
    "for col in categorical_columns:\n",
    "        most_common_value = df_train[col].mode()[0]\n",
    "        df_train.loc[df_train[col] == ' ?', col] = most_common_value\n",
    "        df_train[col].fillna(most_common_value, inplace=True)"
   ]
  },
  {
   "cell_type": "code",
   "execution_count": 369,
   "id": "f29bccb5",
   "metadata": {},
   "outputs": [
    {
     "data": {
      "text/plain": [
       "age               0\n",
       "workclass         0\n",
       "final_weight      0\n",
       "education         0\n",
       "education-num     0\n",
       "marital-status    0\n",
       "occupation        0\n",
       "relationship      0\n",
       "race              0\n",
       "sex               0\n",
       "cap-gain          0\n",
       "cap-loss          0\n",
       "hours-per-week    0\n",
       "native-country    0\n",
       "sum_N             0\n",
       "dtype: int64"
      ]
     },
     "execution_count": 369,
     "metadata": {},
     "output_type": "execute_result"
    }
   ],
   "source": [
    "df_train.isnull().sum()"
   ]
  },
  {
   "cell_type": "code",
   "execution_count": 370,
   "id": "b0cbce82",
   "metadata": {},
   "outputs": [
    {
     "data": {
      "text/plain": [
       "32563"
      ]
     },
     "execution_count": 370,
     "metadata": {},
     "output_type": "execute_result"
    }
   ],
   "source": [
    "len(df_train)"
   ]
  },
  {
   "cell_type": "markdown",
   "id": "3f188916",
   "metadata": {},
   "source": [
    "#### Применяем one hot encoding для категориальных признаков"
   ]
  },
  {
   "cell_type": "code",
   "execution_count": 371,
   "id": "3358a9d9",
   "metadata": {},
   "outputs": [],
   "source": [
    "df_train = pd.concat([df_train, pd.get_dummies(df_train['workclass'], prefix=\"workclass\"),\n",
    "                      pd.get_dummies(df_train['education'], prefix=\"education\"),\n",
    "                      pd.get_dummies(df_train['marital-status'], prefix=\"marital-status\"),\n",
    "                      pd.get_dummies(df_train['occupation'], prefix=\"occupation\"),\n",
    "                      pd.get_dummies(df_train['relationship'], prefix=\"relationship\"),\n",
    "                      pd.get_dummies(df_train['race'], prefix=\"race\"),\n",
    "                      pd.get_dummies(df_train['sex'], prefix=\"sex\"),\n",
    "                      pd.get_dummies(df_train['native-country'], prefix=\"native-country\")],\n",
    "                     axis=1)"
   ]
  },
  {
   "cell_type": "code",
   "execution_count": 372,
   "id": "abfc553a",
   "metadata": {},
   "outputs": [],
   "source": [
    "df_train.drop(['workclass', 'education', 'marital-status', 'occupation','relationship', 'race', 'sex', 'native-country'],\n",
    "                axis=1, inplace=True)"
   ]
  },
  {
   "cell_type": "code",
   "execution_count": 373,
   "id": "cf933315",
   "metadata": {},
   "outputs": [
    {
     "data": {
      "text/html": [
       "<div>\n",
       "<style scoped>\n",
       "    .dataframe tbody tr th:only-of-type {\n",
       "        vertical-align: middle;\n",
       "    }\n",
       "\n",
       "    .dataframe tbody tr th {\n",
       "        vertical-align: top;\n",
       "    }\n",
       "\n",
       "    .dataframe thead th {\n",
       "        text-align: right;\n",
       "    }\n",
       "</style>\n",
       "<table border=\"1\" class=\"dataframe\">\n",
       "  <thead>\n",
       "    <tr style=\"text-align: right;\">\n",
       "      <th></th>\n",
       "      <th>count</th>\n",
       "      <th>mean</th>\n",
       "      <th>std</th>\n",
       "      <th>min</th>\n",
       "      <th>25%</th>\n",
       "      <th>50%</th>\n",
       "      <th>75%</th>\n",
       "      <th>max</th>\n",
       "    </tr>\n",
       "  </thead>\n",
       "  <tbody>\n",
       "    <tr>\n",
       "      <th>age</th>\n",
       "      <td>32563.0</td>\n",
       "      <td>3.858164e+01</td>\n",
       "      <td>1.364002e+01</td>\n",
       "      <td>17.0</td>\n",
       "      <td>28.0</td>\n",
       "      <td>37.0</td>\n",
       "      <td>48.0</td>\n",
       "      <td>9.000000e+01</td>\n",
       "    </tr>\n",
       "    <tr>\n",
       "      <th>final_weight</th>\n",
       "      <td>32563.0</td>\n",
       "      <td>7.101071e+12</td>\n",
       "      <td>1.281404e+15</td>\n",
       "      <td>12285.0</td>\n",
       "      <td>117830.0</td>\n",
       "      <td>178363.0</td>\n",
       "      <td>237058.0</td>\n",
       "      <td>2.312322e+17</td>\n",
       "    </tr>\n",
       "    <tr>\n",
       "      <th>education-num</th>\n",
       "      <td>32563.0</td>\n",
       "      <td>1.008067e+01</td>\n",
       "      <td>2.572641e+00</td>\n",
       "      <td>1.0</td>\n",
       "      <td>9.0</td>\n",
       "      <td>10.0</td>\n",
       "      <td>12.0</td>\n",
       "      <td>1.600000e+01</td>\n",
       "    </tr>\n",
       "    <tr>\n",
       "      <th>cap-gain</th>\n",
       "      <td>32563.0</td>\n",
       "      <td>1.077583e+03</td>\n",
       "      <td>7.385070e+03</td>\n",
       "      <td>-1.0</td>\n",
       "      <td>0.0</td>\n",
       "      <td>0.0</td>\n",
       "      <td>0.0</td>\n",
       "      <td>9.999900e+04</td>\n",
       "    </tr>\n",
       "    <tr>\n",
       "      <th>cap-loss</th>\n",
       "      <td>32563.0</td>\n",
       "      <td>8.728483e+01</td>\n",
       "      <td>4.029589e+02</td>\n",
       "      <td>-444.0</td>\n",
       "      <td>0.0</td>\n",
       "      <td>0.0</td>\n",
       "      <td>0.0</td>\n",
       "      <td>4.356000e+03</td>\n",
       "    </tr>\n",
       "    <tr>\n",
       "      <th>...</th>\n",
       "      <td>...</td>\n",
       "      <td>...</td>\n",
       "      <td>...</td>\n",
       "      <td>...</td>\n",
       "      <td>...</td>\n",
       "      <td>...</td>\n",
       "      <td>...</td>\n",
       "      <td>...</td>\n",
       "    </tr>\n",
       "    <tr>\n",
       "      <th>native-country_ Thailand</th>\n",
       "      <td>32563.0</td>\n",
       "      <td>5.527746e-04</td>\n",
       "      <td>2.350502e-02</td>\n",
       "      <td>0.0</td>\n",
       "      <td>0.0</td>\n",
       "      <td>0.0</td>\n",
       "      <td>0.0</td>\n",
       "      <td>1.000000e+00</td>\n",
       "    </tr>\n",
       "    <tr>\n",
       "      <th>native-country_ Trinadad&amp;Tobago</th>\n",
       "      <td>32563.0</td>\n",
       "      <td>5.834843e-04</td>\n",
       "      <td>2.414874e-02</td>\n",
       "      <td>0.0</td>\n",
       "      <td>0.0</td>\n",
       "      <td>0.0</td>\n",
       "      <td>0.0</td>\n",
       "      <td>1.000000e+00</td>\n",
       "    </tr>\n",
       "    <tr>\n",
       "      <th>native-country_ United-States</th>\n",
       "      <td>32563.0</td>\n",
       "      <td>9.137364e-01</td>\n",
       "      <td>2.807571e-01</td>\n",
       "      <td>0.0</td>\n",
       "      <td>1.0</td>\n",
       "      <td>1.0</td>\n",
       "      <td>1.0</td>\n",
       "      <td>1.000000e+00</td>\n",
       "    </tr>\n",
       "    <tr>\n",
       "      <th>native-country_ Vietnam</th>\n",
       "      <td>32563.0</td>\n",
       "      <td>2.057550e-03</td>\n",
       "      <td>4.531423e-02</td>\n",
       "      <td>0.0</td>\n",
       "      <td>0.0</td>\n",
       "      <td>0.0</td>\n",
       "      <td>0.0</td>\n",
       "      <td>1.000000e+00</td>\n",
       "    </tr>\n",
       "    <tr>\n",
       "      <th>native-country_ Yugoslavia</th>\n",
       "      <td>32563.0</td>\n",
       "      <td>4.913552e-04</td>\n",
       "      <td>2.216143e-02</td>\n",
       "      <td>0.0</td>\n",
       "      <td>0.0</td>\n",
       "      <td>0.0</td>\n",
       "      <td>0.0</td>\n",
       "      <td>1.000000e+00</td>\n",
       "    </tr>\n",
       "  </tbody>\n",
       "</table>\n",
       "<p>111 rows × 8 columns</p>\n",
       "</div>"
      ],
      "text/plain": [
       "                                   count          mean           std      min  \\\n",
       "age                              32563.0  3.858164e+01  1.364002e+01     17.0   \n",
       "final_weight                     32563.0  7.101071e+12  1.281404e+15  12285.0   \n",
       "education-num                    32563.0  1.008067e+01  2.572641e+00      1.0   \n",
       "cap-gain                         32563.0  1.077583e+03  7.385070e+03     -1.0   \n",
       "cap-loss                         32563.0  8.728483e+01  4.029589e+02   -444.0   \n",
       "...                                  ...           ...           ...      ...   \n",
       "native-country_ Thailand         32563.0  5.527746e-04  2.350502e-02      0.0   \n",
       "native-country_ Trinadad&Tobago  32563.0  5.834843e-04  2.414874e-02      0.0   \n",
       "native-country_ United-States    32563.0  9.137364e-01  2.807571e-01      0.0   \n",
       "native-country_ Vietnam          32563.0  2.057550e-03  4.531423e-02      0.0   \n",
       "native-country_ Yugoslavia       32563.0  4.913552e-04  2.216143e-02      0.0   \n",
       "\n",
       "                                      25%       50%       75%           max  \n",
       "age                                  28.0      37.0      48.0  9.000000e+01  \n",
       "final_weight                     117830.0  178363.0  237058.0  2.312322e+17  \n",
       "education-num                         9.0      10.0      12.0  1.600000e+01  \n",
       "cap-gain                              0.0       0.0       0.0  9.999900e+04  \n",
       "cap-loss                              0.0       0.0       0.0  4.356000e+03  \n",
       "...                                   ...       ...       ...           ...  \n",
       "native-country_ Thailand              0.0       0.0       0.0  1.000000e+00  \n",
       "native-country_ Trinadad&Tobago       0.0       0.0       0.0  1.000000e+00  \n",
       "native-country_ United-States         1.0       1.0       1.0  1.000000e+00  \n",
       "native-country_ Vietnam               0.0       0.0       0.0  1.000000e+00  \n",
       "native-country_ Yugoslavia            0.0       0.0       0.0  1.000000e+00  \n",
       "\n",
       "[111 rows x 8 columns]"
      ]
     },
     "execution_count": 373,
     "metadata": {},
     "output_type": "execute_result"
    }
   ],
   "source": [
    "df_train.describe(include='all').T"
   ]
  },
  {
   "cell_type": "markdown",
   "id": "f4a8c7ea",
   "metadata": {},
   "source": [
    "## б) Узнаём базовые сведения о тестовом датасете"
   ]
  },
  {
   "cell_type": "code",
   "execution_count": 378,
   "id": "8551c799",
   "metadata": {},
   "outputs": [
    {
     "data": {
      "text/plain": [
       "(16283, 14)"
      ]
     },
     "execution_count": 378,
     "metadata": {},
     "output_type": "execute_result"
    }
   ],
   "source": [
    "df_test.shape"
   ]
  },
  {
   "cell_type": "code",
   "execution_count": 379,
   "id": "078e202a",
   "metadata": {},
   "outputs": [
    {
     "name": "stdout",
     "output_type": "stream",
     "text": [
      "<class 'pandas.core.frame.DataFrame'>\n",
      "RangeIndex: 16283 entries, 0 to 16282\n",
      "Data columns (total 14 columns):\n",
      " #   Column          Non-Null Count  Dtype  \n",
      "---  ------          --------------  -----  \n",
      " 0   age             16283 non-null  object \n",
      " 1   workclass       16282 non-null  object \n",
      " 2   final_weight    16282 non-null  float64\n",
      " 3   education       16282 non-null  object \n",
      " 4   education-num   16282 non-null  float64\n",
      " 5   marital-status  16282 non-null  object \n",
      " 6   occupation      16282 non-null  object \n",
      " 7   relationship    16282 non-null  object \n",
      " 8   race            16282 non-null  object \n",
      " 9   sex             16282 non-null  object \n",
      " 10  cap-gain        16282 non-null  float64\n",
      " 11  cap-loss        16282 non-null  float64\n",
      " 12  hours-per-week  16282 non-null  float64\n",
      " 13  native-country  16282 non-null  object \n",
      "dtypes: float64(5), object(9)\n",
      "memory usage: 1.7+ MB\n"
     ]
    }
   ],
   "source": [
    "df_test.info()"
   ]
  },
  {
   "cell_type": "code",
   "execution_count": 381,
   "id": "2611e455",
   "metadata": {},
   "outputs": [
    {
     "data": {
      "text/html": [
       "<div>\n",
       "<style scoped>\n",
       "    .dataframe tbody tr th:only-of-type {\n",
       "        vertical-align: middle;\n",
       "    }\n",
       "\n",
       "    .dataframe tbody tr th {\n",
       "        vertical-align: top;\n",
       "    }\n",
       "\n",
       "    .dataframe thead th {\n",
       "        text-align: right;\n",
       "    }\n",
       "</style>\n",
       "<table border=\"1\" class=\"dataframe\">\n",
       "  <thead>\n",
       "    <tr style=\"text-align: right;\">\n",
       "      <th></th>\n",
       "      <th>final_weight</th>\n",
       "      <th>education-num</th>\n",
       "      <th>cap-gain</th>\n",
       "      <th>cap-loss</th>\n",
       "      <th>hours-per-week</th>\n",
       "    </tr>\n",
       "  </thead>\n",
       "  <tbody>\n",
       "    <tr>\n",
       "      <th>count</th>\n",
       "      <td>1.628200e+04</td>\n",
       "      <td>1.628200e+04</td>\n",
       "      <td>16282.000000</td>\n",
       "      <td>16282.000000</td>\n",
       "      <td>1.628200e+04</td>\n",
       "    </tr>\n",
       "    <tr>\n",
       "      <th>mean</th>\n",
       "      <td>1.894227e+05</td>\n",
       "      <td>6.283151e+06</td>\n",
       "      <td>1081.839393</td>\n",
       "      <td>87.895836</td>\n",
       "      <td>-1.969437e+04</td>\n",
       "    </tr>\n",
       "    <tr>\n",
       "      <th>std</th>\n",
       "      <td>1.057246e+05</td>\n",
       "      <td>8.017347e+08</td>\n",
       "      <td>7583.707692</td>\n",
       "      <td>403.093144</td>\n",
       "      <td>2.518175e+06</td>\n",
       "    </tr>\n",
       "    <tr>\n",
       "      <th>min</th>\n",
       "      <td>-2.132141e+04</td>\n",
       "      <td>1.000000e+00</td>\n",
       "      <td>0.000000</td>\n",
       "      <td>0.000000</td>\n",
       "      <td>-3.213214e+08</td>\n",
       "    </tr>\n",
       "    <tr>\n",
       "      <th>25%</th>\n",
       "      <td>1.166768e+05</td>\n",
       "      <td>9.000000e+00</td>\n",
       "      <td>0.000000</td>\n",
       "      <td>0.000000</td>\n",
       "      <td>4.000000e+01</td>\n",
       "    </tr>\n",
       "    <tr>\n",
       "      <th>50%</th>\n",
       "      <td>1.778295e+05</td>\n",
       "      <td>1.000000e+01</td>\n",
       "      <td>0.000000</td>\n",
       "      <td>0.000000</td>\n",
       "      <td>4.000000e+01</td>\n",
       "    </tr>\n",
       "    <tr>\n",
       "      <th>75%</th>\n",
       "      <td>2.383840e+05</td>\n",
       "      <td>1.200000e+01</td>\n",
       "      <td>0.000000</td>\n",
       "      <td>0.000000</td>\n",
       "      <td>4.500000e+01</td>\n",
       "    </tr>\n",
       "    <tr>\n",
       "      <th>max</th>\n",
       "      <td>1.490400e+06</td>\n",
       "      <td>1.023021e+11</td>\n",
       "      <td>99999.000000</td>\n",
       "      <td>3770.000000</td>\n",
       "      <td>9.900000e+01</td>\n",
       "    </tr>\n",
       "  </tbody>\n",
       "</table>\n",
       "</div>"
      ],
      "text/plain": [
       "       final_weight  education-num      cap-gain      cap-loss  hours-per-week\n",
       "count  1.628200e+04   1.628200e+04  16282.000000  16282.000000    1.628200e+04\n",
       "mean   1.894227e+05   6.283151e+06   1081.839393     87.895836   -1.969437e+04\n",
       "std    1.057246e+05   8.017347e+08   7583.707692    403.093144    2.518175e+06\n",
       "min   -2.132141e+04   1.000000e+00      0.000000      0.000000   -3.213214e+08\n",
       "25%    1.166768e+05   9.000000e+00      0.000000      0.000000    4.000000e+01\n",
       "50%    1.778295e+05   1.000000e+01      0.000000      0.000000    4.000000e+01\n",
       "75%    2.383840e+05   1.200000e+01      0.000000      0.000000    4.500000e+01\n",
       "max    1.490400e+06   1.023021e+11  99999.000000   3770.000000    9.900000e+01"
      ]
     },
     "execution_count": 381,
     "metadata": {},
     "output_type": "execute_result"
    }
   ],
   "source": [
    "df_test.describe()"
   ]
  },
  {
   "cell_type": "markdown",
   "id": "1001db35",
   "metadata": {},
   "source": [
    "#### Как видно из сведений выше, \"age\"отнесён к object. Это необходимо изменить."
   ]
  },
  {
   "cell_type": "code",
   "execution_count": 383,
   "id": "bd0dc403",
   "metadata": {},
   "outputs": [
    {
     "data": {
      "text/plain": [
       "array(['25', '38', '28', '44', '18', '34', '29', '63', '24', '55', '65',\n",
       "       '36', '26', '58', '48', '43', '20', '37', '40', '72', '45', '22',\n",
       "       '23', '54', '32', '46', '56', '17', '39', '52', '21', '42', '33',\n",
       "       '30', '47', '41', '19', '69', '50', '31', '59', '49', '51', '27',\n",
       "       '57', '61', '64', '79', '73', '53', '77', '80', '62', '35', '68',\n",
       "       '66', '75', '60', '67', '71', '70', '90', '81', '74', '78', '82',\n",
       "       '83', '85', '76', '84', '89', '88', '87', 'fssafsa121321ewd1231e2',\n",
       "       '-10'], dtype=object)"
      ]
     },
     "execution_count": 383,
     "metadata": {},
     "output_type": "execute_result"
    }
   ],
   "source": [
    "df_test['age'].unique() "
   ]
  },
  {
   "cell_type": "code",
   "execution_count": 384,
   "id": "4acdcb6a",
   "metadata": {},
   "outputs": [],
   "source": [
    "df_test['age'] = pd.to_numeric(df_test['age'], errors='coerce')\n",
    "median_age = df_test['age'].median()\n",
    "df_test.loc[df_test['age'] < 0, 'age'] = median_age\n",
    "df_test.loc[df_test['age'] > 150, 'age'] = median_age\n",
    "df_test['age'] = df_test['age'].fillna(median_age)"
   ]
  },
  {
   "cell_type": "code",
   "execution_count": 387,
   "id": "6aa67d61",
   "metadata": {},
   "outputs": [],
   "source": [
    "median_hours = df_test['hours-per-week'].median()\n",
    "df_test.loc[df_test['hours-per-week'] < 0, 'hours-per-week'] = median_hours\n",
    "df_test.loc[df_test['hours-per-week'] > 100, 'hours-per-week'] = median_hours\n",
    "df_test['hours-per-week'] = df_test['hours-per-week'].fillna(median_hours)"
   ]
  },
  {
   "cell_type": "code",
   "execution_count": 389,
   "id": "70aff2d4",
   "metadata": {},
   "outputs": [],
   "source": [
    "median_num = df_test['education-num'].median()\n",
    "df_test.loc[df_test['education-num'] < 0, 'education-num'] = median_num\n",
    "df_test.loc[df_test['education-num'] > 100, 'education-num'] = median_num\n",
    "df_test['education-num'] = df_test['education-num'].fillna(median_num)"
   ]
  },
  {
   "cell_type": "code",
   "execution_count": 396,
   "id": "8fa8b068",
   "metadata": {},
   "outputs": [],
   "source": [
    "categorical_columns = df_test.select_dtypes(include=['object']).columns\n",
    "for col in categorical_columns:\n",
    "        most_common_value = df_test[col].mode()[0]\n",
    "        df_test.loc[df_test[col] == ' ?', col] = most_common_value\n",
    "        df_test[col].fillna(most_common_value, inplace=True)\n",
    "        \n",
    "not_categorical_columns = df_test.select_dtypes(include=['float']).columns\n",
    "for col in not_categorical_columns:\n",
    "        most_common_value = df_test[col].median()\n",
    "        df_test.loc[df_test[col] == ' ?', col] = most_common_value\n",
    "        df_test[col].fillna(most_common_value, inplace=True)"
   ]
  },
  {
   "cell_type": "code",
   "execution_count": 397,
   "id": "7736d9fd",
   "metadata": {},
   "outputs": [
    {
     "data": {
      "text/html": [
       "<div>\n",
       "<style scoped>\n",
       "    .dataframe tbody tr th:only-of-type {\n",
       "        vertical-align: middle;\n",
       "    }\n",
       "\n",
       "    .dataframe tbody tr th {\n",
       "        vertical-align: top;\n",
       "    }\n",
       "\n",
       "    .dataframe thead th {\n",
       "        text-align: right;\n",
       "    }\n",
       "</style>\n",
       "<table border=\"1\" class=\"dataframe\">\n",
       "  <thead>\n",
       "    <tr style=\"text-align: right;\">\n",
       "      <th></th>\n",
       "      <th>age</th>\n",
       "      <th>final_weight</th>\n",
       "      <th>education-num</th>\n",
       "      <th>cap-gain</th>\n",
       "      <th>cap-loss</th>\n",
       "      <th>hours-per-week</th>\n",
       "    </tr>\n",
       "  </thead>\n",
       "  <tbody>\n",
       "    <tr>\n",
       "      <th>count</th>\n",
       "      <td>16283.000000</td>\n",
       "      <td>1.628300e+04</td>\n",
       "      <td>16283.000000</td>\n",
       "      <td>16283.000000</td>\n",
       "      <td>16283.000000</td>\n",
       "      <td>16283.000000</td>\n",
       "    </tr>\n",
       "    <tr>\n",
       "      <th>mean</th>\n",
       "      <td>38.767242</td>\n",
       "      <td>1.894220e+05</td>\n",
       "      <td>10.072898</td>\n",
       "      <td>1081.772953</td>\n",
       "      <td>87.890438</td>\n",
       "      <td>40.392188</td>\n",
       "    </tr>\n",
       "    <tr>\n",
       "      <th>std</th>\n",
       "      <td>13.848350</td>\n",
       "      <td>1.057214e+05</td>\n",
       "      <td>2.567388</td>\n",
       "      <td>7583.479541</td>\n",
       "      <td>403.081354</td>\n",
       "      <td>12.478567</td>\n",
       "    </tr>\n",
       "    <tr>\n",
       "      <th>min</th>\n",
       "      <td>17.000000</td>\n",
       "      <td>-2.132141e+04</td>\n",
       "      <td>1.000000</td>\n",
       "      <td>0.000000</td>\n",
       "      <td>0.000000</td>\n",
       "      <td>1.000000</td>\n",
       "    </tr>\n",
       "    <tr>\n",
       "      <th>25%</th>\n",
       "      <td>28.000000</td>\n",
       "      <td>1.166965e+05</td>\n",
       "      <td>9.000000</td>\n",
       "      <td>0.000000</td>\n",
       "      <td>0.000000</td>\n",
       "      <td>40.000000</td>\n",
       "    </tr>\n",
       "    <tr>\n",
       "      <th>50%</th>\n",
       "      <td>37.000000</td>\n",
       "      <td>1.778295e+05</td>\n",
       "      <td>10.000000</td>\n",
       "      <td>0.000000</td>\n",
       "      <td>0.000000</td>\n",
       "      <td>40.000000</td>\n",
       "    </tr>\n",
       "    <tr>\n",
       "      <th>75%</th>\n",
       "      <td>48.000000</td>\n",
       "      <td>2.383840e+05</td>\n",
       "      <td>12.000000</td>\n",
       "      <td>0.000000</td>\n",
       "      <td>0.000000</td>\n",
       "      <td>45.000000</td>\n",
       "    </tr>\n",
       "    <tr>\n",
       "      <th>max</th>\n",
       "      <td>90.000000</td>\n",
       "      <td>1.490400e+06</td>\n",
       "      <td>16.000000</td>\n",
       "      <td>99999.000000</td>\n",
       "      <td>3770.000000</td>\n",
       "      <td>99.000000</td>\n",
       "    </tr>\n",
       "  </tbody>\n",
       "</table>\n",
       "</div>"
      ],
      "text/plain": [
       "                age  final_weight  education-num      cap-gain      cap-loss  \\\n",
       "count  16283.000000  1.628300e+04   16283.000000  16283.000000  16283.000000   \n",
       "mean      38.767242  1.894220e+05      10.072898   1081.772953     87.890438   \n",
       "std       13.848350  1.057214e+05       2.567388   7583.479541    403.081354   \n",
       "min       17.000000 -2.132141e+04       1.000000      0.000000      0.000000   \n",
       "25%       28.000000  1.166965e+05       9.000000      0.000000      0.000000   \n",
       "50%       37.000000  1.778295e+05      10.000000      0.000000      0.000000   \n",
       "75%       48.000000  2.383840e+05      12.000000      0.000000      0.000000   \n",
       "max       90.000000  1.490400e+06      16.000000  99999.000000   3770.000000   \n",
       "\n",
       "       hours-per-week  \n",
       "count    16283.000000  \n",
       "mean        40.392188  \n",
       "std         12.478567  \n",
       "min          1.000000  \n",
       "25%         40.000000  \n",
       "50%         40.000000  \n",
       "75%         45.000000  \n",
       "max         99.000000  "
      ]
     },
     "execution_count": 397,
     "metadata": {},
     "output_type": "execute_result"
    }
   ],
   "source": [
    "df_test.describe()"
   ]
  },
  {
   "cell_type": "code",
   "execution_count": null,
   "id": "3fd06e8c",
   "metadata": {},
   "outputs": [],
   "source": []
  },
  {
   "cell_type": "code",
   "execution_count": null,
   "id": "bf04d88c",
   "metadata": {},
   "outputs": [],
   "source": []
  }
 ],
 "metadata": {
  "kernelspec": {
   "display_name": "Python 3 (ipykernel)",
   "language": "python",
   "name": "python3"
  },
  "language_info": {
   "codemirror_mode": {
    "name": "ipython",
    "version": 3
   },
   "file_extension": ".py",
   "mimetype": "text/x-python",
   "name": "python",
   "nbconvert_exporter": "python",
   "pygments_lexer": "ipython3",
   "version": "3.10.10"
  }
 },
 "nbformat": 4,
 "nbformat_minor": 5
}
